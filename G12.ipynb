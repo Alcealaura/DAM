{
 "cells": [
  {
   "cell_type": "code",
   "execution_count": 69,
   "metadata": {},
   "outputs": [],
   "source": [
    "import pandas as pd\n",
    "import matplotlib.pyplot as plt\n",
    "import numpy as np\n",
    "import seaborn as sns"
   ]
  },
  {
   "cell_type": "markdown",
   "metadata": {},
   "source": [
    "# FILTRACIONES"
   ]
  },
  {
   "cell_type": "markdown",
   "metadata": {},
   "source": [
    "Carga del dataset de filtraciones."
   ]
  },
  {
   "cell_type": "code",
   "execution_count": 2,
   "metadata": {},
   "outputs": [
    {
     "data": {
      "text/html": [
       "<div>\n",
       "<style scoped>\n",
       "    .dataframe tbody tr th:only-of-type {\n",
       "        vertical-align: middle;\n",
       "    }\n",
       "\n",
       "    .dataframe tbody tr th {\n",
       "        vertical-align: top;\n",
       "    }\n",
       "\n",
       "    .dataframe thead th {\n",
       "        text-align: right;\n",
       "    }\n",
       "</style>\n",
       "<table border=\"1\" class=\"dataframe\">\n",
       "  <thead>\n",
       "    <tr style=\"text-align: right;\">\n",
       "      <th></th>\n",
       "      <th>Fecha</th>\n",
       "      <th>Sensor</th>\n",
       "      <th>Lectura</th>\n",
       "      <th>Unidades de Lectura</th>\n",
       "      <th>Medida</th>\n",
       "      <th>Unidades de Medida</th>\n",
       "      <th>Flag</th>\n",
       "      <th>Flag Manipulación</th>\n",
       "      <th>Observaciones</th>\n",
       "    </tr>\n",
       "  </thead>\n",
       "  <tbody>\n",
       "    <tr>\n",
       "      <th>0</th>\n",
       "      <td>01/10/2010 07:00:00</td>\n",
       "      <td>E085ZUAFC003</td>\n",
       "      <td>0.0</td>\n",
       "      <td>u.i.</td>\n",
       "      <td>23.27</td>\n",
       "      <td>l/min</td>\n",
       "      <td>M</td>\n",
       "      <td>NC</td>\n",
       "      <td>NaN</td>\n",
       "    </tr>\n",
       "    <tr>\n",
       "      <th>1</th>\n",
       "      <td>01/10/2010 07:00:00</td>\n",
       "      <td>E085ZUAFC002</td>\n",
       "      <td>0.0</td>\n",
       "      <td>l/min</td>\n",
       "      <td>664.72</td>\n",
       "      <td>l/min</td>\n",
       "      <td>M</td>\n",
       "      <td>NC</td>\n",
       "      <td>NaN</td>\n",
       "    </tr>\n",
       "    <tr>\n",
       "      <th>2</th>\n",
       "      <td>01/10/2010 07:00:00</td>\n",
       "      <td>E085ZUAFC005</td>\n",
       "      <td>0.0</td>\n",
       "      <td>u.i.</td>\n",
       "      <td>0.19</td>\n",
       "      <td>l/min</td>\n",
       "      <td>M</td>\n",
       "      <td>NC</td>\n",
       "      <td>NaN</td>\n",
       "    </tr>\n",
       "    <tr>\n",
       "      <th>3</th>\n",
       "      <td>01/10/2010 07:00:00</td>\n",
       "      <td>E085ZUAFC001</td>\n",
       "      <td>0.0</td>\n",
       "      <td>u.i.</td>\n",
       "      <td>100.96</td>\n",
       "      <td>l/min</td>\n",
       "      <td>M</td>\n",
       "      <td>NC</td>\n",
       "      <td>NaN</td>\n",
       "    </tr>\n",
       "    <tr>\n",
       "      <th>4</th>\n",
       "      <td>01/10/2010 07:00:00</td>\n",
       "      <td>E085ZUAFC007</td>\n",
       "      <td>0.0</td>\n",
       "      <td>u.i.</td>\n",
       "      <td>4.93</td>\n",
       "      <td>l/min</td>\n",
       "      <td>M</td>\n",
       "      <td>NC</td>\n",
       "      <td>NaN</td>\n",
       "    </tr>\n",
       "  </tbody>\n",
       "</table>\n",
       "</div>"
      ],
      "text/plain": [
       "                 Fecha        Sensor  Lectura Unidades de Lectura  Medida  \\\n",
       "0  01/10/2010 07:00:00  E085ZUAFC003      0.0                u.i.   23.27   \n",
       "1  01/10/2010 07:00:00  E085ZUAFC002      0.0               l/min  664.72   \n",
       "2  01/10/2010 07:00:00  E085ZUAFC005      0.0                u.i.    0.19   \n",
       "3  01/10/2010 07:00:00  E085ZUAFC001      0.0                u.i.  100.96   \n",
       "4  01/10/2010 07:00:00  E085ZUAFC007      0.0                u.i.    4.93   \n",
       "\n",
       "  Unidades de Medida Flag Flag Manipulación Observaciones  \n",
       "0              l/min    M                NC           NaN  \n",
       "1              l/min    M                NC           NaN  \n",
       "2              l/min    M                NC           NaN  \n",
       "3              l/min    M                NC           NaN  \n",
       "4              l/min    M                NC           NaN  "
      ]
     },
     "execution_count": 2,
     "metadata": {},
     "output_type": "execute_result"
    }
   ],
   "source": [
    "df = pd.read_excel('Filtraciones G12.xlsx')\n",
    "df.head()"
   ]
  },
  {
   "cell_type": "code",
   "execution_count": 3,
   "metadata": {},
   "outputs": [
    {
     "data": {
      "text/plain": [
       "(28667, 9)"
      ]
     },
     "execution_count": 3,
     "metadata": {},
     "output_type": "execute_result"
    }
   ],
   "source": [
    "df.shape"
   ]
  },
  {
   "cell_type": "markdown",
   "metadata": {},
   "source": [
    "Eliminación de las columnas irrelevantes."
   ]
  },
  {
   "cell_type": "code",
   "execution_count": 4,
   "metadata": {},
   "outputs": [],
   "source": [
    "del df[\"Lectura\"]\n",
    "del df[\"Unidades de Lectura\"]\n",
    "del df[\"Unidades de Medida\"]\n",
    "del df[\"Flag\"]\n",
    "del df[\"Flag Manipulación\"]\n",
    "del df[\"Observaciones\"]"
   ]
  },
  {
   "cell_type": "code",
   "execution_count": 5,
   "metadata": {},
   "outputs": [
    {
     "data": {
      "text/html": [
       "<div>\n",
       "<style scoped>\n",
       "    .dataframe tbody tr th:only-of-type {\n",
       "        vertical-align: middle;\n",
       "    }\n",
       "\n",
       "    .dataframe tbody tr th {\n",
       "        vertical-align: top;\n",
       "    }\n",
       "\n",
       "    .dataframe thead th {\n",
       "        text-align: right;\n",
       "    }\n",
       "</style>\n",
       "<table border=\"1\" class=\"dataframe\">\n",
       "  <thead>\n",
       "    <tr style=\"text-align: right;\">\n",
       "      <th></th>\n",
       "      <th>Fecha</th>\n",
       "      <th>Sensor</th>\n",
       "      <th>Medida</th>\n",
       "    </tr>\n",
       "  </thead>\n",
       "  <tbody>\n",
       "    <tr>\n",
       "      <th>0</th>\n",
       "      <td>01/10/2010 07:00:00</td>\n",
       "      <td>E085ZUAFC003</td>\n",
       "      <td>23.27</td>\n",
       "    </tr>\n",
       "    <tr>\n",
       "      <th>1</th>\n",
       "      <td>01/10/2010 07:00:00</td>\n",
       "      <td>E085ZUAFC002</td>\n",
       "      <td>664.72</td>\n",
       "    </tr>\n",
       "    <tr>\n",
       "      <th>2</th>\n",
       "      <td>01/10/2010 07:00:00</td>\n",
       "      <td>E085ZUAFC005</td>\n",
       "      <td>0.19</td>\n",
       "    </tr>\n",
       "    <tr>\n",
       "      <th>3</th>\n",
       "      <td>01/10/2010 07:00:00</td>\n",
       "      <td>E085ZUAFC001</td>\n",
       "      <td>100.96</td>\n",
       "    </tr>\n",
       "    <tr>\n",
       "      <th>4</th>\n",
       "      <td>01/10/2010 07:00:00</td>\n",
       "      <td>E085ZUAFC007</td>\n",
       "      <td>4.93</td>\n",
       "    </tr>\n",
       "  </tbody>\n",
       "</table>\n",
       "</div>"
      ],
      "text/plain": [
       "                 Fecha        Sensor  Medida\n",
       "0  01/10/2010 07:00:00  E085ZUAFC003   23.27\n",
       "1  01/10/2010 07:00:00  E085ZUAFC002  664.72\n",
       "2  01/10/2010 07:00:00  E085ZUAFC005    0.19\n",
       "3  01/10/2010 07:00:00  E085ZUAFC001  100.96\n",
       "4  01/10/2010 07:00:00  E085ZUAFC007    4.93"
      ]
     },
     "execution_count": 5,
     "metadata": {},
     "output_type": "execute_result"
    }
   ],
   "source": [
    "df.head()"
   ]
  },
  {
   "cell_type": "markdown",
   "metadata": {},
   "source": [
    "Conversión de las fechas a formato datetime."
   ]
  },
  {
   "cell_type": "code",
   "execution_count": 6,
   "metadata": {},
   "outputs": [],
   "source": [
    "df[\"Fecha\"] = pd.to_datetime(df[\"Fecha\"], format ='%d/%m/%Y %H:%M:%S')"
   ]
  },
  {
   "cell_type": "markdown",
   "metadata": {},
   "source": [
    "Comprobación del número de aforadores."
   ]
  },
  {
   "cell_type": "code",
   "execution_count": 7,
   "metadata": {},
   "outputs": [
    {
     "data": {
      "text/plain": [
       "array(['E085ZUAFC003', 'E085ZUAFC002', 'E085ZUAFC005', 'E085ZUAFC001',\n",
       "       'E085ZUAFC007', 'E085ZUAFC008', 'E085ZUAFC006', 'E085ZUAFC009'],\n",
       "      dtype=object)"
      ]
     },
     "execution_count": 7,
     "metadata": {},
     "output_type": "execute_result"
    }
   ],
   "source": [
    "df[\"Sensor\"].unique()"
   ]
  },
  {
   "cell_type": "markdown",
   "metadata": {},
   "source": [
    "Comprobación del número de los NaN."
   ]
  },
  {
   "cell_type": "code",
   "execution_count": 8,
   "metadata": {},
   "outputs": [
    {
     "name": "stdout",
     "output_type": "stream",
     "text": [
      "Fecha     0\n",
      "Sensor    0\n",
      "Medida    5\n",
      "dtype: int64\n",
      "**************\n",
      "Fecha     0\n",
      "Sensor    0\n",
      "Medida    5\n",
      "dtype: int64\n",
      "**************\n",
      "Fecha     0\n",
      "Sensor    0\n",
      "Medida    6\n",
      "dtype: int64\n",
      "**************\n",
      "Fecha      0\n",
      "Sensor     0\n",
      "Medida    23\n",
      "dtype: int64\n",
      "**************\n",
      "Fecha     0\n",
      "Sensor    0\n",
      "Medida    5\n",
      "dtype: int64\n",
      "**************\n",
      "Fecha     0\n",
      "Sensor    0\n",
      "Medida    5\n",
      "dtype: int64\n",
      "**************\n",
      "Fecha      0\n",
      "Sensor     0\n",
      "Medida    95\n",
      "dtype: int64\n",
      "**************\n",
      "Fecha       0\n",
      "Sensor      0\n",
      "Medida    222\n",
      "dtype: int64\n",
      "**************\n"
     ]
    }
   ],
   "source": [
    "for i in df[\"Sensor\"].unique():\n",
    "    print(df[df[\"Sensor\"]==i].isnull().sum())\n",
    "    print(\"**************\")"
   ]
  },
  {
   "cell_type": "markdown",
   "metadata": {},
   "source": [
    "Selección de los valores de fecha y medida de cada aforador."
   ]
  },
  {
   "cell_type": "code",
   "execution_count": 9,
   "metadata": {},
   "outputs": [
    {
     "data": {
      "text/html": [
       "<div>\n",
       "<style scoped>\n",
       "    .dataframe tbody tr th:only-of-type {\n",
       "        vertical-align: middle;\n",
       "    }\n",
       "\n",
       "    .dataframe tbody tr th {\n",
       "        vertical-align: top;\n",
       "    }\n",
       "\n",
       "    .dataframe thead th {\n",
       "        text-align: right;\n",
       "    }\n",
       "</style>\n",
       "<table border=\"1\" class=\"dataframe\">\n",
       "  <thead>\n",
       "    <tr style=\"text-align: right;\">\n",
       "      <th></th>\n",
       "      <th>Fecha</th>\n",
       "      <th>Medida</th>\n",
       "    </tr>\n",
       "  </thead>\n",
       "  <tbody>\n",
       "    <tr>\n",
       "      <th>0</th>\n",
       "      <td>2010-10-01 07:00:00</td>\n",
       "      <td>23.27</td>\n",
       "    </tr>\n",
       "    <tr>\n",
       "      <th>6</th>\n",
       "      <td>2010-10-02 07:00:00</td>\n",
       "      <td>22.89</td>\n",
       "    </tr>\n",
       "    <tr>\n",
       "      <th>12</th>\n",
       "      <td>2010-10-03 07:00:00</td>\n",
       "      <td>24.92</td>\n",
       "    </tr>\n",
       "    <tr>\n",
       "      <th>18</th>\n",
       "      <td>2010-10-04 07:00:00</td>\n",
       "      <td>27.91</td>\n",
       "    </tr>\n",
       "    <tr>\n",
       "      <th>23</th>\n",
       "      <td>2010-10-05 07:00:00</td>\n",
       "      <td>26.39</td>\n",
       "    </tr>\n",
       "    <tr>\n",
       "      <th>...</th>\n",
       "      <td>...</td>\n",
       "      <td>...</td>\n",
       "    </tr>\n",
       "    <tr>\n",
       "      <th>28628</th>\n",
       "      <td>2020-05-25 07:00:00</td>\n",
       "      <td>3.91</td>\n",
       "    </tr>\n",
       "    <tr>\n",
       "      <th>28636</th>\n",
       "      <td>2020-05-26 07:00:00</td>\n",
       "      <td>4.07</td>\n",
       "    </tr>\n",
       "    <tr>\n",
       "      <th>28644</th>\n",
       "      <td>2020-05-27 07:00:00</td>\n",
       "      <td>3.97</td>\n",
       "    </tr>\n",
       "    <tr>\n",
       "      <th>28652</th>\n",
       "      <td>2020-05-28 07:00:00</td>\n",
       "      <td>3.91</td>\n",
       "    </tr>\n",
       "    <tr>\n",
       "      <th>28660</th>\n",
       "      <td>2020-05-29 07:00:00</td>\n",
       "      <td>3.86</td>\n",
       "    </tr>\n",
       "  </tbody>\n",
       "</table>\n",
       "<p>3608 rows × 2 columns</p>\n",
       "</div>"
      ],
      "text/plain": [
       "                    Fecha  Medida\n",
       "0     2010-10-01 07:00:00   23.27\n",
       "6     2010-10-02 07:00:00   22.89\n",
       "12    2010-10-03 07:00:00   24.92\n",
       "18    2010-10-04 07:00:00   27.91\n",
       "23    2010-10-05 07:00:00   26.39\n",
       "...                   ...     ...\n",
       "28628 2020-05-25 07:00:00    3.91\n",
       "28636 2020-05-26 07:00:00    4.07\n",
       "28644 2020-05-27 07:00:00    3.97\n",
       "28652 2020-05-28 07:00:00    3.91\n",
       "28660 2020-05-29 07:00:00    3.86\n",
       "\n",
       "[3608 rows x 2 columns]"
      ]
     },
     "execution_count": 9,
     "metadata": {},
     "output_type": "execute_result"
    }
   ],
   "source": [
    "df[df[\"Sensor\"]==\"E085ZUAFC003\"][[\"Fecha\",\"Medida\"]]"
   ]
  },
  {
   "cell_type": "markdown",
   "metadata": {},
   "source": [
    "Combinación de los valores de todos los aforadores en un nuevo dataframe."
   ]
  },
  {
   "cell_type": "code",
   "execution_count": 10,
   "metadata": {},
   "outputs": [],
   "source": [
    "filt = df.Fecha\n",
    "for i in df[\"Sensor\"].unique():\n",
    "    filt=pd.merge(filt, df[df[\"Sensor\"]==i][[\"Fecha\",\"Medida\"]], on=\"Fecha\", how=\"outer\" )"
   ]
  },
  {
   "cell_type": "code",
   "execution_count": 11,
   "metadata": {},
   "outputs": [
    {
     "data": {
      "text/html": [
       "<div>\n",
       "<style scoped>\n",
       "    .dataframe tbody tr th:only-of-type {\n",
       "        vertical-align: middle;\n",
       "    }\n",
       "\n",
       "    .dataframe tbody tr th {\n",
       "        vertical-align: top;\n",
       "    }\n",
       "\n",
       "    .dataframe thead th {\n",
       "        text-align: right;\n",
       "    }\n",
       "</style>\n",
       "<table border=\"1\" class=\"dataframe\">\n",
       "  <thead>\n",
       "    <tr style=\"text-align: right;\">\n",
       "      <th></th>\n",
       "      <th>Fecha</th>\n",
       "      <th>Medida_x</th>\n",
       "      <th>Medida_y</th>\n",
       "      <th>Medida_x</th>\n",
       "      <th>Medida_y</th>\n",
       "      <th>Medida_x</th>\n",
       "      <th>Medida_y</th>\n",
       "      <th>Medida_x</th>\n",
       "      <th>Medida_y</th>\n",
       "    </tr>\n",
       "  </thead>\n",
       "  <tbody>\n",
       "    <tr>\n",
       "      <th>0</th>\n",
       "      <td>2010-10-01 07:00:00</td>\n",
       "      <td>23.27</td>\n",
       "      <td>664.72</td>\n",
       "      <td>0.19</td>\n",
       "      <td>100.96</td>\n",
       "      <td>4.93</td>\n",
       "      <td>0.34</td>\n",
       "      <td>NaN</td>\n",
       "      <td>NaN</td>\n",
       "    </tr>\n",
       "    <tr>\n",
       "      <th>1</th>\n",
       "      <td>2010-10-01 07:00:00</td>\n",
       "      <td>23.27</td>\n",
       "      <td>664.72</td>\n",
       "      <td>0.19</td>\n",
       "      <td>100.96</td>\n",
       "      <td>4.93</td>\n",
       "      <td>0.34</td>\n",
       "      <td>NaN</td>\n",
       "      <td>NaN</td>\n",
       "    </tr>\n",
       "    <tr>\n",
       "      <th>2</th>\n",
       "      <td>2010-10-01 07:00:00</td>\n",
       "      <td>23.27</td>\n",
       "      <td>664.72</td>\n",
       "      <td>0.19</td>\n",
       "      <td>100.96</td>\n",
       "      <td>4.93</td>\n",
       "      <td>0.34</td>\n",
       "      <td>NaN</td>\n",
       "      <td>NaN</td>\n",
       "    </tr>\n",
       "    <tr>\n",
       "      <th>3</th>\n",
       "      <td>2010-10-01 07:00:00</td>\n",
       "      <td>23.27</td>\n",
       "      <td>664.72</td>\n",
       "      <td>0.19</td>\n",
       "      <td>100.96</td>\n",
       "      <td>4.93</td>\n",
       "      <td>0.34</td>\n",
       "      <td>NaN</td>\n",
       "      <td>NaN</td>\n",
       "    </tr>\n",
       "    <tr>\n",
       "      <th>4</th>\n",
       "      <td>2010-10-01 07:00:00</td>\n",
       "      <td>23.27</td>\n",
       "      <td>664.72</td>\n",
       "      <td>0.19</td>\n",
       "      <td>100.96</td>\n",
       "      <td>4.93</td>\n",
       "      <td>0.34</td>\n",
       "      <td>NaN</td>\n",
       "      <td>NaN</td>\n",
       "    </tr>\n",
       "    <tr>\n",
       "      <th>...</th>\n",
       "      <td>...</td>\n",
       "      <td>...</td>\n",
       "      <td>...</td>\n",
       "      <td>...</td>\n",
       "      <td>...</td>\n",
       "      <td>...</td>\n",
       "      <td>...</td>\n",
       "      <td>...</td>\n",
       "      <td>...</td>\n",
       "    </tr>\n",
       "    <tr>\n",
       "      <th>28662</th>\n",
       "      <td>2020-05-29 07:00:00</td>\n",
       "      <td>3.86</td>\n",
       "      <td>56.95</td>\n",
       "      <td>0.48</td>\n",
       "      <td>13.65</td>\n",
       "      <td>5.56</td>\n",
       "      <td>2.16</td>\n",
       "      <td>0.0</td>\n",
       "      <td>2.94</td>\n",
       "    </tr>\n",
       "    <tr>\n",
       "      <th>28663</th>\n",
       "      <td>2020-05-29 07:00:00</td>\n",
       "      <td>3.86</td>\n",
       "      <td>56.95</td>\n",
       "      <td>0.48</td>\n",
       "      <td>13.65</td>\n",
       "      <td>5.56</td>\n",
       "      <td>2.16</td>\n",
       "      <td>0.0</td>\n",
       "      <td>2.94</td>\n",
       "    </tr>\n",
       "    <tr>\n",
       "      <th>28664</th>\n",
       "      <td>2020-05-29 07:00:00</td>\n",
       "      <td>3.86</td>\n",
       "      <td>56.95</td>\n",
       "      <td>0.48</td>\n",
       "      <td>13.65</td>\n",
       "      <td>5.56</td>\n",
       "      <td>2.16</td>\n",
       "      <td>0.0</td>\n",
       "      <td>2.94</td>\n",
       "    </tr>\n",
       "    <tr>\n",
       "      <th>28665</th>\n",
       "      <td>2020-05-29 07:00:00</td>\n",
       "      <td>3.86</td>\n",
       "      <td>56.95</td>\n",
       "      <td>0.48</td>\n",
       "      <td>13.65</td>\n",
       "      <td>5.56</td>\n",
       "      <td>2.16</td>\n",
       "      <td>0.0</td>\n",
       "      <td>2.94</td>\n",
       "    </tr>\n",
       "    <tr>\n",
       "      <th>28666</th>\n",
       "      <td>2020-05-29 07:00:00</td>\n",
       "      <td>3.86</td>\n",
       "      <td>56.95</td>\n",
       "      <td>0.48</td>\n",
       "      <td>13.65</td>\n",
       "      <td>5.56</td>\n",
       "      <td>2.16</td>\n",
       "      <td>0.0</td>\n",
       "      <td>2.94</td>\n",
       "    </tr>\n",
       "  </tbody>\n",
       "</table>\n",
       "<p>28667 rows × 9 columns</p>\n",
       "</div>"
      ],
      "text/plain": [
       "                    Fecha  Medida_x  Medida_y  Medida_x  Medida_y  Medida_x  \\\n",
       "0     2010-10-01 07:00:00     23.27    664.72      0.19    100.96      4.93   \n",
       "1     2010-10-01 07:00:00     23.27    664.72      0.19    100.96      4.93   \n",
       "2     2010-10-01 07:00:00     23.27    664.72      0.19    100.96      4.93   \n",
       "3     2010-10-01 07:00:00     23.27    664.72      0.19    100.96      4.93   \n",
       "4     2010-10-01 07:00:00     23.27    664.72      0.19    100.96      4.93   \n",
       "...                   ...       ...       ...       ...       ...       ...   \n",
       "28662 2020-05-29 07:00:00      3.86     56.95      0.48     13.65      5.56   \n",
       "28663 2020-05-29 07:00:00      3.86     56.95      0.48     13.65      5.56   \n",
       "28664 2020-05-29 07:00:00      3.86     56.95      0.48     13.65      5.56   \n",
       "28665 2020-05-29 07:00:00      3.86     56.95      0.48     13.65      5.56   \n",
       "28666 2020-05-29 07:00:00      3.86     56.95      0.48     13.65      5.56   \n",
       "\n",
       "       Medida_y  Medida_x  Medida_y  \n",
       "0          0.34       NaN       NaN  \n",
       "1          0.34       NaN       NaN  \n",
       "2          0.34       NaN       NaN  \n",
       "3          0.34       NaN       NaN  \n",
       "4          0.34       NaN       NaN  \n",
       "...         ...       ...       ...  \n",
       "28662      2.16       0.0      2.94  \n",
       "28663      2.16       0.0      2.94  \n",
       "28664      2.16       0.0      2.94  \n",
       "28665      2.16       0.0      2.94  \n",
       "28666      2.16       0.0      2.94  \n",
       "\n",
       "[28667 rows x 9 columns]"
      ]
     },
     "execution_count": 11,
     "metadata": {},
     "output_type": "execute_result"
    }
   ],
   "source": [
    "filt"
   ]
  },
  {
   "cell_type": "markdown",
   "metadata": {},
   "source": [
    "Modificación del nombre de los aforadores para que coincida con el del informe."
   ]
  },
  {
   "cell_type": "code",
   "execution_count": 12,
   "metadata": {},
   "outputs": [
    {
     "data": {
      "text/html": [
       "<div>\n",
       "<style scoped>\n",
       "    .dataframe tbody tr th:only-of-type {\n",
       "        vertical-align: middle;\n",
       "    }\n",
       "\n",
       "    .dataframe tbody tr th {\n",
       "        vertical-align: top;\n",
       "    }\n",
       "\n",
       "    .dataframe thead th {\n",
       "        text-align: right;\n",
       "    }\n",
       "</style>\n",
       "<table border=\"1\" class=\"dataframe\">\n",
       "  <thead>\n",
       "    <tr style=\"text-align: right;\">\n",
       "      <th></th>\n",
       "      <th>Fecha</th>\n",
       "      <th>AF-P08-P10</th>\n",
       "      <th>AF-P05-P08</th>\n",
       "      <th>AF-P10-P13</th>\n",
       "      <th>AF-P01-P05</th>\n",
       "      <th>AF-P17-P22</th>\n",
       "      <th>AF-P22-P26</th>\n",
       "      <th>s7</th>\n",
       "      <th>s8</th>\n",
       "    </tr>\n",
       "  </thead>\n",
       "  <tbody>\n",
       "    <tr>\n",
       "      <th>0</th>\n",
       "      <td>2010-10-01 07:00:00</td>\n",
       "      <td>23.27</td>\n",
       "      <td>664.72</td>\n",
       "      <td>0.19</td>\n",
       "      <td>100.96</td>\n",
       "      <td>4.93</td>\n",
       "      <td>0.34</td>\n",
       "      <td>NaN</td>\n",
       "      <td>NaN</td>\n",
       "    </tr>\n",
       "    <tr>\n",
       "      <th>1</th>\n",
       "      <td>2010-10-01 07:00:00</td>\n",
       "      <td>23.27</td>\n",
       "      <td>664.72</td>\n",
       "      <td>0.19</td>\n",
       "      <td>100.96</td>\n",
       "      <td>4.93</td>\n",
       "      <td>0.34</td>\n",
       "      <td>NaN</td>\n",
       "      <td>NaN</td>\n",
       "    </tr>\n",
       "    <tr>\n",
       "      <th>2</th>\n",
       "      <td>2010-10-01 07:00:00</td>\n",
       "      <td>23.27</td>\n",
       "      <td>664.72</td>\n",
       "      <td>0.19</td>\n",
       "      <td>100.96</td>\n",
       "      <td>4.93</td>\n",
       "      <td>0.34</td>\n",
       "      <td>NaN</td>\n",
       "      <td>NaN</td>\n",
       "    </tr>\n",
       "    <tr>\n",
       "      <th>3</th>\n",
       "      <td>2010-10-01 07:00:00</td>\n",
       "      <td>23.27</td>\n",
       "      <td>664.72</td>\n",
       "      <td>0.19</td>\n",
       "      <td>100.96</td>\n",
       "      <td>4.93</td>\n",
       "      <td>0.34</td>\n",
       "      <td>NaN</td>\n",
       "      <td>NaN</td>\n",
       "    </tr>\n",
       "    <tr>\n",
       "      <th>4</th>\n",
       "      <td>2010-10-01 07:00:00</td>\n",
       "      <td>23.27</td>\n",
       "      <td>664.72</td>\n",
       "      <td>0.19</td>\n",
       "      <td>100.96</td>\n",
       "      <td>4.93</td>\n",
       "      <td>0.34</td>\n",
       "      <td>NaN</td>\n",
       "      <td>NaN</td>\n",
       "    </tr>\n",
       "  </tbody>\n",
       "</table>\n",
       "</div>"
      ],
      "text/plain": [
       "                Fecha  AF-P08-P10  AF-P05-P08  AF-P10-P13  AF-P01-P05  \\\n",
       "0 2010-10-01 07:00:00       23.27      664.72        0.19      100.96   \n",
       "1 2010-10-01 07:00:00       23.27      664.72        0.19      100.96   \n",
       "2 2010-10-01 07:00:00       23.27      664.72        0.19      100.96   \n",
       "3 2010-10-01 07:00:00       23.27      664.72        0.19      100.96   \n",
       "4 2010-10-01 07:00:00       23.27      664.72        0.19      100.96   \n",
       "\n",
       "   AF-P17-P22  AF-P22-P26  s7  s8  \n",
       "0        4.93        0.34 NaN NaN  \n",
       "1        4.93        0.34 NaN NaN  \n",
       "2        4.93        0.34 NaN NaN  \n",
       "3        4.93        0.34 NaN NaN  \n",
       "4        4.93        0.34 NaN NaN  "
      ]
     },
     "execution_count": 12,
     "metadata": {},
     "output_type": "execute_result"
    }
   ],
   "source": [
    "filt.columns=[\"Fecha\",\"AF-P08-P10\",\"AF-P05-P08\",\"AF-P10-P13\",\"AF-P01-P05\",\"AF-P17-P22\",\"AF-P22-P26\",\"s7\",\"s8\"]\n",
    "filt.head()"
   ]
  },
  {
   "cell_type": "code",
   "execution_count": 13,
   "metadata": {
    "scrolled": true
   },
   "outputs": [
    {
     "data": {
      "text/plain": [
       "Fecha            0\n",
       "AF-P08-P10     125\n",
       "AF-P05-P08     104\n",
       "AF-P10-P13     165\n",
       "AF-P01-P05     938\n",
       "AF-P17-P22      65\n",
       "AF-P22-P26      97\n",
       "s7            1175\n",
       "s8            2230\n",
       "dtype: int64"
      ]
     },
     "execution_count": 13,
     "metadata": {},
     "output_type": "execute_result"
    }
   ],
   "source": [
    "filt.isnull().sum()"
   ]
  },
  {
   "cell_type": "markdown",
   "metadata": {},
   "source": [
    "Eliminación de los valores de los aforadores 7 y 8 (presentan un alto porcentaje de NaN)."
   ]
  },
  {
   "cell_type": "code",
   "execution_count": 14,
   "metadata": {},
   "outputs": [
    {
     "data": {
      "text/html": [
       "<div>\n",
       "<style scoped>\n",
       "    .dataframe tbody tr th:only-of-type {\n",
       "        vertical-align: middle;\n",
       "    }\n",
       "\n",
       "    .dataframe tbody tr th {\n",
       "        vertical-align: top;\n",
       "    }\n",
       "\n",
       "    .dataframe thead th {\n",
       "        text-align: right;\n",
       "    }\n",
       "</style>\n",
       "<table border=\"1\" class=\"dataframe\">\n",
       "  <thead>\n",
       "    <tr style=\"text-align: right;\">\n",
       "      <th></th>\n",
       "      <th>Fecha</th>\n",
       "      <th>AF-P08-P10</th>\n",
       "      <th>AF-P05-P08</th>\n",
       "      <th>AF-P10-P13</th>\n",
       "      <th>AF-P01-P05</th>\n",
       "      <th>AF-P17-P22</th>\n",
       "      <th>AF-P22-P26</th>\n",
       "    </tr>\n",
       "  </thead>\n",
       "  <tbody>\n",
       "    <tr>\n",
       "      <th>0</th>\n",
       "      <td>2010-10-01 07:00:00</td>\n",
       "      <td>23.27</td>\n",
       "      <td>664.72</td>\n",
       "      <td>0.19</td>\n",
       "      <td>100.96</td>\n",
       "      <td>4.93</td>\n",
       "      <td>0.34</td>\n",
       "    </tr>\n",
       "    <tr>\n",
       "      <th>1</th>\n",
       "      <td>2010-10-01 07:00:00</td>\n",
       "      <td>23.27</td>\n",
       "      <td>664.72</td>\n",
       "      <td>0.19</td>\n",
       "      <td>100.96</td>\n",
       "      <td>4.93</td>\n",
       "      <td>0.34</td>\n",
       "    </tr>\n",
       "    <tr>\n",
       "      <th>2</th>\n",
       "      <td>2010-10-01 07:00:00</td>\n",
       "      <td>23.27</td>\n",
       "      <td>664.72</td>\n",
       "      <td>0.19</td>\n",
       "      <td>100.96</td>\n",
       "      <td>4.93</td>\n",
       "      <td>0.34</td>\n",
       "    </tr>\n",
       "    <tr>\n",
       "      <th>3</th>\n",
       "      <td>2010-10-01 07:00:00</td>\n",
       "      <td>23.27</td>\n",
       "      <td>664.72</td>\n",
       "      <td>0.19</td>\n",
       "      <td>100.96</td>\n",
       "      <td>4.93</td>\n",
       "      <td>0.34</td>\n",
       "    </tr>\n",
       "    <tr>\n",
       "      <th>4</th>\n",
       "      <td>2010-10-01 07:00:00</td>\n",
       "      <td>23.27</td>\n",
       "      <td>664.72</td>\n",
       "      <td>0.19</td>\n",
       "      <td>100.96</td>\n",
       "      <td>4.93</td>\n",
       "      <td>0.34</td>\n",
       "    </tr>\n",
       "  </tbody>\n",
       "</table>\n",
       "</div>"
      ],
      "text/plain": [
       "                Fecha  AF-P08-P10  AF-P05-P08  AF-P10-P13  AF-P01-P05  \\\n",
       "0 2010-10-01 07:00:00       23.27      664.72        0.19      100.96   \n",
       "1 2010-10-01 07:00:00       23.27      664.72        0.19      100.96   \n",
       "2 2010-10-01 07:00:00       23.27      664.72        0.19      100.96   \n",
       "3 2010-10-01 07:00:00       23.27      664.72        0.19      100.96   \n",
       "4 2010-10-01 07:00:00       23.27      664.72        0.19      100.96   \n",
       "\n",
       "   AF-P17-P22  AF-P22-P26  \n",
       "0        4.93        0.34  \n",
       "1        4.93        0.34  \n",
       "2        4.93        0.34  \n",
       "3        4.93        0.34  \n",
       "4        4.93        0.34  "
      ]
     },
     "execution_count": 14,
     "metadata": {},
     "output_type": "execute_result"
    }
   ],
   "source": [
    "del filt[\"s7\"]\n",
    "del filt[\"s8\"]\n",
    "filt.head()"
   ]
  },
  {
   "cell_type": "code",
   "execution_count": 15,
   "metadata": {},
   "outputs": [
    {
     "data": {
      "text/plain": [
       "(28667, 7)"
      ]
     },
     "execution_count": 15,
     "metadata": {},
     "output_type": "execute_result"
    }
   ],
   "source": [
    "filt.shape"
   ]
  },
  {
   "cell_type": "markdown",
   "metadata": {},
   "source": [
    "Convergencia de las fechas duplicadas mediante una media."
   ]
  },
  {
   "cell_type": "code",
   "execution_count": 16,
   "metadata": {},
   "outputs": [
    {
     "data": {
      "text/html": [
       "<div>\n",
       "<style scoped>\n",
       "    .dataframe tbody tr th:only-of-type {\n",
       "        vertical-align: middle;\n",
       "    }\n",
       "\n",
       "    .dataframe tbody tr th {\n",
       "        vertical-align: top;\n",
       "    }\n",
       "\n",
       "    .dataframe thead th {\n",
       "        text-align: right;\n",
       "    }\n",
       "</style>\n",
       "<table border=\"1\" class=\"dataframe\">\n",
       "  <thead>\n",
       "    <tr style=\"text-align: right;\">\n",
       "      <th></th>\n",
       "      <th>AF-P08-P10</th>\n",
       "      <th>AF-P05-P08</th>\n",
       "      <th>AF-P10-P13</th>\n",
       "      <th>AF-P01-P05</th>\n",
       "      <th>AF-P17-P22</th>\n",
       "      <th>AF-P22-P26</th>\n",
       "    </tr>\n",
       "    <tr>\n",
       "      <th>Fecha</th>\n",
       "      <th></th>\n",
       "      <th></th>\n",
       "      <th></th>\n",
       "      <th></th>\n",
       "      <th></th>\n",
       "      <th></th>\n",
       "    </tr>\n",
       "  </thead>\n",
       "  <tbody>\n",
       "    <tr>\n",
       "      <th>2010-10-01</th>\n",
       "      <td>23.27</td>\n",
       "      <td>664.72</td>\n",
       "      <td>0.19</td>\n",
       "      <td>100.96</td>\n",
       "      <td>4.93</td>\n",
       "      <td>0.34</td>\n",
       "    </tr>\n",
       "    <tr>\n",
       "      <th>2010-10-02</th>\n",
       "      <td>22.89</td>\n",
       "      <td>669.34</td>\n",
       "      <td>0.22</td>\n",
       "      <td>101.71</td>\n",
       "      <td>5.18</td>\n",
       "      <td>0.45</td>\n",
       "    </tr>\n",
       "    <tr>\n",
       "      <th>2010-10-03</th>\n",
       "      <td>24.92</td>\n",
       "      <td>676.30</td>\n",
       "      <td>0.23</td>\n",
       "      <td>105.10</td>\n",
       "      <td>5.06</td>\n",
       "      <td>0.54</td>\n",
       "    </tr>\n",
       "    <tr>\n",
       "      <th>2010-10-04</th>\n",
       "      <td>27.91</td>\n",
       "      <td>693.89</td>\n",
       "      <td>0.18</td>\n",
       "      <td>113.28</td>\n",
       "      <td>NaN</td>\n",
       "      <td>0.59</td>\n",
       "    </tr>\n",
       "    <tr>\n",
       "      <th>2010-10-05</th>\n",
       "      <td>26.39</td>\n",
       "      <td>677.46</td>\n",
       "      <td>0.16</td>\n",
       "      <td>107.40</td>\n",
       "      <td>5.09</td>\n",
       "      <td>0.18</td>\n",
       "    </tr>\n",
       "    <tr>\n",
       "      <th>...</th>\n",
       "      <td>...</td>\n",
       "      <td>...</td>\n",
       "      <td>...</td>\n",
       "      <td>...</td>\n",
       "      <td>...</td>\n",
       "      <td>...</td>\n",
       "    </tr>\n",
       "    <tr>\n",
       "      <th>2020-05-25</th>\n",
       "      <td>3.91</td>\n",
       "      <td>57.47</td>\n",
       "      <td>0.45</td>\n",
       "      <td>13.99</td>\n",
       "      <td>5.56</td>\n",
       "      <td>2.35</td>\n",
       "    </tr>\n",
       "    <tr>\n",
       "      <th>2020-05-26</th>\n",
       "      <td>4.07</td>\n",
       "      <td>57.47</td>\n",
       "      <td>0.45</td>\n",
       "      <td>14.22</td>\n",
       "      <td>5.70</td>\n",
       "      <td>2.28</td>\n",
       "    </tr>\n",
       "    <tr>\n",
       "      <th>2020-05-27</th>\n",
       "      <td>3.97</td>\n",
       "      <td>57.47</td>\n",
       "      <td>0.51</td>\n",
       "      <td>14.10</td>\n",
       "      <td>5.83</td>\n",
       "      <td>2.28</td>\n",
       "    </tr>\n",
       "    <tr>\n",
       "      <th>2020-05-28</th>\n",
       "      <td>3.91</td>\n",
       "      <td>57.21</td>\n",
       "      <td>0.45</td>\n",
       "      <td>13.77</td>\n",
       "      <td>5.63</td>\n",
       "      <td>2.16</td>\n",
       "    </tr>\n",
       "    <tr>\n",
       "      <th>2020-05-29</th>\n",
       "      <td>3.86</td>\n",
       "      <td>56.95</td>\n",
       "      <td>0.48</td>\n",
       "      <td>13.65</td>\n",
       "      <td>5.56</td>\n",
       "      <td>2.16</td>\n",
       "    </tr>\n",
       "  </tbody>\n",
       "</table>\n",
       "<p>3485 rows × 6 columns</p>\n",
       "</div>"
      ],
      "text/plain": [
       "            AF-P08-P10  AF-P05-P08  AF-P10-P13  AF-P01-P05  AF-P17-P22  \\\n",
       "Fecha                                                                    \n",
       "2010-10-01       23.27      664.72        0.19      100.96        4.93   \n",
       "2010-10-02       22.89      669.34        0.22      101.71        5.18   \n",
       "2010-10-03       24.92      676.30        0.23      105.10        5.06   \n",
       "2010-10-04       27.91      693.89        0.18      113.28         NaN   \n",
       "2010-10-05       26.39      677.46        0.16      107.40        5.09   \n",
       "...                ...         ...         ...         ...         ...   \n",
       "2020-05-25        3.91       57.47        0.45       13.99        5.56   \n",
       "2020-05-26        4.07       57.47        0.45       14.22        5.70   \n",
       "2020-05-27        3.97       57.47        0.51       14.10        5.83   \n",
       "2020-05-28        3.91       57.21        0.45       13.77        5.63   \n",
       "2020-05-29        3.86       56.95        0.48       13.65        5.56   \n",
       "\n",
       "            AF-P22-P26  \n",
       "Fecha                   \n",
       "2010-10-01        0.34  \n",
       "2010-10-02        0.45  \n",
       "2010-10-03        0.54  \n",
       "2010-10-04        0.59  \n",
       "2010-10-05        0.18  \n",
       "...                ...  \n",
       "2020-05-25        2.35  \n",
       "2020-05-26        2.28  \n",
       "2020-05-27        2.28  \n",
       "2020-05-28        2.16  \n",
       "2020-05-29        2.16  \n",
       "\n",
       "[3485 rows x 6 columns]"
      ]
     },
     "execution_count": 16,
     "metadata": {},
     "output_type": "execute_result"
    }
   ],
   "source": [
    "filt = filt.resample('d', on='Fecha').mean().dropna(how='all')\n",
    "filt"
   ]
  },
  {
   "cell_type": "markdown",
   "metadata": {},
   "source": [
    "Creación de gráficos."
   ]
  },
  {
   "cell_type": "code",
   "execution_count": 17,
   "metadata": {},
   "outputs": [
    {
     "data": {
      "image/png": "[encoded data removed]",
      "text/plain": [
       "<Figure size 432x288 with 1 Axes>"
      ]
     },
     "metadata": {
      "needs_background": "light"
     },
     "output_type": "display_data"
    },
    {
     "data": {
      "image/png": "[encoded data removed]",
      "text/plain": [
       "<Figure size 432x288 with 1 Axes>"
      ]
     },
     "metadata": {
      "needs_background": "light"
     },
     "output_type": "display_data"
    },
    {
     "data": {
      "image/png": "[encoded data removed]",
      "text/plain": [
       "<Figure size 432x288 with 1 Axes>"
      ]
     },
     "metadata": {
      "needs_background": "light"
     },
     "output_type": "display_data"
    },
    {
     "data": {
      "image/png": "[encoded data removed]",
      "text/plain": [
       "<Figure size 432x288 with 1 Axes>"
      ]
     },
     "metadata": {
      "needs_background": "light"
     },
     "output_type": "display_data"
    },
    {
     "data": {
      "image/png": "[encoded data removed]",
      "text/plain": [
       "<Figure size 432x288 with 1 Axes>"
      ]
     },
     "metadata": {
      "needs_background": "light"
     },
     "output_type": "display_data"
    },
    {
     "data": {
      "image/png": "[encoded data removed]",
      "text/plain": [
       "<Figure size 432x288 with 1 Axes>"
      ]
     },
     "metadata": {
      "needs_background": "light"
     },
     "output_type": "display_data"
    }
   ],
   "source": [
    "for i in [\"AF-P08-P10\", \"AF-P05-P08\", \"AF-P10-P13\", \"AF-P01-P05\", \"AF-P17-P22\", \"AF-P22-P26\"]:\n",
    "    plt.subplots()\n",
    "    plt.plot(filt[i])"
   ]
  },
  {
   "cell_type": "code",
   "execution_count": 18,
   "metadata": {},
   "outputs": [
    {
     "data": {
      "text/plain": [
       "[<matplotlib.lines.Line2D at 0x1c7150d6fc8>]"
      ]
     },
     "execution_count": 18,
     "metadata": {},
     "output_type": "execute_result"
    },
    {
     "data": {
      "image/png": "[encoded data removed]",
      "text/plain": [
       "<Figure size 432x288 with 1 Axes>"
      ]
     },
     "metadata": {
      "needs_background": "light"
     },
     "output_type": "display_data"
    }
   ],
   "source": [
    "plt.plot(filt[\"AF-P08-P10\"], color=\"green\")\n",
    "plt.plot(filt[\"AF-P05-P08\"], color=\"red\")\n",
    "plt.plot(filt[\"AF-P10-P13\"], color=\"cyan\")\n",
    "plt.plot(filt[\"AF-P01-P05\"], color=\"purple\")\n",
    "plt.plot(filt[\"AF-P17-P22\"], color=\"black\")\n",
    "plt.plot(filt[\"AF-P22-P26\"], color=\"pink\")"
   ]
  },
  {
   "cell_type": "markdown",
   "metadata": {},
   "source": [
    "Reorganización del dataframe para que la fecha no constituya el índice (y no dé problemas)."
   ]
  },
  {
   "cell_type": "code",
   "execution_count": 19,
   "metadata": {},
   "outputs": [
    {
     "data": {
      "text/html": [
       "<div>\n",
       "<style scoped>\n",
       "    .dataframe tbody tr th:only-of-type {\n",
       "        vertical-align: middle;\n",
       "    }\n",
       "\n",
       "    .dataframe tbody tr th {\n",
       "        vertical-align: top;\n",
       "    }\n",
       "\n",
       "    .dataframe thead th {\n",
       "        text-align: right;\n",
       "    }\n",
       "</style>\n",
       "<table border=\"1\" class=\"dataframe\">\n",
       "  <thead>\n",
       "    <tr style=\"text-align: right;\">\n",
       "      <th></th>\n",
       "      <th>AF-P08-P10</th>\n",
       "      <th>AF-P05-P08</th>\n",
       "      <th>AF-P10-P13</th>\n",
       "      <th>AF-P01-P05</th>\n",
       "      <th>AF-P17-P22</th>\n",
       "      <th>AF-P22-P26</th>\n",
       "      <th>Fecha</th>\n",
       "    </tr>\n",
       "  </thead>\n",
       "  <tbody>\n",
       "    <tr>\n",
       "      <th>0</th>\n",
       "      <td>23.27</td>\n",
       "      <td>664.72</td>\n",
       "      <td>0.19</td>\n",
       "      <td>100.96</td>\n",
       "      <td>4.93</td>\n",
       "      <td>0.34</td>\n",
       "      <td>2010-10-01</td>\n",
       "    </tr>\n",
       "    <tr>\n",
       "      <th>1</th>\n",
       "      <td>22.89</td>\n",
       "      <td>669.34</td>\n",
       "      <td>0.22</td>\n",
       "      <td>101.71</td>\n",
       "      <td>5.18</td>\n",
       "      <td>0.45</td>\n",
       "      <td>2010-10-02</td>\n",
       "    </tr>\n",
       "    <tr>\n",
       "      <th>2</th>\n",
       "      <td>24.92</td>\n",
       "      <td>676.30</td>\n",
       "      <td>0.23</td>\n",
       "      <td>105.10</td>\n",
       "      <td>5.06</td>\n",
       "      <td>0.54</td>\n",
       "      <td>2010-10-03</td>\n",
       "    </tr>\n",
       "    <tr>\n",
       "      <th>3</th>\n",
       "      <td>27.91</td>\n",
       "      <td>693.89</td>\n",
       "      <td>0.18</td>\n",
       "      <td>113.28</td>\n",
       "      <td>NaN</td>\n",
       "      <td>0.59</td>\n",
       "      <td>2010-10-04</td>\n",
       "    </tr>\n",
       "    <tr>\n",
       "      <th>4</th>\n",
       "      <td>26.39</td>\n",
       "      <td>677.46</td>\n",
       "      <td>0.16</td>\n",
       "      <td>107.40</td>\n",
       "      <td>5.09</td>\n",
       "      <td>0.18</td>\n",
       "      <td>2010-10-05</td>\n",
       "    </tr>\n",
       "    <tr>\n",
       "      <th>...</th>\n",
       "      <td>...</td>\n",
       "      <td>...</td>\n",
       "      <td>...</td>\n",
       "      <td>...</td>\n",
       "      <td>...</td>\n",
       "      <td>...</td>\n",
       "      <td>...</td>\n",
       "    </tr>\n",
       "    <tr>\n",
       "      <th>3480</th>\n",
       "      <td>3.91</td>\n",
       "      <td>57.47</td>\n",
       "      <td>0.45</td>\n",
       "      <td>13.99</td>\n",
       "      <td>5.56</td>\n",
       "      <td>2.35</td>\n",
       "      <td>2020-05-25</td>\n",
       "    </tr>\n",
       "    <tr>\n",
       "      <th>3481</th>\n",
       "      <td>4.07</td>\n",
       "      <td>57.47</td>\n",
       "      <td>0.45</td>\n",
       "      <td>14.22</td>\n",
       "      <td>5.70</td>\n",
       "      <td>2.28</td>\n",
       "      <td>2020-05-26</td>\n",
       "    </tr>\n",
       "    <tr>\n",
       "      <th>3482</th>\n",
       "      <td>3.97</td>\n",
       "      <td>57.47</td>\n",
       "      <td>0.51</td>\n",
       "      <td>14.10</td>\n",
       "      <td>5.83</td>\n",
       "      <td>2.28</td>\n",
       "      <td>2020-05-27</td>\n",
       "    </tr>\n",
       "    <tr>\n",
       "      <th>3483</th>\n",
       "      <td>3.91</td>\n",
       "      <td>57.21</td>\n",
       "      <td>0.45</td>\n",
       "      <td>13.77</td>\n",
       "      <td>5.63</td>\n",
       "      <td>2.16</td>\n",
       "      <td>2020-05-28</td>\n",
       "    </tr>\n",
       "    <tr>\n",
       "      <th>3484</th>\n",
       "      <td>3.86</td>\n",
       "      <td>56.95</td>\n",
       "      <td>0.48</td>\n",
       "      <td>13.65</td>\n",
       "      <td>5.56</td>\n",
       "      <td>2.16</td>\n",
       "      <td>2020-05-29</td>\n",
       "    </tr>\n",
       "  </tbody>\n",
       "</table>\n",
       "<p>3485 rows × 7 columns</p>\n",
       "</div>"
      ],
      "text/plain": [
       "      AF-P08-P10  AF-P05-P08  AF-P10-P13  AF-P01-P05  AF-P17-P22  AF-P22-P26  \\\n",
       "0          23.27      664.72        0.19      100.96        4.93        0.34   \n",
       "1          22.89      669.34        0.22      101.71        5.18        0.45   \n",
       "2          24.92      676.30        0.23      105.10        5.06        0.54   \n",
       "3          27.91      693.89        0.18      113.28         NaN        0.59   \n",
       "4          26.39      677.46        0.16      107.40        5.09        0.18   \n",
       "...          ...         ...         ...         ...         ...         ...   \n",
       "3480        3.91       57.47        0.45       13.99        5.56        2.35   \n",
       "3481        4.07       57.47        0.45       14.22        5.70        2.28   \n",
       "3482        3.97       57.47        0.51       14.10        5.83        2.28   \n",
       "3483        3.91       57.21        0.45       13.77        5.63        2.16   \n",
       "3484        3.86       56.95        0.48       13.65        5.56        2.16   \n",
       "\n",
       "          Fecha  \n",
       "0    2010-10-01  \n",
       "1    2010-10-02  \n",
       "2    2010-10-03  \n",
       "3    2010-10-04  \n",
       "4    2010-10-05  \n",
       "...         ...  \n",
       "3480 2020-05-25  \n",
       "3481 2020-05-26  \n",
       "3482 2020-05-27  \n",
       "3483 2020-05-28  \n",
       "3484 2020-05-29  \n",
       "\n",
       "[3485 rows x 7 columns]"
      ]
     },
     "execution_count": 19,
     "metadata": {},
     "output_type": "execute_result"
    }
   ],
   "source": [
    "filt['Fecha'] = filt.index\n",
    "filt.reset_index(drop=True, inplace=True)\n",
    "filt"
   ]
  },
  {
   "cell_type": "markdown",
   "metadata": {},
   "source": [
    "# VARIABLES EXTERIORES"
   ]
  },
  {
   "cell_type": "markdown",
   "metadata": {},
   "source": [
    "Carga del dataset de variables exteriores."
   ]
  },
  {
   "cell_type": "code",
   "execution_count": 20,
   "metadata": {},
   "outputs": [
    {
     "data": {
      "text/html": [
       "<div>\n",
       "<style scoped>\n",
       "    .dataframe tbody tr th:only-of-type {\n",
       "        vertical-align: middle;\n",
       "    }\n",
       "\n",
       "    .dataframe tbody tr th {\n",
       "        vertical-align: top;\n",
       "    }\n",
       "\n",
       "    .dataframe thead th {\n",
       "        text-align: right;\n",
       "    }\n",
       "</style>\n",
       "<table border=\"1\" class=\"dataframe\">\n",
       "  <thead>\n",
       "    <tr style=\"text-align: right;\">\n",
       "      <th></th>\n",
       "      <th>Fecha</th>\n",
       "      <th>Sensor</th>\n",
       "      <th>Lectura</th>\n",
       "      <th>Unidades de Lectura</th>\n",
       "      <th>Medida</th>\n",
       "      <th>Unidades de Medida</th>\n",
       "      <th>Flag</th>\n",
       "      <th>Flag Manipulación</th>\n",
       "      <th>Observaciones</th>\n",
       "    </tr>\n",
       "  </thead>\n",
       "  <tbody>\n",
       "    <tr>\n",
       "      <th>0</th>\n",
       "      <td>01/10/2010 07:00:00</td>\n",
       "      <td>E085Z03TEMPE</td>\n",
       "      <td>17.40</td>\n",
       "      <td>ºC</td>\n",
       "      <td>17.40</td>\n",
       "      <td>ºC</td>\n",
       "      <td>M</td>\n",
       "      <td>NC</td>\n",
       "      <td>NaN</td>\n",
       "    </tr>\n",
       "    <tr>\n",
       "      <th>1</th>\n",
       "      <td>01/10/2010 07:00:00</td>\n",
       "      <td>E085Z02NEMBA</td>\n",
       "      <td>283.88</td>\n",
       "      <td>m.s.n.m.</td>\n",
       "      <td>283.88</td>\n",
       "      <td>m.s.n.m.</td>\n",
       "      <td>M</td>\n",
       "      <td>NC</td>\n",
       "      <td>NaN</td>\n",
       "    </tr>\n",
       "    <tr>\n",
       "      <th>2</th>\n",
       "      <td>02/10/2010 07:00:00</td>\n",
       "      <td>E085Z03TEMPE</td>\n",
       "      <td>19.20</td>\n",
       "      <td>ºC</td>\n",
       "      <td>19.20</td>\n",
       "      <td>ºC</td>\n",
       "      <td>M</td>\n",
       "      <td>NC</td>\n",
       "      <td>NaN</td>\n",
       "    </tr>\n",
       "    <tr>\n",
       "      <th>3</th>\n",
       "      <td>02/10/2010 07:00:00</td>\n",
       "      <td>E085Z02NEMBA</td>\n",
       "      <td>283.88</td>\n",
       "      <td>m.s.n.m.</td>\n",
       "      <td>283.88</td>\n",
       "      <td>m.s.n.m.</td>\n",
       "      <td>M</td>\n",
       "      <td>NC</td>\n",
       "      <td>NaN</td>\n",
       "    </tr>\n",
       "    <tr>\n",
       "      <th>4</th>\n",
       "      <td>03/10/2010 07:00:00</td>\n",
       "      <td>E085Z03TEMPE</td>\n",
       "      <td>20.00</td>\n",
       "      <td>ºC</td>\n",
       "      <td>20.00</td>\n",
       "      <td>ºC</td>\n",
       "      <td>M</td>\n",
       "      <td>NC</td>\n",
       "      <td>NaN</td>\n",
       "    </tr>\n",
       "  </tbody>\n",
       "</table>\n",
       "</div>"
      ],
      "text/plain": [
       "                 Fecha        Sensor  Lectura Unidades de Lectura  Medida  \\\n",
       "0  01/10/2010 07:00:00  E085Z03TEMPE    17.40                  ºC   17.40   \n",
       "1  01/10/2010 07:00:00  E085Z02NEMBA   283.88            m.s.n.m.  283.88   \n",
       "2  02/10/2010 07:00:00  E085Z03TEMPE    19.20                  ºC   19.20   \n",
       "3  02/10/2010 07:00:00  E085Z02NEMBA   283.88            m.s.n.m.  283.88   \n",
       "4  03/10/2010 07:00:00  E085Z03TEMPE    20.00                  ºC   20.00   \n",
       "\n",
       "  Unidades de Medida Flag Flag Manipulación Observaciones  \n",
       "0                 ºC    M                NC           NaN  \n",
       "1           m.s.n.m.    M                NC           NaN  \n",
       "2                 ºC    M                NC           NaN  \n",
       "3           m.s.n.m.    M                NC           NaN  \n",
       "4                 ºC    M                NC           NaN  "
      ]
     },
     "execution_count": 20,
     "metadata": {},
     "output_type": "execute_result"
    }
   ],
   "source": [
    "df2 = pd.read_excel('Var. ext. G12.xlsx')\n",
    "df2.head()"
   ]
  },
  {
   "cell_type": "markdown",
   "metadata": {},
   "source": [
    "Eliminación de las columnas irrelevantes."
   ]
  },
  {
   "cell_type": "code",
   "execution_count": 21,
   "metadata": {},
   "outputs": [],
   "source": [
    "del df2[\"Lectura\"]\n",
    "del df2[\"Unidades de Lectura\"]\n",
    "del df2[\"Unidades de Medida\"]\n",
    "del df2[\"Flag\"]\n",
    "del df2[\"Flag Manipulación\"]\n",
    "del df2[\"Observaciones\"]"
   ]
  },
  {
   "cell_type": "code",
   "execution_count": 22,
   "metadata": {},
   "outputs": [
    {
     "data": {
      "text/html": [
       "<div>\n",
       "<style scoped>\n",
       "    .dataframe tbody tr th:only-of-type {\n",
       "        vertical-align: middle;\n",
       "    }\n",
       "\n",
       "    .dataframe tbody tr th {\n",
       "        vertical-align: top;\n",
       "    }\n",
       "\n",
       "    .dataframe thead th {\n",
       "        text-align: right;\n",
       "    }\n",
       "</style>\n",
       "<table border=\"1\" class=\"dataframe\">\n",
       "  <thead>\n",
       "    <tr style=\"text-align: right;\">\n",
       "      <th></th>\n",
       "      <th>Fecha</th>\n",
       "      <th>Sensor</th>\n",
       "      <th>Medida</th>\n",
       "    </tr>\n",
       "  </thead>\n",
       "  <tbody>\n",
       "    <tr>\n",
       "      <th>0</th>\n",
       "      <td>01/10/2010 07:00:00</td>\n",
       "      <td>E085Z03TEMPE</td>\n",
       "      <td>17.40</td>\n",
       "    </tr>\n",
       "    <tr>\n",
       "      <th>1</th>\n",
       "      <td>01/10/2010 07:00:00</td>\n",
       "      <td>E085Z02NEMBA</td>\n",
       "      <td>283.88</td>\n",
       "    </tr>\n",
       "    <tr>\n",
       "      <th>2</th>\n",
       "      <td>02/10/2010 07:00:00</td>\n",
       "      <td>E085Z03TEMPE</td>\n",
       "      <td>19.20</td>\n",
       "    </tr>\n",
       "    <tr>\n",
       "      <th>3</th>\n",
       "      <td>02/10/2010 07:00:00</td>\n",
       "      <td>E085Z02NEMBA</td>\n",
       "      <td>283.88</td>\n",
       "    </tr>\n",
       "    <tr>\n",
       "      <th>4</th>\n",
       "      <td>03/10/2010 07:00:00</td>\n",
       "      <td>E085Z03TEMPE</td>\n",
       "      <td>20.00</td>\n",
       "    </tr>\n",
       "  </tbody>\n",
       "</table>\n",
       "</div>"
      ],
      "text/plain": [
       "                 Fecha        Sensor  Medida\n",
       "0  01/10/2010 07:00:00  E085Z03TEMPE   17.40\n",
       "1  01/10/2010 07:00:00  E085Z02NEMBA  283.88\n",
       "2  02/10/2010 07:00:00  E085Z03TEMPE   19.20\n",
       "3  02/10/2010 07:00:00  E085Z02NEMBA  283.88\n",
       "4  03/10/2010 07:00:00  E085Z03TEMPE   20.00"
      ]
     },
     "execution_count": 22,
     "metadata": {},
     "output_type": "execute_result"
    }
   ],
   "source": [
    "df2.head()"
   ]
  },
  {
   "cell_type": "code",
   "execution_count": 23,
   "metadata": {},
   "outputs": [
    {
     "data": {
      "text/plain": [
       "(13807, 3)"
      ]
     },
     "execution_count": 23,
     "metadata": {},
     "output_type": "execute_result"
    }
   ],
   "source": [
    "df2.shape"
   ]
  },
  {
   "cell_type": "markdown",
   "metadata": {},
   "source": [
    "Conversión de las fechas a formato datetime."
   ]
  },
  {
   "cell_type": "code",
   "execution_count": 24,
   "metadata": {},
   "outputs": [
    {
     "data": {
      "text/html": [
       "<div>\n",
       "<style scoped>\n",
       "    .dataframe tbody tr th:only-of-type {\n",
       "        vertical-align: middle;\n",
       "    }\n",
       "\n",
       "    .dataframe tbody tr th {\n",
       "        vertical-align: top;\n",
       "    }\n",
       "\n",
       "    .dataframe thead th {\n",
       "        text-align: right;\n",
       "    }\n",
       "</style>\n",
       "<table border=\"1\" class=\"dataframe\">\n",
       "  <thead>\n",
       "    <tr style=\"text-align: right;\">\n",
       "      <th></th>\n",
       "      <th>Fecha</th>\n",
       "      <th>Sensor</th>\n",
       "      <th>Medida</th>\n",
       "    </tr>\n",
       "  </thead>\n",
       "  <tbody>\n",
       "    <tr>\n",
       "      <th>0</th>\n",
       "      <td>2010-10-01 07:00:00</td>\n",
       "      <td>E085Z03TEMPE</td>\n",
       "      <td>17.40</td>\n",
       "    </tr>\n",
       "    <tr>\n",
       "      <th>1</th>\n",
       "      <td>2010-10-01 07:00:00</td>\n",
       "      <td>E085Z02NEMBA</td>\n",
       "      <td>283.88</td>\n",
       "    </tr>\n",
       "    <tr>\n",
       "      <th>2</th>\n",
       "      <td>2010-10-02 07:00:00</td>\n",
       "      <td>E085Z03TEMPE</td>\n",
       "      <td>19.20</td>\n",
       "    </tr>\n",
       "    <tr>\n",
       "      <th>3</th>\n",
       "      <td>2010-10-02 07:00:00</td>\n",
       "      <td>E085Z02NEMBA</td>\n",
       "      <td>283.88</td>\n",
       "    </tr>\n",
       "    <tr>\n",
       "      <th>4</th>\n",
       "      <td>2010-10-03 07:00:00</td>\n",
       "      <td>E085Z03TEMPE</td>\n",
       "      <td>20.00</td>\n",
       "    </tr>\n",
       "  </tbody>\n",
       "</table>\n",
       "</div>"
      ],
      "text/plain": [
       "                Fecha        Sensor  Medida\n",
       "0 2010-10-01 07:00:00  E085Z03TEMPE   17.40\n",
       "1 2010-10-01 07:00:00  E085Z02NEMBA  283.88\n",
       "2 2010-10-02 07:00:00  E085Z03TEMPE   19.20\n",
       "3 2010-10-02 07:00:00  E085Z02NEMBA  283.88\n",
       "4 2010-10-03 07:00:00  E085Z03TEMPE   20.00"
      ]
     },
     "execution_count": 24,
     "metadata": {},
     "output_type": "execute_result"
    }
   ],
   "source": [
    "df2[\"Fecha\"] = pd.to_datetime(df2[\"Fecha\"], format ='%d/%m/%Y %H:%M:%S')\n",
    "df2.head()"
   ]
  },
  {
   "cell_type": "markdown",
   "metadata": {},
   "source": [
    "Comprobación del número de sensores."
   ]
  },
  {
   "cell_type": "code",
   "execution_count": 25,
   "metadata": {},
   "outputs": [
    {
     "data": {
      "text/plain": [
       "array(['E085Z03TEMPE', 'E085Z02NEMBA', 'E085Z83PA24H', 'E085Z65VEMBA'],\n",
       "      dtype=object)"
      ]
     },
     "execution_count": 25,
     "metadata": {},
     "output_type": "execute_result"
    }
   ],
   "source": [
    "df2[\"Sensor\"].unique()"
   ]
  },
  {
   "cell_type": "markdown",
   "metadata": {},
   "source": [
    "Comprobación de los NaN."
   ]
  },
  {
   "cell_type": "code",
   "execution_count": 26,
   "metadata": {},
   "outputs": [
    {
     "name": "stdout",
     "output_type": "stream",
     "text": [
      "Fecha     0\n",
      "Sensor    0\n",
      "Medida    9\n",
      "dtype: int64\n",
      "**************\n",
      "Fecha     0\n",
      "Sensor    0\n",
      "Medida    5\n",
      "dtype: int64\n",
      "**************\n",
      "Fecha      0\n",
      "Sensor     0\n",
      "Medida    32\n",
      "dtype: int64\n",
      "**************\n",
      "Fecha      0\n",
      "Sensor     0\n",
      "Medida    59\n",
      "dtype: int64\n",
      "**************\n"
     ]
    }
   ],
   "source": [
    "for i in df2[\"Sensor\"].unique():\n",
    "    print(df2[df2[\"Sensor\"]==i].isnull().sum())\n",
    "    print(\"**************\")"
   ]
  },
  {
   "cell_type": "markdown",
   "metadata": {},
   "source": [
    "Creación de un nuevo dataframe con los valores de fecha y medida de cada sensor."
   ]
  },
  {
   "cell_type": "code",
   "execution_count": 27,
   "metadata": {},
   "outputs": [
    {
     "data": {
      "text/plain": [
       "(6768, 5)"
      ]
     },
     "execution_count": 27,
     "metadata": {},
     "output_type": "execute_result"
    }
   ],
   "source": [
    "varext = pd.merge(df2[df2[\"Sensor\"]==\"E085Z03TEMPE\"][[\"Fecha\",\"Medida\"]], df2[df2[\"Sensor\"]==\"E085Z02NEMBA\"][[\"Fecha\",\"Medida\"]], on=\"Fecha\", how=\"outer\")\n",
    "varext = pd.merge(varext, df2[df2[\"Sensor\"]==\"E085Z65VEMBA\"][[\"Fecha\",\"Medida\"]], on = \"Fecha\", how=\"outer\")\n",
    "varext = pd.merge(varext, df2[df2[\"Sensor\"]==\"E085Z83PA24H\"][[\"Fecha\",\"Medida\"]], on = \"Fecha\", how=\"outer\")\n",
    "varext.shape"
   ]
  },
  {
   "cell_type": "code",
   "execution_count": 28,
   "metadata": {},
   "outputs": [
    {
     "data": {
      "text/html": [
       "<div>\n",
       "<style scoped>\n",
       "    .dataframe tbody tr th:only-of-type {\n",
       "        vertical-align: middle;\n",
       "    }\n",
       "\n",
       "    .dataframe tbody tr th {\n",
       "        vertical-align: top;\n",
       "    }\n",
       "\n",
       "    .dataframe thead th {\n",
       "        text-align: right;\n",
       "    }\n",
       "</style>\n",
       "<table border=\"1\" class=\"dataframe\">\n",
       "  <thead>\n",
       "    <tr style=\"text-align: right;\">\n",
       "      <th></th>\n",
       "      <th>Fecha</th>\n",
       "      <th>Medida_x</th>\n",
       "      <th>Medida_y</th>\n",
       "      <th>Medida_x</th>\n",
       "      <th>Medida_y</th>\n",
       "    </tr>\n",
       "  </thead>\n",
       "  <tbody>\n",
       "    <tr>\n",
       "      <th>0</th>\n",
       "      <td>2010-10-01 07:00:00</td>\n",
       "      <td>17.4</td>\n",
       "      <td>283.88</td>\n",
       "      <td>NaN</td>\n",
       "      <td>NaN</td>\n",
       "    </tr>\n",
       "    <tr>\n",
       "      <th>1</th>\n",
       "      <td>2010-10-02 07:00:00</td>\n",
       "      <td>19.2</td>\n",
       "      <td>283.88</td>\n",
       "      <td>NaN</td>\n",
       "      <td>NaN</td>\n",
       "    </tr>\n",
       "    <tr>\n",
       "      <th>2</th>\n",
       "      <td>2010-10-03 07:00:00</td>\n",
       "      <td>20.0</td>\n",
       "      <td>283.88</td>\n",
       "      <td>NaN</td>\n",
       "      <td>NaN</td>\n",
       "    </tr>\n",
       "    <tr>\n",
       "      <th>3</th>\n",
       "      <td>2010-10-04 07:00:00</td>\n",
       "      <td>20.3</td>\n",
       "      <td>283.88</td>\n",
       "      <td>NaN</td>\n",
       "      <td>NaN</td>\n",
       "    </tr>\n",
       "    <tr>\n",
       "      <th>4</th>\n",
       "      <td>2010-10-05 07:00:00</td>\n",
       "      <td>15.7</td>\n",
       "      <td>283.87</td>\n",
       "      <td>NaN</td>\n",
       "      <td>NaN</td>\n",
       "    </tr>\n",
       "  </tbody>\n",
       "</table>\n",
       "</div>"
      ],
      "text/plain": [
       "                Fecha  Medida_x  Medida_y  Medida_x  Medida_y\n",
       "0 2010-10-01 07:00:00      17.4    283.88       NaN       NaN\n",
       "1 2010-10-02 07:00:00      19.2    283.88       NaN       NaN\n",
       "2 2010-10-03 07:00:00      20.0    283.88       NaN       NaN\n",
       "3 2010-10-04 07:00:00      20.3    283.88       NaN       NaN\n",
       "4 2010-10-05 07:00:00      15.7    283.87       NaN       NaN"
      ]
     },
     "execution_count": 28,
     "metadata": {},
     "output_type": "execute_result"
    }
   ],
   "source": [
    "varext.head()"
   ]
  },
  {
   "cell_type": "markdown",
   "metadata": {},
   "source": [
    "Modificación del nombre de las columnas."
   ]
  },
  {
   "cell_type": "code",
   "execution_count": 29,
   "metadata": {},
   "outputs": [],
   "source": [
    "varext.columns = [\"Fecha\",\"Temperatura\",\"Nivel embalse\",\"Volumen embalse\",\"Precipitaciones\"]"
   ]
  },
  {
   "cell_type": "code",
   "execution_count": 30,
   "metadata": {},
   "outputs": [
    {
     "data": {
      "text/plain": [
       "(6768, 5)"
      ]
     },
     "execution_count": 30,
     "metadata": {},
     "output_type": "execute_result"
    }
   ],
   "source": [
    "varext.shape"
   ]
  },
  {
   "cell_type": "markdown",
   "metadata": {},
   "source": [
    "Convergencia de las fechas duplicadas mediante una media."
   ]
  },
  {
   "cell_type": "code",
   "execution_count": 31,
   "metadata": {},
   "outputs": [
    {
     "data": {
      "text/html": [
       "<div>\n",
       "<style scoped>\n",
       "    .dataframe tbody tr th:only-of-type {\n",
       "        vertical-align: middle;\n",
       "    }\n",
       "\n",
       "    .dataframe tbody tr th {\n",
       "        vertical-align: top;\n",
       "    }\n",
       "\n",
       "    .dataframe thead th {\n",
       "        text-align: right;\n",
       "    }\n",
       "</style>\n",
       "<table border=\"1\" class=\"dataframe\">\n",
       "  <thead>\n",
       "    <tr style=\"text-align: right;\">\n",
       "      <th></th>\n",
       "      <th>Temperatura</th>\n",
       "      <th>Nivel embalse</th>\n",
       "      <th>Volumen embalse</th>\n",
       "      <th>Precipitaciones</th>\n",
       "    </tr>\n",
       "    <tr>\n",
       "      <th>Fecha</th>\n",
       "      <th></th>\n",
       "      <th></th>\n",
       "      <th></th>\n",
       "      <th></th>\n",
       "    </tr>\n",
       "  </thead>\n",
       "  <tbody>\n",
       "    <tr>\n",
       "      <th>2010-10-01</th>\n",
       "      <td>17.4</td>\n",
       "      <td>283.88</td>\n",
       "      <td>NaN</td>\n",
       "      <td>NaN</td>\n",
       "    </tr>\n",
       "    <tr>\n",
       "      <th>2010-10-02</th>\n",
       "      <td>19.2</td>\n",
       "      <td>283.88</td>\n",
       "      <td>NaN</td>\n",
       "      <td>NaN</td>\n",
       "    </tr>\n",
       "    <tr>\n",
       "      <th>2010-10-03</th>\n",
       "      <td>20.0</td>\n",
       "      <td>283.88</td>\n",
       "      <td>NaN</td>\n",
       "      <td>NaN</td>\n",
       "    </tr>\n",
       "    <tr>\n",
       "      <th>2010-10-04</th>\n",
       "      <td>20.3</td>\n",
       "      <td>283.88</td>\n",
       "      <td>NaN</td>\n",
       "      <td>0.5</td>\n",
       "    </tr>\n",
       "    <tr>\n",
       "      <th>2010-10-05</th>\n",
       "      <td>15.7</td>\n",
       "      <td>283.87</td>\n",
       "      <td>NaN</td>\n",
       "      <td>1.0</td>\n",
       "    </tr>\n",
       "    <tr>\n",
       "      <th>...</th>\n",
       "      <td>...</td>\n",
       "      <td>...</td>\n",
       "      <td>...</td>\n",
       "      <td>...</td>\n",
       "    </tr>\n",
       "    <tr>\n",
       "      <th>2020-05-25</th>\n",
       "      <td>21.9</td>\n",
       "      <td>283.89</td>\n",
       "      <td>63.02</td>\n",
       "      <td>0.0</td>\n",
       "    </tr>\n",
       "    <tr>\n",
       "      <th>2020-05-26</th>\n",
       "      <td>20.5</td>\n",
       "      <td>283.93</td>\n",
       "      <td>63.37</td>\n",
       "      <td>1.8</td>\n",
       "    </tr>\n",
       "    <tr>\n",
       "      <th>2020-05-27</th>\n",
       "      <td>24.0</td>\n",
       "      <td>283.97</td>\n",
       "      <td>63.72</td>\n",
       "      <td>0.0</td>\n",
       "    </tr>\n",
       "    <tr>\n",
       "      <th>2020-05-28</th>\n",
       "      <td>25.3</td>\n",
       "      <td>284.01</td>\n",
       "      <td>64.08</td>\n",
       "      <td>0.0</td>\n",
       "    </tr>\n",
       "    <tr>\n",
       "      <th>2020-05-29</th>\n",
       "      <td>25.7</td>\n",
       "      <td>284.05</td>\n",
       "      <td>64.43</td>\n",
       "      <td>0.0</td>\n",
       "    </tr>\n",
       "  </tbody>\n",
       "</table>\n",
       "<p>3512 rows × 4 columns</p>\n",
       "</div>"
      ],
      "text/plain": [
       "            Temperatura  Nivel embalse  Volumen embalse  Precipitaciones\n",
       "Fecha                                                                   \n",
       "2010-10-01         17.4         283.88              NaN              NaN\n",
       "2010-10-02         19.2         283.88              NaN              NaN\n",
       "2010-10-03         20.0         283.88              NaN              NaN\n",
       "2010-10-04         20.3         283.88              NaN              0.5\n",
       "2010-10-05         15.7         283.87              NaN              1.0\n",
       "...                 ...            ...              ...              ...\n",
       "2020-05-25         21.9         283.89            63.02              0.0\n",
       "2020-05-26         20.5         283.93            63.37              1.8\n",
       "2020-05-27         24.0         283.97            63.72              0.0\n",
       "2020-05-28         25.3         284.01            64.08              0.0\n",
       "2020-05-29         25.7         284.05            64.43              0.0\n",
       "\n",
       "[3512 rows x 4 columns]"
      ]
     },
     "execution_count": 31,
     "metadata": {},
     "output_type": "execute_result"
    }
   ],
   "source": [
    "varext = varext.resample('d', on='Fecha').mean().dropna(how='all')\n",
    "varext"
   ]
  },
  {
   "cell_type": "markdown",
   "metadata": {},
   "source": [
    "Generación de gráficos."
   ]
  },
  {
   "cell_type": "code",
   "execution_count": 32,
   "metadata": {},
   "outputs": [
    {
     "data": {
      "text/plain": [
       "[<matplotlib.lines.Line2D at 0x1c714c46088>]"
      ]
     },
     "execution_count": 32,
     "metadata": {},
     "output_type": "execute_result"
    },
    {
     "data": {
      "image/png": "[encoded data removed]",
      "text/plain": [
       "<Figure size 432x288 with 1 Axes>"
      ]
     },
     "metadata": {
      "needs_background": "light"
     },
     "output_type": "display_data"
    }
   ],
   "source": [
    "plt.plot(varext[\"Temperatura\"], color = \"red\")\n",
    "plt.plot(varext[\"Nivel embalse\"], color = \"blue\")\n",
    "plt.plot(varext[\"Volumen embalse\"], color = \"pink\")\n",
    "plt.plot(varext[\"Precipitaciones\"], color = \"green\")"
   ]
  },
  {
   "cell_type": "markdown",
   "metadata": {},
   "source": [
    "Reorganización del dataframe para que la fecha no constituya el índice (y no dé problemas)."
   ]
  },
  {
   "cell_type": "code",
   "execution_count": 33,
   "metadata": {},
   "outputs": [
    {
     "data": {
      "text/html": [
       "<div>\n",
       "<style scoped>\n",
       "    .dataframe tbody tr th:only-of-type {\n",
       "        vertical-align: middle;\n",
       "    }\n",
       "\n",
       "    .dataframe tbody tr th {\n",
       "        vertical-align: top;\n",
       "    }\n",
       "\n",
       "    .dataframe thead th {\n",
       "        text-align: right;\n",
       "    }\n",
       "</style>\n",
       "<table border=\"1\" class=\"dataframe\">\n",
       "  <thead>\n",
       "    <tr style=\"text-align: right;\">\n",
       "      <th></th>\n",
       "      <th>Temperatura</th>\n",
       "      <th>Nivel embalse</th>\n",
       "      <th>Volumen embalse</th>\n",
       "      <th>Precipitaciones</th>\n",
       "      <th>Fecha</th>\n",
       "    </tr>\n",
       "  </thead>\n",
       "  <tbody>\n",
       "    <tr>\n",
       "      <th>0</th>\n",
       "      <td>17.4</td>\n",
       "      <td>283.88</td>\n",
       "      <td>NaN</td>\n",
       "      <td>NaN</td>\n",
       "      <td>2010-10-01</td>\n",
       "    </tr>\n",
       "    <tr>\n",
       "      <th>1</th>\n",
       "      <td>19.2</td>\n",
       "      <td>283.88</td>\n",
       "      <td>NaN</td>\n",
       "      <td>NaN</td>\n",
       "      <td>2010-10-02</td>\n",
       "    </tr>\n",
       "    <tr>\n",
       "      <th>2</th>\n",
       "      <td>20.0</td>\n",
       "      <td>283.88</td>\n",
       "      <td>NaN</td>\n",
       "      <td>NaN</td>\n",
       "      <td>2010-10-03</td>\n",
       "    </tr>\n",
       "    <tr>\n",
       "      <th>3</th>\n",
       "      <td>20.3</td>\n",
       "      <td>283.88</td>\n",
       "      <td>NaN</td>\n",
       "      <td>0.5</td>\n",
       "      <td>2010-10-04</td>\n",
       "    </tr>\n",
       "    <tr>\n",
       "      <th>4</th>\n",
       "      <td>15.7</td>\n",
       "      <td>283.87</td>\n",
       "      <td>NaN</td>\n",
       "      <td>1.0</td>\n",
       "      <td>2010-10-05</td>\n",
       "    </tr>\n",
       "    <tr>\n",
       "      <th>...</th>\n",
       "      <td>...</td>\n",
       "      <td>...</td>\n",
       "      <td>...</td>\n",
       "      <td>...</td>\n",
       "      <td>...</td>\n",
       "    </tr>\n",
       "    <tr>\n",
       "      <th>3507</th>\n",
       "      <td>21.9</td>\n",
       "      <td>283.89</td>\n",
       "      <td>63.02</td>\n",
       "      <td>0.0</td>\n",
       "      <td>2020-05-25</td>\n",
       "    </tr>\n",
       "    <tr>\n",
       "      <th>3508</th>\n",
       "      <td>20.5</td>\n",
       "      <td>283.93</td>\n",
       "      <td>63.37</td>\n",
       "      <td>1.8</td>\n",
       "      <td>2020-05-26</td>\n",
       "    </tr>\n",
       "    <tr>\n",
       "      <th>3509</th>\n",
       "      <td>24.0</td>\n",
       "      <td>283.97</td>\n",
       "      <td>63.72</td>\n",
       "      <td>0.0</td>\n",
       "      <td>2020-05-27</td>\n",
       "    </tr>\n",
       "    <tr>\n",
       "      <th>3510</th>\n",
       "      <td>25.3</td>\n",
       "      <td>284.01</td>\n",
       "      <td>64.08</td>\n",
       "      <td>0.0</td>\n",
       "      <td>2020-05-28</td>\n",
       "    </tr>\n",
       "    <tr>\n",
       "      <th>3511</th>\n",
       "      <td>25.7</td>\n",
       "      <td>284.05</td>\n",
       "      <td>64.43</td>\n",
       "      <td>0.0</td>\n",
       "      <td>2020-05-29</td>\n",
       "    </tr>\n",
       "  </tbody>\n",
       "</table>\n",
       "<p>3512 rows × 5 columns</p>\n",
       "</div>"
      ],
      "text/plain": [
       "      Temperatura  Nivel embalse  Volumen embalse  Precipitaciones      Fecha\n",
       "0            17.4         283.88              NaN              NaN 2010-10-01\n",
       "1            19.2         283.88              NaN              NaN 2010-10-02\n",
       "2            20.0         283.88              NaN              NaN 2010-10-03\n",
       "3            20.3         283.88              NaN              0.5 2010-10-04\n",
       "4            15.7         283.87              NaN              1.0 2010-10-05\n",
       "...           ...            ...              ...              ...        ...\n",
       "3507         21.9         283.89            63.02              0.0 2020-05-25\n",
       "3508         20.5         283.93            63.37              1.8 2020-05-26\n",
       "3509         24.0         283.97            63.72              0.0 2020-05-27\n",
       "3510         25.3         284.01            64.08              0.0 2020-05-28\n",
       "3511         25.7         284.05            64.43              0.0 2020-05-29\n",
       "\n",
       "[3512 rows x 5 columns]"
      ]
     },
     "execution_count": 33,
     "metadata": {},
     "output_type": "execute_result"
    }
   ],
   "source": [
    "varext['Fecha'] = varext.index\n",
    "varext.reset_index(drop=True, inplace=True)\n",
    "varext"
   ]
  },
  {
   "cell_type": "markdown",
   "metadata": {},
   "source": [
    "# PRESIONES"
   ]
  },
  {
   "cell_type": "markdown",
   "metadata": {},
   "source": [
    "Carga del dataset de las presiones."
   ]
  },
  {
   "cell_type": "code",
   "execution_count": 34,
   "metadata": {},
   "outputs": [
    {
     "data": {
      "text/html": [
       "<div>\n",
       "<style scoped>\n",
       "    .dataframe tbody tr th:only-of-type {\n",
       "        vertical-align: middle;\n",
       "    }\n",
       "\n",
       "    .dataframe tbody tr th {\n",
       "        vertical-align: top;\n",
       "    }\n",
       "\n",
       "    .dataframe thead th {\n",
       "        text-align: right;\n",
       "    }\n",
       "</style>\n",
       "<table border=\"1\" class=\"dataframe\">\n",
       "  <thead>\n",
       "    <tr style=\"text-align: right;\">\n",
       "      <th></th>\n",
       "      <th>Fecha</th>\n",
       "      <th>Sensor</th>\n",
       "      <th>Lectura</th>\n",
       "      <th>Unidades de Lectura</th>\n",
       "      <th>Medida</th>\n",
       "      <th>Unidades de Medida</th>\n",
       "      <th>Flag</th>\n",
       "      <th>Flag Manipulación</th>\n",
       "      <th>Observaciones</th>\n",
       "    </tr>\n",
       "  </thead>\n",
       "  <tbody>\n",
       "    <tr>\n",
       "      <th>0</th>\n",
       "      <td>01/10/2010 07:00:00</td>\n",
       "      <td>E085ZUPCVP57</td>\n",
       "      <td>0.0</td>\n",
       "      <td>Hz</td>\n",
       "      <td>1.64</td>\n",
       "      <td>kg/cm²</td>\n",
       "      <td>M</td>\n",
       "      <td>NC</td>\n",
       "      <td>NaN</td>\n",
       "    </tr>\n",
       "    <tr>\n",
       "      <th>1</th>\n",
       "      <td>01/10/2010 07:00:00</td>\n",
       "      <td>E085ZUPCVP66</td>\n",
       "      <td>0.0</td>\n",
       "      <td>Hz</td>\n",
       "      <td>0.97</td>\n",
       "      <td>kg/cm²</td>\n",
       "      <td>M</td>\n",
       "      <td>NC</td>\n",
       "      <td>NaN</td>\n",
       "    </tr>\n",
       "    <tr>\n",
       "      <th>2</th>\n",
       "      <td>01/10/2010 07:00:00</td>\n",
       "      <td>E085ZUPCVP75</td>\n",
       "      <td>0.0</td>\n",
       "      <td>Hz</td>\n",
       "      <td>1.61</td>\n",
       "      <td>kg/cm²</td>\n",
       "      <td>M</td>\n",
       "      <td>NC</td>\n",
       "      <td>NaN</td>\n",
       "    </tr>\n",
       "    <tr>\n",
       "      <th>3</th>\n",
       "      <td>01/10/2010 07:00:00</td>\n",
       "      <td>E085ZUPCVP76</td>\n",
       "      <td>0.0</td>\n",
       "      <td>Hz</td>\n",
       "      <td>1.61</td>\n",
       "      <td>kg/cm²</td>\n",
       "      <td>M</td>\n",
       "      <td>NC</td>\n",
       "      <td>NaN</td>\n",
       "    </tr>\n",
       "    <tr>\n",
       "      <th>4</th>\n",
       "      <td>01/10/2010 07:00:00</td>\n",
       "      <td>E085ZUPCVP84</td>\n",
       "      <td>0.0</td>\n",
       "      <td>Hz</td>\n",
       "      <td>0.02</td>\n",
       "      <td>kg/cm²</td>\n",
       "      <td>M</td>\n",
       "      <td>NC</td>\n",
       "      <td>NaN</td>\n",
       "    </tr>\n",
       "  </tbody>\n",
       "</table>\n",
       "</div>"
      ],
      "text/plain": [
       "                 Fecha        Sensor  Lectura Unidades de Lectura  Medida  \\\n",
       "0  01/10/2010 07:00:00  E085ZUPCVP57      0.0                  Hz    1.64   \n",
       "1  01/10/2010 07:00:00  E085ZUPCVP66      0.0                  Hz    0.97   \n",
       "2  01/10/2010 07:00:00  E085ZUPCVP75      0.0                  Hz    1.61   \n",
       "3  01/10/2010 07:00:00  E085ZUPCVP76      0.0                  Hz    1.61   \n",
       "4  01/10/2010 07:00:00  E085ZUPCVP84      0.0                  Hz    0.02   \n",
       "\n",
       "  Unidades de Medida Flag Flag Manipulación Observaciones  \n",
       "0             kg/cm²    M                NC           NaN  \n",
       "1             kg/cm²    M                NC           NaN  \n",
       "2             kg/cm²    M                NC           NaN  \n",
       "3             kg/cm²    M                NC           NaN  \n",
       "4             kg/cm²    M                NC           NaN  "
      ]
     },
     "execution_count": 34,
     "metadata": {},
     "output_type": "execute_result"
    }
   ],
   "source": [
    "df3 = pd.read_excel(\"Presiones G12.xlsx\")\n",
    "df3.head()"
   ]
  },
  {
   "cell_type": "markdown",
   "metadata": {},
   "source": [
    "Eliminación de las columnas irrelevantes."
   ]
  },
  {
   "cell_type": "code",
   "execution_count": 35,
   "metadata": {},
   "outputs": [],
   "source": [
    "del df3[\"Lectura\"]\n",
    "del df3[\"Unidades de Lectura\"]\n",
    "del df3[\"Unidades de Medida\"]\n",
    "del df3[\"Flag\"]\n",
    "del df3[\"Flag Manipulación\"]\n",
    "del df3[\"Observaciones\"]"
   ]
  },
  {
   "cell_type": "code",
   "execution_count": 36,
   "metadata": {},
   "outputs": [
    {
     "data": {
      "text/html": [
       "<div>\n",
       "<style scoped>\n",
       "    .dataframe tbody tr th:only-of-type {\n",
       "        vertical-align: middle;\n",
       "    }\n",
       "\n",
       "    .dataframe tbody tr th {\n",
       "        vertical-align: top;\n",
       "    }\n",
       "\n",
       "    .dataframe thead th {\n",
       "        text-align: right;\n",
       "    }\n",
       "</style>\n",
       "<table border=\"1\" class=\"dataframe\">\n",
       "  <thead>\n",
       "    <tr style=\"text-align: right;\">\n",
       "      <th></th>\n",
       "      <th>Fecha</th>\n",
       "      <th>Sensor</th>\n",
       "      <th>Medida</th>\n",
       "    </tr>\n",
       "  </thead>\n",
       "  <tbody>\n",
       "    <tr>\n",
       "      <th>0</th>\n",
       "      <td>01/10/2010 07:00:00</td>\n",
       "      <td>E085ZUPCVP57</td>\n",
       "      <td>1.64</td>\n",
       "    </tr>\n",
       "    <tr>\n",
       "      <th>1</th>\n",
       "      <td>01/10/2010 07:00:00</td>\n",
       "      <td>E085ZUPCVP66</td>\n",
       "      <td>0.97</td>\n",
       "    </tr>\n",
       "    <tr>\n",
       "      <th>2</th>\n",
       "      <td>01/10/2010 07:00:00</td>\n",
       "      <td>E085ZUPCVP75</td>\n",
       "      <td>1.61</td>\n",
       "    </tr>\n",
       "    <tr>\n",
       "      <th>3</th>\n",
       "      <td>01/10/2010 07:00:00</td>\n",
       "      <td>E085ZUPCVP76</td>\n",
       "      <td>1.61</td>\n",
       "    </tr>\n",
       "    <tr>\n",
       "      <th>4</th>\n",
       "      <td>01/10/2010 07:00:00</td>\n",
       "      <td>E085ZUPCVP84</td>\n",
       "      <td>0.02</td>\n",
       "    </tr>\n",
       "  </tbody>\n",
       "</table>\n",
       "</div>"
      ],
      "text/plain": [
       "                 Fecha        Sensor  Medida\n",
       "0  01/10/2010 07:00:00  E085ZUPCVP57    1.64\n",
       "1  01/10/2010 07:00:00  E085ZUPCVP66    0.97\n",
       "2  01/10/2010 07:00:00  E085ZUPCVP75    1.61\n",
       "3  01/10/2010 07:00:00  E085ZUPCVP76    1.61\n",
       "4  01/10/2010 07:00:00  E085ZUPCVP84    0.02"
      ]
     },
     "execution_count": 36,
     "metadata": {},
     "output_type": "execute_result"
    }
   ],
   "source": [
    "df3.head()"
   ]
  },
  {
   "cell_type": "code",
   "execution_count": 37,
   "metadata": {},
   "outputs": [
    {
     "data": {
      "text/plain": [
       "(279997, 3)"
      ]
     },
     "execution_count": 37,
     "metadata": {},
     "output_type": "execute_result"
    }
   ],
   "source": [
    "df3.shape"
   ]
  },
  {
   "cell_type": "markdown",
   "metadata": {},
   "source": [
    "Conversión de las fechas a formato datetime."
   ]
  },
  {
   "cell_type": "code",
   "execution_count": 38,
   "metadata": {},
   "outputs": [
    {
     "data": {
      "text/html": [
       "<div>\n",
       "<style scoped>\n",
       "    .dataframe tbody tr th:only-of-type {\n",
       "        vertical-align: middle;\n",
       "    }\n",
       "\n",
       "    .dataframe tbody tr th {\n",
       "        vertical-align: top;\n",
       "    }\n",
       "\n",
       "    .dataframe thead th {\n",
       "        text-align: right;\n",
       "    }\n",
       "</style>\n",
       "<table border=\"1\" class=\"dataframe\">\n",
       "  <thead>\n",
       "    <tr style=\"text-align: right;\">\n",
       "      <th></th>\n",
       "      <th>Fecha</th>\n",
       "      <th>Sensor</th>\n",
       "      <th>Medida</th>\n",
       "    </tr>\n",
       "  </thead>\n",
       "  <tbody>\n",
       "    <tr>\n",
       "      <th>0</th>\n",
       "      <td>2010-10-01 07:00:00</td>\n",
       "      <td>E085ZUPCVP57</td>\n",
       "      <td>1.64</td>\n",
       "    </tr>\n",
       "    <tr>\n",
       "      <th>1</th>\n",
       "      <td>2010-10-01 07:00:00</td>\n",
       "      <td>E085ZUPCVP66</td>\n",
       "      <td>0.97</td>\n",
       "    </tr>\n",
       "    <tr>\n",
       "      <th>2</th>\n",
       "      <td>2010-10-01 07:00:00</td>\n",
       "      <td>E085ZUPCVP75</td>\n",
       "      <td>1.61</td>\n",
       "    </tr>\n",
       "    <tr>\n",
       "      <th>3</th>\n",
       "      <td>2010-10-01 07:00:00</td>\n",
       "      <td>E085ZUPCVP76</td>\n",
       "      <td>1.61</td>\n",
       "    </tr>\n",
       "    <tr>\n",
       "      <th>4</th>\n",
       "      <td>2010-10-01 07:00:00</td>\n",
       "      <td>E085ZUPCVP84</td>\n",
       "      <td>0.02</td>\n",
       "    </tr>\n",
       "  </tbody>\n",
       "</table>\n",
       "</div>"
      ],
      "text/plain": [
       "                Fecha        Sensor  Medida\n",
       "0 2010-10-01 07:00:00  E085ZUPCVP57    1.64\n",
       "1 2010-10-01 07:00:00  E085ZUPCVP66    0.97\n",
       "2 2010-10-01 07:00:00  E085ZUPCVP75    1.61\n",
       "3 2010-10-01 07:00:00  E085ZUPCVP76    1.61\n",
       "4 2010-10-01 07:00:00  E085ZUPCVP84    0.02"
      ]
     },
     "execution_count": 38,
     "metadata": {},
     "output_type": "execute_result"
    }
   ],
   "source": [
    "df3[\"Fecha\"] = pd.to_datetime(df3[\"Fecha\"], format ='%d/%m/%Y %H:%M:%S')\n",
    "df3.head()"
   ]
  },
  {
   "cell_type": "markdown",
   "metadata": {},
   "source": [
    "Comprobación del número de piezómetros."
   ]
  },
  {
   "cell_type": "code",
   "execution_count": 39,
   "metadata": {},
   "outputs": [
    {
     "data": {
      "text/plain": [
       "array(['E085ZUPCVP57', 'E085ZUPCVP66', 'E085ZUPCVP75', 'E085ZUPCVP76',\n",
       "       'E085ZUPCVP84', 'E085ZUPCVP26', 'E085ZUPCVP36', 'E085ZUPCVP60',\n",
       "       'E085ZUPCVP77', 'E085ZUPCVP06', 'E085ZUPCVP39', 'E085ZUPCVP48',\n",
       "       'E085ZUPCVP53', 'E085ZUPCVP55', 'E085ZUPCVP82', 'E085ZUPCVP83',\n",
       "       'E085ZUPCVP87', 'E085ZUPCVP19', 'E085ZUPCVP50', 'E085ZUPCVP72',\n",
       "       'E085ZUPCVP02', 'E085ZUPCVP03', 'E085ZUPCVP33', 'E085ZUPCVP14',\n",
       "       'E085ZUPCVP18', 'E085ZUPCVP65', 'E085ZUPCVP69', 'E085ZUPCVP74',\n",
       "       'E085ZUPCVP86', 'E085ZUPCVP21', 'E085ZUPCVP27', 'E085ZUPCVP32',\n",
       "       'E085ZUPCVP44', 'E085ZUPCVP54', 'E085ZUPCVP62', 'E085ZUPCVP79',\n",
       "       'E085ZUPCVP28', 'E085ZUPCVP29', 'E085ZUPCVP08', 'E085ZUPCVP34',\n",
       "       'E085ZUPCVP15', 'E085ZUPCVP11', 'E085ZUPCVP67', 'E085ZUPCVP71',\n",
       "       'E085ZUPCVP73', 'E085ZUPCVP16', 'E085ZUPCVP20', 'E085ZUPCVP63',\n",
       "       'E085ZUPCVP23', 'E085ZUPCVP31', 'E085ZUPCVP35', 'E085ZUPCVP38',\n",
       "       'E085ZUPCVP40', 'E085ZUPCVP41', 'E085ZUPCVP17', 'E085ZUPCVP46',\n",
       "       'E085ZUPCVP47', 'E085ZUPCVP49', 'E085ZUPCVP51', 'E085ZUPCVP56',\n",
       "       'E085ZUPCVP64', 'E085ZUPCVP78', 'E085ZUPCVP80', 'E085ZUPCVP81',\n",
       "       'E085ZUPCVP85', 'E085ZUPCVP88', 'E085ZUPCVP89', 'E085ZUPCVP22',\n",
       "       'E085ZUPCVP61', 'E085ZUPCVP30', 'E085ZUPCVP07', 'E085ZUPCVP10',\n",
       "       'E085ZUPCVP37', 'E085ZUPCVP12', 'E085ZUPCVP52', 'E085ZUPCVP92',\n",
       "       'E085ZUPCVP90', 'E085ZUPCVP93', 'E085ZUPCVP91', 'E085ZUPCVP94',\n",
       "       'E085ZUPCVP95', 'E085ZUPCVP68', 'E085ZUPCVP70', 'E085ZUPCVP59',\n",
       "       'E085ZUPCVP98', 'E085ZUPCVP96', 'E085ZUPCVP97', 'E085ZUPCVP09'],\n",
       "      dtype=object)"
      ]
     },
     "execution_count": 39,
     "metadata": {},
     "output_type": "execute_result"
    }
   ],
   "source": [
    "df3[\"Sensor\"].unique()"
   ]
  },
  {
   "cell_type": "markdown",
   "metadata": {},
   "source": [
    "Selección de los valores de los piezómetros más importantes."
   ]
  },
  {
   "cell_type": "code",
   "execution_count": 40,
   "metadata": {},
   "outputs": [],
   "source": [
    "df3 = df3[df3[\"Sensor\"].isin([\"E085ZUPCVP07\", \"E085ZUPCVP16\",\"E085ZUPCVP31\",\"E085ZUPCVP34\",\"E085ZUPCVP49\", \"E085ZUPCVP52\",\"E085ZUPCVP67\",\"E085ZUPCVP70\",\"E085ZUPCVP79\"])]"
   ]
  },
  {
   "cell_type": "code",
   "execution_count": 41,
   "metadata": {},
   "outputs": [
    {
     "data": {
      "text/html": [
       "<div>\n",
       "<style scoped>\n",
       "    .dataframe tbody tr th:only-of-type {\n",
       "        vertical-align: middle;\n",
       "    }\n",
       "\n",
       "    .dataframe tbody tr th {\n",
       "        vertical-align: top;\n",
       "    }\n",
       "\n",
       "    .dataframe thead th {\n",
       "        text-align: right;\n",
       "    }\n",
       "</style>\n",
       "<table border=\"1\" class=\"dataframe\">\n",
       "  <thead>\n",
       "    <tr style=\"text-align: right;\">\n",
       "      <th></th>\n",
       "      <th>Fecha</th>\n",
       "      <th>Sensor</th>\n",
       "      <th>Medida</th>\n",
       "    </tr>\n",
       "  </thead>\n",
       "  <tbody>\n",
       "    <tr>\n",
       "      <th>35</th>\n",
       "      <td>2010-10-01 07:00:00</td>\n",
       "      <td>E085ZUPCVP79</td>\n",
       "      <td>0.15</td>\n",
       "    </tr>\n",
       "    <tr>\n",
       "      <th>39</th>\n",
       "      <td>2010-10-01 07:00:00</td>\n",
       "      <td>E085ZUPCVP34</td>\n",
       "      <td>0.86</td>\n",
       "    </tr>\n",
       "    <tr>\n",
       "      <th>42</th>\n",
       "      <td>2010-10-01 07:00:00</td>\n",
       "      <td>E085ZUPCVP67</td>\n",
       "      <td>0.13</td>\n",
       "    </tr>\n",
       "    <tr>\n",
       "      <th>45</th>\n",
       "      <td>2010-10-01 07:00:00</td>\n",
       "      <td>E085ZUPCVP16</td>\n",
       "      <td>0.20</td>\n",
       "    </tr>\n",
       "    <tr>\n",
       "      <th>49</th>\n",
       "      <td>2010-10-01 07:00:00</td>\n",
       "      <td>E085ZUPCVP31</td>\n",
       "      <td>0.76</td>\n",
       "    </tr>\n",
       "    <tr>\n",
       "      <th>...</th>\n",
       "      <td>...</td>\n",
       "      <td>...</td>\n",
       "      <td>...</td>\n",
       "    </tr>\n",
       "    <tr>\n",
       "      <th>279963</th>\n",
       "      <td>2020-05-29 07:00:00</td>\n",
       "      <td>E085ZUPCVP16</td>\n",
       "      <td>0.75</td>\n",
       "    </tr>\n",
       "    <tr>\n",
       "      <th>279967</th>\n",
       "      <td>2020-05-29 07:00:00</td>\n",
       "      <td>E085ZUPCVP31</td>\n",
       "      <td>1.41</td>\n",
       "    </tr>\n",
       "    <tr>\n",
       "      <th>279975</th>\n",
       "      <td>2020-05-29 07:00:00</td>\n",
       "      <td>E085ZUPCVP49</td>\n",
       "      <td>1.21</td>\n",
       "    </tr>\n",
       "    <tr>\n",
       "      <th>279989</th>\n",
       "      <td>2020-05-29 07:00:00</td>\n",
       "      <td>E085ZUPCVP07</td>\n",
       "      <td>0.28</td>\n",
       "    </tr>\n",
       "    <tr>\n",
       "      <th>279996</th>\n",
       "      <td>2020-05-29 07:00:00</td>\n",
       "      <td>E085ZUPCVP52</td>\n",
       "      <td>0.71</td>\n",
       "    </tr>\n",
       "  </tbody>\n",
       "</table>\n",
       "<p>29777 rows × 3 columns</p>\n",
       "</div>"
      ],
      "text/plain": [
       "                     Fecha        Sensor  Medida\n",
       "35     2010-10-01 07:00:00  E085ZUPCVP79    0.15\n",
       "39     2010-10-01 07:00:00  E085ZUPCVP34    0.86\n",
       "42     2010-10-01 07:00:00  E085ZUPCVP67    0.13\n",
       "45     2010-10-01 07:00:00  E085ZUPCVP16    0.20\n",
       "49     2010-10-01 07:00:00  E085ZUPCVP31    0.76\n",
       "...                    ...           ...     ...\n",
       "279963 2020-05-29 07:00:00  E085ZUPCVP16    0.75\n",
       "279967 2020-05-29 07:00:00  E085ZUPCVP31    1.41\n",
       "279975 2020-05-29 07:00:00  E085ZUPCVP49    1.21\n",
       "279989 2020-05-29 07:00:00  E085ZUPCVP07    0.28\n",
       "279996 2020-05-29 07:00:00  E085ZUPCVP52    0.71\n",
       "\n",
       "[29777 rows x 3 columns]"
      ]
     },
     "execution_count": 41,
     "metadata": {},
     "output_type": "execute_result"
    }
   ],
   "source": [
    "df3"
   ]
  },
  {
   "cell_type": "markdown",
   "metadata": {},
   "source": [
    "Comprobación de los NaN."
   ]
  },
  {
   "cell_type": "code",
   "execution_count": 42,
   "metadata": {},
   "outputs": [
    {
     "name": "stdout",
     "output_type": "stream",
     "text": [
      "Fecha      0\n",
      "Sensor     0\n",
      "Medida    32\n",
      "dtype: int64\n",
      "**************\n",
      "Fecha      0\n",
      "Sensor     0\n",
      "Medida    27\n",
      "dtype: int64\n",
      "**************\n",
      "Fecha       0\n",
      "Sensor      0\n",
      "Medida    195\n",
      "dtype: int64\n",
      "**************\n",
      "Fecha      0\n",
      "Sensor     0\n",
      "Medida    15\n",
      "dtype: int64\n",
      "**************\n",
      "Fecha      0\n",
      "Sensor     0\n",
      "Medida    27\n",
      "dtype: int64\n",
      "**************\n",
      "Fecha      0\n",
      "Sensor     0\n",
      "Medida    29\n",
      "dtype: int64\n",
      "**************\n",
      "Fecha     0\n",
      "Sensor    0\n",
      "Medida    6\n",
      "dtype: int64\n",
      "**************\n",
      "Fecha      0\n",
      "Sensor     0\n",
      "Medida    29\n",
      "dtype: int64\n",
      "**************\n",
      "Fecha       0\n",
      "Sensor      0\n",
      "Medida    347\n",
      "dtype: int64\n",
      "**************\n"
     ]
    }
   ],
   "source": [
    "for i in df3[\"Sensor\"].unique():\n",
    "    print(df3[df3[\"Sensor\"]==i].isnull().sum())\n",
    "    print(\"**************\")"
   ]
  },
  {
   "cell_type": "markdown",
   "metadata": {},
   "source": [
    "Reorganización del dataframe para que los sensores se conviertan en columnas."
   ]
  },
  {
   "cell_type": "code",
   "execution_count": 43,
   "metadata": {},
   "outputs": [
    {
     "data": {
      "text/html": [
       "<div>\n",
       "<style scoped>\n",
       "    .dataframe tbody tr th:only-of-type {\n",
       "        vertical-align: middle;\n",
       "    }\n",
       "\n",
       "    .dataframe tbody tr th {\n",
       "        vertical-align: top;\n",
       "    }\n",
       "\n",
       "    .dataframe thead th {\n",
       "        text-align: right;\n",
       "    }\n",
       "</style>\n",
       "<table border=\"1\" class=\"dataframe\">\n",
       "  <thead>\n",
       "    <tr style=\"text-align: right;\">\n",
       "      <th>Sensor</th>\n",
       "      <th>E085ZUPCVP07</th>\n",
       "      <th>E085ZUPCVP16</th>\n",
       "      <th>E085ZUPCVP31</th>\n",
       "      <th>E085ZUPCVP34</th>\n",
       "      <th>E085ZUPCVP49</th>\n",
       "      <th>E085ZUPCVP52</th>\n",
       "      <th>E085ZUPCVP67</th>\n",
       "      <th>E085ZUPCVP70</th>\n",
       "      <th>E085ZUPCVP79</th>\n",
       "    </tr>\n",
       "    <tr>\n",
       "      <th>Fecha</th>\n",
       "      <th></th>\n",
       "      <th></th>\n",
       "      <th></th>\n",
       "      <th></th>\n",
       "      <th></th>\n",
       "      <th></th>\n",
       "      <th></th>\n",
       "      <th></th>\n",
       "      <th></th>\n",
       "    </tr>\n",
       "  </thead>\n",
       "  <tbody>\n",
       "    <tr>\n",
       "      <th>2010-10-01 07:00:00</th>\n",
       "      <td>0.11</td>\n",
       "      <td>0.20</td>\n",
       "      <td>0.76</td>\n",
       "      <td>0.86</td>\n",
       "      <td>0.55</td>\n",
       "      <td>0.87</td>\n",
       "      <td>0.13</td>\n",
       "      <td>NaN</td>\n",
       "      <td>0.15</td>\n",
       "    </tr>\n",
       "    <tr>\n",
       "      <th>2010-10-02 07:00:00</th>\n",
       "      <td>0.11</td>\n",
       "      <td>0.18</td>\n",
       "      <td>0.76</td>\n",
       "      <td>0.86</td>\n",
       "      <td>0.55</td>\n",
       "      <td>0.87</td>\n",
       "      <td>0.13</td>\n",
       "      <td>NaN</td>\n",
       "      <td>0.14</td>\n",
       "    </tr>\n",
       "    <tr>\n",
       "      <th>2010-10-03 07:00:00</th>\n",
       "      <td>0.13</td>\n",
       "      <td>0.20</td>\n",
       "      <td>0.76</td>\n",
       "      <td>0.86</td>\n",
       "      <td>0.55</td>\n",
       "      <td>0.87</td>\n",
       "      <td>0.18</td>\n",
       "      <td>NaN</td>\n",
       "      <td>0.14</td>\n",
       "    </tr>\n",
       "  </tbody>\n",
       "</table>\n",
       "</div>"
      ],
      "text/plain": [
       "Sensor               E085ZUPCVP07  E085ZUPCVP16  E085ZUPCVP31  E085ZUPCVP34  \\\n",
       "Fecha                                                                         \n",
       "2010-10-01 07:00:00          0.11          0.20          0.76          0.86   \n",
       "2010-10-02 07:00:00          0.11          0.18          0.76          0.86   \n",
       "2010-10-03 07:00:00          0.13          0.20          0.76          0.86   \n",
       "\n",
       "Sensor               E085ZUPCVP49  E085ZUPCVP52  E085ZUPCVP67  E085ZUPCVP70  \\\n",
       "Fecha                                                                         \n",
       "2010-10-01 07:00:00          0.55          0.87          0.13           NaN   \n",
       "2010-10-02 07:00:00          0.55          0.87          0.13           NaN   \n",
       "2010-10-03 07:00:00          0.55          0.87          0.18           NaN   \n",
       "\n",
       "Sensor               E085ZUPCVP79  \n",
       "Fecha                              \n",
       "2010-10-01 07:00:00          0.15  \n",
       "2010-10-02 07:00:00          0.14  \n",
       "2010-10-03 07:00:00          0.14  "
      ]
     },
     "execution_count": 43,
     "metadata": {},
     "output_type": "execute_result"
    }
   ],
   "source": [
    "pres = df3.pivot_table(values='Medida', index='Fecha', columns='Sensor')\n",
    "pres.head(3)"
   ]
  },
  {
   "cell_type": "markdown",
   "metadata": {},
   "source": [
    "Reorganización del dataframe para que la fecha no constituya el índice (y no dé problemas)."
   ]
  },
  {
   "cell_type": "code",
   "execution_count": 44,
   "metadata": {},
   "outputs": [
    {
     "data": {
      "text/html": [
       "<div>\n",
       "<style scoped>\n",
       "    .dataframe tbody tr th:only-of-type {\n",
       "        vertical-align: middle;\n",
       "    }\n",
       "\n",
       "    .dataframe tbody tr th {\n",
       "        vertical-align: top;\n",
       "    }\n",
       "\n",
       "    .dataframe thead th {\n",
       "        text-align: right;\n",
       "    }\n",
       "</style>\n",
       "<table border=\"1\" class=\"dataframe\">\n",
       "  <thead>\n",
       "    <tr style=\"text-align: right;\">\n",
       "      <th>Sensor</th>\n",
       "      <th>E085ZUPCVP07</th>\n",
       "      <th>E085ZUPCVP16</th>\n",
       "      <th>E085ZUPCVP31</th>\n",
       "      <th>E085ZUPCVP34</th>\n",
       "      <th>E085ZUPCVP49</th>\n",
       "      <th>E085ZUPCVP52</th>\n",
       "      <th>E085ZUPCVP67</th>\n",
       "      <th>E085ZUPCVP70</th>\n",
       "      <th>E085ZUPCVP79</th>\n",
       "      <th>Fecha</th>\n",
       "    </tr>\n",
       "  </thead>\n",
       "  <tbody>\n",
       "    <tr>\n",
       "      <th>0</th>\n",
       "      <td>0.11</td>\n",
       "      <td>0.20</td>\n",
       "      <td>0.76</td>\n",
       "      <td>0.86</td>\n",
       "      <td>0.55</td>\n",
       "      <td>0.87</td>\n",
       "      <td>0.13</td>\n",
       "      <td>NaN</td>\n",
       "      <td>0.15</td>\n",
       "      <td>2010-10-01 07:00:00</td>\n",
       "    </tr>\n",
       "    <tr>\n",
       "      <th>1</th>\n",
       "      <td>0.11</td>\n",
       "      <td>0.18</td>\n",
       "      <td>0.76</td>\n",
       "      <td>0.86</td>\n",
       "      <td>0.55</td>\n",
       "      <td>0.87</td>\n",
       "      <td>0.13</td>\n",
       "      <td>NaN</td>\n",
       "      <td>0.14</td>\n",
       "      <td>2010-10-02 07:00:00</td>\n",
       "    </tr>\n",
       "    <tr>\n",
       "      <th>2</th>\n",
       "      <td>0.13</td>\n",
       "      <td>0.20</td>\n",
       "      <td>0.76</td>\n",
       "      <td>0.86</td>\n",
       "      <td>0.55</td>\n",
       "      <td>0.87</td>\n",
       "      <td>0.18</td>\n",
       "      <td>NaN</td>\n",
       "      <td>0.14</td>\n",
       "      <td>2010-10-03 07:00:00</td>\n",
       "    </tr>\n",
       "    <tr>\n",
       "      <th>3</th>\n",
       "      <td>0.11</td>\n",
       "      <td>0.20</td>\n",
       "      <td>0.76</td>\n",
       "      <td>0.86</td>\n",
       "      <td>0.55</td>\n",
       "      <td>0.87</td>\n",
       "      <td>0.16</td>\n",
       "      <td>NaN</td>\n",
       "      <td>0.15</td>\n",
       "      <td>2010-10-04 07:00:00</td>\n",
       "    </tr>\n",
       "    <tr>\n",
       "      <th>4</th>\n",
       "      <td>0.11</td>\n",
       "      <td>0.20</td>\n",
       "      <td>0.76</td>\n",
       "      <td>0.86</td>\n",
       "      <td>0.56</td>\n",
       "      <td>0.87</td>\n",
       "      <td>0.13</td>\n",
       "      <td>NaN</td>\n",
       "      <td>0.15</td>\n",
       "      <td>2010-10-05 07:00:00</td>\n",
       "    </tr>\n",
       "  </tbody>\n",
       "</table>\n",
       "</div>"
      ],
      "text/plain": [
       "Sensor  E085ZUPCVP07  E085ZUPCVP16  E085ZUPCVP31  E085ZUPCVP34  E085ZUPCVP49  \\\n",
       "0               0.11          0.20          0.76          0.86          0.55   \n",
       "1               0.11          0.18          0.76          0.86          0.55   \n",
       "2               0.13          0.20          0.76          0.86          0.55   \n",
       "3               0.11          0.20          0.76          0.86          0.55   \n",
       "4               0.11          0.20          0.76          0.86          0.56   \n",
       "\n",
       "Sensor  E085ZUPCVP52  E085ZUPCVP67  E085ZUPCVP70  E085ZUPCVP79  \\\n",
       "0               0.87          0.13           NaN          0.15   \n",
       "1               0.87          0.13           NaN          0.14   \n",
       "2               0.87          0.18           NaN          0.14   \n",
       "3               0.87          0.16           NaN          0.15   \n",
       "4               0.87          0.13           NaN          0.15   \n",
       "\n",
       "Sensor               Fecha  \n",
       "0      2010-10-01 07:00:00  \n",
       "1      2010-10-02 07:00:00  \n",
       "2      2010-10-03 07:00:00  \n",
       "3      2010-10-04 07:00:00  \n",
       "4      2010-10-05 07:00:00  "
      ]
     },
     "execution_count": 44,
     "metadata": {},
     "output_type": "execute_result"
    }
   ],
   "source": [
    "pres['Fecha'] = pres.index\n",
    "pres.reset_index(drop=True, inplace=True)\n",
    "pres.head()"
   ]
  },
  {
   "cell_type": "markdown",
   "metadata": {},
   "source": [
    "Convergencia de las fechas duplicadas mediante una media."
   ]
  },
  {
   "cell_type": "code",
   "execution_count": 45,
   "metadata": {},
   "outputs": [
    {
     "data": {
      "text/html": [
       "<div>\n",
       "<style scoped>\n",
       "    .dataframe tbody tr th:only-of-type {\n",
       "        vertical-align: middle;\n",
       "    }\n",
       "\n",
       "    .dataframe tbody tr th {\n",
       "        vertical-align: top;\n",
       "    }\n",
       "\n",
       "    .dataframe thead th {\n",
       "        text-align: right;\n",
       "    }\n",
       "</style>\n",
       "<table border=\"1\" class=\"dataframe\">\n",
       "  <thead>\n",
       "    <tr style=\"text-align: right;\">\n",
       "      <th>Sensor</th>\n",
       "      <th>E085ZUPCVP07</th>\n",
       "      <th>E085ZUPCVP16</th>\n",
       "      <th>E085ZUPCVP31</th>\n",
       "      <th>E085ZUPCVP34</th>\n",
       "      <th>E085ZUPCVP49</th>\n",
       "      <th>E085ZUPCVP52</th>\n",
       "      <th>E085ZUPCVP67</th>\n",
       "      <th>E085ZUPCVP70</th>\n",
       "      <th>E085ZUPCVP79</th>\n",
       "    </tr>\n",
       "    <tr>\n",
       "      <th>Fecha</th>\n",
       "      <th></th>\n",
       "      <th></th>\n",
       "      <th></th>\n",
       "      <th></th>\n",
       "      <th></th>\n",
       "      <th></th>\n",
       "      <th></th>\n",
       "      <th></th>\n",
       "      <th></th>\n",
       "    </tr>\n",
       "  </thead>\n",
       "  <tbody>\n",
       "    <tr>\n",
       "      <th>2010-10-01</th>\n",
       "      <td>0.11</td>\n",
       "      <td>0.20</td>\n",
       "      <td>0.76</td>\n",
       "      <td>0.86</td>\n",
       "      <td>0.55</td>\n",
       "      <td>0.87</td>\n",
       "      <td>0.13</td>\n",
       "      <td>NaN</td>\n",
       "      <td>0.15</td>\n",
       "    </tr>\n",
       "    <tr>\n",
       "      <th>2010-10-02</th>\n",
       "      <td>0.11</td>\n",
       "      <td>0.18</td>\n",
       "      <td>0.76</td>\n",
       "      <td>0.86</td>\n",
       "      <td>0.55</td>\n",
       "      <td>0.87</td>\n",
       "      <td>0.13</td>\n",
       "      <td>NaN</td>\n",
       "      <td>0.14</td>\n",
       "    </tr>\n",
       "    <tr>\n",
       "      <th>2010-10-03</th>\n",
       "      <td>0.13</td>\n",
       "      <td>0.20</td>\n",
       "      <td>0.76</td>\n",
       "      <td>0.86</td>\n",
       "      <td>0.55</td>\n",
       "      <td>0.87</td>\n",
       "      <td>0.18</td>\n",
       "      <td>NaN</td>\n",
       "      <td>0.14</td>\n",
       "    </tr>\n",
       "    <tr>\n",
       "      <th>2010-10-04</th>\n",
       "      <td>0.11</td>\n",
       "      <td>0.20</td>\n",
       "      <td>0.76</td>\n",
       "      <td>0.86</td>\n",
       "      <td>0.55</td>\n",
       "      <td>0.87</td>\n",
       "      <td>0.16</td>\n",
       "      <td>NaN</td>\n",
       "      <td>0.15</td>\n",
       "    </tr>\n",
       "    <tr>\n",
       "      <th>2010-10-05</th>\n",
       "      <td>0.11</td>\n",
       "      <td>0.20</td>\n",
       "      <td>0.76</td>\n",
       "      <td>0.86</td>\n",
       "      <td>0.56</td>\n",
       "      <td>0.87</td>\n",
       "      <td>0.13</td>\n",
       "      <td>NaN</td>\n",
       "      <td>0.15</td>\n",
       "    </tr>\n",
       "  </tbody>\n",
       "</table>\n",
       "</div>"
      ],
      "text/plain": [
       "Sensor      E085ZUPCVP07  E085ZUPCVP16  E085ZUPCVP31  E085ZUPCVP34  \\\n",
       "Fecha                                                                \n",
       "2010-10-01          0.11          0.20          0.76          0.86   \n",
       "2010-10-02          0.11          0.18          0.76          0.86   \n",
       "2010-10-03          0.13          0.20          0.76          0.86   \n",
       "2010-10-04          0.11          0.20          0.76          0.86   \n",
       "2010-10-05          0.11          0.20          0.76          0.86   \n",
       "\n",
       "Sensor      E085ZUPCVP49  E085ZUPCVP52  E085ZUPCVP67  E085ZUPCVP70  \\\n",
       "Fecha                                                                \n",
       "2010-10-01          0.55          0.87          0.13           NaN   \n",
       "2010-10-02          0.55          0.87          0.13           NaN   \n",
       "2010-10-03          0.55          0.87          0.18           NaN   \n",
       "2010-10-04          0.55          0.87          0.16           NaN   \n",
       "2010-10-05          0.56          0.87          0.13           NaN   \n",
       "\n",
       "Sensor      E085ZUPCVP79  \n",
       "Fecha                     \n",
       "2010-10-01          0.15  \n",
       "2010-10-02          0.14  \n",
       "2010-10-03          0.14  \n",
       "2010-10-04          0.15  \n",
       "2010-10-05          0.15  "
      ]
     },
     "execution_count": 45,
     "metadata": {},
     "output_type": "execute_result"
    }
   ],
   "source": [
    "pres=pres.resample('d', on=\"Fecha\").mean().dropna(how='all')\n",
    "pres.head()"
   ]
  },
  {
   "cell_type": "markdown",
   "metadata": {},
   "source": [
    "Reorganización del dataframe para que la fecha no constituya el índice (y no dé problemas)."
   ]
  },
  {
   "cell_type": "code",
   "execution_count": 46,
   "metadata": {},
   "outputs": [
    {
     "data": {
      "text/html": [
       "<div>\n",
       "<style scoped>\n",
       "    .dataframe tbody tr th:only-of-type {\n",
       "        vertical-align: middle;\n",
       "    }\n",
       "\n",
       "    .dataframe tbody tr th {\n",
       "        vertical-align: top;\n",
       "    }\n",
       "\n",
       "    .dataframe thead th {\n",
       "        text-align: right;\n",
       "    }\n",
       "</style>\n",
       "<table border=\"1\" class=\"dataframe\">\n",
       "  <thead>\n",
       "    <tr style=\"text-align: right;\">\n",
       "      <th>Sensor</th>\n",
       "      <th>E085ZUPCVP07</th>\n",
       "      <th>E085ZUPCVP16</th>\n",
       "      <th>E085ZUPCVP31</th>\n",
       "      <th>E085ZUPCVP34</th>\n",
       "      <th>E085ZUPCVP49</th>\n",
       "      <th>E085ZUPCVP52</th>\n",
       "      <th>E085ZUPCVP67</th>\n",
       "      <th>E085ZUPCVP70</th>\n",
       "      <th>E085ZUPCVP79</th>\n",
       "      <th>Fecha</th>\n",
       "    </tr>\n",
       "  </thead>\n",
       "  <tbody>\n",
       "    <tr>\n",
       "      <th>0</th>\n",
       "      <td>0.11</td>\n",
       "      <td>0.20</td>\n",
       "      <td>0.76</td>\n",
       "      <td>0.86</td>\n",
       "      <td>0.55</td>\n",
       "      <td>0.87</td>\n",
       "      <td>0.13</td>\n",
       "      <td>NaN</td>\n",
       "      <td>0.15</td>\n",
       "      <td>2010-10-01</td>\n",
       "    </tr>\n",
       "    <tr>\n",
       "      <th>1</th>\n",
       "      <td>0.11</td>\n",
       "      <td>0.18</td>\n",
       "      <td>0.76</td>\n",
       "      <td>0.86</td>\n",
       "      <td>0.55</td>\n",
       "      <td>0.87</td>\n",
       "      <td>0.13</td>\n",
       "      <td>NaN</td>\n",
       "      <td>0.14</td>\n",
       "      <td>2010-10-02</td>\n",
       "    </tr>\n",
       "    <tr>\n",
       "      <th>2</th>\n",
       "      <td>0.13</td>\n",
       "      <td>0.20</td>\n",
       "      <td>0.76</td>\n",
       "      <td>0.86</td>\n",
       "      <td>0.55</td>\n",
       "      <td>0.87</td>\n",
       "      <td>0.18</td>\n",
       "      <td>NaN</td>\n",
       "      <td>0.14</td>\n",
       "      <td>2010-10-03</td>\n",
       "    </tr>\n",
       "    <tr>\n",
       "      <th>3</th>\n",
       "      <td>0.11</td>\n",
       "      <td>0.20</td>\n",
       "      <td>0.76</td>\n",
       "      <td>0.86</td>\n",
       "      <td>0.55</td>\n",
       "      <td>0.87</td>\n",
       "      <td>0.16</td>\n",
       "      <td>NaN</td>\n",
       "      <td>0.15</td>\n",
       "      <td>2010-10-04</td>\n",
       "    </tr>\n",
       "    <tr>\n",
       "      <th>4</th>\n",
       "      <td>0.11</td>\n",
       "      <td>0.20</td>\n",
       "      <td>0.76</td>\n",
       "      <td>0.86</td>\n",
       "      <td>0.56</td>\n",
       "      <td>0.87</td>\n",
       "      <td>0.13</td>\n",
       "      <td>NaN</td>\n",
       "      <td>0.15</td>\n",
       "      <td>2010-10-05</td>\n",
       "    </tr>\n",
       "  </tbody>\n",
       "</table>\n",
       "</div>"
      ],
      "text/plain": [
       "Sensor  E085ZUPCVP07  E085ZUPCVP16  E085ZUPCVP31  E085ZUPCVP34  E085ZUPCVP49  \\\n",
       "0               0.11          0.20          0.76          0.86          0.55   \n",
       "1               0.11          0.18          0.76          0.86          0.55   \n",
       "2               0.13          0.20          0.76          0.86          0.55   \n",
       "3               0.11          0.20          0.76          0.86          0.55   \n",
       "4               0.11          0.20          0.76          0.86          0.56   \n",
       "\n",
       "Sensor  E085ZUPCVP52  E085ZUPCVP67  E085ZUPCVP70  E085ZUPCVP79      Fecha  \n",
       "0               0.87          0.13           NaN          0.15 2010-10-01  \n",
       "1               0.87          0.13           NaN          0.14 2010-10-02  \n",
       "2               0.87          0.18           NaN          0.14 2010-10-03  \n",
       "3               0.87          0.16           NaN          0.15 2010-10-04  \n",
       "4               0.87          0.13           NaN          0.15 2010-10-05  "
      ]
     },
     "execution_count": 46,
     "metadata": {},
     "output_type": "execute_result"
    }
   ],
   "source": [
    "pres['Fecha'] = pres.index\n",
    "pres.reset_index(drop=True, inplace=True)\n",
    "pres.head()"
   ]
  },
  {
   "cell_type": "markdown",
   "metadata": {},
   "source": [
    "Conversión de los valores de presión negativos a 0 (una presión negativa no tiene sentido)."
   ]
  },
  {
   "cell_type": "code",
   "execution_count": 47,
   "metadata": {},
   "outputs": [
    {
     "data": {
      "text/html": [
       "<div>\n",
       "<style scoped>\n",
       "    .dataframe tbody tr th:only-of-type {\n",
       "        vertical-align: middle;\n",
       "    }\n",
       "\n",
       "    .dataframe tbody tr th {\n",
       "        vertical-align: top;\n",
       "    }\n",
       "\n",
       "    .dataframe thead th {\n",
       "        text-align: right;\n",
       "    }\n",
       "</style>\n",
       "<table border=\"1\" class=\"dataframe\">\n",
       "  <thead>\n",
       "    <tr style=\"text-align: right;\">\n",
       "      <th>Sensor</th>\n",
       "      <th>E085ZUPCVP07</th>\n",
       "      <th>E085ZUPCVP16</th>\n",
       "      <th>E085ZUPCVP31</th>\n",
       "      <th>E085ZUPCVP34</th>\n",
       "      <th>E085ZUPCVP49</th>\n",
       "      <th>E085ZUPCVP52</th>\n",
       "      <th>E085ZUPCVP67</th>\n",
       "      <th>E085ZUPCVP70</th>\n",
       "      <th>E085ZUPCVP79</th>\n",
       "      <th>Fecha</th>\n",
       "    </tr>\n",
       "  </thead>\n",
       "  <tbody>\n",
       "    <tr>\n",
       "      <th>0</th>\n",
       "      <td>0.11</td>\n",
       "      <td>0.20</td>\n",
       "      <td>0.76</td>\n",
       "      <td>0.86</td>\n",
       "      <td>0.55</td>\n",
       "      <td>0.87</td>\n",
       "      <td>0.13</td>\n",
       "      <td>NaN</td>\n",
       "      <td>0.15</td>\n",
       "      <td>2010-10-01</td>\n",
       "    </tr>\n",
       "    <tr>\n",
       "      <th>1</th>\n",
       "      <td>0.11</td>\n",
       "      <td>0.18</td>\n",
       "      <td>0.76</td>\n",
       "      <td>0.86</td>\n",
       "      <td>0.55</td>\n",
       "      <td>0.87</td>\n",
       "      <td>0.13</td>\n",
       "      <td>NaN</td>\n",
       "      <td>0.14</td>\n",
       "      <td>2010-10-02</td>\n",
       "    </tr>\n",
       "    <tr>\n",
       "      <th>2</th>\n",
       "      <td>0.13</td>\n",
       "      <td>0.20</td>\n",
       "      <td>0.76</td>\n",
       "      <td>0.86</td>\n",
       "      <td>0.55</td>\n",
       "      <td>0.87</td>\n",
       "      <td>0.18</td>\n",
       "      <td>NaN</td>\n",
       "      <td>0.14</td>\n",
       "      <td>2010-10-03</td>\n",
       "    </tr>\n",
       "    <tr>\n",
       "      <th>3</th>\n",
       "      <td>0.11</td>\n",
       "      <td>0.20</td>\n",
       "      <td>0.76</td>\n",
       "      <td>0.86</td>\n",
       "      <td>0.55</td>\n",
       "      <td>0.87</td>\n",
       "      <td>0.16</td>\n",
       "      <td>NaN</td>\n",
       "      <td>0.15</td>\n",
       "      <td>2010-10-04</td>\n",
       "    </tr>\n",
       "    <tr>\n",
       "      <th>4</th>\n",
       "      <td>0.11</td>\n",
       "      <td>0.20</td>\n",
       "      <td>0.76</td>\n",
       "      <td>0.86</td>\n",
       "      <td>0.56</td>\n",
       "      <td>0.87</td>\n",
       "      <td>0.13</td>\n",
       "      <td>NaN</td>\n",
       "      <td>0.15</td>\n",
       "      <td>2010-10-05</td>\n",
       "    </tr>\n",
       "  </tbody>\n",
       "</table>\n",
       "</div>"
      ],
      "text/plain": [
       "Sensor  E085ZUPCVP07  E085ZUPCVP16  E085ZUPCVP31  E085ZUPCVP34  E085ZUPCVP49  \\\n",
       "0               0.11          0.20          0.76          0.86          0.55   \n",
       "1               0.11          0.18          0.76          0.86          0.55   \n",
       "2               0.13          0.20          0.76          0.86          0.55   \n",
       "3               0.11          0.20          0.76          0.86          0.55   \n",
       "4               0.11          0.20          0.76          0.86          0.56   \n",
       "\n",
       "Sensor  E085ZUPCVP52  E085ZUPCVP67  E085ZUPCVP70  E085ZUPCVP79      Fecha  \n",
       "0               0.87          0.13           NaN          0.15 2010-10-01  \n",
       "1               0.87          0.13           NaN          0.14 2010-10-02  \n",
       "2               0.87          0.18           NaN          0.14 2010-10-03  \n",
       "3               0.87          0.16           NaN          0.15 2010-10-04  \n",
       "4               0.87          0.13           NaN          0.15 2010-10-05  "
      ]
     },
     "execution_count": 47,
     "metadata": {},
     "output_type": "execute_result"
    }
   ],
   "source": [
    "num = pres._get_numeric_data()\n",
    "num[num._get_numeric_data() < 0] = 0\n",
    "pres.head()"
   ]
  },
  {
   "cell_type": "markdown",
   "metadata": {},
   "source": [
    "Generación de gráficos."
   ]
  },
  {
   "cell_type": "code",
   "execution_count": 48,
   "metadata": {},
   "outputs": [
    {
     "data": {
      "image/png": "[encoded data removed]",
      "text/plain": [
       "<Figure size 432x288 with 1 Axes>"
      ]
     },
     "metadata": {
      "needs_background": "light"
     },
     "output_type": "display_data"
    },
    {
     "data": {
      "image/png": "[encoded data removed]",
      "text/plain": [
       "<Figure size 432x288 with 1 Axes>"
      ]
     },
     "metadata": {
      "needs_background": "light"
     },
     "output_type": "display_data"
    },
    {
     "data": {
      "image/png": "[encoded data removed]",
      "text/plain": [
       "<Figure size 432x288 with 1 Axes>"
      ]
     },
     "metadata": {
      "needs_background": "light"
     },
     "output_type": "display_data"
    },
    {
     "data": {
      "image/png": "[encoded data removed]",
      "text/plain": [
       "<Figure size 432x288 with 1 Axes>"
      ]
     },
     "metadata": {
      "needs_background": "light"
     },
     "output_type": "display_data"
    },
    {
     "data": {
      "image/png": "[encoded data removed]",
      "text/plain": [
       "<Figure size 432x288 with 1 Axes>"
      ]
     },
     "metadata": {
      "needs_background": "light"
     },
     "output_type": "display_data"
    },
    {
     "data": {
      "image/png": "[encoded data removed]",
      "text/plain": [
       "<Figure size 432x288 with 1 Axes>"
      ]
     },
     "metadata": {
      "needs_background": "light"
     },
     "output_type": "display_data"
    },
    {
     "data": {
      "image/png": "[encoded data removed]",
      "text/plain": [
       "<Figure size 432x288 with 1 Axes>"
      ]
     },
     "metadata": {
      "needs_background": "light"
     },
     "output_type": "display_data"
    },
    {
     "data": {
      "image/png": "[encoded data removed]",
      "text/plain": [
       "<Figure size 432x288 with 1 Axes>"
      ]
     },
     "metadata": {
      "needs_background": "light"
     },
     "output_type": "display_data"
    },
    {
     "data": {
      "image/png": "[encoded data removed]",
      "text/plain": [
       "<Figure size 432x288 with 1 Axes>"
      ]
     },
     "metadata": {
      "needs_background": "light"
     },
     "output_type": "display_data"
    },
    {
     "data": {
      "image/png": "[encoded data removed]",
      "text/plain": [
       "<Figure size 432x288 with 1 Axes>"
      ]
     },
     "metadata": {
      "needs_background": "light"
     },
     "output_type": "display_data"
    }
   ],
   "source": [
    "for i in pres.columns:\n",
    "    plt.subplots()\n",
    "    plt.plot(pres[i])"
   ]
  },
  {
   "cell_type": "markdown",
   "metadata": {},
   "source": [
    "Comprobación de los NaN."
   ]
  },
  {
   "cell_type": "code",
   "execution_count": 49,
   "metadata": {},
   "outputs": [
    {
     "name": "stdout",
     "output_type": "stream",
     "text": [
      "4\n",
      "**************\n",
      "10\n",
      "**************\n",
      "218\n",
      "**************\n",
      "218\n",
      "**************\n",
      "220\n",
      "**************\n",
      "220\n",
      "**************\n",
      "491\n",
      "**************\n",
      "2309\n",
      "**************\n",
      "26\n",
      "**************\n",
      "0\n",
      "**************\n"
     ]
    }
   ],
   "source": [
    "for i in pres.columns:\n",
    "    print(pres[i].isnull().sum())\n",
    "    print(\"**************\")"
   ]
  },
  {
   "cell_type": "markdown",
   "metadata": {},
   "source": [
    "Eliminación de los valores de los piezómetros con mayor número de NaN."
   ]
  },
  {
   "cell_type": "code",
   "execution_count": 50,
   "metadata": {},
   "outputs": [],
   "source": [
    "del pres[\"E085ZUPCVP67\"]"
   ]
  },
  {
   "cell_type": "code",
   "execution_count": 51,
   "metadata": {},
   "outputs": [
    {
     "data": {
      "text/html": [
       "<div>\n",
       "<style scoped>\n",
       "    .dataframe tbody tr th:only-of-type {\n",
       "        vertical-align: middle;\n",
       "    }\n",
       "\n",
       "    .dataframe tbody tr th {\n",
       "        vertical-align: top;\n",
       "    }\n",
       "\n",
       "    .dataframe thead th {\n",
       "        text-align: right;\n",
       "    }\n",
       "</style>\n",
       "<table border=\"1\" class=\"dataframe\">\n",
       "  <thead>\n",
       "    <tr style=\"text-align: right;\">\n",
       "      <th>Sensor</th>\n",
       "      <th>E085ZUPCVP07</th>\n",
       "      <th>E085ZUPCVP16</th>\n",
       "      <th>E085ZUPCVP31</th>\n",
       "      <th>E085ZUPCVP34</th>\n",
       "      <th>E085ZUPCVP49</th>\n",
       "      <th>E085ZUPCVP52</th>\n",
       "      <th>E085ZUPCVP70</th>\n",
       "      <th>E085ZUPCVP79</th>\n",
       "      <th>Fecha</th>\n",
       "    </tr>\n",
       "  </thead>\n",
       "  <tbody>\n",
       "    <tr>\n",
       "      <th>0</th>\n",
       "      <td>0.11</td>\n",
       "      <td>0.20</td>\n",
       "      <td>0.76</td>\n",
       "      <td>0.86</td>\n",
       "      <td>0.55</td>\n",
       "      <td>0.87</td>\n",
       "      <td>NaN</td>\n",
       "      <td>0.15</td>\n",
       "      <td>2010-10-01</td>\n",
       "    </tr>\n",
       "    <tr>\n",
       "      <th>1</th>\n",
       "      <td>0.11</td>\n",
       "      <td>0.18</td>\n",
       "      <td>0.76</td>\n",
       "      <td>0.86</td>\n",
       "      <td>0.55</td>\n",
       "      <td>0.87</td>\n",
       "      <td>NaN</td>\n",
       "      <td>0.14</td>\n",
       "      <td>2010-10-02</td>\n",
       "    </tr>\n",
       "    <tr>\n",
       "      <th>2</th>\n",
       "      <td>0.13</td>\n",
       "      <td>0.20</td>\n",
       "      <td>0.76</td>\n",
       "      <td>0.86</td>\n",
       "      <td>0.55</td>\n",
       "      <td>0.87</td>\n",
       "      <td>NaN</td>\n",
       "      <td>0.14</td>\n",
       "      <td>2010-10-03</td>\n",
       "    </tr>\n",
       "    <tr>\n",
       "      <th>3</th>\n",
       "      <td>0.11</td>\n",
       "      <td>0.20</td>\n",
       "      <td>0.76</td>\n",
       "      <td>0.86</td>\n",
       "      <td>0.55</td>\n",
       "      <td>0.87</td>\n",
       "      <td>NaN</td>\n",
       "      <td>0.15</td>\n",
       "      <td>2010-10-04</td>\n",
       "    </tr>\n",
       "    <tr>\n",
       "      <th>4</th>\n",
       "      <td>0.11</td>\n",
       "      <td>0.20</td>\n",
       "      <td>0.76</td>\n",
       "      <td>0.86</td>\n",
       "      <td>0.56</td>\n",
       "      <td>0.87</td>\n",
       "      <td>NaN</td>\n",
       "      <td>0.15</td>\n",
       "      <td>2010-10-05</td>\n",
       "    </tr>\n",
       "  </tbody>\n",
       "</table>\n",
       "</div>"
      ],
      "text/plain": [
       "Sensor  E085ZUPCVP07  E085ZUPCVP16  E085ZUPCVP31  E085ZUPCVP34  E085ZUPCVP49  \\\n",
       "0               0.11          0.20          0.76          0.86          0.55   \n",
       "1               0.11          0.18          0.76          0.86          0.55   \n",
       "2               0.13          0.20          0.76          0.86          0.55   \n",
       "3               0.11          0.20          0.76          0.86          0.55   \n",
       "4               0.11          0.20          0.76          0.86          0.56   \n",
       "\n",
       "Sensor  E085ZUPCVP52  E085ZUPCVP70  E085ZUPCVP79      Fecha  \n",
       "0               0.87           NaN          0.15 2010-10-01  \n",
       "1               0.87           NaN          0.14 2010-10-02  \n",
       "2               0.87           NaN          0.14 2010-10-03  \n",
       "3               0.87           NaN          0.15 2010-10-04  \n",
       "4               0.87           NaN          0.15 2010-10-05  "
      ]
     },
     "execution_count": 51,
     "metadata": {},
     "output_type": "execute_result"
    }
   ],
   "source": [
    "pres.head()"
   ]
  },
  {
   "cell_type": "markdown",
   "metadata": {},
   "source": [
    "# DATAFRAME UNIFICADO"
   ]
  },
  {
   "cell_type": "code",
   "execution_count": 52,
   "metadata": {},
   "outputs": [
    {
     "data": {
      "text/plain": [
       "(   AF-P08-P10  AF-P05-P08  AF-P10-P13  AF-P01-P05  AF-P17-P22  AF-P22-P26  \\\n",
       " 0       23.27      664.72        0.19      100.96        4.93        0.34   \n",
       " 1       22.89      669.34        0.22      101.71        5.18        0.45   \n",
       " \n",
       "        Fecha  \n",
       " 0 2010-10-01  \n",
       " 1 2010-10-02  ,\n",
       " (3485, 7))"
      ]
     },
     "execution_count": 52,
     "metadata": {},
     "output_type": "execute_result"
    }
   ],
   "source": [
    "filt.head(2), filt.shape"
   ]
  },
  {
   "cell_type": "code",
   "execution_count": 53,
   "metadata": {},
   "outputs": [
    {
     "data": {
      "text/plain": [
       "(   Temperatura  Nivel embalse  Volumen embalse  Precipitaciones      Fecha\n",
       " 0         17.4         283.88              NaN              NaN 2010-10-01\n",
       " 1         19.2         283.88              NaN              NaN 2010-10-02,\n",
       " (3512, 5))"
      ]
     },
     "execution_count": 53,
     "metadata": {},
     "output_type": "execute_result"
    }
   ],
   "source": [
    "varext.head(2), varext.shape"
   ]
  },
  {
   "cell_type": "code",
   "execution_count": 54,
   "metadata": {},
   "outputs": [
    {
     "data": {
      "text/plain": [
       "(Sensor  E085ZUPCVP07  E085ZUPCVP16  E085ZUPCVP31  E085ZUPCVP34  E085ZUPCVP49  \\\n",
       " 0               0.11          0.20          0.76          0.86          0.55   \n",
       " 1               0.11          0.18          0.76          0.86          0.55   \n",
       " \n",
       " Sensor  E085ZUPCVP52  E085ZUPCVP70  E085ZUPCVP79      Fecha  \n",
       " 0               0.87           NaN          0.15 2010-10-01  \n",
       " 1               0.87           NaN          0.14 2010-10-02  ,\n",
       " (3494, 9))"
      ]
     },
     "execution_count": 54,
     "metadata": {},
     "output_type": "execute_result"
    }
   ],
   "source": [
    "pres.head(2), pres.shape"
   ]
  },
  {
   "cell_type": "code",
   "execution_count": 55,
   "metadata": {},
   "outputs": [],
   "source": [
    "g12 = pd.merge(filt, varext, on= \"Fecha\", how=\"outer\")"
   ]
  },
  {
   "cell_type": "code",
   "execution_count": 56,
   "metadata": {},
   "outputs": [
    {
     "data": {
      "text/html": [
       "<div>\n",
       "<style scoped>\n",
       "    .dataframe tbody tr th:only-of-type {\n",
       "        vertical-align: middle;\n",
       "    }\n",
       "\n",
       "    .dataframe tbody tr th {\n",
       "        vertical-align: top;\n",
       "    }\n",
       "\n",
       "    .dataframe thead th {\n",
       "        text-align: right;\n",
       "    }\n",
       "</style>\n",
       "<table border=\"1\" class=\"dataframe\">\n",
       "  <thead>\n",
       "    <tr style=\"text-align: right;\">\n",
       "      <th></th>\n",
       "      <th>AF-P08-P10</th>\n",
       "      <th>AF-P05-P08</th>\n",
       "      <th>AF-P10-P13</th>\n",
       "      <th>AF-P01-P05</th>\n",
       "      <th>AF-P17-P22</th>\n",
       "      <th>AF-P22-P26</th>\n",
       "      <th>Fecha</th>\n",
       "      <th>Temperatura</th>\n",
       "      <th>Nivel embalse</th>\n",
       "      <th>Volumen embalse</th>\n",
       "      <th>Precipitaciones</th>\n",
       "    </tr>\n",
       "  </thead>\n",
       "  <tbody>\n",
       "    <tr>\n",
       "      <th>0</th>\n",
       "      <td>23.27</td>\n",
       "      <td>664.72</td>\n",
       "      <td>0.19</td>\n",
       "      <td>100.96</td>\n",
       "      <td>4.93</td>\n",
       "      <td>0.34</td>\n",
       "      <td>2010-10-01</td>\n",
       "      <td>17.4</td>\n",
       "      <td>283.88</td>\n",
       "      <td>NaN</td>\n",
       "      <td>NaN</td>\n",
       "    </tr>\n",
       "    <tr>\n",
       "      <th>1</th>\n",
       "      <td>22.89</td>\n",
       "      <td>669.34</td>\n",
       "      <td>0.22</td>\n",
       "      <td>101.71</td>\n",
       "      <td>5.18</td>\n",
       "      <td>0.45</td>\n",
       "      <td>2010-10-02</td>\n",
       "      <td>19.2</td>\n",
       "      <td>283.88</td>\n",
       "      <td>NaN</td>\n",
       "      <td>NaN</td>\n",
       "    </tr>\n",
       "  </tbody>\n",
       "</table>\n",
       "</div>"
      ],
      "text/plain": [
       "   AF-P08-P10  AF-P05-P08  AF-P10-P13  AF-P01-P05  AF-P17-P22  AF-P22-P26  \\\n",
       "0       23.27      664.72        0.19      100.96        4.93        0.34   \n",
       "1       22.89      669.34        0.22      101.71        5.18        0.45   \n",
       "\n",
       "       Fecha  Temperatura  Nivel embalse  Volumen embalse  Precipitaciones  \n",
       "0 2010-10-01         17.4         283.88              NaN              NaN  \n",
       "1 2010-10-02         19.2         283.88              NaN              NaN  "
      ]
     },
     "execution_count": 56,
     "metadata": {},
     "output_type": "execute_result"
    }
   ],
   "source": [
    "g12.head(2)"
   ]
  },
  {
   "cell_type": "code",
   "execution_count": 57,
   "metadata": {},
   "outputs": [
    {
     "data": {
      "text/html": [
       "<div>\n",
       "<style scoped>\n",
       "    .dataframe tbody tr th:only-of-type {\n",
       "        vertical-align: middle;\n",
       "    }\n",
       "\n",
       "    .dataframe tbody tr th {\n",
       "        vertical-align: top;\n",
       "    }\n",
       "\n",
       "    .dataframe thead th {\n",
       "        text-align: right;\n",
       "    }\n",
       "</style>\n",
       "<table border=\"1\" class=\"dataframe\">\n",
       "  <thead>\n",
       "    <tr style=\"text-align: right;\">\n",
       "      <th></th>\n",
       "      <th>AF-P08-P10</th>\n",
       "      <th>AF-P05-P08</th>\n",
       "      <th>AF-P10-P13</th>\n",
       "      <th>AF-P01-P05</th>\n",
       "      <th>AF-P17-P22</th>\n",
       "      <th>AF-P22-P26</th>\n",
       "      <th>Fecha</th>\n",
       "      <th>Temperatura</th>\n",
       "      <th>Nivel embalse</th>\n",
       "      <th>Volumen embalse</th>\n",
       "      <th>Precipitaciones</th>\n",
       "      <th>E085ZUPCVP07</th>\n",
       "      <th>E085ZUPCVP16</th>\n",
       "      <th>E085ZUPCVP31</th>\n",
       "      <th>E085ZUPCVP34</th>\n",
       "      <th>E085ZUPCVP49</th>\n",
       "      <th>E085ZUPCVP52</th>\n",
       "      <th>E085ZUPCVP70</th>\n",
       "      <th>E085ZUPCVP79</th>\n",
       "    </tr>\n",
       "  </thead>\n",
       "  <tbody>\n",
       "    <tr>\n",
       "      <th>0</th>\n",
       "      <td>23.27</td>\n",
       "      <td>664.72</td>\n",
       "      <td>0.19</td>\n",
       "      <td>100.96</td>\n",
       "      <td>4.93</td>\n",
       "      <td>0.34</td>\n",
       "      <td>2010-10-01</td>\n",
       "      <td>17.4</td>\n",
       "      <td>283.88</td>\n",
       "      <td>NaN</td>\n",
       "      <td>NaN</td>\n",
       "      <td>0.11</td>\n",
       "      <td>0.20</td>\n",
       "      <td>0.76</td>\n",
       "      <td>0.86</td>\n",
       "      <td>0.55</td>\n",
       "      <td>0.87</td>\n",
       "      <td>NaN</td>\n",
       "      <td>0.15</td>\n",
       "    </tr>\n",
       "    <tr>\n",
       "      <th>1</th>\n",
       "      <td>22.89</td>\n",
       "      <td>669.34</td>\n",
       "      <td>0.22</td>\n",
       "      <td>101.71</td>\n",
       "      <td>5.18</td>\n",
       "      <td>0.45</td>\n",
       "      <td>2010-10-02</td>\n",
       "      <td>19.2</td>\n",
       "      <td>283.88</td>\n",
       "      <td>NaN</td>\n",
       "      <td>NaN</td>\n",
       "      <td>0.11</td>\n",
       "      <td>0.18</td>\n",
       "      <td>0.76</td>\n",
       "      <td>0.86</td>\n",
       "      <td>0.55</td>\n",
       "      <td>0.87</td>\n",
       "      <td>NaN</td>\n",
       "      <td>0.14</td>\n",
       "    </tr>\n",
       "  </tbody>\n",
       "</table>\n",
       "</div>"
      ],
      "text/plain": [
       "   AF-P08-P10  AF-P05-P08  AF-P10-P13  AF-P01-P05  AF-P17-P22  AF-P22-P26  \\\n",
       "0       23.27      664.72        0.19      100.96        4.93        0.34   \n",
       "1       22.89      669.34        0.22      101.71        5.18        0.45   \n",
       "\n",
       "       Fecha  Temperatura  Nivel embalse  Volumen embalse  Precipitaciones  \\\n",
       "0 2010-10-01         17.4         283.88              NaN              NaN   \n",
       "1 2010-10-02         19.2         283.88              NaN              NaN   \n",
       "\n",
       "   E085ZUPCVP07  E085ZUPCVP16  E085ZUPCVP31  E085ZUPCVP34  E085ZUPCVP49  \\\n",
       "0          0.11          0.20          0.76          0.86          0.55   \n",
       "1          0.11          0.18          0.76          0.86          0.55   \n",
       "\n",
       "   E085ZUPCVP52  E085ZUPCVP70  E085ZUPCVP79  \n",
       "0          0.87           NaN          0.15  \n",
       "1          0.87           NaN          0.14  "
      ]
     },
     "execution_count": 57,
     "metadata": {},
     "output_type": "execute_result"
    }
   ],
   "source": [
    "g12 = pd.merge(g12, pres, on =\"Fecha\", how= \"outer\")\n",
    "g12.head(2)"
   ]
  },
  {
   "cell_type": "code",
   "execution_count": 58,
   "metadata": {},
   "outputs": [
    {
     "data": {
      "text/html": [
       "<div>\n",
       "<style scoped>\n",
       "    .dataframe tbody tr th:only-of-type {\n",
       "        vertical-align: middle;\n",
       "    }\n",
       "\n",
       "    .dataframe tbody tr th {\n",
       "        vertical-align: top;\n",
       "    }\n",
       "\n",
       "    .dataframe thead th {\n",
       "        text-align: right;\n",
       "    }\n",
       "</style>\n",
       "<table border=\"1\" class=\"dataframe\">\n",
       "  <thead>\n",
       "    <tr style=\"text-align: right;\">\n",
       "      <th></th>\n",
       "      <th>AF-P08-P10</th>\n",
       "      <th>AF-P05-P08</th>\n",
       "      <th>AF-P10-P13</th>\n",
       "      <th>AF-P01-P05</th>\n",
       "      <th>AF-P17-P22</th>\n",
       "      <th>AF-P22-P26</th>\n",
       "      <th>Fecha</th>\n",
       "      <th>Temperatura</th>\n",
       "      <th>Nivel embalse</th>\n",
       "      <th>Volumen embalse</th>\n",
       "      <th>Precipitaciones</th>\n",
       "      <th>E085ZUPCVP07</th>\n",
       "      <th>E085ZUPCVP16</th>\n",
       "      <th>E085ZUPCVP31</th>\n",
       "      <th>E085ZUPCVP34</th>\n",
       "      <th>E085ZUPCVP49</th>\n",
       "      <th>E085ZUPCVP52</th>\n",
       "      <th>E085ZUPCVP70</th>\n",
       "      <th>E085ZUPCVP79</th>\n",
       "    </tr>\n",
       "  </thead>\n",
       "  <tbody>\n",
       "    <tr>\n",
       "      <th>0</th>\n",
       "      <td>23.27</td>\n",
       "      <td>664.72</td>\n",
       "      <td>0.19</td>\n",
       "      <td>100.96</td>\n",
       "      <td>4.93</td>\n",
       "      <td>0.34</td>\n",
       "      <td>2010-10-01</td>\n",
       "      <td>17.4</td>\n",
       "      <td>283.88</td>\n",
       "      <td>NaN</td>\n",
       "      <td>NaN</td>\n",
       "      <td>0.11</td>\n",
       "      <td>0.20</td>\n",
       "      <td>0.76</td>\n",
       "      <td>0.86</td>\n",
       "      <td>0.55</td>\n",
       "      <td>0.87</td>\n",
       "      <td>NaN</td>\n",
       "      <td>0.15</td>\n",
       "    </tr>\n",
       "    <tr>\n",
       "      <th>1</th>\n",
       "      <td>22.89</td>\n",
       "      <td>669.34</td>\n",
       "      <td>0.22</td>\n",
       "      <td>101.71</td>\n",
       "      <td>5.18</td>\n",
       "      <td>0.45</td>\n",
       "      <td>2010-10-02</td>\n",
       "      <td>19.2</td>\n",
       "      <td>283.88</td>\n",
       "      <td>NaN</td>\n",
       "      <td>NaN</td>\n",
       "      <td>0.11</td>\n",
       "      <td>0.18</td>\n",
       "      <td>0.76</td>\n",
       "      <td>0.86</td>\n",
       "      <td>0.55</td>\n",
       "      <td>0.87</td>\n",
       "      <td>NaN</td>\n",
       "      <td>0.14</td>\n",
       "    </tr>\n",
       "  </tbody>\n",
       "</table>\n",
       "</div>"
      ],
      "text/plain": [
       "   AF-P08-P10  AF-P05-P08  AF-P10-P13  AF-P01-P05  AF-P17-P22  AF-P22-P26  \\\n",
       "0       23.27      664.72        0.19      100.96        4.93        0.34   \n",
       "1       22.89      669.34        0.22      101.71        5.18        0.45   \n",
       "\n",
       "       Fecha  Temperatura  Nivel embalse  Volumen embalse  Precipitaciones  \\\n",
       "0 2010-10-01         17.4         283.88              NaN              NaN   \n",
       "1 2010-10-02         19.2         283.88              NaN              NaN   \n",
       "\n",
       "   E085ZUPCVP07  E085ZUPCVP16  E085ZUPCVP31  E085ZUPCVP34  E085ZUPCVP49  \\\n",
       "0          0.11          0.20          0.76          0.86          0.55   \n",
       "1          0.11          0.18          0.76          0.86          0.55   \n",
       "\n",
       "   E085ZUPCVP52  E085ZUPCVP70  E085ZUPCVP79  \n",
       "0          0.87           NaN          0.15  \n",
       "1          0.87           NaN          0.14  "
      ]
     },
     "execution_count": 58,
     "metadata": {},
     "output_type": "execute_result"
    }
   ],
   "source": [
    "g12.reset_index(drop=True, inplace=True)\n",
    "g12.head(2)"
   ]
  },
  {
   "cell_type": "code",
   "execution_count": 59,
   "metadata": {},
   "outputs": [
    {
     "data": {
      "text/plain": [
       "(3517, 19)"
      ]
     },
     "execution_count": 59,
     "metadata": {},
     "output_type": "execute_result"
    }
   ],
   "source": [
    "g12.shape"
   ]
  },
  {
   "cell_type": "code",
   "execution_count": 60,
   "metadata": {},
   "outputs": [
    {
     "data": {
      "text/plain": [
       "AF-P08-P10           45\n",
       "AF-P05-P08           44\n",
       "AF-P10-P13           50\n",
       "AF-P01-P05          147\n",
       "AF-P17-P22           36\n",
       "AF-P22-P26           41\n",
       "Fecha                 0\n",
       "Temperatura         209\n",
       "Nivel embalse        40\n",
       "Volumen embalse     158\n",
       "Precipitaciones     300\n",
       "E085ZUPCVP07         27\n",
       "E085ZUPCVP16         33\n",
       "E085ZUPCVP31        241\n",
       "E085ZUPCVP34        241\n",
       "E085ZUPCVP49        243\n",
       "E085ZUPCVP52        243\n",
       "E085ZUPCVP70       2332\n",
       "E085ZUPCVP79         49\n",
       "dtype: int64"
      ]
     },
     "execution_count": 60,
     "metadata": {},
     "output_type": "execute_result"
    }
   ],
   "source": [
    "g12.isnull().sum()"
   ]
  },
  {
   "cell_type": "code",
   "execution_count": 61,
   "metadata": {},
   "outputs": [
    {
     "data": {
      "text/plain": [
       "Index(['AF-P08-P10', 'AF-P05-P08', 'AF-P10-P13', 'AF-P01-P05', 'AF-P17-P22',\n",
       "       'AF-P22-P26', 'Fecha', 'Temperatura', 'Nivel embalse',\n",
       "       'Volumen embalse', 'Precipitaciones', 'E085ZUPCVP07', 'E085ZUPCVP16',\n",
       "       'E085ZUPCVP31', 'E085ZUPCVP34', 'E085ZUPCVP49', 'E085ZUPCVP52',\n",
       "       'E085ZUPCVP70', 'E085ZUPCVP79'],\n",
       "      dtype='object')"
      ]
     },
     "execution_count": 61,
     "metadata": {},
     "output_type": "execute_result"
    }
   ],
   "source": [
    "g12.columns"
   ]
  },
  {
   "cell_type": "code",
   "execution_count": 62,
   "metadata": {},
   "outputs": [
    {
     "data": {
      "text/plain": [
       "[<matplotlib.lines.Line2D at 0x1c71e2a7e08>]"
      ]
     },
     "execution_count": 62,
     "metadata": {},
     "output_type": "execute_result"
    },
    {
     "data": {
      "image/png": "[encoded data removed]",
      "text/plain": [
       "<Figure size 432x288 with 1 Axes>"
      ]
     },
     "metadata": {
      "needs_background": "light"
     },
     "output_type": "display_data"
    }
   ],
   "source": [
    "plt.plot(g12.Fecha,g12.E085ZUPCVP07)\n",
    "plt.plot(g12.Fecha,g12.E085ZUPCVP16)\n",
    "plt.plot(g12.Fecha,g12.E085ZUPCVP31)\n",
    "plt.plot(g12.Fecha,g12.E085ZUPCVP34)\n",
    "plt.plot(g12.Fecha,g12.E085ZUPCVP49)\n",
    "plt.plot(g12.Fecha,g12.E085ZUPCVP52)\n",
    "plt.plot(g12.Fecha,g12.E085ZUPCVP70)\n",
    "plt.plot(g12.Fecha,g12.E085ZUPCVP79)\n",
    "\n",
    "plt.plot(g12.Fecha,g12[\"Temperatura\"])\n",
    "plt.plot(g12.Fecha,g12[\"Nivel embalse\"])\n",
    "plt.plot(g12.Fecha,g12[\"Precipitaciones\"])\n",
    "plt.plot(g12.Fecha,g12[\"Volumen embalse\"])\n",
    "\n",
    "plt.plot(g12.Fecha,g12[\"AF-P01-P05\"], color=\"pink\")\n",
    "plt.plot(g12.Fecha,g12[\"AF-P05-P08\"], color=\"pink\")\n",
    "plt.plot(g12.Fecha,g12[\"AF-P08-P10\"], color=\"pink\")\n",
    "plt.plot(g12.Fecha,g12[\"AF-P10-P13\"], color=\"pink\")\n",
    "plt.plot(g12.Fecha,g12[\"AF-P17-P22\"], color=\"pink\")\n",
    "plt.plot(g12.Fecha,g12[\"AF-P22-P26\"], color=\"pink\")"
   ]
  },
  {
   "cell_type": "code",
   "execution_count": 63,
   "metadata": {},
   "outputs": [
    {
     "data": {
      "text/plain": [
       "[<matplotlib.lines.Line2D at 0x1c71e2f4b48>]"
      ]
     },
     "execution_count": 63,
     "metadata": {},
     "output_type": "execute_result"
    },
    {
     "data": {
      "image/png": "[encoded data removed]",
      "text/plain": [
       "<Figure size 432x288 with 1 Axes>"
      ]
     },
     "metadata": {
      "needs_background": "light"
     },
     "output_type": "display_data"
    }
   ],
   "source": [
    "plt.plot(g12.Fecha,g12[\"Temperatura\"])\n",
    "plt.plot(g12.Fecha,g12[\"Nivel embalse\"])\n",
    "plt.plot(g12.Fecha,g12[\"Precipitaciones\"])\n",
    "plt.plot(g12.Fecha,g12[\"Volumen embalse\"])"
   ]
  },
  {
   "cell_type": "code",
   "execution_count": 64,
   "metadata": {},
   "outputs": [
    {
     "data": {
      "text/plain": [
       "[<matplotlib.lines.Line2D at 0x1c71e346f48>]"
      ]
     },
     "execution_count": 64,
     "metadata": {},
     "output_type": "execute_result"
    },
    {
     "data": {
      "image/png": "[encoded data removed]",
      "text/plain": [
       "<Figure size 432x288 with 1 Axes>"
      ]
     },
     "metadata": {
      "needs_background": "light"
     },
     "output_type": "display_data"
    }
   ],
   "source": [
    "plt.plot(g12.Fecha,g12.E085ZUPCVP07)\n",
    "plt.plot(g12.Fecha,g12.E085ZUPCVP16)\n",
    "plt.plot(g12.Fecha,g12.E085ZUPCVP31)\n",
    "plt.plot(g12.Fecha,g12.E085ZUPCVP34)\n",
    "plt.plot(g12.Fecha,g12.E085ZUPCVP49)\n",
    "plt.plot(g12.Fecha,g12.E085ZUPCVP52)\n",
    "plt.plot(g12.Fecha,g12.E085ZUPCVP70)\n",
    "plt.plot(g12.Fecha,g12.E085ZUPCVP79)"
   ]
  },
  {
   "cell_type": "code",
   "execution_count": 65,
   "metadata": {},
   "outputs": [
    {
     "data": {
      "text/plain": [
       "[<matplotlib.lines.Line2D at 0x1c71e397f08>]"
      ]
     },
     "execution_count": 65,
     "metadata": {},
     "output_type": "execute_result"
    },
    {
     "data": {
      "image/png": "[encoded data removed]",
      "text/plain": [
       "<Figure size 432x288 with 1 Axes>"
      ]
     },
     "metadata": {
      "needs_background": "light"
     },
     "output_type": "display_data"
    }
   ],
   "source": [
    "plt.plot(g12.Fecha,g12[\"AF-P01-P05\"])\n",
    "plt.plot(g12.Fecha,g12[\"AF-P05-P08\"])\n",
    "plt.plot(g12.Fecha,g12[\"AF-P08-P10\"])\n",
    "plt.plot(g12.Fecha,g12[\"AF-P10-P13\"])\n",
    "plt.plot(g12.Fecha,g12[\"AF-P17-P22\"])\n",
    "plt.plot(g12.Fecha,g12[\"AF-P22-P26\"])"
   ]
  },
  {
   "cell_type": "markdown",
   "metadata": {},
   "source": [
    "Gráficos para la presentación."
   ]
  },
  {
   "cell_type": "code",
   "execution_count": 70,
   "metadata": {},
   "outputs": [
    {
     "data": {
      "text/plain": [
       "<matplotlib.axes._subplots.AxesSubplot at 0x1c71f188b88>"
      ]
     },
     "execution_count": 70,
     "metadata": {},
     "output_type": "execute_result"
    },
    {
     "data": {
      "image/png": "[encoded data removed]",
      "text/plain": [
       "<Figure size 792x648 with 2 Axes>"
      ]
     },
     "metadata": {},
     "output_type": "display_data"
    }
   ],
   "source": [
    "corr = g12.corr()\n",
    "mask = np.zeros_like(corr, dtype=np.bool)\n",
    "mask[np.triu_indices_from(mask)] = True\n",
    "sns.set_style(style = 'white')\n",
    "f, ax = plt.subplots(figsize=(11, 9))\n",
    "cmap = sns.diverging_palette(10, 250, as_cmap=True)\n",
    "sns.heatmap(corr, mask=mask, cmap=cmap, \n",
    "        square=True, annot=True,\n",
    "        linewidths=.5, cbar_kws={\"shrink\": .5}, ax=ax)"
   ]
  },
  {
   "cell_type": "code",
   "execution_count": 75,
   "metadata": {},
   "outputs": [],
   "source": [
    "varext = varext.drop(varext[(varext[\"Fecha\"] > \"2018-10-01\")].index)\n",
    "filt = filt.drop(filt[(filt[\"Fecha\"] > \"2018-10-01\")].index)"
   ]
  },
  {
   "cell_type": "code",
   "execution_count": 85,
   "metadata": {},
   "outputs": [
    {
     "data": {
      "image/png": "[encoded data removed]",
      "text/plain": [
       "<Figure size 1944x1080 with 3 Axes>"
      ]
     },
     "metadata": {},
     "output_type": "display_data"
    }
   ],
   "source": [
    "plt.figure(figsize=(27,15))\n",
    "plt.subplot(3,1,1)\n",
    "plt.plot(varext.Fecha, varext[\"Nivel embalse\"], color='dodgerblue')\n",
    "plt.ylabel('Nivel del embalse (msnm)', fontsize=14)\n",
    "plt.subplot(3,1,2)\n",
    "plt.plot(filt.Fecha, filt[\"AF-P01-P05\"], color='maroon')\n",
    "plt.plot(filt.Fecha, filt[\"AF-P05-P08\"], color='r')\n",
    "plt.plot(filt.Fecha, filt[\"AF-P08-P10\"], color='salmon')\n",
    "plt.title('Filtraciones (margen izquierda)', fontsize=14)\n",
    "plt.ylabel('Nivel de filtraciones (l/min)', fontsize=14)\n",
    "plt.subplot(3,1,3)\n",
    "plt.plot(filt.Fecha, filt[\"AF-P10-P13\"], color='green')\n",
    "plt.plot(filt.Fecha, filt[\"AF-P17-P22\"], color='springgreen')\n",
    "plt.plot(filt.Fecha, filt[\"AF-P22-P26\"], color='lawngreen')\n",
    "plt.title('Filtraciones (margen derecha)', fontsize=14)\n",
    "plt.ylabel('Nivel de filtraciones (l/min)', fontsize=14)\n",
    "plt.show()"
   ]
  },
  {
   "cell_type": "code",
   "execution_count": null,
   "metadata": {},
   "outputs": [],
   "source": []
  }
 ],
 "metadata": {
  "kernelspec": {
   "display_name": "Python 3",
   "language": "python",
   "name": "python3"
  },
  "language_info": {
   "codemirror_mode": {
    "name": "ipython",
    "version": 3
   },
   "file_extension": ".py",
   "mimetype": "text/x-python",
   "name": "python",
   "nbconvert_exporter": "python",
   "pygments_lexer": "ipython3",
   "version": "3.7.6"
  }
 },
 "nbformat": 4,
 "nbformat_minor": 4
}
