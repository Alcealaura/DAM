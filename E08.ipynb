{
 "cells": [
  {
   "cell_type": "code",
   "execution_count": 1,
   "metadata": {},
   "outputs": [],
   "source": [
    "import pandas as pd\n",
    "import matplotlib.pyplot as plt\n",
    "import numpy as np\n",
    "from pandas import read_csv\n",
    "from pandas import DataFrame\n",
    "from pandas import concat\n",
    "from sklearn.preprocessing import LabelEncoder\n",
    "from sklearn.preprocessing import MinMaxScaler"
   ]
  },
  {
   "cell_type": "markdown",
   "metadata": {},
   "source": [
    "# FILTRACIONES"
   ]
  },
  {
   "cell_type": "markdown",
   "metadata": {},
   "source": [
    "Carga del dataset de filtraciones."
   ]
  },
  {
   "cell_type": "code",
   "execution_count": 2,
   "metadata": {},
   "outputs": [
    {
     "data": {
      "text/html": [
       "<div>\n",
       "<style scoped>\n",
       "    .dataframe tbody tr th:only-of-type {\n",
       "        vertical-align: middle;\n",
       "    }\n",
       "\n",
       "    .dataframe tbody tr th {\n",
       "        vertical-align: top;\n",
       "    }\n",
       "\n",
       "    .dataframe thead th {\n",
       "        text-align: right;\n",
       "    }\n",
       "</style>\n",
       "<table border=\"1\" class=\"dataframe\">\n",
       "  <thead>\n",
       "    <tr style=\"text-align: right;\">\n",
       "      <th></th>\n",
       "      <th>Fecha</th>\n",
       "      <th>Sensor</th>\n",
       "      <th>Lectura</th>\n",
       "      <th>Unidades de Lectura</th>\n",
       "      <th>Medida</th>\n",
       "      <th>Unidades de Medida</th>\n",
       "      <th>Flag</th>\n",
       "      <th>Flag Manipulación</th>\n",
       "      <th>Observaciones</th>\n",
       "    </tr>\n",
       "  </thead>\n",
       "  <tbody>\n",
       "    <tr>\n",
       "      <th>20026</th>\n",
       "      <td>18/06/2020 07:00:00</td>\n",
       "      <td>E008ZUAFC001</td>\n",
       "      <td>NaN</td>\n",
       "      <td>cm</td>\n",
       "      <td>17.51</td>\n",
       "      <td>l/min</td>\n",
       "      <td>N</td>\n",
       "      <td>NC</td>\n",
       "      <td>NaN</td>\n",
       "    </tr>\n",
       "    <tr>\n",
       "      <th>20027</th>\n",
       "      <td>18/06/2020 07:00:00</td>\n",
       "      <td>E008ZUAFC005</td>\n",
       "      <td>NaN</td>\n",
       "      <td>cm</td>\n",
       "      <td>259.04</td>\n",
       "      <td>l/min</td>\n",
       "      <td>N</td>\n",
       "      <td>NC</td>\n",
       "      <td>NaN</td>\n",
       "    </tr>\n",
       "    <tr>\n",
       "      <th>20028</th>\n",
       "      <td>18/06/2020 07:00:00</td>\n",
       "      <td>E008ZUAFC004</td>\n",
       "      <td>NaN</td>\n",
       "      <td>cm</td>\n",
       "      <td>83.35</td>\n",
       "      <td>l/min</td>\n",
       "      <td>N</td>\n",
       "      <td>NC</td>\n",
       "      <td>NaN</td>\n",
       "    </tr>\n",
       "    <tr>\n",
       "      <th>20029</th>\n",
       "      <td>18/06/2020 07:00:00</td>\n",
       "      <td>E008ZUAFC003</td>\n",
       "      <td>NaN</td>\n",
       "      <td>cm</td>\n",
       "      <td>31.28</td>\n",
       "      <td>l/min</td>\n",
       "      <td>N</td>\n",
       "      <td>NC</td>\n",
       "      <td>NaN</td>\n",
       "    </tr>\n",
       "    <tr>\n",
       "      <th>20030</th>\n",
       "      <td>18/06/2020 07:00:00</td>\n",
       "      <td>E008ZUAFC002</td>\n",
       "      <td>NaN</td>\n",
       "      <td>cm</td>\n",
       "      <td>13.76</td>\n",
       "      <td>l/min</td>\n",
       "      <td>N</td>\n",
       "      <td>NC</td>\n",
       "      <td>NaN</td>\n",
       "    </tr>\n",
       "  </tbody>\n",
       "</table>\n",
       "</div>"
      ],
      "text/plain": [
       "                     Fecha        Sensor  Lectura Unidades de Lectura  Medida  \\\n",
       "20026  18/06/2020 07:00:00  E008ZUAFC001      NaN                  cm   17.51   \n",
       "20027  18/06/2020 07:00:00  E008ZUAFC005      NaN                  cm  259.04   \n",
       "20028  18/06/2020 07:00:00  E008ZUAFC004      NaN                  cm   83.35   \n",
       "20029  18/06/2020 07:00:00  E008ZUAFC003      NaN                  cm   31.28   \n",
       "20030  18/06/2020 07:00:00  E008ZUAFC002      NaN                  cm   13.76   \n",
       "\n",
       "      Unidades de Medida Flag Flag Manipulación Observaciones  \n",
       "20026              l/min    N                NC           NaN  \n",
       "20027              l/min    N                NC           NaN  \n",
       "20028              l/min    N                NC           NaN  \n",
       "20029              l/min    N                NC           NaN  \n",
       "20030              l/min    N                NC           NaN  "
      ]
     },
     "execution_count": 2,
     "metadata": {},
     "output_type": "execute_result"
    }
   ],
   "source": [
    "df = pd.read_excel('Filtraciones E08.xlsx')\n",
    "df.tail()"
   ]
  },
  {
   "cell_type": "code",
   "execution_count": 3,
   "metadata": {},
   "outputs": [
    {
     "data": {
      "text/plain": [
       "(20031, 9)"
      ]
     },
     "execution_count": 3,
     "metadata": {},
     "output_type": "execute_result"
    }
   ],
   "source": [
    "df.shape"
   ]
  },
  {
   "cell_type": "markdown",
   "metadata": {},
   "source": [
    "Eliminación de las columnas irrelevantes."
   ]
  },
  {
   "cell_type": "code",
   "execution_count": 4,
   "metadata": {},
   "outputs": [],
   "source": [
    "del df[\"Lectura\"]\n",
    "del df[\"Unidades de Lectura\"]\n",
    "del df[\"Unidades de Medida\"]\n",
    "del df[\"Flag\"]\n",
    "del df[\"Flag Manipulación\"]\n",
    "del df[\"Observaciones\"]"
   ]
  },
  {
   "cell_type": "code",
   "execution_count": 5,
   "metadata": {},
   "outputs": [
    {
     "data": {
      "text/html": [
       "<div>\n",
       "<style scoped>\n",
       "    .dataframe tbody tr th:only-of-type {\n",
       "        vertical-align: middle;\n",
       "    }\n",
       "\n",
       "    .dataframe tbody tr th {\n",
       "        vertical-align: top;\n",
       "    }\n",
       "\n",
       "    .dataframe thead th {\n",
       "        text-align: right;\n",
       "    }\n",
       "</style>\n",
       "<table border=\"1\" class=\"dataframe\">\n",
       "  <thead>\n",
       "    <tr style=\"text-align: right;\">\n",
       "      <th></th>\n",
       "      <th>Fecha</th>\n",
       "      <th>Sensor</th>\n",
       "      <th>Medida</th>\n",
       "    </tr>\n",
       "  </thead>\n",
       "  <tbody>\n",
       "    <tr>\n",
       "      <th>0</th>\n",
       "      <td>02/10/2009 00:00:00</td>\n",
       "      <td>E008ZUAFC001</td>\n",
       "      <td>10.53</td>\n",
       "    </tr>\n",
       "    <tr>\n",
       "      <th>1</th>\n",
       "      <td>02/10/2009 00:00:00</td>\n",
       "      <td>E008ZUAFC005</td>\n",
       "      <td>78.79</td>\n",
       "    </tr>\n",
       "    <tr>\n",
       "      <th>2</th>\n",
       "      <td>02/10/2009 00:00:00</td>\n",
       "      <td>E008ZUAFC004</td>\n",
       "      <td>NaN</td>\n",
       "    </tr>\n",
       "    <tr>\n",
       "      <th>3</th>\n",
       "      <td>02/10/2009 00:00:00</td>\n",
       "      <td>E008ZUAFC003</td>\n",
       "      <td>36.08</td>\n",
       "    </tr>\n",
       "    <tr>\n",
       "      <th>4</th>\n",
       "      <td>02/10/2009 00:00:00</td>\n",
       "      <td>E008ZUAFC002</td>\n",
       "      <td>11.52</td>\n",
       "    </tr>\n",
       "  </tbody>\n",
       "</table>\n",
       "</div>"
      ],
      "text/plain": [
       "                 Fecha        Sensor  Medida\n",
       "0  02/10/2009 00:00:00  E008ZUAFC001   10.53\n",
       "1  02/10/2009 00:00:00  E008ZUAFC005   78.79\n",
       "2  02/10/2009 00:00:00  E008ZUAFC004     NaN\n",
       "3  02/10/2009 00:00:00  E008ZUAFC003   36.08\n",
       "4  02/10/2009 00:00:00  E008ZUAFC002   11.52"
      ]
     },
     "execution_count": 5,
     "metadata": {},
     "output_type": "execute_result"
    }
   ],
   "source": [
    "df.head()"
   ]
  },
  {
   "cell_type": "markdown",
   "metadata": {},
   "source": [
    "Conversión de las fechas a formato datetime."
   ]
  },
  {
   "cell_type": "code",
   "execution_count": 6,
   "metadata": {},
   "outputs": [],
   "source": [
    "df[\"Fecha\"] = pd.to_datetime(df[\"Fecha\"], format ='%d/%m/%Y %H:%M:%S')"
   ]
  },
  {
   "cell_type": "markdown",
   "metadata": {},
   "source": [
    "Comprobación del número de aforadores."
   ]
  },
  {
   "cell_type": "code",
   "execution_count": 7,
   "metadata": {},
   "outputs": [
    {
     "data": {
      "text/plain": [
       "array(['E008ZUAFC001', 'E008ZUAFC005', 'E008ZUAFC004', 'E008ZUAFC003',\n",
       "       'E008ZUAFC002', 'E008UMAFC006', 'E008UMAFC007'], dtype=object)"
      ]
     },
     "execution_count": 7,
     "metadata": {},
     "output_type": "execute_result"
    }
   ],
   "source": [
    "df[\"Sensor\"].unique()"
   ]
  },
  {
   "cell_type": "markdown",
   "metadata": {},
   "source": [
    "Comprobación del número de NaN."
   ]
  },
  {
   "cell_type": "code",
   "execution_count": 8,
   "metadata": {},
   "outputs": [
    {
     "name": "stdout",
     "output_type": "stream",
     "text": [
      "Fecha       0\n",
      "Sensor      0\n",
      "Medida    109\n",
      "dtype: int64\n",
      "**************\n",
      "Fecha       0\n",
      "Sensor      0\n",
      "Medida    252\n",
      "dtype: int64\n",
      "**************\n",
      "Fecha       0\n",
      "Sensor      0\n",
      "Medida    274\n",
      "dtype: int64\n",
      "**************\n",
      "Fecha       0\n",
      "Sensor      0\n",
      "Medida    107\n",
      "dtype: int64\n",
      "**************\n",
      "Fecha       0\n",
      "Sensor      0\n",
      "Medida    109\n",
      "dtype: int64\n",
      "**************\n",
      "Fecha     0\n",
      "Sensor    0\n",
      "Medida    0\n",
      "dtype: int64\n",
      "**************\n",
      "Fecha     0\n",
      "Sensor    0\n",
      "Medida    0\n",
      "dtype: int64\n",
      "**************\n"
     ]
    }
   ],
   "source": [
    "for i in df[\"Sensor\"].unique():\n",
    "    print(df[df[\"Sensor\"]==i].isnull().sum())\n",
    "    print(\"**************\")"
   ]
  },
  {
   "cell_type": "markdown",
   "metadata": {},
   "source": [
    "Selección de los valores de fecha y medida de cada aforador."
   ]
  },
  {
   "cell_type": "code",
   "execution_count": 9,
   "metadata": {},
   "outputs": [
    {
     "data": {
      "text/html": [
       "<div>\n",
       "<style scoped>\n",
       "    .dataframe tbody tr th:only-of-type {\n",
       "        vertical-align: middle;\n",
       "    }\n",
       "\n",
       "    .dataframe tbody tr th {\n",
       "        vertical-align: top;\n",
       "    }\n",
       "\n",
       "    .dataframe thead th {\n",
       "        text-align: right;\n",
       "    }\n",
       "</style>\n",
       "<table border=\"1\" class=\"dataframe\">\n",
       "  <thead>\n",
       "    <tr style=\"text-align: right;\">\n",
       "      <th></th>\n",
       "      <th>Fecha</th>\n",
       "      <th>Medida</th>\n",
       "    </tr>\n",
       "  </thead>\n",
       "  <tbody>\n",
       "    <tr>\n",
       "      <th>0</th>\n",
       "      <td>2009-10-02 00:00:00</td>\n",
       "      <td>10.53</td>\n",
       "    </tr>\n",
       "    <tr>\n",
       "      <th>5</th>\n",
       "      <td>2009-10-03 00:00:00</td>\n",
       "      <td>10.53</td>\n",
       "    </tr>\n",
       "    <tr>\n",
       "      <th>10</th>\n",
       "      <td>2009-10-04 00:00:00</td>\n",
       "      <td>10.53</td>\n",
       "    </tr>\n",
       "    <tr>\n",
       "      <th>15</th>\n",
       "      <td>2009-10-05 00:00:00</td>\n",
       "      <td>10.53</td>\n",
       "    </tr>\n",
       "    <tr>\n",
       "      <th>20</th>\n",
       "      <td>2009-10-06 00:00:00</td>\n",
       "      <td>10.53</td>\n",
       "    </tr>\n",
       "    <tr>\n",
       "      <th>...</th>\n",
       "      <td>...</td>\n",
       "      <td>...</td>\n",
       "    </tr>\n",
       "    <tr>\n",
       "      <th>20006</th>\n",
       "      <td>2020-06-14 07:00:00</td>\n",
       "      <td>17.51</td>\n",
       "    </tr>\n",
       "    <tr>\n",
       "      <th>20011</th>\n",
       "      <td>2020-06-15 07:00:00</td>\n",
       "      <td>17.51</td>\n",
       "    </tr>\n",
       "    <tr>\n",
       "      <th>20016</th>\n",
       "      <td>2020-06-16 07:00:00</td>\n",
       "      <td>17.51</td>\n",
       "    </tr>\n",
       "    <tr>\n",
       "      <th>20021</th>\n",
       "      <td>2020-06-17 07:00:00</td>\n",
       "      <td>17.51</td>\n",
       "    </tr>\n",
       "    <tr>\n",
       "      <th>20026</th>\n",
       "      <td>2020-06-18 07:00:00</td>\n",
       "      <td>17.51</td>\n",
       "    </tr>\n",
       "  </tbody>\n",
       "</table>\n",
       "<p>4040 rows × 2 columns</p>\n",
       "</div>"
      ],
      "text/plain": [
       "                    Fecha  Medida\n",
       "0     2009-10-02 00:00:00   10.53\n",
       "5     2009-10-03 00:00:00   10.53\n",
       "10    2009-10-04 00:00:00   10.53\n",
       "15    2009-10-05 00:00:00   10.53\n",
       "20    2009-10-06 00:00:00   10.53\n",
       "...                   ...     ...\n",
       "20006 2020-06-14 07:00:00   17.51\n",
       "20011 2020-06-15 07:00:00   17.51\n",
       "20016 2020-06-16 07:00:00   17.51\n",
       "20021 2020-06-17 07:00:00   17.51\n",
       "20026 2020-06-18 07:00:00   17.51\n",
       "\n",
       "[4040 rows x 2 columns]"
      ]
     },
     "execution_count": 9,
     "metadata": {},
     "output_type": "execute_result"
    }
   ],
   "source": [
    "df[df[\"Sensor\"]==\"E008ZUAFC001\"][[\"Fecha\",\"Medida\"]]"
   ]
  },
  {
   "cell_type": "markdown",
   "metadata": {},
   "source": [
    "Combinación de los valores de todos los aforadores en un nuevo dataframe."
   ]
  },
  {
   "cell_type": "code",
   "execution_count": 10,
   "metadata": {},
   "outputs": [],
   "source": [
    "filt = df.Fecha\n",
    "for i in df[\"Sensor\"].unique():\n",
    "    filt=pd.merge(filt, df[df[\"Sensor\"]==i][[\"Fecha\",\"Medida\"]], on=\"Fecha\", how=\"outer\" )"
   ]
  },
  {
   "cell_type": "code",
   "execution_count": 12,
   "metadata": {},
   "outputs": [
    {
     "data": {
      "text/html": [
       "<div>\n",
       "<style scoped>\n",
       "    .dataframe tbody tr th:only-of-type {\n",
       "        vertical-align: middle;\n",
       "    }\n",
       "\n",
       "    .dataframe tbody tr th {\n",
       "        vertical-align: top;\n",
       "    }\n",
       "\n",
       "    .dataframe thead th {\n",
       "        text-align: right;\n",
       "    }\n",
       "</style>\n",
       "<table border=\"1\" class=\"dataframe\">\n",
       "  <thead>\n",
       "    <tr style=\"text-align: right;\">\n",
       "      <th></th>\n",
       "      <th>Fecha</th>\n",
       "      <th>Medida_x</th>\n",
       "      <th>Medida_y</th>\n",
       "      <th>Medida_x</th>\n",
       "      <th>Medida_y</th>\n",
       "      <th>Medida_x</th>\n",
       "      <th>Medida_y</th>\n",
       "      <th>Medida</th>\n",
       "    </tr>\n",
       "  </thead>\n",
       "  <tbody>\n",
       "    <tr>\n",
       "      <th>20021</th>\n",
       "      <td>2020-06-17 07:00:00</td>\n",
       "      <td>17.51</td>\n",
       "      <td>260.35</td>\n",
       "      <td>81.70</td>\n",
       "      <td>31.46</td>\n",
       "      <td>13.76</td>\n",
       "      <td>NaN</td>\n",
       "      <td>NaN</td>\n",
       "    </tr>\n",
       "    <tr>\n",
       "      <th>20022</th>\n",
       "      <td>2020-06-17 07:00:00</td>\n",
       "      <td>17.51</td>\n",
       "      <td>260.35</td>\n",
       "      <td>81.70</td>\n",
       "      <td>31.46</td>\n",
       "      <td>13.76</td>\n",
       "      <td>NaN</td>\n",
       "      <td>NaN</td>\n",
       "    </tr>\n",
       "    <tr>\n",
       "      <th>20023</th>\n",
       "      <td>2020-06-17 07:00:00</td>\n",
       "      <td>17.51</td>\n",
       "      <td>260.35</td>\n",
       "      <td>81.70</td>\n",
       "      <td>31.46</td>\n",
       "      <td>13.76</td>\n",
       "      <td>NaN</td>\n",
       "      <td>NaN</td>\n",
       "    </tr>\n",
       "    <tr>\n",
       "      <th>20024</th>\n",
       "      <td>2020-06-17 07:00:00</td>\n",
       "      <td>17.51</td>\n",
       "      <td>260.35</td>\n",
       "      <td>81.70</td>\n",
       "      <td>31.46</td>\n",
       "      <td>13.76</td>\n",
       "      <td>NaN</td>\n",
       "      <td>NaN</td>\n",
       "    </tr>\n",
       "    <tr>\n",
       "      <th>20025</th>\n",
       "      <td>2020-06-17 07:00:00</td>\n",
       "      <td>17.51</td>\n",
       "      <td>260.35</td>\n",
       "      <td>81.70</td>\n",
       "      <td>31.46</td>\n",
       "      <td>13.76</td>\n",
       "      <td>NaN</td>\n",
       "      <td>NaN</td>\n",
       "    </tr>\n",
       "    <tr>\n",
       "      <th>20026</th>\n",
       "      <td>2020-06-18 07:00:00</td>\n",
       "      <td>17.51</td>\n",
       "      <td>259.04</td>\n",
       "      <td>83.35</td>\n",
       "      <td>31.28</td>\n",
       "      <td>13.76</td>\n",
       "      <td>NaN</td>\n",
       "      <td>NaN</td>\n",
       "    </tr>\n",
       "    <tr>\n",
       "      <th>20027</th>\n",
       "      <td>2020-06-18 07:00:00</td>\n",
       "      <td>17.51</td>\n",
       "      <td>259.04</td>\n",
       "      <td>83.35</td>\n",
       "      <td>31.28</td>\n",
       "      <td>13.76</td>\n",
       "      <td>NaN</td>\n",
       "      <td>NaN</td>\n",
       "    </tr>\n",
       "    <tr>\n",
       "      <th>20028</th>\n",
       "      <td>2020-06-18 07:00:00</td>\n",
       "      <td>17.51</td>\n",
       "      <td>259.04</td>\n",
       "      <td>83.35</td>\n",
       "      <td>31.28</td>\n",
       "      <td>13.76</td>\n",
       "      <td>NaN</td>\n",
       "      <td>NaN</td>\n",
       "    </tr>\n",
       "    <tr>\n",
       "      <th>20029</th>\n",
       "      <td>2020-06-18 07:00:00</td>\n",
       "      <td>17.51</td>\n",
       "      <td>259.04</td>\n",
       "      <td>83.35</td>\n",
       "      <td>31.28</td>\n",
       "      <td>13.76</td>\n",
       "      <td>NaN</td>\n",
       "      <td>NaN</td>\n",
       "    </tr>\n",
       "    <tr>\n",
       "      <th>20030</th>\n",
       "      <td>2020-06-18 07:00:00</td>\n",
       "      <td>17.51</td>\n",
       "      <td>259.04</td>\n",
       "      <td>83.35</td>\n",
       "      <td>31.28</td>\n",
       "      <td>13.76</td>\n",
       "      <td>NaN</td>\n",
       "      <td>NaN</td>\n",
       "    </tr>\n",
       "  </tbody>\n",
       "</table>\n",
       "</div>"
      ],
      "text/plain": [
       "                    Fecha  Medida_x  Medida_y  Medida_x  Medida_y  Medida_x  \\\n",
       "20021 2020-06-17 07:00:00     17.51    260.35     81.70     31.46     13.76   \n",
       "20022 2020-06-17 07:00:00     17.51    260.35     81.70     31.46     13.76   \n",
       "20023 2020-06-17 07:00:00     17.51    260.35     81.70     31.46     13.76   \n",
       "20024 2020-06-17 07:00:00     17.51    260.35     81.70     31.46     13.76   \n",
       "20025 2020-06-17 07:00:00     17.51    260.35     81.70     31.46     13.76   \n",
       "20026 2020-06-18 07:00:00     17.51    259.04     83.35     31.28     13.76   \n",
       "20027 2020-06-18 07:00:00     17.51    259.04     83.35     31.28     13.76   \n",
       "20028 2020-06-18 07:00:00     17.51    259.04     83.35     31.28     13.76   \n",
       "20029 2020-06-18 07:00:00     17.51    259.04     83.35     31.28     13.76   \n",
       "20030 2020-06-18 07:00:00     17.51    259.04     83.35     31.28     13.76   \n",
       "\n",
       "       Medida_y  Medida  \n",
       "20021       NaN     NaN  \n",
       "20022       NaN     NaN  \n",
       "20023       NaN     NaN  \n",
       "20024       NaN     NaN  \n",
       "20025       NaN     NaN  \n",
       "20026       NaN     NaN  \n",
       "20027       NaN     NaN  \n",
       "20028       NaN     NaN  \n",
       "20029       NaN     NaN  \n",
       "20030       NaN     NaN  "
      ]
     },
     "execution_count": 12,
     "metadata": {},
     "output_type": "execute_result"
    }
   ],
   "source": [
    "filt.tail(10)"
   ]
  },
  {
   "cell_type": "markdown",
   "metadata": {},
   "source": [
    "Modificación del nombre de los aforadores para que coincida con el del informe."
   ]
  },
  {
   "cell_type": "code",
   "execution_count": 13,
   "metadata": {},
   "outputs": [
    {
     "data": {
      "text/html": [
       "<div>\n",
       "<style scoped>\n",
       "    .dataframe tbody tr th:only-of-type {\n",
       "        vertical-align: middle;\n",
       "    }\n",
       "\n",
       "    .dataframe tbody tr th {\n",
       "        vertical-align: top;\n",
       "    }\n",
       "\n",
       "    .dataframe thead th {\n",
       "        text-align: right;\n",
       "    }\n",
       "</style>\n",
       "<table border=\"1\" class=\"dataframe\">\n",
       "  <thead>\n",
       "    <tr style=\"text-align: right;\">\n",
       "      <th></th>\n",
       "      <th>Fecha</th>\n",
       "      <th>AF-01</th>\n",
       "      <th>AF-05</th>\n",
       "      <th>AF-04</th>\n",
       "      <th>AF-03</th>\n",
       "      <th>AF-02</th>\n",
       "      <th>s6</th>\n",
       "      <th>s7</th>\n",
       "    </tr>\n",
       "  </thead>\n",
       "  <tbody>\n",
       "    <tr>\n",
       "      <th>0</th>\n",
       "      <td>2009-10-02</td>\n",
       "      <td>10.53</td>\n",
       "      <td>78.79</td>\n",
       "      <td>NaN</td>\n",
       "      <td>36.08</td>\n",
       "      <td>11.52</td>\n",
       "      <td>NaN</td>\n",
       "      <td>NaN</td>\n",
       "    </tr>\n",
       "    <tr>\n",
       "      <th>1</th>\n",
       "      <td>2009-10-02</td>\n",
       "      <td>10.53</td>\n",
       "      <td>78.79</td>\n",
       "      <td>NaN</td>\n",
       "      <td>36.08</td>\n",
       "      <td>11.52</td>\n",
       "      <td>NaN</td>\n",
       "      <td>NaN</td>\n",
       "    </tr>\n",
       "    <tr>\n",
       "      <th>2</th>\n",
       "      <td>2009-10-02</td>\n",
       "      <td>10.53</td>\n",
       "      <td>78.79</td>\n",
       "      <td>NaN</td>\n",
       "      <td>36.08</td>\n",
       "      <td>11.52</td>\n",
       "      <td>NaN</td>\n",
       "      <td>NaN</td>\n",
       "    </tr>\n",
       "    <tr>\n",
       "      <th>3</th>\n",
       "      <td>2009-10-02</td>\n",
       "      <td>10.53</td>\n",
       "      <td>78.79</td>\n",
       "      <td>NaN</td>\n",
       "      <td>36.08</td>\n",
       "      <td>11.52</td>\n",
       "      <td>NaN</td>\n",
       "      <td>NaN</td>\n",
       "    </tr>\n",
       "    <tr>\n",
       "      <th>4</th>\n",
       "      <td>2009-10-02</td>\n",
       "      <td>10.53</td>\n",
       "      <td>78.79</td>\n",
       "      <td>NaN</td>\n",
       "      <td>36.08</td>\n",
       "      <td>11.52</td>\n",
       "      <td>NaN</td>\n",
       "      <td>NaN</td>\n",
       "    </tr>\n",
       "  </tbody>\n",
       "</table>\n",
       "</div>"
      ],
      "text/plain": [
       "       Fecha  AF-01  AF-05  AF-04  AF-03  AF-02  s6  s7\n",
       "0 2009-10-02  10.53  78.79    NaN  36.08  11.52 NaN NaN\n",
       "1 2009-10-02  10.53  78.79    NaN  36.08  11.52 NaN NaN\n",
       "2 2009-10-02  10.53  78.79    NaN  36.08  11.52 NaN NaN\n",
       "3 2009-10-02  10.53  78.79    NaN  36.08  11.52 NaN NaN\n",
       "4 2009-10-02  10.53  78.79    NaN  36.08  11.52 NaN NaN"
      ]
     },
     "execution_count": 13,
     "metadata": {},
     "output_type": "execute_result"
    }
   ],
   "source": [
    "filt.columns=[\"Fecha\",\"AF-01\",\"AF-05\",\"AF-04\",\"AF-03\",\"AF-02\",\"s6\",\"s7\"]\n",
    "filt.head()"
   ]
  },
  {
   "cell_type": "code",
   "execution_count": 14,
   "metadata": {
    "scrolled": true
   },
   "outputs": [
    {
     "data": {
      "text/plain": [
       "Fecha        0\n",
       "AF-01      998\n",
       "AF-05     4100\n",
       "AF-04     1858\n",
       "AF-03     1003\n",
       "AF-02      995\n",
       "s6       19579\n",
       "s7       19742\n",
       "dtype: int64"
      ]
     },
     "execution_count": 14,
     "metadata": {},
     "output_type": "execute_result"
    }
   ],
   "source": [
    "filt.isnull().sum()"
   ]
  },
  {
   "cell_type": "markdown",
   "metadata": {},
   "source": [
    "Eliminación de los valores de los aforadores 6 y 7 (fueron instalados con posterioridad y presentan un alto porcentaje de NaN)."
   ]
  },
  {
   "cell_type": "code",
   "execution_count": 15,
   "metadata": {},
   "outputs": [],
   "source": [
    "del filt[\"s7\"]\n",
    "del filt[\"s6\"]"
   ]
  },
  {
   "cell_type": "code",
   "execution_count": 16,
   "metadata": {},
   "outputs": [
    {
     "data": {
      "text/plain": [
       "(20031, 6)"
      ]
     },
     "execution_count": 16,
     "metadata": {},
     "output_type": "execute_result"
    }
   ],
   "source": [
    "filt.shape"
   ]
  },
  {
   "cell_type": "markdown",
   "metadata": {},
   "source": [
    "Convergencia de las fechas duplicadas mediante una media."
   ]
  },
  {
   "cell_type": "code",
   "execution_count": 17,
   "metadata": {},
   "outputs": [
    {
     "data": {
      "text/html": [
       "<div>\n",
       "<style scoped>\n",
       "    .dataframe tbody tr th:only-of-type {\n",
       "        vertical-align: middle;\n",
       "    }\n",
       "\n",
       "    .dataframe tbody tr th {\n",
       "        vertical-align: top;\n",
       "    }\n",
       "\n",
       "    .dataframe thead th {\n",
       "        text-align: right;\n",
       "    }\n",
       "</style>\n",
       "<table border=\"1\" class=\"dataframe\">\n",
       "  <thead>\n",
       "    <tr style=\"text-align: right;\">\n",
       "      <th></th>\n",
       "      <th>AF-01</th>\n",
       "      <th>AF-05</th>\n",
       "      <th>AF-04</th>\n",
       "      <th>AF-03</th>\n",
       "      <th>AF-02</th>\n",
       "    </tr>\n",
       "    <tr>\n",
       "      <th>Fecha</th>\n",
       "      <th></th>\n",
       "      <th></th>\n",
       "      <th></th>\n",
       "      <th></th>\n",
       "      <th></th>\n",
       "    </tr>\n",
       "  </thead>\n",
       "  <tbody>\n",
       "    <tr>\n",
       "      <th>2009-10-02</th>\n",
       "      <td>10.53</td>\n",
       "      <td>78.79</td>\n",
       "      <td>NaN</td>\n",
       "      <td>36.08</td>\n",
       "      <td>11.52</td>\n",
       "    </tr>\n",
       "    <tr>\n",
       "      <th>2009-10-03</th>\n",
       "      <td>10.53</td>\n",
       "      <td>78.79</td>\n",
       "      <td>NaN</td>\n",
       "      <td>36.08</td>\n",
       "      <td>11.52</td>\n",
       "    </tr>\n",
       "    <tr>\n",
       "      <th>2009-10-04</th>\n",
       "      <td>10.53</td>\n",
       "      <td>78.79</td>\n",
       "      <td>NaN</td>\n",
       "      <td>37.09</td>\n",
       "      <td>11.52</td>\n",
       "    </tr>\n",
       "    <tr>\n",
       "      <th>2009-10-05</th>\n",
       "      <td>10.53</td>\n",
       "      <td>77.20</td>\n",
       "      <td>NaN</td>\n",
       "      <td>37.09</td>\n",
       "      <td>11.52</td>\n",
       "    </tr>\n",
       "    <tr>\n",
       "      <th>2009-10-06</th>\n",
       "      <td>10.53</td>\n",
       "      <td>77.20</td>\n",
       "      <td>NaN</td>\n",
       "      <td>37.09</td>\n",
       "      <td>11.52</td>\n",
       "    </tr>\n",
       "    <tr>\n",
       "      <th>...</th>\n",
       "      <td>...</td>\n",
       "      <td>...</td>\n",
       "      <td>...</td>\n",
       "      <td>...</td>\n",
       "      <td>...</td>\n",
       "    </tr>\n",
       "    <tr>\n",
       "      <th>2020-06-14</th>\n",
       "      <td>17.51</td>\n",
       "      <td>258.39</td>\n",
       "      <td>86.36</td>\n",
       "      <td>31.65</td>\n",
       "      <td>13.65</td>\n",
       "    </tr>\n",
       "    <tr>\n",
       "      <th>2020-06-15</th>\n",
       "      <td>17.51</td>\n",
       "      <td>256.43</td>\n",
       "      <td>82.03</td>\n",
       "      <td>31.46</td>\n",
       "      <td>13.65</td>\n",
       "    </tr>\n",
       "    <tr>\n",
       "      <th>2020-06-16</th>\n",
       "      <td>17.51</td>\n",
       "      <td>256.43</td>\n",
       "      <td>81.38</td>\n",
       "      <td>31.46</td>\n",
       "      <td>13.65</td>\n",
       "    </tr>\n",
       "    <tr>\n",
       "      <th>2020-06-17</th>\n",
       "      <td>17.51</td>\n",
       "      <td>260.35</td>\n",
       "      <td>81.70</td>\n",
       "      <td>31.46</td>\n",
       "      <td>13.76</td>\n",
       "    </tr>\n",
       "    <tr>\n",
       "      <th>2020-06-18</th>\n",
       "      <td>17.51</td>\n",
       "      <td>259.04</td>\n",
       "      <td>83.35</td>\n",
       "      <td>31.28</td>\n",
       "      <td>13.76</td>\n",
       "    </tr>\n",
       "  </tbody>\n",
       "</table>\n",
       "<p>3802 rows × 5 columns</p>\n",
       "</div>"
      ],
      "text/plain": [
       "            AF-01   AF-05  AF-04  AF-03  AF-02\n",
       "Fecha                                         \n",
       "2009-10-02  10.53   78.79    NaN  36.08  11.52\n",
       "2009-10-03  10.53   78.79    NaN  36.08  11.52\n",
       "2009-10-04  10.53   78.79    NaN  37.09  11.52\n",
       "2009-10-05  10.53   77.20    NaN  37.09  11.52\n",
       "2009-10-06  10.53   77.20    NaN  37.09  11.52\n",
       "...           ...     ...    ...    ...    ...\n",
       "2020-06-14  17.51  258.39  86.36  31.65  13.65\n",
       "2020-06-15  17.51  256.43  82.03  31.46  13.65\n",
       "2020-06-16  17.51  256.43  81.38  31.46  13.65\n",
       "2020-06-17  17.51  260.35  81.70  31.46  13.76\n",
       "2020-06-18  17.51  259.04  83.35  31.28  13.76\n",
       "\n",
       "[3802 rows x 5 columns]"
      ]
     },
     "execution_count": 17,
     "metadata": {},
     "output_type": "execute_result"
    }
   ],
   "source": [
    "filt = filt.resample('d', on='Fecha').mean().dropna(how='all')\n",
    "filt"
   ]
  },
  {
   "cell_type": "code",
   "execution_count": 18,
   "metadata": {},
   "outputs": [
    {
     "data": {
      "text/plain": [
       "AF-01      3\n",
       "AF-05    735\n",
       "AF-04    183\n",
       "AF-03      5\n",
       "AF-02      3\n",
       "dtype: int64"
      ]
     },
     "execution_count": 18,
     "metadata": {},
     "output_type": "execute_result"
    }
   ],
   "source": [
    "filt.isnull().sum()"
   ]
  },
  {
   "cell_type": "markdown",
   "metadata": {},
   "source": [
    "Creación de gráficos."
   ]
  },
  {
   "cell_type": "code",
   "execution_count": 19,
   "metadata": {},
   "outputs": [
    {
     "data": {
      "image/png": "[encoded data removed]",
      "text/plain": [
       "<Figure size 432x288 with 1 Axes>"
      ]
     },
     "metadata": {
      "needs_background": "light"
     },
     "output_type": "display_data"
    },
    {
     "data": {
      "image/png": "[encoded data removed]",
      "text/plain": [
       "<Figure size 432x288 with 1 Axes>"
      ]
     },
     "metadata": {
      "needs_background": "light"
     },
     "output_type": "display_data"
    },
    {
     "data": {
      "image/png": "[encoded data removed]",
      "text/plain": [
       "<Figure size 432x288 with 1 Axes>"
      ]
     },
     "metadata": {
      "needs_background": "light"
     },
     "output_type": "display_data"
    },
    {
     "data": {
      "image/png": "[encoded data removed]",
      "text/plain": [
       "<Figure size 432x288 with 1 Axes>"
      ]
     },
     "metadata": {
      "needs_background": "light"
     },
     "output_type": "display_data"
    },
    {
     "data": {
      "image/png": "[encoded data removed]",
      "text/plain": [
       "<Figure size 432x288 with 1 Axes>"
      ]
     },
     "metadata": {
      "needs_background": "light"
     },
     "output_type": "display_data"
    }
   ],
   "source": [
    "for i in [\"AF-01\",\"AF-02\",\"AF-03\",\"AF-04\",\"AF-05\"]:\n",
    "    plt.subplots()\n",
    "    plt.plot(filt[i])"
   ]
  },
  {
   "cell_type": "code",
   "execution_count": 20,
   "metadata": {},
   "outputs": [
    {
     "data": {
      "text/plain": [
       "[<matplotlib.lines.Line2D at 0x1fab3012a48>]"
      ]
     },
     "execution_count": 20,
     "metadata": {},
     "output_type": "execute_result"
    },
    {
     "data": {
      "image/png": "[encoded data removed]",
      "text/plain": [
       "<Figure size 432x288 with 1 Axes>"
      ]
     },
     "metadata": {
      "needs_background": "light"
     },
     "output_type": "display_data"
    }
   ],
   "source": [
    "plt.plot(filt[\"AF-01\"], color=\"green\")\n",
    "plt.plot(filt[\"AF-02\"], color=\"red\")\n",
    "plt.plot(filt[\"AF-03\"], color=\"cyan\")\n",
    "plt.plot(filt[\"AF-04\"], color=\"purple\")\n",
    "plt.plot(filt[\"AF-05\"], color=\"pink\")"
   ]
  },
  {
   "cell_type": "markdown",
   "metadata": {},
   "source": [
    "Reorganización del dataframe para que la fecha no constituya el índice (y no dé problemas)."
   ]
  },
  {
   "cell_type": "code",
   "execution_count": 21,
   "metadata": {},
   "outputs": [
    {
     "data": {
      "text/html": [
       "<div>\n",
       "<style scoped>\n",
       "    .dataframe tbody tr th:only-of-type {\n",
       "        vertical-align: middle;\n",
       "    }\n",
       "\n",
       "    .dataframe tbody tr th {\n",
       "        vertical-align: top;\n",
       "    }\n",
       "\n",
       "    .dataframe thead th {\n",
       "        text-align: right;\n",
       "    }\n",
       "</style>\n",
       "<table border=\"1\" class=\"dataframe\">\n",
       "  <thead>\n",
       "    <tr style=\"text-align: right;\">\n",
       "      <th></th>\n",
       "      <th>AF-01</th>\n",
       "      <th>AF-05</th>\n",
       "      <th>AF-04</th>\n",
       "      <th>AF-03</th>\n",
       "      <th>AF-02</th>\n",
       "      <th>Fecha</th>\n",
       "    </tr>\n",
       "  </thead>\n",
       "  <tbody>\n",
       "    <tr>\n",
       "      <th>0</th>\n",
       "      <td>10.53</td>\n",
       "      <td>78.79</td>\n",
       "      <td>NaN</td>\n",
       "      <td>36.08</td>\n",
       "      <td>11.52</td>\n",
       "      <td>2009-10-02</td>\n",
       "    </tr>\n",
       "    <tr>\n",
       "      <th>1</th>\n",
       "      <td>10.53</td>\n",
       "      <td>78.79</td>\n",
       "      <td>NaN</td>\n",
       "      <td>36.08</td>\n",
       "      <td>11.52</td>\n",
       "      <td>2009-10-03</td>\n",
       "    </tr>\n",
       "    <tr>\n",
       "      <th>2</th>\n",
       "      <td>10.53</td>\n",
       "      <td>78.79</td>\n",
       "      <td>NaN</td>\n",
       "      <td>37.09</td>\n",
       "      <td>11.52</td>\n",
       "      <td>2009-10-04</td>\n",
       "    </tr>\n",
       "    <tr>\n",
       "      <th>3</th>\n",
       "      <td>10.53</td>\n",
       "      <td>77.20</td>\n",
       "      <td>NaN</td>\n",
       "      <td>37.09</td>\n",
       "      <td>11.52</td>\n",
       "      <td>2009-10-05</td>\n",
       "    </tr>\n",
       "    <tr>\n",
       "      <th>4</th>\n",
       "      <td>10.53</td>\n",
       "      <td>77.20</td>\n",
       "      <td>NaN</td>\n",
       "      <td>37.09</td>\n",
       "      <td>11.52</td>\n",
       "      <td>2009-10-06</td>\n",
       "    </tr>\n",
       "    <tr>\n",
       "      <th>...</th>\n",
       "      <td>...</td>\n",
       "      <td>...</td>\n",
       "      <td>...</td>\n",
       "      <td>...</td>\n",
       "      <td>...</td>\n",
       "      <td>...</td>\n",
       "    </tr>\n",
       "    <tr>\n",
       "      <th>3797</th>\n",
       "      <td>17.51</td>\n",
       "      <td>258.39</td>\n",
       "      <td>86.36</td>\n",
       "      <td>31.65</td>\n",
       "      <td>13.65</td>\n",
       "      <td>2020-06-14</td>\n",
       "    </tr>\n",
       "    <tr>\n",
       "      <th>3798</th>\n",
       "      <td>17.51</td>\n",
       "      <td>256.43</td>\n",
       "      <td>82.03</td>\n",
       "      <td>31.46</td>\n",
       "      <td>13.65</td>\n",
       "      <td>2020-06-15</td>\n",
       "    </tr>\n",
       "    <tr>\n",
       "      <th>3799</th>\n",
       "      <td>17.51</td>\n",
       "      <td>256.43</td>\n",
       "      <td>81.38</td>\n",
       "      <td>31.46</td>\n",
       "      <td>13.65</td>\n",
       "      <td>2020-06-16</td>\n",
       "    </tr>\n",
       "    <tr>\n",
       "      <th>3800</th>\n",
       "      <td>17.51</td>\n",
       "      <td>260.35</td>\n",
       "      <td>81.70</td>\n",
       "      <td>31.46</td>\n",
       "      <td>13.76</td>\n",
       "      <td>2020-06-17</td>\n",
       "    </tr>\n",
       "    <tr>\n",
       "      <th>3801</th>\n",
       "      <td>17.51</td>\n",
       "      <td>259.04</td>\n",
       "      <td>83.35</td>\n",
       "      <td>31.28</td>\n",
       "      <td>13.76</td>\n",
       "      <td>2020-06-18</td>\n",
       "    </tr>\n",
       "  </tbody>\n",
       "</table>\n",
       "<p>3802 rows × 6 columns</p>\n",
       "</div>"
      ],
      "text/plain": [
       "      AF-01   AF-05  AF-04  AF-03  AF-02      Fecha\n",
       "0     10.53   78.79    NaN  36.08  11.52 2009-10-02\n",
       "1     10.53   78.79    NaN  36.08  11.52 2009-10-03\n",
       "2     10.53   78.79    NaN  37.09  11.52 2009-10-04\n",
       "3     10.53   77.20    NaN  37.09  11.52 2009-10-05\n",
       "4     10.53   77.20    NaN  37.09  11.52 2009-10-06\n",
       "...     ...     ...    ...    ...    ...        ...\n",
       "3797  17.51  258.39  86.36  31.65  13.65 2020-06-14\n",
       "3798  17.51  256.43  82.03  31.46  13.65 2020-06-15\n",
       "3799  17.51  256.43  81.38  31.46  13.65 2020-06-16\n",
       "3800  17.51  260.35  81.70  31.46  13.76 2020-06-17\n",
       "3801  17.51  259.04  83.35  31.28  13.76 2020-06-18\n",
       "\n",
       "[3802 rows x 6 columns]"
      ]
     },
     "execution_count": 21,
     "metadata": {},
     "output_type": "execute_result"
    }
   ],
   "source": [
    "filt['Fecha'] = filt.index\n",
    "filt.reset_index(drop=True, inplace=True)\n",
    "filt"
   ]
  },
  {
   "cell_type": "markdown",
   "metadata": {},
   "source": [
    "# VARIABLES EXTERIORES"
   ]
  },
  {
   "cell_type": "markdown",
   "metadata": {},
   "source": [
    "Carga del dataset de variables exteriores."
   ]
  },
  {
   "cell_type": "code",
   "execution_count": 22,
   "metadata": {},
   "outputs": [
    {
     "data": {
      "text/html": [
       "<div>\n",
       "<style scoped>\n",
       "    .dataframe tbody tr th:only-of-type {\n",
       "        vertical-align: middle;\n",
       "    }\n",
       "\n",
       "    .dataframe tbody tr th {\n",
       "        vertical-align: top;\n",
       "    }\n",
       "\n",
       "    .dataframe thead th {\n",
       "        text-align: right;\n",
       "    }\n",
       "</style>\n",
       "<table border=\"1\" class=\"dataframe\">\n",
       "  <thead>\n",
       "    <tr style=\"text-align: right;\">\n",
       "      <th></th>\n",
       "      <th>Fecha</th>\n",
       "      <th>Sensor</th>\n",
       "      <th>Lectura</th>\n",
       "      <th>Unidades de Lectura</th>\n",
       "      <th>Medida</th>\n",
       "      <th>Unidades de Medida</th>\n",
       "      <th>Flag</th>\n",
       "      <th>Flag Manipulación</th>\n",
       "      <th>Observaciones</th>\n",
       "    </tr>\n",
       "  </thead>\n",
       "  <tbody>\n",
       "    <tr>\n",
       "      <th>0</th>\n",
       "      <td>02/10/2009 00:00:00</td>\n",
       "      <td>EM08Z83PA24H</td>\n",
       "      <td>4.20</td>\n",
       "      <td>l/m²</td>\n",
       "      <td>4.20</td>\n",
       "      <td>l/m²</td>\n",
       "      <td>M</td>\n",
       "      <td>NC</td>\n",
       "      <td>NaN</td>\n",
       "    </tr>\n",
       "    <tr>\n",
       "      <th>1</th>\n",
       "      <td>02/10/2009 00:00:00</td>\n",
       "      <td>EM08Z02TEMPE</td>\n",
       "      <td>19.70</td>\n",
       "      <td>ºC</td>\n",
       "      <td>19.70</td>\n",
       "      <td>ºC</td>\n",
       "      <td>M</td>\n",
       "      <td>NC</td>\n",
       "      <td>NaN</td>\n",
       "    </tr>\n",
       "    <tr>\n",
       "      <th>2</th>\n",
       "      <td>02/10/2009 00:00:00</td>\n",
       "      <td>E008Z17NEMBA</td>\n",
       "      <td>791.28</td>\n",
       "      <td>m.s.n.m.</td>\n",
       "      <td>791.28</td>\n",
       "      <td>m.s.n.m.</td>\n",
       "      <td>M</td>\n",
       "      <td>NC</td>\n",
       "      <td>NaN</td>\n",
       "    </tr>\n",
       "    <tr>\n",
       "      <th>3</th>\n",
       "      <td>03/10/2009 00:00:00</td>\n",
       "      <td>EM08Z83PA24H</td>\n",
       "      <td>4.20</td>\n",
       "      <td>l/m²</td>\n",
       "      <td>4.20</td>\n",
       "      <td>l/m²</td>\n",
       "      <td>M</td>\n",
       "      <td>NC</td>\n",
       "      <td>NaN</td>\n",
       "    </tr>\n",
       "    <tr>\n",
       "      <th>4</th>\n",
       "      <td>03/10/2009 00:00:00</td>\n",
       "      <td>EM08Z02TEMPE</td>\n",
       "      <td>20.00</td>\n",
       "      <td>ºC</td>\n",
       "      <td>20.00</td>\n",
       "      <td>ºC</td>\n",
       "      <td>M</td>\n",
       "      <td>NC</td>\n",
       "      <td>NaN</td>\n",
       "    </tr>\n",
       "  </tbody>\n",
       "</table>\n",
       "</div>"
      ],
      "text/plain": [
       "                 Fecha        Sensor  Lectura Unidades de Lectura  Medida  \\\n",
       "0  02/10/2009 00:00:00  EM08Z83PA24H     4.20                l/m²    4.20   \n",
       "1  02/10/2009 00:00:00  EM08Z02TEMPE    19.70                  ºC   19.70   \n",
       "2  02/10/2009 00:00:00  E008Z17NEMBA   791.28            m.s.n.m.  791.28   \n",
       "3  03/10/2009 00:00:00  EM08Z83PA24H     4.20                l/m²    4.20   \n",
       "4  03/10/2009 00:00:00  EM08Z02TEMPE    20.00                  ºC   20.00   \n",
       "\n",
       "  Unidades de Medida Flag Flag Manipulación Observaciones  \n",
       "0               l/m²    M                NC           NaN  \n",
       "1                 ºC    M                NC           NaN  \n",
       "2           m.s.n.m.    M                NC           NaN  \n",
       "3               l/m²    M                NC           NaN  \n",
       "4                 ºC    M                NC           NaN  "
      ]
     },
     "execution_count": 22,
     "metadata": {},
     "output_type": "execute_result"
    }
   ],
   "source": [
    "df2 = pd.read_excel('Var. ext. E08.xlsx')\n",
    "df2.head()"
   ]
  },
  {
   "cell_type": "markdown",
   "metadata": {},
   "source": [
    "Eliminación de las columnas irrelevantes."
   ]
  },
  {
   "cell_type": "code",
   "execution_count": 23,
   "metadata": {},
   "outputs": [],
   "source": [
    "del df2[\"Lectura\"]\n",
    "del df2[\"Unidades de Lectura\"]\n",
    "del df2[\"Unidades de Medida\"]\n",
    "del df2[\"Flag\"]\n",
    "del df2[\"Flag Manipulación\"]\n",
    "del df2[\"Observaciones\"]"
   ]
  },
  {
   "cell_type": "code",
   "execution_count": 24,
   "metadata": {},
   "outputs": [
    {
     "data": {
      "text/html": [
       "<div>\n",
       "<style scoped>\n",
       "    .dataframe tbody tr th:only-of-type {\n",
       "        vertical-align: middle;\n",
       "    }\n",
       "\n",
       "    .dataframe tbody tr th {\n",
       "        vertical-align: top;\n",
       "    }\n",
       "\n",
       "    .dataframe thead th {\n",
       "        text-align: right;\n",
       "    }\n",
       "</style>\n",
       "<table border=\"1\" class=\"dataframe\">\n",
       "  <thead>\n",
       "    <tr style=\"text-align: right;\">\n",
       "      <th></th>\n",
       "      <th>Fecha</th>\n",
       "      <th>Sensor</th>\n",
       "      <th>Medida</th>\n",
       "    </tr>\n",
       "  </thead>\n",
       "  <tbody>\n",
       "    <tr>\n",
       "      <th>0</th>\n",
       "      <td>02/10/2009 00:00:00</td>\n",
       "      <td>EM08Z83PA24H</td>\n",
       "      <td>4.20</td>\n",
       "    </tr>\n",
       "    <tr>\n",
       "      <th>1</th>\n",
       "      <td>02/10/2009 00:00:00</td>\n",
       "      <td>EM08Z02TEMPE</td>\n",
       "      <td>19.70</td>\n",
       "    </tr>\n",
       "    <tr>\n",
       "      <th>2</th>\n",
       "      <td>02/10/2009 00:00:00</td>\n",
       "      <td>E008Z17NEMBA</td>\n",
       "      <td>791.28</td>\n",
       "    </tr>\n",
       "    <tr>\n",
       "      <th>3</th>\n",
       "      <td>03/10/2009 00:00:00</td>\n",
       "      <td>EM08Z83PA24H</td>\n",
       "      <td>4.20</td>\n",
       "    </tr>\n",
       "    <tr>\n",
       "      <th>4</th>\n",
       "      <td>03/10/2009 00:00:00</td>\n",
       "      <td>EM08Z02TEMPE</td>\n",
       "      <td>20.00</td>\n",
       "    </tr>\n",
       "  </tbody>\n",
       "</table>\n",
       "</div>"
      ],
      "text/plain": [
       "                 Fecha        Sensor  Medida\n",
       "0  02/10/2009 00:00:00  EM08Z83PA24H    4.20\n",
       "1  02/10/2009 00:00:00  EM08Z02TEMPE   19.70\n",
       "2  02/10/2009 00:00:00  E008Z17NEMBA  791.28\n",
       "3  03/10/2009 00:00:00  EM08Z83PA24H    4.20\n",
       "4  03/10/2009 00:00:00  EM08Z02TEMPE   20.00"
      ]
     },
     "execution_count": 24,
     "metadata": {},
     "output_type": "execute_result"
    }
   ],
   "source": [
    "df2.head()"
   ]
  },
  {
   "cell_type": "code",
   "execution_count": 25,
   "metadata": {},
   "outputs": [
    {
     "data": {
      "text/plain": [
       "(12523, 3)"
      ]
     },
     "execution_count": 25,
     "metadata": {},
     "output_type": "execute_result"
    }
   ],
   "source": [
    "df2.shape"
   ]
  },
  {
   "cell_type": "markdown",
   "metadata": {},
   "source": [
    "Conversión de las fechas a formato datetime."
   ]
  },
  {
   "cell_type": "code",
   "execution_count": 26,
   "metadata": {},
   "outputs": [
    {
     "data": {
      "text/html": [
       "<div>\n",
       "<style scoped>\n",
       "    .dataframe tbody tr th:only-of-type {\n",
       "        vertical-align: middle;\n",
       "    }\n",
       "\n",
       "    .dataframe tbody tr th {\n",
       "        vertical-align: top;\n",
       "    }\n",
       "\n",
       "    .dataframe thead th {\n",
       "        text-align: right;\n",
       "    }\n",
       "</style>\n",
       "<table border=\"1\" class=\"dataframe\">\n",
       "  <thead>\n",
       "    <tr style=\"text-align: right;\">\n",
       "      <th></th>\n",
       "      <th>Fecha</th>\n",
       "      <th>Sensor</th>\n",
       "      <th>Medida</th>\n",
       "    </tr>\n",
       "  </thead>\n",
       "  <tbody>\n",
       "    <tr>\n",
       "      <th>0</th>\n",
       "      <td>2009-10-02</td>\n",
       "      <td>EM08Z83PA24H</td>\n",
       "      <td>4.20</td>\n",
       "    </tr>\n",
       "    <tr>\n",
       "      <th>1</th>\n",
       "      <td>2009-10-02</td>\n",
       "      <td>EM08Z02TEMPE</td>\n",
       "      <td>19.70</td>\n",
       "    </tr>\n",
       "    <tr>\n",
       "      <th>2</th>\n",
       "      <td>2009-10-02</td>\n",
       "      <td>E008Z17NEMBA</td>\n",
       "      <td>791.28</td>\n",
       "    </tr>\n",
       "    <tr>\n",
       "      <th>3</th>\n",
       "      <td>2009-10-03</td>\n",
       "      <td>EM08Z83PA24H</td>\n",
       "      <td>4.20</td>\n",
       "    </tr>\n",
       "    <tr>\n",
       "      <th>4</th>\n",
       "      <td>2009-10-03</td>\n",
       "      <td>EM08Z02TEMPE</td>\n",
       "      <td>20.00</td>\n",
       "    </tr>\n",
       "  </tbody>\n",
       "</table>\n",
       "</div>"
      ],
      "text/plain": [
       "       Fecha        Sensor  Medida\n",
       "0 2009-10-02  EM08Z83PA24H    4.20\n",
       "1 2009-10-02  EM08Z02TEMPE   19.70\n",
       "2 2009-10-02  E008Z17NEMBA  791.28\n",
       "3 2009-10-03  EM08Z83PA24H    4.20\n",
       "4 2009-10-03  EM08Z02TEMPE   20.00"
      ]
     },
     "execution_count": 26,
     "metadata": {},
     "output_type": "execute_result"
    }
   ],
   "source": [
    "df2[\"Fecha\"] = pd.to_datetime(df2[\"Fecha\"], format ='%d/%m/%Y %H:%M:%S')\n",
    "df2.head()"
   ]
  },
  {
   "cell_type": "markdown",
   "metadata": {},
   "source": [
    "Comprobación del número de sensores."
   ]
  },
  {
   "cell_type": "code",
   "execution_count": 27,
   "metadata": {},
   "outputs": [
    {
     "data": {
      "text/plain": [
       "array(['EM08Z83PA24H', 'EM08Z02TEMPE', 'E008Z17NEMBA'], dtype=object)"
      ]
     },
     "execution_count": 27,
     "metadata": {},
     "output_type": "execute_result"
    }
   ],
   "source": [
    "df2[\"Sensor\"].unique()"
   ]
  },
  {
   "cell_type": "markdown",
   "metadata": {},
   "source": [
    "Comprobación de los NaN."
   ]
  },
  {
   "cell_type": "code",
   "execution_count": 28,
   "metadata": {},
   "outputs": [
    {
     "name": "stdout",
     "output_type": "stream",
     "text": [
      "Fecha       0\n",
      "Sensor      0\n",
      "Medida    245\n",
      "dtype: int64\n",
      "**************\n",
      "Fecha       0\n",
      "Sensor      0\n",
      "Medida    101\n",
      "dtype: int64\n",
      "**************\n",
      "Fecha      0\n",
      "Sensor     0\n",
      "Medida    13\n",
      "dtype: int64\n",
      "**************\n"
     ]
    }
   ],
   "source": [
    "for i in df2[\"Sensor\"].unique():\n",
    "    print(df2[df2[\"Sensor\"]==i].isnull().sum())\n",
    "    print(\"**************\")"
   ]
  },
  {
   "cell_type": "markdown",
   "metadata": {},
   "source": [
    "Creación de un nuevo dataframe con los valores de fecha y medida de cada sensor."
   ]
  },
  {
   "cell_type": "code",
   "execution_count": 29,
   "metadata": {},
   "outputs": [
    {
     "data": {
      "text/plain": [
       "(7089, 4)"
      ]
     },
     "execution_count": 29,
     "metadata": {},
     "output_type": "execute_result"
    }
   ],
   "source": [
    "varext = pd.merge(df2[df2[\"Sensor\"]==\"EM08Z02TEMPE\"][[\"Fecha\",\"Medida\"]], df2[df2[\"Sensor\"]==\"E008Z17NEMBA\"][[\"Fecha\",\"Medida\"]], on=\"Fecha\", how=\"outer\")\n",
    "varext = pd.merge(varext, df2[df2[\"Sensor\"]==\"EM08Z83PA24H\"][[\"Fecha\",\"Medida\"]], on = \"Fecha\", how=\"outer\")\n",
    "varext.shape"
   ]
  },
  {
   "cell_type": "code",
   "execution_count": 30,
   "metadata": {},
   "outputs": [
    {
     "data": {
      "text/html": [
       "<div>\n",
       "<style scoped>\n",
       "    .dataframe tbody tr th:only-of-type {\n",
       "        vertical-align: middle;\n",
       "    }\n",
       "\n",
       "    .dataframe tbody tr th {\n",
       "        vertical-align: top;\n",
       "    }\n",
       "\n",
       "    .dataframe thead th {\n",
       "        text-align: right;\n",
       "    }\n",
       "</style>\n",
       "<table border=\"1\" class=\"dataframe\">\n",
       "  <thead>\n",
       "    <tr style=\"text-align: right;\">\n",
       "      <th></th>\n",
       "      <th>Fecha</th>\n",
       "      <th>Medida_x</th>\n",
       "      <th>Medida_y</th>\n",
       "      <th>Medida</th>\n",
       "    </tr>\n",
       "  </thead>\n",
       "  <tbody>\n",
       "    <tr>\n",
       "      <th>0</th>\n",
       "      <td>2009-10-02</td>\n",
       "      <td>19.7</td>\n",
       "      <td>791.28</td>\n",
       "      <td>4.2</td>\n",
       "    </tr>\n",
       "    <tr>\n",
       "      <th>1</th>\n",
       "      <td>2009-10-03</td>\n",
       "      <td>20.0</td>\n",
       "      <td>791.28</td>\n",
       "      <td>4.2</td>\n",
       "    </tr>\n",
       "    <tr>\n",
       "      <th>2</th>\n",
       "      <td>2009-10-04</td>\n",
       "      <td>20.3</td>\n",
       "      <td>791.29</td>\n",
       "      <td>0.0</td>\n",
       "    </tr>\n",
       "    <tr>\n",
       "      <th>3</th>\n",
       "      <td>2009-10-05</td>\n",
       "      <td>23.8</td>\n",
       "      <td>791.29</td>\n",
       "      <td>0.0</td>\n",
       "    </tr>\n",
       "    <tr>\n",
       "      <th>4</th>\n",
       "      <td>2009-10-06</td>\n",
       "      <td>26.3</td>\n",
       "      <td>791.29</td>\n",
       "      <td>0.0</td>\n",
       "    </tr>\n",
       "  </tbody>\n",
       "</table>\n",
       "</div>"
      ],
      "text/plain": [
       "       Fecha  Medida_x  Medida_y  Medida\n",
       "0 2009-10-02      19.7    791.28     4.2\n",
       "1 2009-10-03      20.0    791.28     4.2\n",
       "2 2009-10-04      20.3    791.29     0.0\n",
       "3 2009-10-05      23.8    791.29     0.0\n",
       "4 2009-10-06      26.3    791.29     0.0"
      ]
     },
     "execution_count": 30,
     "metadata": {},
     "output_type": "execute_result"
    }
   ],
   "source": [
    "varext.head()"
   ]
  },
  {
   "cell_type": "markdown",
   "metadata": {},
   "source": [
    "Modificación del nombre de las columnas."
   ]
  },
  {
   "cell_type": "code",
   "execution_count": 31,
   "metadata": {},
   "outputs": [],
   "source": [
    "varext.columns = [\"Fecha\",\"Temperatura\",\"Nivel embalse\",\"Precipitaciones\"]"
   ]
  },
  {
   "cell_type": "code",
   "execution_count": 32,
   "metadata": {},
   "outputs": [
    {
     "data": {
      "text/plain": [
       "(7089, 4)"
      ]
     },
     "execution_count": 32,
     "metadata": {},
     "output_type": "execute_result"
    }
   ],
   "source": [
    "varext.shape"
   ]
  },
  {
   "cell_type": "markdown",
   "metadata": {},
   "source": [
    "Convergencia de las fechas duplicadas mediante una media."
   ]
  },
  {
   "cell_type": "code",
   "execution_count": 33,
   "metadata": {},
   "outputs": [
    {
     "data": {
      "text/html": [
       "<div>\n",
       "<style scoped>\n",
       "    .dataframe tbody tr th:only-of-type {\n",
       "        vertical-align: middle;\n",
       "    }\n",
       "\n",
       "    .dataframe tbody tr th {\n",
       "        vertical-align: top;\n",
       "    }\n",
       "\n",
       "    .dataframe thead th {\n",
       "        text-align: right;\n",
       "    }\n",
       "</style>\n",
       "<table border=\"1\" class=\"dataframe\">\n",
       "  <thead>\n",
       "    <tr style=\"text-align: right;\">\n",
       "      <th></th>\n",
       "      <th>Temperatura</th>\n",
       "      <th>Nivel embalse</th>\n",
       "      <th>Precipitaciones</th>\n",
       "    </tr>\n",
       "    <tr>\n",
       "      <th>Fecha</th>\n",
       "      <th></th>\n",
       "      <th></th>\n",
       "      <th></th>\n",
       "    </tr>\n",
       "  </thead>\n",
       "  <tbody>\n",
       "    <tr>\n",
       "      <th>2009-10-02</th>\n",
       "      <td>19.7</td>\n",
       "      <td>791.28</td>\n",
       "      <td>4.2</td>\n",
       "    </tr>\n",
       "    <tr>\n",
       "      <th>2009-10-03</th>\n",
       "      <td>20.0</td>\n",
       "      <td>791.28</td>\n",
       "      <td>4.2</td>\n",
       "    </tr>\n",
       "    <tr>\n",
       "      <th>2009-10-04</th>\n",
       "      <td>20.3</td>\n",
       "      <td>791.29</td>\n",
       "      <td>0.0</td>\n",
       "    </tr>\n",
       "    <tr>\n",
       "      <th>2009-10-05</th>\n",
       "      <td>23.8</td>\n",
       "      <td>791.29</td>\n",
       "      <td>0.0</td>\n",
       "    </tr>\n",
       "    <tr>\n",
       "      <th>2009-10-06</th>\n",
       "      <td>26.3</td>\n",
       "      <td>791.29</td>\n",
       "      <td>0.0</td>\n",
       "    </tr>\n",
       "    <tr>\n",
       "      <th>...</th>\n",
       "      <td>...</td>\n",
       "      <td>...</td>\n",
       "      <td>...</td>\n",
       "    </tr>\n",
       "    <tr>\n",
       "      <th>2020-06-14</th>\n",
       "      <td>17.2</td>\n",
       "      <td>799.80</td>\n",
       "      <td>0.0</td>\n",
       "    </tr>\n",
       "    <tr>\n",
       "      <th>2020-06-15</th>\n",
       "      <td>19.7</td>\n",
       "      <td>799.84</td>\n",
       "      <td>0.0</td>\n",
       "    </tr>\n",
       "    <tr>\n",
       "      <th>2020-06-16</th>\n",
       "      <td>20.1</td>\n",
       "      <td>799.86</td>\n",
       "      <td>7.0</td>\n",
       "    </tr>\n",
       "    <tr>\n",
       "      <th>2020-06-17</th>\n",
       "      <td>19.3</td>\n",
       "      <td>799.89</td>\n",
       "      <td>0.4</td>\n",
       "    </tr>\n",
       "    <tr>\n",
       "      <th>2020-06-18</th>\n",
       "      <td>16.2</td>\n",
       "      <td>799.91</td>\n",
       "      <td>6.1</td>\n",
       "    </tr>\n",
       "  </tbody>\n",
       "</table>\n",
       "<p>3904 rows × 3 columns</p>\n",
       "</div>"
      ],
      "text/plain": [
       "            Temperatura  Nivel embalse  Precipitaciones\n",
       "Fecha                                                  \n",
       "2009-10-02         19.7         791.28              4.2\n",
       "2009-10-03         20.0         791.28              4.2\n",
       "2009-10-04         20.3         791.29              0.0\n",
       "2009-10-05         23.8         791.29              0.0\n",
       "2009-10-06         26.3         791.29              0.0\n",
       "...                 ...            ...              ...\n",
       "2020-06-14         17.2         799.80              0.0\n",
       "2020-06-15         19.7         799.84              0.0\n",
       "2020-06-16         20.1         799.86              7.0\n",
       "2020-06-17         19.3         799.89              0.4\n",
       "2020-06-18         16.2         799.91              6.1\n",
       "\n",
       "[3904 rows x 3 columns]"
      ]
     },
     "execution_count": 33,
     "metadata": {},
     "output_type": "execute_result"
    }
   ],
   "source": [
    "varext = varext.resample('d', on='Fecha').mean().dropna(how='all')\n",
    "varext"
   ]
  },
  {
   "cell_type": "markdown",
   "metadata": {},
   "source": [
    "Generación de gráficos."
   ]
  },
  {
   "cell_type": "code",
   "execution_count": 34,
   "metadata": {},
   "outputs": [
    {
     "data": {
      "text/plain": [
       "[<matplotlib.lines.Line2D at 0x1fab13ba888>]"
      ]
     },
     "execution_count": 34,
     "metadata": {},
     "output_type": "execute_result"
    },
    {
     "data": {
      "image/png": "[encoded data removed]",
      "text/plain": [
       "<Figure size 432x288 with 1 Axes>"
      ]
     },
     "metadata": {
      "needs_background": "light"
     },
     "output_type": "display_data"
    }
   ],
   "source": [
    "plt.plot(varext[\"Temperatura\"], color = \"blue\")\n",
    "plt.plot(varext[\"Nivel embalse\"], color = \"green\")\n",
    "plt.plot(varext[\"Precipitaciones\"], color = \"pink\")"
   ]
  },
  {
   "cell_type": "markdown",
   "metadata": {},
   "source": [
    "Reorganización del dataframe para que la fecha no constituya el índice (y no dé problemas)."
   ]
  },
  {
   "cell_type": "code",
   "execution_count": 35,
   "metadata": {},
   "outputs": [
    {
     "data": {
      "text/html": [
       "<div>\n",
       "<style scoped>\n",
       "    .dataframe tbody tr th:only-of-type {\n",
       "        vertical-align: middle;\n",
       "    }\n",
       "\n",
       "    .dataframe tbody tr th {\n",
       "        vertical-align: top;\n",
       "    }\n",
       "\n",
       "    .dataframe thead th {\n",
       "        text-align: right;\n",
       "    }\n",
       "</style>\n",
       "<table border=\"1\" class=\"dataframe\">\n",
       "  <thead>\n",
       "    <tr style=\"text-align: right;\">\n",
       "      <th></th>\n",
       "      <th>Temperatura</th>\n",
       "      <th>Nivel embalse</th>\n",
       "      <th>Precipitaciones</th>\n",
       "      <th>Fecha</th>\n",
       "    </tr>\n",
       "  </thead>\n",
       "  <tbody>\n",
       "    <tr>\n",
       "      <th>0</th>\n",
       "      <td>19.7</td>\n",
       "      <td>791.28</td>\n",
       "      <td>4.2</td>\n",
       "      <td>2009-10-02</td>\n",
       "    </tr>\n",
       "    <tr>\n",
       "      <th>1</th>\n",
       "      <td>20.0</td>\n",
       "      <td>791.28</td>\n",
       "      <td>4.2</td>\n",
       "      <td>2009-10-03</td>\n",
       "    </tr>\n",
       "    <tr>\n",
       "      <th>2</th>\n",
       "      <td>20.3</td>\n",
       "      <td>791.29</td>\n",
       "      <td>0.0</td>\n",
       "      <td>2009-10-04</td>\n",
       "    </tr>\n",
       "    <tr>\n",
       "      <th>3</th>\n",
       "      <td>23.8</td>\n",
       "      <td>791.29</td>\n",
       "      <td>0.0</td>\n",
       "      <td>2009-10-05</td>\n",
       "    </tr>\n",
       "    <tr>\n",
       "      <th>4</th>\n",
       "      <td>26.3</td>\n",
       "      <td>791.29</td>\n",
       "      <td>0.0</td>\n",
       "      <td>2009-10-06</td>\n",
       "    </tr>\n",
       "    <tr>\n",
       "      <th>...</th>\n",
       "      <td>...</td>\n",
       "      <td>...</td>\n",
       "      <td>...</td>\n",
       "      <td>...</td>\n",
       "    </tr>\n",
       "    <tr>\n",
       "      <th>3899</th>\n",
       "      <td>17.2</td>\n",
       "      <td>799.80</td>\n",
       "      <td>0.0</td>\n",
       "      <td>2020-06-14</td>\n",
       "    </tr>\n",
       "    <tr>\n",
       "      <th>3900</th>\n",
       "      <td>19.7</td>\n",
       "      <td>799.84</td>\n",
       "      <td>0.0</td>\n",
       "      <td>2020-06-15</td>\n",
       "    </tr>\n",
       "    <tr>\n",
       "      <th>3901</th>\n",
       "      <td>20.1</td>\n",
       "      <td>799.86</td>\n",
       "      <td>7.0</td>\n",
       "      <td>2020-06-16</td>\n",
       "    </tr>\n",
       "    <tr>\n",
       "      <th>3902</th>\n",
       "      <td>19.3</td>\n",
       "      <td>799.89</td>\n",
       "      <td>0.4</td>\n",
       "      <td>2020-06-17</td>\n",
       "    </tr>\n",
       "    <tr>\n",
       "      <th>3903</th>\n",
       "      <td>16.2</td>\n",
       "      <td>799.91</td>\n",
       "      <td>6.1</td>\n",
       "      <td>2020-06-18</td>\n",
       "    </tr>\n",
       "  </tbody>\n",
       "</table>\n",
       "<p>3904 rows × 4 columns</p>\n",
       "</div>"
      ],
      "text/plain": [
       "      Temperatura  Nivel embalse  Precipitaciones      Fecha\n",
       "0            19.7         791.28              4.2 2009-10-02\n",
       "1            20.0         791.28              4.2 2009-10-03\n",
       "2            20.3         791.29              0.0 2009-10-04\n",
       "3            23.8         791.29              0.0 2009-10-05\n",
       "4            26.3         791.29              0.0 2009-10-06\n",
       "...           ...            ...              ...        ...\n",
       "3899         17.2         799.80              0.0 2020-06-14\n",
       "3900         19.7         799.84              0.0 2020-06-15\n",
       "3901         20.1         799.86              7.0 2020-06-16\n",
       "3902         19.3         799.89              0.4 2020-06-17\n",
       "3903         16.2         799.91              6.1 2020-06-18\n",
       "\n",
       "[3904 rows x 4 columns]"
      ]
     },
     "execution_count": 35,
     "metadata": {},
     "output_type": "execute_result"
    }
   ],
   "source": [
    "varext['Fecha'] = varext.index\n",
    "varext.reset_index(drop=True, inplace=True)\n",
    "varext"
   ]
  },
  {
   "cell_type": "markdown",
   "metadata": {},
   "source": [
    "# PRESIONES"
   ]
  },
  {
   "cell_type": "markdown",
   "metadata": {},
   "source": [
    "Carga del dataset de las presiones."
   ]
  },
  {
   "cell_type": "code",
   "execution_count": 36,
   "metadata": {},
   "outputs": [
    {
     "data": {
      "text/html": [
       "<div>\n",
       "<style scoped>\n",
       "    .dataframe tbody tr th:only-of-type {\n",
       "        vertical-align: middle;\n",
       "    }\n",
       "\n",
       "    .dataframe tbody tr th {\n",
       "        vertical-align: top;\n",
       "    }\n",
       "\n",
       "    .dataframe thead th {\n",
       "        text-align: right;\n",
       "    }\n",
       "</style>\n",
       "<table border=\"1\" class=\"dataframe\">\n",
       "  <thead>\n",
       "    <tr style=\"text-align: right;\">\n",
       "      <th></th>\n",
       "      <th>Fecha</th>\n",
       "      <th>Sensor</th>\n",
       "      <th>Lectura</th>\n",
       "      <th>Unidades de Lectura</th>\n",
       "      <th>Medida</th>\n",
       "      <th>Unidades de Medida</th>\n",
       "      <th>Flag</th>\n",
       "      <th>Flag Manipulación</th>\n",
       "      <th>Observaciones</th>\n",
       "    </tr>\n",
       "  </thead>\n",
       "  <tbody>\n",
       "    <tr>\n",
       "      <th>0</th>\n",
       "      <td>19/10/2009 00:00:00</td>\n",
       "      <td>E008ZUPCVP03</td>\n",
       "      <td>0.0</td>\n",
       "      <td>Hz</td>\n",
       "      <td>0.82</td>\n",
       "      <td>kg/cm²</td>\n",
       "      <td>M</td>\n",
       "      <td>NC</td>\n",
       "      <td>NaN</td>\n",
       "    </tr>\n",
       "    <tr>\n",
       "      <th>1</th>\n",
       "      <td>19/10/2009 00:00:00</td>\n",
       "      <td>E008ZUPCVP05</td>\n",
       "      <td>0.0</td>\n",
       "      <td>Hz</td>\n",
       "      <td>1.18</td>\n",
       "      <td>kg/cm²</td>\n",
       "      <td>M</td>\n",
       "      <td>NC</td>\n",
       "      <td>NaN</td>\n",
       "    </tr>\n",
       "    <tr>\n",
       "      <th>2</th>\n",
       "      <td>19/10/2009 00:00:00</td>\n",
       "      <td>E008ZUPCVP08</td>\n",
       "      <td>0.0</td>\n",
       "      <td>Hz</td>\n",
       "      <td>0.40</td>\n",
       "      <td>kg/cm²</td>\n",
       "      <td>M</td>\n",
       "      <td>NC</td>\n",
       "      <td>NaN</td>\n",
       "    </tr>\n",
       "    <tr>\n",
       "      <th>3</th>\n",
       "      <td>19/10/2009 00:00:00</td>\n",
       "      <td>E008ZUPCVP11</td>\n",
       "      <td>0.0</td>\n",
       "      <td>Hz</td>\n",
       "      <td>0.26</td>\n",
       "      <td>kg/cm²</td>\n",
       "      <td>M</td>\n",
       "      <td>NC</td>\n",
       "      <td>NaN</td>\n",
       "    </tr>\n",
       "    <tr>\n",
       "      <th>4</th>\n",
       "      <td>19/10/2009 00:00:00</td>\n",
       "      <td>E008ZUPCVP13</td>\n",
       "      <td>0.0</td>\n",
       "      <td>Hz</td>\n",
       "      <td>2.17</td>\n",
       "      <td>kg/cm²</td>\n",
       "      <td>M</td>\n",
       "      <td>NC</td>\n",
       "      <td>NaN</td>\n",
       "    </tr>\n",
       "  </tbody>\n",
       "</table>\n",
       "</div>"
      ],
      "text/plain": [
       "                 Fecha        Sensor  Lectura Unidades de Lectura  Medida  \\\n",
       "0  19/10/2009 00:00:00  E008ZUPCVP03      0.0                  Hz    0.82   \n",
       "1  19/10/2009 00:00:00  E008ZUPCVP05      0.0                  Hz    1.18   \n",
       "2  19/10/2009 00:00:00  E008ZUPCVP08      0.0                  Hz    0.40   \n",
       "3  19/10/2009 00:00:00  E008ZUPCVP11      0.0                  Hz    0.26   \n",
       "4  19/10/2009 00:00:00  E008ZUPCVP13      0.0                  Hz    2.17   \n",
       "\n",
       "  Unidades de Medida Flag Flag Manipulación Observaciones  \n",
       "0             kg/cm²    M                NC           NaN  \n",
       "1             kg/cm²    M                NC           NaN  \n",
       "2             kg/cm²    M                NC           NaN  \n",
       "3             kg/cm²    M                NC           NaN  \n",
       "4             kg/cm²    M                NC           NaN  "
      ]
     },
     "execution_count": 36,
     "metadata": {},
     "output_type": "execute_result"
    }
   ],
   "source": [
    "df3 = pd.read_excel(\"Presiones E08.xlsx\")\n",
    "df3.head()"
   ]
  },
  {
   "cell_type": "markdown",
   "metadata": {},
   "source": [
    "Eliminación de las columnas irrelevantes."
   ]
  },
  {
   "cell_type": "code",
   "execution_count": 37,
   "metadata": {},
   "outputs": [],
   "source": [
    "del df3[\"Lectura\"]\n",
    "del df3[\"Unidades de Lectura\"]\n",
    "del df3[\"Unidades de Medida\"]\n",
    "del df3[\"Flag\"]\n",
    "del df3[\"Flag Manipulación\"]\n",
    "del df3[\"Observaciones\"]"
   ]
  },
  {
   "cell_type": "code",
   "execution_count": 38,
   "metadata": {},
   "outputs": [
    {
     "data": {
      "text/html": [
       "<div>\n",
       "<style scoped>\n",
       "    .dataframe tbody tr th:only-of-type {\n",
       "        vertical-align: middle;\n",
       "    }\n",
       "\n",
       "    .dataframe tbody tr th {\n",
       "        vertical-align: top;\n",
       "    }\n",
       "\n",
       "    .dataframe thead th {\n",
       "        text-align: right;\n",
       "    }\n",
       "</style>\n",
       "<table border=\"1\" class=\"dataframe\">\n",
       "  <thead>\n",
       "    <tr style=\"text-align: right;\">\n",
       "      <th></th>\n",
       "      <th>Fecha</th>\n",
       "      <th>Sensor</th>\n",
       "      <th>Medida</th>\n",
       "    </tr>\n",
       "  </thead>\n",
       "  <tbody>\n",
       "    <tr>\n",
       "      <th>0</th>\n",
       "      <td>19/10/2009 00:00:00</td>\n",
       "      <td>E008ZUPCVP03</td>\n",
       "      <td>0.82</td>\n",
       "    </tr>\n",
       "    <tr>\n",
       "      <th>1</th>\n",
       "      <td>19/10/2009 00:00:00</td>\n",
       "      <td>E008ZUPCVP05</td>\n",
       "      <td>1.18</td>\n",
       "    </tr>\n",
       "    <tr>\n",
       "      <th>2</th>\n",
       "      <td>19/10/2009 00:00:00</td>\n",
       "      <td>E008ZUPCVP08</td>\n",
       "      <td>0.40</td>\n",
       "    </tr>\n",
       "    <tr>\n",
       "      <th>3</th>\n",
       "      <td>19/10/2009 00:00:00</td>\n",
       "      <td>E008ZUPCVP11</td>\n",
       "      <td>0.26</td>\n",
       "    </tr>\n",
       "    <tr>\n",
       "      <th>4</th>\n",
       "      <td>19/10/2009 00:00:00</td>\n",
       "      <td>E008ZUPCVP13</td>\n",
       "      <td>2.17</td>\n",
       "    </tr>\n",
       "  </tbody>\n",
       "</table>\n",
       "</div>"
      ],
      "text/plain": [
       "                 Fecha        Sensor  Medida\n",
       "0  19/10/2009 00:00:00  E008ZUPCVP03    0.82\n",
       "1  19/10/2009 00:00:00  E008ZUPCVP05    1.18\n",
       "2  19/10/2009 00:00:00  E008ZUPCVP08    0.40\n",
       "3  19/10/2009 00:00:00  E008ZUPCVP11    0.26\n",
       "4  19/10/2009 00:00:00  E008ZUPCVP13    2.17"
      ]
     },
     "execution_count": 38,
     "metadata": {},
     "output_type": "execute_result"
    }
   ],
   "source": [
    "df3.head()"
   ]
  },
  {
   "cell_type": "code",
   "execution_count": 39,
   "metadata": {},
   "outputs": [
    {
     "data": {
      "text/plain": [
       "(57007, 3)"
      ]
     },
     "execution_count": 39,
     "metadata": {},
     "output_type": "execute_result"
    }
   ],
   "source": [
    "df3.shape"
   ]
  },
  {
   "cell_type": "markdown",
   "metadata": {},
   "source": [
    "Conversión de las fechas a formato datetime."
   ]
  },
  {
   "cell_type": "code",
   "execution_count": 40,
   "metadata": {},
   "outputs": [
    {
     "data": {
      "text/html": [
       "<div>\n",
       "<style scoped>\n",
       "    .dataframe tbody tr th:only-of-type {\n",
       "        vertical-align: middle;\n",
       "    }\n",
       "\n",
       "    .dataframe tbody tr th {\n",
       "        vertical-align: top;\n",
       "    }\n",
       "\n",
       "    .dataframe thead th {\n",
       "        text-align: right;\n",
       "    }\n",
       "</style>\n",
       "<table border=\"1\" class=\"dataframe\">\n",
       "  <thead>\n",
       "    <tr style=\"text-align: right;\">\n",
       "      <th></th>\n",
       "      <th>Fecha</th>\n",
       "      <th>Sensor</th>\n",
       "      <th>Medida</th>\n",
       "    </tr>\n",
       "  </thead>\n",
       "  <tbody>\n",
       "    <tr>\n",
       "      <th>0</th>\n",
       "      <td>2009-10-19</td>\n",
       "      <td>E008ZUPCVP03</td>\n",
       "      <td>0.82</td>\n",
       "    </tr>\n",
       "    <tr>\n",
       "      <th>1</th>\n",
       "      <td>2009-10-19</td>\n",
       "      <td>E008ZUPCVP05</td>\n",
       "      <td>1.18</td>\n",
       "    </tr>\n",
       "    <tr>\n",
       "      <th>2</th>\n",
       "      <td>2009-10-19</td>\n",
       "      <td>E008ZUPCVP08</td>\n",
       "      <td>0.40</td>\n",
       "    </tr>\n",
       "    <tr>\n",
       "      <th>3</th>\n",
       "      <td>2009-10-19</td>\n",
       "      <td>E008ZUPCVP11</td>\n",
       "      <td>0.26</td>\n",
       "    </tr>\n",
       "    <tr>\n",
       "      <th>4</th>\n",
       "      <td>2009-10-19</td>\n",
       "      <td>E008ZUPCVP13</td>\n",
       "      <td>2.17</td>\n",
       "    </tr>\n",
       "  </tbody>\n",
       "</table>\n",
       "</div>"
      ],
      "text/plain": [
       "       Fecha        Sensor  Medida\n",
       "0 2009-10-19  E008ZUPCVP03    0.82\n",
       "1 2009-10-19  E008ZUPCVP05    1.18\n",
       "2 2009-10-19  E008ZUPCVP08    0.40\n",
       "3 2009-10-19  E008ZUPCVP11    0.26\n",
       "4 2009-10-19  E008ZUPCVP13    2.17"
      ]
     },
     "execution_count": 40,
     "metadata": {},
     "output_type": "execute_result"
    }
   ],
   "source": [
    "df3[\"Fecha\"] = pd.to_datetime(df3[\"Fecha\"], format ='%d/%m/%Y %H:%M:%S')\n",
    "df3.head()"
   ]
  },
  {
   "cell_type": "markdown",
   "metadata": {},
   "source": [
    "Comprobación del número de piezómetros."
   ]
  },
  {
   "cell_type": "code",
   "execution_count": 41,
   "metadata": {},
   "outputs": [
    {
     "data": {
      "text/plain": [
       "array(['E008ZUPCVP03', 'E008ZUPCVP05', 'E008ZUPCVP08', 'E008ZUPCVP11',\n",
       "       'E008ZUPCVP13', 'E008ZUPCVP16', 'E008ZUPCVP09', 'E008ZUPCVP15',\n",
       "       'E008ZUPCVP01', 'E008ZUPCVP02', 'E008ZUPCVP04', 'E008ZUPCVP12',\n",
       "       'E008ZUPCVP06', 'E008ZUPCVP07', 'E008ZUPCVP17', 'E008ZUPCVP18',\n",
       "       'E008UMPAC006', 'E008UMPAC001', 'E008UMPAC005', 'E008UMPAC004',\n",
       "       'E008UMPAC003', 'E008UMPAC007', 'E008UMPAC002', 'E008UMPNP002',\n",
       "       'E008UMPNP001', 'E008ZUPCVP14', 'E008ZUPCVP10'], dtype=object)"
      ]
     },
     "execution_count": 41,
     "metadata": {},
     "output_type": "execute_result"
    }
   ],
   "source": [
    "df3[\"Sensor\"].unique()"
   ]
  },
  {
   "cell_type": "markdown",
   "metadata": {},
   "source": [
    "Selección de los valores de los piezómetros de cuerda vibrante."
   ]
  },
  {
   "cell_type": "code",
   "execution_count": 42,
   "metadata": {},
   "outputs": [],
   "source": [
    "df3 = df3[df3[\"Sensor\"].isin([\"E008ZUPCVP01\", \"E008ZUPCVP02\", \"E008ZUPCVP03\", \"E008ZUPCVP04\", \"E008ZUPCVP05\", \"E008ZUPCVP06\", \"E008ZUPCVP07\", \"E008ZUPCVP08\", \"E008ZUPCVP09\", \"E008ZUPCVP10\", \"E008ZUPCVP11\", \"E008ZUPCVP12\", \"E008ZUPCVP13\", \"E008ZUPCVP14\",])]"
   ]
  },
  {
   "cell_type": "code",
   "execution_count": 43,
   "metadata": {},
   "outputs": [
    {
     "data": {
      "text/html": [
       "<div>\n",
       "<style scoped>\n",
       "    .dataframe tbody tr th:only-of-type {\n",
       "        vertical-align: middle;\n",
       "    }\n",
       "\n",
       "    .dataframe tbody tr th {\n",
       "        vertical-align: top;\n",
       "    }\n",
       "\n",
       "    .dataframe thead th {\n",
       "        text-align: right;\n",
       "    }\n",
       "</style>\n",
       "<table border=\"1\" class=\"dataframe\">\n",
       "  <thead>\n",
       "    <tr style=\"text-align: right;\">\n",
       "      <th></th>\n",
       "      <th>Fecha</th>\n",
       "      <th>Sensor</th>\n",
       "      <th>Medida</th>\n",
       "    </tr>\n",
       "  </thead>\n",
       "  <tbody>\n",
       "    <tr>\n",
       "      <th>0</th>\n",
       "      <td>2009-10-19 00:00:00</td>\n",
       "      <td>E008ZUPCVP03</td>\n",
       "      <td>0.82</td>\n",
       "    </tr>\n",
       "    <tr>\n",
       "      <th>1</th>\n",
       "      <td>2009-10-19 00:00:00</td>\n",
       "      <td>E008ZUPCVP05</td>\n",
       "      <td>1.18</td>\n",
       "    </tr>\n",
       "    <tr>\n",
       "      <th>2</th>\n",
       "      <td>2009-10-19 00:00:00</td>\n",
       "      <td>E008ZUPCVP08</td>\n",
       "      <td>0.40</td>\n",
       "    </tr>\n",
       "    <tr>\n",
       "      <th>3</th>\n",
       "      <td>2009-10-19 00:00:00</td>\n",
       "      <td>E008ZUPCVP11</td>\n",
       "      <td>0.26</td>\n",
       "    </tr>\n",
       "    <tr>\n",
       "      <th>4</th>\n",
       "      <td>2009-10-19 00:00:00</td>\n",
       "      <td>E008ZUPCVP13</td>\n",
       "      <td>2.17</td>\n",
       "    </tr>\n",
       "    <tr>\n",
       "      <th>...</th>\n",
       "      <td>...</td>\n",
       "      <td>...</td>\n",
       "      <td>...</td>\n",
       "    </tr>\n",
       "    <tr>\n",
       "      <th>57000</th>\n",
       "      <td>2020-06-18 07:00:00</td>\n",
       "      <td>E008ZUPCVP02</td>\n",
       "      <td>0.73</td>\n",
       "    </tr>\n",
       "    <tr>\n",
       "      <th>57001</th>\n",
       "      <td>2020-06-18 07:00:00</td>\n",
       "      <td>E008ZUPCVP04</td>\n",
       "      <td>-0.24</td>\n",
       "    </tr>\n",
       "    <tr>\n",
       "      <th>57002</th>\n",
       "      <td>2020-06-18 07:00:00</td>\n",
       "      <td>E008ZUPCVP10</td>\n",
       "      <td>NaN</td>\n",
       "    </tr>\n",
       "    <tr>\n",
       "      <th>57003</th>\n",
       "      <td>2020-06-18 07:00:00</td>\n",
       "      <td>E008ZUPCVP12</td>\n",
       "      <td>4.28</td>\n",
       "    </tr>\n",
       "    <tr>\n",
       "      <th>57004</th>\n",
       "      <td>2020-06-18 07:00:00</td>\n",
       "      <td>E008ZUPCVP06</td>\n",
       "      <td>0.20</td>\n",
       "    </tr>\n",
       "  </tbody>\n",
       "</table>\n",
       "<p>42272 rows × 3 columns</p>\n",
       "</div>"
      ],
      "text/plain": [
       "                    Fecha        Sensor  Medida\n",
       "0     2009-10-19 00:00:00  E008ZUPCVP03    0.82\n",
       "1     2009-10-19 00:00:00  E008ZUPCVP05    1.18\n",
       "2     2009-10-19 00:00:00  E008ZUPCVP08    0.40\n",
       "3     2009-10-19 00:00:00  E008ZUPCVP11    0.26\n",
       "4     2009-10-19 00:00:00  E008ZUPCVP13    2.17\n",
       "...                   ...           ...     ...\n",
       "57000 2020-06-18 07:00:00  E008ZUPCVP02    0.73\n",
       "57001 2020-06-18 07:00:00  E008ZUPCVP04   -0.24\n",
       "57002 2020-06-18 07:00:00  E008ZUPCVP10     NaN\n",
       "57003 2020-06-18 07:00:00  E008ZUPCVP12    4.28\n",
       "57004 2020-06-18 07:00:00  E008ZUPCVP06    0.20\n",
       "\n",
       "[42272 rows x 3 columns]"
      ]
     },
     "execution_count": 43,
     "metadata": {},
     "output_type": "execute_result"
    }
   ],
   "source": [
    "df3"
   ]
  },
  {
   "cell_type": "markdown",
   "metadata": {},
   "source": [
    "Comprobación de los NaN."
   ]
  },
  {
   "cell_type": "code",
   "execution_count": 44,
   "metadata": {},
   "outputs": [
    {
     "name": "stdout",
     "output_type": "stream",
     "text": [
      "Fecha       0\n",
      "Sensor      0\n",
      "Medida    471\n",
      "dtype: int64\n",
      "**************\n",
      "Fecha      0\n",
      "Sensor     0\n",
      "Medida    40\n",
      "dtype: int64\n",
      "**************\n",
      "Fecha      0\n",
      "Sensor     0\n",
      "Medida    89\n",
      "dtype: int64\n",
      "**************\n",
      "Fecha      0\n",
      "Sensor     0\n",
      "Medida    87\n",
      "dtype: int64\n",
      "**************\n",
      "Fecha      0\n",
      "Sensor     0\n",
      "Medida    88\n",
      "dtype: int64\n",
      "**************\n",
      "Fecha      0\n",
      "Sensor     0\n",
      "Medida    37\n",
      "dtype: int64\n",
      "**************\n",
      "Fecha      0\n",
      "Sensor     0\n",
      "Medida    37\n",
      "dtype: int64\n",
      "**************\n",
      "Fecha      0\n",
      "Sensor     0\n",
      "Medida    37\n",
      "dtype: int64\n",
      "**************\n",
      "Fecha      0\n",
      "Sensor     0\n",
      "Medida    37\n",
      "dtype: int64\n",
      "**************\n",
      "Fecha      0\n",
      "Sensor     0\n",
      "Medida    86\n",
      "dtype: int64\n",
      "**************\n",
      "Fecha      0\n",
      "Sensor     0\n",
      "Medida    37\n",
      "dtype: int64\n",
      "**************\n",
      "Fecha       0\n",
      "Sensor      0\n",
      "Medida    753\n",
      "dtype: int64\n",
      "**************\n",
      "Fecha      0\n",
      "Sensor     0\n",
      "Medida    88\n",
      "dtype: int64\n",
      "**************\n",
      "Fecha       0\n",
      "Sensor      0\n",
      "Medida    916\n",
      "dtype: int64\n",
      "**************\n"
     ]
    }
   ],
   "source": [
    "for i in df3[\"Sensor\"].unique():\n",
    "    print(df3[df3[\"Sensor\"]==i].isnull().sum())\n",
    "    print(\"**************\")"
   ]
  },
  {
   "cell_type": "markdown",
   "metadata": {},
   "source": [
    "Reorganización del dataframe para que los sensores se conviertan en columnas."
   ]
  },
  {
   "cell_type": "code",
   "execution_count": 45,
   "metadata": {},
   "outputs": [
    {
     "data": {
      "text/html": [
       "<div>\n",
       "<style scoped>\n",
       "    .dataframe tbody tr th:only-of-type {\n",
       "        vertical-align: middle;\n",
       "    }\n",
       "\n",
       "    .dataframe tbody tr th {\n",
       "        vertical-align: top;\n",
       "    }\n",
       "\n",
       "    .dataframe thead th {\n",
       "        text-align: right;\n",
       "    }\n",
       "</style>\n",
       "<table border=\"1\" class=\"dataframe\">\n",
       "  <thead>\n",
       "    <tr style=\"text-align: right;\">\n",
       "      <th>Sensor</th>\n",
       "      <th>E008ZUPCVP01</th>\n",
       "      <th>E008ZUPCVP02</th>\n",
       "      <th>E008ZUPCVP03</th>\n",
       "      <th>E008ZUPCVP04</th>\n",
       "      <th>E008ZUPCVP05</th>\n",
       "      <th>E008ZUPCVP06</th>\n",
       "      <th>E008ZUPCVP07</th>\n",
       "      <th>E008ZUPCVP08</th>\n",
       "      <th>E008ZUPCVP09</th>\n",
       "      <th>E008ZUPCVP10</th>\n",
       "      <th>E008ZUPCVP11</th>\n",
       "      <th>E008ZUPCVP12</th>\n",
       "      <th>E008ZUPCVP13</th>\n",
       "      <th>E008ZUPCVP14</th>\n",
       "    </tr>\n",
       "    <tr>\n",
       "      <th>Fecha</th>\n",
       "      <th></th>\n",
       "      <th></th>\n",
       "      <th></th>\n",
       "      <th></th>\n",
       "      <th></th>\n",
       "      <th></th>\n",
       "      <th></th>\n",
       "      <th></th>\n",
       "      <th></th>\n",
       "      <th></th>\n",
       "      <th></th>\n",
       "      <th></th>\n",
       "      <th></th>\n",
       "      <th></th>\n",
       "    </tr>\n",
       "  </thead>\n",
       "  <tbody>\n",
       "    <tr>\n",
       "      <th>2009-10-19</th>\n",
       "      <td>2.38</td>\n",
       "      <td>0.78</td>\n",
       "      <td>0.82</td>\n",
       "      <td>-0.14</td>\n",
       "      <td>1.18</td>\n",
       "      <td>0.68</td>\n",
       "      <td>0.35</td>\n",
       "      <td>0.40</td>\n",
       "      <td>0.52</td>\n",
       "      <td>NaN</td>\n",
       "      <td>0.26</td>\n",
       "      <td>4.22</td>\n",
       "      <td>2.17</td>\n",
       "      <td>NaN</td>\n",
       "    </tr>\n",
       "    <tr>\n",
       "      <th>2009-11-24</th>\n",
       "      <td>2.38</td>\n",
       "      <td>0.83</td>\n",
       "      <td>0.93</td>\n",
       "      <td>-0.07</td>\n",
       "      <td>1.10</td>\n",
       "      <td>0.68</td>\n",
       "      <td>0.36</td>\n",
       "      <td>0.41</td>\n",
       "      <td>0.53</td>\n",
       "      <td>NaN</td>\n",
       "      <td>0.26</td>\n",
       "      <td>4.16</td>\n",
       "      <td>2.17</td>\n",
       "      <td>NaN</td>\n",
       "    </tr>\n",
       "    <tr>\n",
       "      <th>2009-12-14</th>\n",
       "      <td>2.38</td>\n",
       "      <td>0.78</td>\n",
       "      <td>0.86</td>\n",
       "      <td>-0.13</td>\n",
       "      <td>1.06</td>\n",
       "      <td>0.68</td>\n",
       "      <td>0.38</td>\n",
       "      <td>0.41</td>\n",
       "      <td>0.51</td>\n",
       "      <td>NaN</td>\n",
       "      <td>0.26</td>\n",
       "      <td>4.14</td>\n",
       "      <td>2.18</td>\n",
       "      <td>NaN</td>\n",
       "    </tr>\n",
       "  </tbody>\n",
       "</table>\n",
       "</div>"
      ],
      "text/plain": [
       "Sensor      E008ZUPCVP01  E008ZUPCVP02  E008ZUPCVP03  E008ZUPCVP04  \\\n",
       "Fecha                                                                \n",
       "2009-10-19          2.38          0.78          0.82         -0.14   \n",
       "2009-11-24          2.38          0.83          0.93         -0.07   \n",
       "2009-12-14          2.38          0.78          0.86         -0.13   \n",
       "\n",
       "Sensor      E008ZUPCVP05  E008ZUPCVP06  E008ZUPCVP07  E008ZUPCVP08  \\\n",
       "Fecha                                                                \n",
       "2009-10-19          1.18          0.68          0.35          0.40   \n",
       "2009-11-24          1.10          0.68          0.36          0.41   \n",
       "2009-12-14          1.06          0.68          0.38          0.41   \n",
       "\n",
       "Sensor      E008ZUPCVP09  E008ZUPCVP10  E008ZUPCVP11  E008ZUPCVP12  \\\n",
       "Fecha                                                                \n",
       "2009-10-19          0.52           NaN          0.26          4.22   \n",
       "2009-11-24          0.53           NaN          0.26          4.16   \n",
       "2009-12-14          0.51           NaN          0.26          4.14   \n",
       "\n",
       "Sensor      E008ZUPCVP13  E008ZUPCVP14  \n",
       "Fecha                                   \n",
       "2009-10-19          2.17           NaN  \n",
       "2009-11-24          2.17           NaN  \n",
       "2009-12-14          2.18           NaN  "
      ]
     },
     "execution_count": 45,
     "metadata": {},
     "output_type": "execute_result"
    }
   ],
   "source": [
    "pres = df3.pivot_table(values='Medida', index='Fecha', columns='Sensor')\n",
    "pres.head(3)"
   ]
  },
  {
   "cell_type": "markdown",
   "metadata": {},
   "source": [
    "Reorganización del dataframe para que la fecha no constituya el índice (y no dé problemas)."
   ]
  },
  {
   "cell_type": "code",
   "execution_count": 46,
   "metadata": {},
   "outputs": [
    {
     "data": {
      "text/html": [
       "<div>\n",
       "<style scoped>\n",
       "    .dataframe tbody tr th:only-of-type {\n",
       "        vertical-align: middle;\n",
       "    }\n",
       "\n",
       "    .dataframe tbody tr th {\n",
       "        vertical-align: top;\n",
       "    }\n",
       "\n",
       "    .dataframe thead th {\n",
       "        text-align: right;\n",
       "    }\n",
       "</style>\n",
       "<table border=\"1\" class=\"dataframe\">\n",
       "  <thead>\n",
       "    <tr style=\"text-align: right;\">\n",
       "      <th>Sensor</th>\n",
       "      <th>E008ZUPCVP01</th>\n",
       "      <th>E008ZUPCVP02</th>\n",
       "      <th>E008ZUPCVP03</th>\n",
       "      <th>E008ZUPCVP04</th>\n",
       "      <th>E008ZUPCVP05</th>\n",
       "      <th>E008ZUPCVP06</th>\n",
       "      <th>E008ZUPCVP07</th>\n",
       "      <th>E008ZUPCVP08</th>\n",
       "      <th>E008ZUPCVP09</th>\n",
       "      <th>E008ZUPCVP10</th>\n",
       "      <th>E008ZUPCVP11</th>\n",
       "      <th>E008ZUPCVP12</th>\n",
       "      <th>E008ZUPCVP13</th>\n",
       "      <th>E008ZUPCVP14</th>\n",
       "      <th>Fecha</th>\n",
       "    </tr>\n",
       "  </thead>\n",
       "  <tbody>\n",
       "    <tr>\n",
       "      <th>0</th>\n",
       "      <td>2.38</td>\n",
       "      <td>0.78</td>\n",
       "      <td>0.82</td>\n",
       "      <td>-0.14</td>\n",
       "      <td>1.18</td>\n",
       "      <td>0.68</td>\n",
       "      <td>0.35</td>\n",
       "      <td>0.40</td>\n",
       "      <td>0.52</td>\n",
       "      <td>NaN</td>\n",
       "      <td>0.26</td>\n",
       "      <td>4.22</td>\n",
       "      <td>2.17</td>\n",
       "      <td>NaN</td>\n",
       "      <td>2009-10-19 00:00:00</td>\n",
       "    </tr>\n",
       "    <tr>\n",
       "      <th>1</th>\n",
       "      <td>2.38</td>\n",
       "      <td>0.83</td>\n",
       "      <td>0.93</td>\n",
       "      <td>-0.07</td>\n",
       "      <td>1.10</td>\n",
       "      <td>0.68</td>\n",
       "      <td>0.36</td>\n",
       "      <td>0.41</td>\n",
       "      <td>0.53</td>\n",
       "      <td>NaN</td>\n",
       "      <td>0.26</td>\n",
       "      <td>4.16</td>\n",
       "      <td>2.17</td>\n",
       "      <td>NaN</td>\n",
       "      <td>2009-11-24 00:00:00</td>\n",
       "    </tr>\n",
       "    <tr>\n",
       "      <th>2</th>\n",
       "      <td>2.38</td>\n",
       "      <td>0.78</td>\n",
       "      <td>0.86</td>\n",
       "      <td>-0.13</td>\n",
       "      <td>1.06</td>\n",
       "      <td>0.68</td>\n",
       "      <td>0.38</td>\n",
       "      <td>0.41</td>\n",
       "      <td>0.51</td>\n",
       "      <td>NaN</td>\n",
       "      <td>0.26</td>\n",
       "      <td>4.14</td>\n",
       "      <td>2.18</td>\n",
       "      <td>NaN</td>\n",
       "      <td>2009-12-14 00:00:00</td>\n",
       "    </tr>\n",
       "    <tr>\n",
       "      <th>3</th>\n",
       "      <td>2.39</td>\n",
       "      <td>0.79</td>\n",
       "      <td>0.90</td>\n",
       "      <td>-0.14</td>\n",
       "      <td>1.02</td>\n",
       "      <td>0.66</td>\n",
       "      <td>0.37</td>\n",
       "      <td>0.40</td>\n",
       "      <td>0.46</td>\n",
       "      <td>NaN</td>\n",
       "      <td>0.26</td>\n",
       "      <td>4.12</td>\n",
       "      <td>2.18</td>\n",
       "      <td>NaN</td>\n",
       "      <td>2010-01-13 00:00:00</td>\n",
       "    </tr>\n",
       "    <tr>\n",
       "      <th>4</th>\n",
       "      <td>2.39</td>\n",
       "      <td>0.79</td>\n",
       "      <td>0.90</td>\n",
       "      <td>-0.14</td>\n",
       "      <td>1.02</td>\n",
       "      <td>0.66</td>\n",
       "      <td>0.37</td>\n",
       "      <td>0.40</td>\n",
       "      <td>0.46</td>\n",
       "      <td>NaN</td>\n",
       "      <td>0.26</td>\n",
       "      <td>NaN</td>\n",
       "      <td>2.18</td>\n",
       "      <td>0.96</td>\n",
       "      <td>2010-01-13 08:00:00</td>\n",
       "    </tr>\n",
       "  </tbody>\n",
       "</table>\n",
       "</div>"
      ],
      "text/plain": [
       "Sensor  E008ZUPCVP01  E008ZUPCVP02  E008ZUPCVP03  E008ZUPCVP04  E008ZUPCVP05  \\\n",
       "0               2.38          0.78          0.82         -0.14          1.18   \n",
       "1               2.38          0.83          0.93         -0.07          1.10   \n",
       "2               2.38          0.78          0.86         -0.13          1.06   \n",
       "3               2.39          0.79          0.90         -0.14          1.02   \n",
       "4               2.39          0.79          0.90         -0.14          1.02   \n",
       "\n",
       "Sensor  E008ZUPCVP06  E008ZUPCVP07  E008ZUPCVP08  E008ZUPCVP09  E008ZUPCVP10  \\\n",
       "0               0.68          0.35          0.40          0.52           NaN   \n",
       "1               0.68          0.36          0.41          0.53           NaN   \n",
       "2               0.68          0.38          0.41          0.51           NaN   \n",
       "3               0.66          0.37          0.40          0.46           NaN   \n",
       "4               0.66          0.37          0.40          0.46           NaN   \n",
       "\n",
       "Sensor  E008ZUPCVP11  E008ZUPCVP12  E008ZUPCVP13  E008ZUPCVP14  \\\n",
       "0               0.26          4.22          2.17           NaN   \n",
       "1               0.26          4.16          2.17           NaN   \n",
       "2               0.26          4.14          2.18           NaN   \n",
       "3               0.26          4.12          2.18           NaN   \n",
       "4               0.26           NaN          2.18          0.96   \n",
       "\n",
       "Sensor               Fecha  \n",
       "0      2009-10-19 00:00:00  \n",
       "1      2009-11-24 00:00:00  \n",
       "2      2009-12-14 00:00:00  \n",
       "3      2010-01-13 00:00:00  \n",
       "4      2010-01-13 08:00:00  "
      ]
     },
     "execution_count": 46,
     "metadata": {},
     "output_type": "execute_result"
    }
   ],
   "source": [
    "pres['Fecha'] = pres.index\n",
    "pres.reset_index(drop=True, inplace=True)\n",
    "pres.head()"
   ]
  },
  {
   "cell_type": "markdown",
   "metadata": {},
   "source": [
    "Convergencia de las fechas duplicadas mediante una media."
   ]
  },
  {
   "cell_type": "code",
   "execution_count": 47,
   "metadata": {},
   "outputs": [
    {
     "data": {
      "text/html": [
       "<div>\n",
       "<style scoped>\n",
       "    .dataframe tbody tr th:only-of-type {\n",
       "        vertical-align: middle;\n",
       "    }\n",
       "\n",
       "    .dataframe tbody tr th {\n",
       "        vertical-align: top;\n",
       "    }\n",
       "\n",
       "    .dataframe thead th {\n",
       "        text-align: right;\n",
       "    }\n",
       "</style>\n",
       "<table border=\"1\" class=\"dataframe\">\n",
       "  <thead>\n",
       "    <tr style=\"text-align: right;\">\n",
       "      <th>Sensor</th>\n",
       "      <th>E008ZUPCVP01</th>\n",
       "      <th>E008ZUPCVP02</th>\n",
       "      <th>E008ZUPCVP03</th>\n",
       "      <th>E008ZUPCVP04</th>\n",
       "      <th>E008ZUPCVP05</th>\n",
       "      <th>E008ZUPCVP06</th>\n",
       "      <th>E008ZUPCVP07</th>\n",
       "      <th>E008ZUPCVP08</th>\n",
       "      <th>E008ZUPCVP09</th>\n",
       "      <th>E008ZUPCVP10</th>\n",
       "      <th>E008ZUPCVP11</th>\n",
       "      <th>E008ZUPCVP12</th>\n",
       "      <th>E008ZUPCVP13</th>\n",
       "      <th>E008ZUPCVP14</th>\n",
       "    </tr>\n",
       "    <tr>\n",
       "      <th>Fecha</th>\n",
       "      <th></th>\n",
       "      <th></th>\n",
       "      <th></th>\n",
       "      <th></th>\n",
       "      <th></th>\n",
       "      <th></th>\n",
       "      <th></th>\n",
       "      <th></th>\n",
       "      <th></th>\n",
       "      <th></th>\n",
       "      <th></th>\n",
       "      <th></th>\n",
       "      <th></th>\n",
       "      <th></th>\n",
       "    </tr>\n",
       "  </thead>\n",
       "  <tbody>\n",
       "    <tr>\n",
       "      <th>2009-10-19</th>\n",
       "      <td>2.38</td>\n",
       "      <td>0.78</td>\n",
       "      <td>0.82</td>\n",
       "      <td>-0.14</td>\n",
       "      <td>1.18</td>\n",
       "      <td>0.68</td>\n",
       "      <td>0.35</td>\n",
       "      <td>0.40</td>\n",
       "      <td>0.52</td>\n",
       "      <td>NaN</td>\n",
       "      <td>0.26</td>\n",
       "      <td>4.22</td>\n",
       "      <td>2.17</td>\n",
       "      <td>NaN</td>\n",
       "    </tr>\n",
       "    <tr>\n",
       "      <th>2009-11-24</th>\n",
       "      <td>2.38</td>\n",
       "      <td>0.83</td>\n",
       "      <td>0.93</td>\n",
       "      <td>-0.07</td>\n",
       "      <td>1.10</td>\n",
       "      <td>0.68</td>\n",
       "      <td>0.36</td>\n",
       "      <td>0.41</td>\n",
       "      <td>0.53</td>\n",
       "      <td>NaN</td>\n",
       "      <td>0.26</td>\n",
       "      <td>4.16</td>\n",
       "      <td>2.17</td>\n",
       "      <td>NaN</td>\n",
       "    </tr>\n",
       "    <tr>\n",
       "      <th>2009-12-14</th>\n",
       "      <td>2.38</td>\n",
       "      <td>0.78</td>\n",
       "      <td>0.86</td>\n",
       "      <td>-0.13</td>\n",
       "      <td>1.06</td>\n",
       "      <td>0.68</td>\n",
       "      <td>0.38</td>\n",
       "      <td>0.41</td>\n",
       "      <td>0.51</td>\n",
       "      <td>NaN</td>\n",
       "      <td>0.26</td>\n",
       "      <td>4.14</td>\n",
       "      <td>2.18</td>\n",
       "      <td>NaN</td>\n",
       "    </tr>\n",
       "    <tr>\n",
       "      <th>2010-01-13</th>\n",
       "      <td>2.39</td>\n",
       "      <td>0.79</td>\n",
       "      <td>0.90</td>\n",
       "      <td>-0.14</td>\n",
       "      <td>1.02</td>\n",
       "      <td>0.66</td>\n",
       "      <td>0.37</td>\n",
       "      <td>0.40</td>\n",
       "      <td>0.46</td>\n",
       "      <td>NaN</td>\n",
       "      <td>0.26</td>\n",
       "      <td>4.12</td>\n",
       "      <td>2.18</td>\n",
       "      <td>0.96</td>\n",
       "    </tr>\n",
       "    <tr>\n",
       "      <th>2010-02-15</th>\n",
       "      <td>2.38</td>\n",
       "      <td>0.79</td>\n",
       "      <td>0.93</td>\n",
       "      <td>-0.14</td>\n",
       "      <td>1.01</td>\n",
       "      <td>0.65</td>\n",
       "      <td>0.36</td>\n",
       "      <td>0.40</td>\n",
       "      <td>0.38</td>\n",
       "      <td>NaN</td>\n",
       "      <td>0.26</td>\n",
       "      <td>4.17</td>\n",
       "      <td>2.18</td>\n",
       "      <td>0.96</td>\n",
       "    </tr>\n",
       "  </tbody>\n",
       "</table>\n",
       "</div>"
      ],
      "text/plain": [
       "Sensor      E008ZUPCVP01  E008ZUPCVP02  E008ZUPCVP03  E008ZUPCVP04  \\\n",
       "Fecha                                                                \n",
       "2009-10-19          2.38          0.78          0.82         -0.14   \n",
       "2009-11-24          2.38          0.83          0.93         -0.07   \n",
       "2009-12-14          2.38          0.78          0.86         -0.13   \n",
       "2010-01-13          2.39          0.79          0.90         -0.14   \n",
       "2010-02-15          2.38          0.79          0.93         -0.14   \n",
       "\n",
       "Sensor      E008ZUPCVP05  E008ZUPCVP06  E008ZUPCVP07  E008ZUPCVP08  \\\n",
       "Fecha                                                                \n",
       "2009-10-19          1.18          0.68          0.35          0.40   \n",
       "2009-11-24          1.10          0.68          0.36          0.41   \n",
       "2009-12-14          1.06          0.68          0.38          0.41   \n",
       "2010-01-13          1.02          0.66          0.37          0.40   \n",
       "2010-02-15          1.01          0.65          0.36          0.40   \n",
       "\n",
       "Sensor      E008ZUPCVP09  E008ZUPCVP10  E008ZUPCVP11  E008ZUPCVP12  \\\n",
       "Fecha                                                                \n",
       "2009-10-19          0.52           NaN          0.26          4.22   \n",
       "2009-11-24          0.53           NaN          0.26          4.16   \n",
       "2009-12-14          0.51           NaN          0.26          4.14   \n",
       "2010-01-13          0.46           NaN          0.26          4.12   \n",
       "2010-02-15          0.38           NaN          0.26          4.17   \n",
       "\n",
       "Sensor      E008ZUPCVP13  E008ZUPCVP14  \n",
       "Fecha                                   \n",
       "2009-10-19          2.17           NaN  \n",
       "2009-11-24          2.17           NaN  \n",
       "2009-12-14          2.18           NaN  \n",
       "2010-01-13          2.18          0.96  \n",
       "2010-02-15          2.18          0.96  "
      ]
     },
     "execution_count": 47,
     "metadata": {},
     "output_type": "execute_result"
    }
   ],
   "source": [
    "pres=pres.resample('d', on=\"Fecha\").mean().dropna(how='all')\n",
    "pres.head()"
   ]
  },
  {
   "cell_type": "markdown",
   "metadata": {},
   "source": [
    "Reorganización del dataframe para que la fecha no constituya el índice (y no dé problemas)."
   ]
  },
  {
   "cell_type": "code",
   "execution_count": 48,
   "metadata": {},
   "outputs": [
    {
     "data": {
      "text/html": [
       "<div>\n",
       "<style scoped>\n",
       "    .dataframe tbody tr th:only-of-type {\n",
       "        vertical-align: middle;\n",
       "    }\n",
       "\n",
       "    .dataframe tbody tr th {\n",
       "        vertical-align: top;\n",
       "    }\n",
       "\n",
       "    .dataframe thead th {\n",
       "        text-align: right;\n",
       "    }\n",
       "</style>\n",
       "<table border=\"1\" class=\"dataframe\">\n",
       "  <thead>\n",
       "    <tr style=\"text-align: right;\">\n",
       "      <th>Sensor</th>\n",
       "      <th>E008ZUPCVP01</th>\n",
       "      <th>E008ZUPCVP02</th>\n",
       "      <th>E008ZUPCVP03</th>\n",
       "      <th>E008ZUPCVP04</th>\n",
       "      <th>E008ZUPCVP05</th>\n",
       "      <th>E008ZUPCVP06</th>\n",
       "      <th>E008ZUPCVP07</th>\n",
       "      <th>E008ZUPCVP08</th>\n",
       "      <th>E008ZUPCVP09</th>\n",
       "      <th>E008ZUPCVP10</th>\n",
       "      <th>E008ZUPCVP11</th>\n",
       "      <th>E008ZUPCVP12</th>\n",
       "      <th>E008ZUPCVP13</th>\n",
       "      <th>E008ZUPCVP14</th>\n",
       "      <th>Fecha</th>\n",
       "    </tr>\n",
       "  </thead>\n",
       "  <tbody>\n",
       "    <tr>\n",
       "      <th>0</th>\n",
       "      <td>2.38</td>\n",
       "      <td>0.78</td>\n",
       "      <td>0.82</td>\n",
       "      <td>-0.14</td>\n",
       "      <td>1.18</td>\n",
       "      <td>0.68</td>\n",
       "      <td>0.35</td>\n",
       "      <td>0.40</td>\n",
       "      <td>0.52</td>\n",
       "      <td>NaN</td>\n",
       "      <td>0.26</td>\n",
       "      <td>4.22</td>\n",
       "      <td>2.17</td>\n",
       "      <td>NaN</td>\n",
       "      <td>2009-10-19</td>\n",
       "    </tr>\n",
       "    <tr>\n",
       "      <th>1</th>\n",
       "      <td>2.38</td>\n",
       "      <td>0.83</td>\n",
       "      <td>0.93</td>\n",
       "      <td>-0.07</td>\n",
       "      <td>1.10</td>\n",
       "      <td>0.68</td>\n",
       "      <td>0.36</td>\n",
       "      <td>0.41</td>\n",
       "      <td>0.53</td>\n",
       "      <td>NaN</td>\n",
       "      <td>0.26</td>\n",
       "      <td>4.16</td>\n",
       "      <td>2.17</td>\n",
       "      <td>NaN</td>\n",
       "      <td>2009-11-24</td>\n",
       "    </tr>\n",
       "    <tr>\n",
       "      <th>2</th>\n",
       "      <td>2.38</td>\n",
       "      <td>0.78</td>\n",
       "      <td>0.86</td>\n",
       "      <td>-0.13</td>\n",
       "      <td>1.06</td>\n",
       "      <td>0.68</td>\n",
       "      <td>0.38</td>\n",
       "      <td>0.41</td>\n",
       "      <td>0.51</td>\n",
       "      <td>NaN</td>\n",
       "      <td>0.26</td>\n",
       "      <td>4.14</td>\n",
       "      <td>2.18</td>\n",
       "      <td>NaN</td>\n",
       "      <td>2009-12-14</td>\n",
       "    </tr>\n",
       "    <tr>\n",
       "      <th>3</th>\n",
       "      <td>2.39</td>\n",
       "      <td>0.79</td>\n",
       "      <td>0.90</td>\n",
       "      <td>-0.14</td>\n",
       "      <td>1.02</td>\n",
       "      <td>0.66</td>\n",
       "      <td>0.37</td>\n",
       "      <td>0.40</td>\n",
       "      <td>0.46</td>\n",
       "      <td>NaN</td>\n",
       "      <td>0.26</td>\n",
       "      <td>4.12</td>\n",
       "      <td>2.18</td>\n",
       "      <td>0.96</td>\n",
       "      <td>2010-01-13</td>\n",
       "    </tr>\n",
       "    <tr>\n",
       "      <th>4</th>\n",
       "      <td>2.38</td>\n",
       "      <td>0.79</td>\n",
       "      <td>0.93</td>\n",
       "      <td>-0.14</td>\n",
       "      <td>1.01</td>\n",
       "      <td>0.65</td>\n",
       "      <td>0.36</td>\n",
       "      <td>0.40</td>\n",
       "      <td>0.38</td>\n",
       "      <td>NaN</td>\n",
       "      <td>0.26</td>\n",
       "      <td>4.17</td>\n",
       "      <td>2.18</td>\n",
       "      <td>0.96</td>\n",
       "      <td>2010-02-15</td>\n",
       "    </tr>\n",
       "  </tbody>\n",
       "</table>\n",
       "</div>"
      ],
      "text/plain": [
       "Sensor  E008ZUPCVP01  E008ZUPCVP02  E008ZUPCVP03  E008ZUPCVP04  E008ZUPCVP05  \\\n",
       "0               2.38          0.78          0.82         -0.14          1.18   \n",
       "1               2.38          0.83          0.93         -0.07          1.10   \n",
       "2               2.38          0.78          0.86         -0.13          1.06   \n",
       "3               2.39          0.79          0.90         -0.14          1.02   \n",
       "4               2.38          0.79          0.93         -0.14          1.01   \n",
       "\n",
       "Sensor  E008ZUPCVP06  E008ZUPCVP07  E008ZUPCVP08  E008ZUPCVP09  E008ZUPCVP10  \\\n",
       "0               0.68          0.35          0.40          0.52           NaN   \n",
       "1               0.68          0.36          0.41          0.53           NaN   \n",
       "2               0.68          0.38          0.41          0.51           NaN   \n",
       "3               0.66          0.37          0.40          0.46           NaN   \n",
       "4               0.65          0.36          0.40          0.38           NaN   \n",
       "\n",
       "Sensor  E008ZUPCVP11  E008ZUPCVP12  E008ZUPCVP13  E008ZUPCVP14      Fecha  \n",
       "0               0.26          4.22          2.17           NaN 2009-10-19  \n",
       "1               0.26          4.16          2.17           NaN 2009-11-24  \n",
       "2               0.26          4.14          2.18           NaN 2009-12-14  \n",
       "3               0.26          4.12          2.18          0.96 2010-01-13  \n",
       "4               0.26          4.17          2.18          0.96 2010-02-15  "
      ]
     },
     "execution_count": 48,
     "metadata": {},
     "output_type": "execute_result"
    }
   ],
   "source": [
    "pres['Fecha'] = pres.index\n",
    "pres.reset_index(drop=True, inplace=True)\n",
    "pres.head()"
   ]
  },
  {
   "cell_type": "markdown",
   "metadata": {},
   "source": [
    "Conversión de los valores de presión negativos a 0 (una presión negativa no tiene sentido)."
   ]
  },
  {
   "cell_type": "code",
   "execution_count": 51,
   "metadata": {},
   "outputs": [
    {
     "data": {
      "text/html": [
       "<div>\n",
       "<style scoped>\n",
       "    .dataframe tbody tr th:only-of-type {\n",
       "        vertical-align: middle;\n",
       "    }\n",
       "\n",
       "    .dataframe tbody tr th {\n",
       "        vertical-align: top;\n",
       "    }\n",
       "\n",
       "    .dataframe thead th {\n",
       "        text-align: right;\n",
       "    }\n",
       "</style>\n",
       "<table border=\"1\" class=\"dataframe\">\n",
       "  <thead>\n",
       "    <tr style=\"text-align: right;\">\n",
       "      <th>Sensor</th>\n",
       "      <th>E008ZUPCVP01</th>\n",
       "      <th>E008ZUPCVP02</th>\n",
       "      <th>E008ZUPCVP03</th>\n",
       "      <th>E008ZUPCVP04</th>\n",
       "      <th>E008ZUPCVP05</th>\n",
       "      <th>E008ZUPCVP06</th>\n",
       "      <th>E008ZUPCVP07</th>\n",
       "      <th>E008ZUPCVP08</th>\n",
       "      <th>E008ZUPCVP09</th>\n",
       "      <th>E008ZUPCVP10</th>\n",
       "      <th>E008ZUPCVP11</th>\n",
       "      <th>E008ZUPCVP12</th>\n",
       "      <th>E008ZUPCVP13</th>\n",
       "      <th>E008ZUPCVP14</th>\n",
       "      <th>Fecha</th>\n",
       "    </tr>\n",
       "  </thead>\n",
       "  <tbody>\n",
       "    <tr>\n",
       "      <th>0</th>\n",
       "      <td>2.38</td>\n",
       "      <td>0.78</td>\n",
       "      <td>0.82</td>\n",
       "      <td>0.0</td>\n",
       "      <td>1.18</td>\n",
       "      <td>0.68</td>\n",
       "      <td>0.35</td>\n",
       "      <td>0.40</td>\n",
       "      <td>0.52</td>\n",
       "      <td>NaN</td>\n",
       "      <td>0.26</td>\n",
       "      <td>4.22</td>\n",
       "      <td>2.17</td>\n",
       "      <td>NaN</td>\n",
       "      <td>2009-10-19</td>\n",
       "    </tr>\n",
       "    <tr>\n",
       "      <th>1</th>\n",
       "      <td>2.38</td>\n",
       "      <td>0.83</td>\n",
       "      <td>0.93</td>\n",
       "      <td>0.0</td>\n",
       "      <td>1.10</td>\n",
       "      <td>0.68</td>\n",
       "      <td>0.36</td>\n",
       "      <td>0.41</td>\n",
       "      <td>0.53</td>\n",
       "      <td>NaN</td>\n",
       "      <td>0.26</td>\n",
       "      <td>4.16</td>\n",
       "      <td>2.17</td>\n",
       "      <td>NaN</td>\n",
       "      <td>2009-11-24</td>\n",
       "    </tr>\n",
       "    <tr>\n",
       "      <th>2</th>\n",
       "      <td>2.38</td>\n",
       "      <td>0.78</td>\n",
       "      <td>0.86</td>\n",
       "      <td>0.0</td>\n",
       "      <td>1.06</td>\n",
       "      <td>0.68</td>\n",
       "      <td>0.38</td>\n",
       "      <td>0.41</td>\n",
       "      <td>0.51</td>\n",
       "      <td>NaN</td>\n",
       "      <td>0.26</td>\n",
       "      <td>4.14</td>\n",
       "      <td>2.18</td>\n",
       "      <td>NaN</td>\n",
       "      <td>2009-12-14</td>\n",
       "    </tr>\n",
       "    <tr>\n",
       "      <th>3</th>\n",
       "      <td>2.39</td>\n",
       "      <td>0.79</td>\n",
       "      <td>0.90</td>\n",
       "      <td>0.0</td>\n",
       "      <td>1.02</td>\n",
       "      <td>0.66</td>\n",
       "      <td>0.37</td>\n",
       "      <td>0.40</td>\n",
       "      <td>0.46</td>\n",
       "      <td>NaN</td>\n",
       "      <td>0.26</td>\n",
       "      <td>4.12</td>\n",
       "      <td>2.18</td>\n",
       "      <td>0.96</td>\n",
       "      <td>2010-01-13</td>\n",
       "    </tr>\n",
       "    <tr>\n",
       "      <th>4</th>\n",
       "      <td>2.38</td>\n",
       "      <td>0.79</td>\n",
       "      <td>0.93</td>\n",
       "      <td>0.0</td>\n",
       "      <td>1.01</td>\n",
       "      <td>0.65</td>\n",
       "      <td>0.36</td>\n",
       "      <td>0.40</td>\n",
       "      <td>0.38</td>\n",
       "      <td>NaN</td>\n",
       "      <td>0.26</td>\n",
       "      <td>4.17</td>\n",
       "      <td>2.18</td>\n",
       "      <td>0.96</td>\n",
       "      <td>2010-02-15</td>\n",
       "    </tr>\n",
       "  </tbody>\n",
       "</table>\n",
       "</div>"
      ],
      "text/plain": [
       "Sensor  E008ZUPCVP01  E008ZUPCVP02  E008ZUPCVP03  E008ZUPCVP04  E008ZUPCVP05  \\\n",
       "0               2.38          0.78          0.82           0.0          1.18   \n",
       "1               2.38          0.83          0.93           0.0          1.10   \n",
       "2               2.38          0.78          0.86           0.0          1.06   \n",
       "3               2.39          0.79          0.90           0.0          1.02   \n",
       "4               2.38          0.79          0.93           0.0          1.01   \n",
       "\n",
       "Sensor  E008ZUPCVP06  E008ZUPCVP07  E008ZUPCVP08  E008ZUPCVP09  E008ZUPCVP10  \\\n",
       "0               0.68          0.35          0.40          0.52           NaN   \n",
       "1               0.68          0.36          0.41          0.53           NaN   \n",
       "2               0.68          0.38          0.41          0.51           NaN   \n",
       "3               0.66          0.37          0.40          0.46           NaN   \n",
       "4               0.65          0.36          0.40          0.38           NaN   \n",
       "\n",
       "Sensor  E008ZUPCVP11  E008ZUPCVP12  E008ZUPCVP13  E008ZUPCVP14      Fecha  \n",
       "0               0.26          4.22          2.17           NaN 2009-10-19  \n",
       "1               0.26          4.16          2.17           NaN 2009-11-24  \n",
       "2               0.26          4.14          2.18           NaN 2009-12-14  \n",
       "3               0.26          4.12          2.18          0.96 2010-01-13  \n",
       "4               0.26          4.17          2.18          0.96 2010-02-15  "
      ]
     },
     "execution_count": 51,
     "metadata": {},
     "output_type": "execute_result"
    }
   ],
   "source": [
    "num = pres._get_numeric_data()\n",
    "num[num._get_numeric_data() < 0] = 0\n",
    "pres.head()"
   ]
  },
  {
   "cell_type": "markdown",
   "metadata": {},
   "source": [
    "Generación de gráficos."
   ]
  },
  {
   "cell_type": "code",
   "execution_count": 52,
   "metadata": {},
   "outputs": [
    {
     "data": {
      "image/png": "[encoded data removed]",
      "text/plain": [
       "<Figure size 432x288 with 1 Axes>"
      ]
     },
     "metadata": {
      "needs_background": "light"
     },
     "output_type": "display_data"
    },
    {
     "data": {
      "image/png": "[encoded data removed]",
      "text/plain": [
       "<Figure size 432x288 with 1 Axes>"
      ]
     },
     "metadata": {
      "needs_background": "light"
     },
     "output_type": "display_data"
    },
    {
     "data": {
      "image/png": "[encoded data removed]",
      "text/plain": [
       "<Figure size 432x288 with 1 Axes>"
      ]
     },
     "metadata": {
      "needs_background": "light"
     },
     "output_type": "display_data"
    },
    {
     "data": {
      "image/png": "[encoded data removed]",
      "text/plain": [
       "<Figure size 432x288 with 1 Axes>"
      ]
     },
     "metadata": {
      "needs_background": "light"
     },
     "output_type": "display_data"
    },
    {
     "data": {
      "image/png": "[encoded data removed]",
      "text/plain": [
       "<Figure size 432x288 with 1 Axes>"
      ]
     },
     "metadata": {
      "needs_background": "light"
     },
     "output_type": "display_data"
    },
    {
     "data": {
      "image/png": "[encoded data removed]",
      "text/plain": [
       "<Figure size 432x288 with 1 Axes>"
      ]
     },
     "metadata": {
      "needs_background": "light"
     },
     "output_type": "display_data"
    },
    {
     "data": {
      "image/png": "[encoded data removed]",
      "text/plain": [
       "<Figure size 432x288 with 1 Axes>"
      ]
     },
     "metadata": {
      "needs_background": "light"
     },
     "output_type": "display_data"
    },
    {
     "data": {
      "image/png": "[encoded data removed]",
      "text/plain": [
       "<Figure size 432x288 with 1 Axes>"
      ]
     },
     "metadata": {
      "needs_background": "light"
     },
     "output_type": "display_data"
    },
    {
     "data": {
      "image/png": "[encoded data removed]",
      "text/plain": [
       "<Figure size 432x288 with 1 Axes>"
      ]
     },
     "metadata": {
      "needs_background": "light"
     },
     "output_type": "display_data"
    },
    {
     "data": {
      "image/png": "[encoded data removed]",
      "text/plain": [
       "<Figure size 432x288 with 1 Axes>"
      ]
     },
     "metadata": {
      "needs_background": "light"
     },
     "output_type": "display_data"
    },
    {
     "data": {
      "image/png": "[encoded data removed]",
      "text/plain": [
       "<Figure size 432x288 with 1 Axes>"
      ]
     },
     "metadata": {
      "needs_background": "light"
     },
     "output_type": "display_data"
    },
    {
     "data": {
      "image/png": "[encoded data removed]",
      "text/plain": [
       "<Figure size 432x288 with 1 Axes>"
      ]
     },
     "metadata": {
      "needs_background": "light"
     },
     "output_type": "display_data"
    },
    {
     "data": {
      "image/png": "[encoded data removed]",
      "text/plain": [
       "<Figure size 432x288 with 1 Axes>"
      ]
     },
     "metadata": {
      "needs_background": "light"
     },
     "output_type": "display_data"
    },
    {
     "data": {
      "image/png": "[encoded data removed]",
      "text/plain": [
       "<Figure size 432x288 with 1 Axes>"
      ]
     },
     "metadata": {
      "needs_background": "light"
     },
     "output_type": "display_data"
    },
    {
     "data": {
      "image/png": "[encoded data removed]",
      "text/plain": [
       "<Figure size 432x288 with 1 Axes>"
      ]
     },
     "metadata": {
      "needs_background": "light"
     },
     "output_type": "display_data"
    }
   ],
   "source": [
    "for i in pres.columns:\n",
    "    plt.subplots()\n",
    "    plt.plot(pres[i])"
   ]
  },
  {
   "cell_type": "markdown",
   "metadata": {},
   "source": [
    "Comprobación de los NaN."
   ]
  },
  {
   "cell_type": "code",
   "execution_count": 53,
   "metadata": {},
   "outputs": [
    {
     "name": "stdout",
     "output_type": "stream",
     "text": [
      "33\n",
      "**************\n",
      "82\n",
      "**************\n",
      "2159\n",
      "**************\n",
      "32\n",
      "**************\n",
      "6\n",
      "**************\n",
      "49\n",
      "**************\n",
      "3094\n",
      "**************\n",
      "2143\n",
      "**************\n",
      "93\n",
      "**************\n",
      "2960\n",
      "**************\n",
      "2143\n",
      "**************\n",
      "52\n",
      "**************\n",
      "50\n",
      "**************\n",
      "54\n",
      "**************\n",
      "0\n",
      "**************\n"
     ]
    }
   ],
   "source": [
    "for i in pres.columns:\n",
    "    print(pres[i].isnull().sum())\n",
    "    print(\"**************\")"
   ]
  },
  {
   "cell_type": "markdown",
   "metadata": {},
   "source": [
    "Eliminación de los valores de los piezómetros con mayor número de NaN."
   ]
  },
  {
   "cell_type": "code",
   "execution_count": 54,
   "metadata": {},
   "outputs": [],
   "source": [
    "del pres[\"E008ZUPCVP03\"]\n",
    "del pres[\"E008ZUPCVP07\"]\n",
    "del pres[\"E008ZUPCVP08\"]\n",
    "del pres[\"E008ZUPCVP10\"]\n",
    "del pres[\"E008ZUPCVP11\"]\n",
    "del pres[\"E008ZUPCVP04\"]"
   ]
  },
  {
   "cell_type": "code",
   "execution_count": 55,
   "metadata": {},
   "outputs": [
    {
     "data": {
      "text/html": [
       "<div>\n",
       "<style scoped>\n",
       "    .dataframe tbody tr th:only-of-type {\n",
       "        vertical-align: middle;\n",
       "    }\n",
       "\n",
       "    .dataframe tbody tr th {\n",
       "        vertical-align: top;\n",
       "    }\n",
       "\n",
       "    .dataframe thead th {\n",
       "        text-align: right;\n",
       "    }\n",
       "</style>\n",
       "<table border=\"1\" class=\"dataframe\">\n",
       "  <thead>\n",
       "    <tr style=\"text-align: right;\">\n",
       "      <th>Sensor</th>\n",
       "      <th>E008ZUPCVP01</th>\n",
       "      <th>E008ZUPCVP02</th>\n",
       "      <th>E008ZUPCVP05</th>\n",
       "      <th>E008ZUPCVP06</th>\n",
       "      <th>E008ZUPCVP09</th>\n",
       "      <th>E008ZUPCVP12</th>\n",
       "      <th>E008ZUPCVP13</th>\n",
       "      <th>E008ZUPCVP14</th>\n",
       "      <th>Fecha</th>\n",
       "    </tr>\n",
       "  </thead>\n",
       "  <tbody>\n",
       "    <tr>\n",
       "      <th>0</th>\n",
       "      <td>2.38</td>\n",
       "      <td>0.78</td>\n",
       "      <td>1.18</td>\n",
       "      <td>0.68</td>\n",
       "      <td>0.52</td>\n",
       "      <td>4.22</td>\n",
       "      <td>2.17</td>\n",
       "      <td>NaN</td>\n",
       "      <td>2009-10-19</td>\n",
       "    </tr>\n",
       "    <tr>\n",
       "      <th>1</th>\n",
       "      <td>2.38</td>\n",
       "      <td>0.83</td>\n",
       "      <td>1.10</td>\n",
       "      <td>0.68</td>\n",
       "      <td>0.53</td>\n",
       "      <td>4.16</td>\n",
       "      <td>2.17</td>\n",
       "      <td>NaN</td>\n",
       "      <td>2009-11-24</td>\n",
       "    </tr>\n",
       "    <tr>\n",
       "      <th>2</th>\n",
       "      <td>2.38</td>\n",
       "      <td>0.78</td>\n",
       "      <td>1.06</td>\n",
       "      <td>0.68</td>\n",
       "      <td>0.51</td>\n",
       "      <td>4.14</td>\n",
       "      <td>2.18</td>\n",
       "      <td>NaN</td>\n",
       "      <td>2009-12-14</td>\n",
       "    </tr>\n",
       "    <tr>\n",
       "      <th>3</th>\n",
       "      <td>2.39</td>\n",
       "      <td>0.79</td>\n",
       "      <td>1.02</td>\n",
       "      <td>0.66</td>\n",
       "      <td>0.46</td>\n",
       "      <td>4.12</td>\n",
       "      <td>2.18</td>\n",
       "      <td>0.96</td>\n",
       "      <td>2010-01-13</td>\n",
       "    </tr>\n",
       "    <tr>\n",
       "      <th>4</th>\n",
       "      <td>2.38</td>\n",
       "      <td>0.79</td>\n",
       "      <td>1.01</td>\n",
       "      <td>0.65</td>\n",
       "      <td>0.38</td>\n",
       "      <td>4.17</td>\n",
       "      <td>2.18</td>\n",
       "      <td>0.96</td>\n",
       "      <td>2010-02-15</td>\n",
       "    </tr>\n",
       "  </tbody>\n",
       "</table>\n",
       "</div>"
      ],
      "text/plain": [
       "Sensor  E008ZUPCVP01  E008ZUPCVP02  E008ZUPCVP05  E008ZUPCVP06  E008ZUPCVP09  \\\n",
       "0               2.38          0.78          1.18          0.68          0.52   \n",
       "1               2.38          0.83          1.10          0.68          0.53   \n",
       "2               2.38          0.78          1.06          0.68          0.51   \n",
       "3               2.39          0.79          1.02          0.66          0.46   \n",
       "4               2.38          0.79          1.01          0.65          0.38   \n",
       "\n",
       "Sensor  E008ZUPCVP12  E008ZUPCVP13  E008ZUPCVP14      Fecha  \n",
       "0               4.22          2.17           NaN 2009-10-19  \n",
       "1               4.16          2.17           NaN 2009-11-24  \n",
       "2               4.14          2.18           NaN 2009-12-14  \n",
       "3               4.12          2.18          0.96 2010-01-13  \n",
       "4               4.17          2.18          0.96 2010-02-15  "
      ]
     },
     "execution_count": 55,
     "metadata": {},
     "output_type": "execute_result"
    }
   ],
   "source": [
    "pres.head()"
   ]
  },
  {
   "cell_type": "markdown",
   "metadata": {},
   "source": [
    "# DATAFRAME UNIFICADO"
   ]
  },
  {
   "cell_type": "code",
   "execution_count": 56,
   "metadata": {},
   "outputs": [
    {
     "data": {
      "text/plain": [
       "(   AF-01  AF-05  AF-04  AF-03  AF-02      Fecha\n",
       " 0  10.53  78.79    NaN  36.08  11.52 2009-10-02\n",
       " 1  10.53  78.79    NaN  36.08  11.52 2009-10-03,\n",
       " (3802, 6))"
      ]
     },
     "execution_count": 56,
     "metadata": {},
     "output_type": "execute_result"
    }
   ],
   "source": [
    "filt.head(2), filt.shape"
   ]
  },
  {
   "cell_type": "code",
   "execution_count": 57,
   "metadata": {},
   "outputs": [
    {
     "data": {
      "text/plain": [
       "(   Temperatura  Nivel embalse  Precipitaciones      Fecha\n",
       " 0         19.7         791.28              4.2 2009-10-02\n",
       " 1         20.0         791.28              4.2 2009-10-03,\n",
       " (3904, 4))"
      ]
     },
     "execution_count": 57,
     "metadata": {},
     "output_type": "execute_result"
    }
   ],
   "source": [
    "varext.head(2), varext.shape"
   ]
  },
  {
   "cell_type": "code",
   "execution_count": 58,
   "metadata": {},
   "outputs": [
    {
     "data": {
      "text/plain": [
       "(Sensor  E008ZUPCVP01  E008ZUPCVP02  E008ZUPCVP05  E008ZUPCVP06  E008ZUPCVP09  \\\n",
       " 0               2.38          0.78          1.18          0.68          0.52   \n",
       " 1               2.38          0.83          1.10          0.68          0.53   \n",
       " \n",
       " Sensor  E008ZUPCVP12  E008ZUPCVP13  E008ZUPCVP14      Fecha  \n",
       " 0               4.22          2.17           NaN 2009-10-19  \n",
       " 1               4.16          2.17           NaN 2009-11-24  ,\n",
       " (3802, 6))"
      ]
     },
     "execution_count": 58,
     "metadata": {},
     "output_type": "execute_result"
    }
   ],
   "source": [
    "pres.head(2), filt.shape"
   ]
  },
  {
   "cell_type": "code",
   "execution_count": 59,
   "metadata": {},
   "outputs": [],
   "source": [
    "e08 = pd.merge(filt, varext, on= \"Fecha\", how=\"outer\")"
   ]
  },
  {
   "cell_type": "code",
   "execution_count": 60,
   "metadata": {},
   "outputs": [
    {
     "data": {
      "text/html": [
       "<div>\n",
       "<style scoped>\n",
       "    .dataframe tbody tr th:only-of-type {\n",
       "        vertical-align: middle;\n",
       "    }\n",
       "\n",
       "    .dataframe tbody tr th {\n",
       "        vertical-align: top;\n",
       "    }\n",
       "\n",
       "    .dataframe thead th {\n",
       "        text-align: right;\n",
       "    }\n",
       "</style>\n",
       "<table border=\"1\" class=\"dataframe\">\n",
       "  <thead>\n",
       "    <tr style=\"text-align: right;\">\n",
       "      <th></th>\n",
       "      <th>AF-01</th>\n",
       "      <th>AF-05</th>\n",
       "      <th>AF-04</th>\n",
       "      <th>AF-03</th>\n",
       "      <th>AF-02</th>\n",
       "      <th>Fecha</th>\n",
       "      <th>Temperatura</th>\n",
       "      <th>Nivel embalse</th>\n",
       "      <th>Precipitaciones</th>\n",
       "    </tr>\n",
       "  </thead>\n",
       "  <tbody>\n",
       "    <tr>\n",
       "      <th>0</th>\n",
       "      <td>10.53</td>\n",
       "      <td>78.79</td>\n",
       "      <td>NaN</td>\n",
       "      <td>36.08</td>\n",
       "      <td>11.52</td>\n",
       "      <td>2009-10-02</td>\n",
       "      <td>19.7</td>\n",
       "      <td>791.28</td>\n",
       "      <td>4.2</td>\n",
       "    </tr>\n",
       "    <tr>\n",
       "      <th>1</th>\n",
       "      <td>10.53</td>\n",
       "      <td>78.79</td>\n",
       "      <td>NaN</td>\n",
       "      <td>36.08</td>\n",
       "      <td>11.52</td>\n",
       "      <td>2009-10-03</td>\n",
       "      <td>20.0</td>\n",
       "      <td>791.28</td>\n",
       "      <td>4.2</td>\n",
       "    </tr>\n",
       "  </tbody>\n",
       "</table>\n",
       "</div>"
      ],
      "text/plain": [
       "   AF-01  AF-05  AF-04  AF-03  AF-02      Fecha  Temperatura  Nivel embalse  \\\n",
       "0  10.53  78.79    NaN  36.08  11.52 2009-10-02         19.7         791.28   \n",
       "1  10.53  78.79    NaN  36.08  11.52 2009-10-03         20.0         791.28   \n",
       "\n",
       "   Precipitaciones  \n",
       "0              4.2  \n",
       "1              4.2  "
      ]
     },
     "execution_count": 60,
     "metadata": {},
     "output_type": "execute_result"
    }
   ],
   "source": [
    "e08.head(2)"
   ]
  },
  {
   "cell_type": "code",
   "execution_count": 61,
   "metadata": {},
   "outputs": [
    {
     "data": {
      "text/html": [
       "<div>\n",
       "<style scoped>\n",
       "    .dataframe tbody tr th:only-of-type {\n",
       "        vertical-align: middle;\n",
       "    }\n",
       "\n",
       "    .dataframe tbody tr th {\n",
       "        vertical-align: top;\n",
       "    }\n",
       "\n",
       "    .dataframe thead th {\n",
       "        text-align: right;\n",
       "    }\n",
       "</style>\n",
       "<table border=\"1\" class=\"dataframe\">\n",
       "  <thead>\n",
       "    <tr style=\"text-align: right;\">\n",
       "      <th></th>\n",
       "      <th>AF-01</th>\n",
       "      <th>AF-05</th>\n",
       "      <th>AF-04</th>\n",
       "      <th>AF-03</th>\n",
       "      <th>AF-02</th>\n",
       "      <th>Fecha</th>\n",
       "      <th>Temperatura</th>\n",
       "      <th>Nivel embalse</th>\n",
       "      <th>Precipitaciones</th>\n",
       "      <th>E008ZUPCVP01</th>\n",
       "      <th>E008ZUPCVP02</th>\n",
       "      <th>E008ZUPCVP05</th>\n",
       "      <th>E008ZUPCVP06</th>\n",
       "      <th>E008ZUPCVP09</th>\n",
       "      <th>E008ZUPCVP12</th>\n",
       "      <th>E008ZUPCVP13</th>\n",
       "      <th>E008ZUPCVP14</th>\n",
       "    </tr>\n",
       "  </thead>\n",
       "  <tbody>\n",
       "    <tr>\n",
       "      <th>0</th>\n",
       "      <td>10.53</td>\n",
       "      <td>78.79</td>\n",
       "      <td>NaN</td>\n",
       "      <td>36.08</td>\n",
       "      <td>11.52</td>\n",
       "      <td>2009-10-02</td>\n",
       "      <td>19.7</td>\n",
       "      <td>791.28</td>\n",
       "      <td>4.2</td>\n",
       "      <td>NaN</td>\n",
       "      <td>NaN</td>\n",
       "      <td>NaN</td>\n",
       "      <td>NaN</td>\n",
       "      <td>NaN</td>\n",
       "      <td>NaN</td>\n",
       "      <td>NaN</td>\n",
       "      <td>NaN</td>\n",
       "    </tr>\n",
       "    <tr>\n",
       "      <th>1</th>\n",
       "      <td>10.53</td>\n",
       "      <td>78.79</td>\n",
       "      <td>NaN</td>\n",
       "      <td>36.08</td>\n",
       "      <td>11.52</td>\n",
       "      <td>2009-10-03</td>\n",
       "      <td>20.0</td>\n",
       "      <td>791.28</td>\n",
       "      <td>4.2</td>\n",
       "      <td>NaN</td>\n",
       "      <td>NaN</td>\n",
       "      <td>NaN</td>\n",
       "      <td>NaN</td>\n",
       "      <td>NaN</td>\n",
       "      <td>NaN</td>\n",
       "      <td>NaN</td>\n",
       "      <td>NaN</td>\n",
       "    </tr>\n",
       "  </tbody>\n",
       "</table>\n",
       "</div>"
      ],
      "text/plain": [
       "   AF-01  AF-05  AF-04  AF-03  AF-02      Fecha  Temperatura  Nivel embalse  \\\n",
       "0  10.53  78.79    NaN  36.08  11.52 2009-10-02         19.7         791.28   \n",
       "1  10.53  78.79    NaN  36.08  11.52 2009-10-03         20.0         791.28   \n",
       "\n",
       "   Precipitaciones  E008ZUPCVP01  E008ZUPCVP02  E008ZUPCVP05  E008ZUPCVP06  \\\n",
       "0              4.2           NaN           NaN           NaN           NaN   \n",
       "1              4.2           NaN           NaN           NaN           NaN   \n",
       "\n",
       "   E008ZUPCVP09  E008ZUPCVP12  E008ZUPCVP13  E008ZUPCVP14  \n",
       "0           NaN           NaN           NaN           NaN  \n",
       "1           NaN           NaN           NaN           NaN  "
      ]
     },
     "execution_count": 61,
     "metadata": {},
     "output_type": "execute_result"
    }
   ],
   "source": [
    "e08 = pd.merge(e08, pres, on =\"Fecha\", how= \"outer\")\n",
    "e08.head(2)"
   ]
  },
  {
   "cell_type": "code",
   "execution_count": 62,
   "metadata": {},
   "outputs": [
    {
     "data": {
      "text/html": [
       "<div>\n",
       "<style scoped>\n",
       "    .dataframe tbody tr th:only-of-type {\n",
       "        vertical-align: middle;\n",
       "    }\n",
       "\n",
       "    .dataframe tbody tr th {\n",
       "        vertical-align: top;\n",
       "    }\n",
       "\n",
       "    .dataframe thead th {\n",
       "        text-align: right;\n",
       "    }\n",
       "</style>\n",
       "<table border=\"1\" class=\"dataframe\">\n",
       "  <thead>\n",
       "    <tr style=\"text-align: right;\">\n",
       "      <th></th>\n",
       "      <th>AF-01</th>\n",
       "      <th>AF-05</th>\n",
       "      <th>AF-04</th>\n",
       "      <th>AF-03</th>\n",
       "      <th>AF-02</th>\n",
       "      <th>Fecha</th>\n",
       "      <th>Temperatura</th>\n",
       "      <th>Nivel embalse</th>\n",
       "      <th>Precipitaciones</th>\n",
       "      <th>E008ZUPCVP01</th>\n",
       "      <th>E008ZUPCVP02</th>\n",
       "      <th>E008ZUPCVP05</th>\n",
       "      <th>E008ZUPCVP06</th>\n",
       "      <th>E008ZUPCVP09</th>\n",
       "      <th>E008ZUPCVP12</th>\n",
       "      <th>E008ZUPCVP13</th>\n",
       "      <th>E008ZUPCVP14</th>\n",
       "    </tr>\n",
       "  </thead>\n",
       "  <tbody>\n",
       "    <tr>\n",
       "      <th>0</th>\n",
       "      <td>10.53</td>\n",
       "      <td>78.79</td>\n",
       "      <td>NaN</td>\n",
       "      <td>36.08</td>\n",
       "      <td>11.52</td>\n",
       "      <td>2009-10-02</td>\n",
       "      <td>19.7</td>\n",
       "      <td>791.28</td>\n",
       "      <td>4.2</td>\n",
       "      <td>NaN</td>\n",
       "      <td>NaN</td>\n",
       "      <td>NaN</td>\n",
       "      <td>NaN</td>\n",
       "      <td>NaN</td>\n",
       "      <td>NaN</td>\n",
       "      <td>NaN</td>\n",
       "      <td>NaN</td>\n",
       "    </tr>\n",
       "    <tr>\n",
       "      <th>1</th>\n",
       "      <td>10.53</td>\n",
       "      <td>78.79</td>\n",
       "      <td>NaN</td>\n",
       "      <td>36.08</td>\n",
       "      <td>11.52</td>\n",
       "      <td>2009-10-03</td>\n",
       "      <td>20.0</td>\n",
       "      <td>791.28</td>\n",
       "      <td>4.2</td>\n",
       "      <td>NaN</td>\n",
       "      <td>NaN</td>\n",
       "      <td>NaN</td>\n",
       "      <td>NaN</td>\n",
       "      <td>NaN</td>\n",
       "      <td>NaN</td>\n",
       "      <td>NaN</td>\n",
       "      <td>NaN</td>\n",
       "    </tr>\n",
       "  </tbody>\n",
       "</table>\n",
       "</div>"
      ],
      "text/plain": [
       "   AF-01  AF-05  AF-04  AF-03  AF-02      Fecha  Temperatura  Nivel embalse  \\\n",
       "0  10.53  78.79    NaN  36.08  11.52 2009-10-02         19.7         791.28   \n",
       "1  10.53  78.79    NaN  36.08  11.52 2009-10-03         20.0         791.28   \n",
       "\n",
       "   Precipitaciones  E008ZUPCVP01  E008ZUPCVP02  E008ZUPCVP05  E008ZUPCVP06  \\\n",
       "0              4.2           NaN           NaN           NaN           NaN   \n",
       "1              4.2           NaN           NaN           NaN           NaN   \n",
       "\n",
       "   E008ZUPCVP09  E008ZUPCVP12  E008ZUPCVP13  E008ZUPCVP14  \n",
       "0           NaN           NaN           NaN           NaN  \n",
       "1           NaN           NaN           NaN           NaN  "
      ]
     },
     "execution_count": 62,
     "metadata": {},
     "output_type": "execute_result"
    }
   ],
   "source": [
    "e08.reset_index(drop=True, inplace=True)\n",
    "e08.head(2)"
   ]
  },
  {
   "cell_type": "code",
   "execution_count": 63,
   "metadata": {},
   "outputs": [
    {
     "data": {
      "text/plain": [
       "(3911, 17)"
      ]
     },
     "execution_count": 63,
     "metadata": {},
     "output_type": "execute_result"
    }
   ],
   "source": [
    "e08.shape"
   ]
  },
  {
   "cell_type": "code",
   "execution_count": 64,
   "metadata": {},
   "outputs": [
    {
     "data": {
      "text/plain": [
       "AF-01              112\n",
       "AF-05              844\n",
       "AF-04              292\n",
       "AF-03              114\n",
       "AF-02              112\n",
       "Fecha                0\n",
       "Temperatura        105\n",
       "Nivel embalse       19\n",
       "Precipitaciones    337\n",
       "E008ZUPCVP01       368\n",
       "E008ZUPCVP02       417\n",
       "E008ZUPCVP05       341\n",
       "E008ZUPCVP06       384\n",
       "E008ZUPCVP09       428\n",
       "E008ZUPCVP12       387\n",
       "E008ZUPCVP13       385\n",
       "E008ZUPCVP14       389\n",
       "dtype: int64"
      ]
     },
     "execution_count": 64,
     "metadata": {},
     "output_type": "execute_result"
    }
   ],
   "source": [
    "e08.isnull().sum()"
   ]
  },
  {
   "cell_type": "code",
   "execution_count": 65,
   "metadata": {},
   "outputs": [
    {
     "data": {
      "text/plain": [
       "Index(['AF-01', 'AF-05', 'AF-04', 'AF-03', 'AF-02', 'Fecha', 'Temperatura',\n",
       "       'Nivel embalse', 'Precipitaciones', 'E008ZUPCVP01', 'E008ZUPCVP02',\n",
       "       'E008ZUPCVP05', 'E008ZUPCVP06', 'E008ZUPCVP09', 'E008ZUPCVP12',\n",
       "       'E008ZUPCVP13', 'E008ZUPCVP14'],\n",
       "      dtype='object')"
      ]
     },
     "execution_count": 65,
     "metadata": {},
     "output_type": "execute_result"
    }
   ],
   "source": [
    "e08.columns"
   ]
  },
  {
   "cell_type": "code",
   "execution_count": 66,
   "metadata": {},
   "outputs": [
    {
     "data": {
      "text/plain": [
       "[<matplotlib.lines.Line2D at 0x1fab305f6c8>]"
      ]
     },
     "execution_count": 66,
     "metadata": {},
     "output_type": "execute_result"
    },
    {
     "data": {
      "image/png": "[encoded data removed]",
      "text/plain": [
       "<Figure size 432x288 with 1 Axes>"
      ]
     },
     "metadata": {
      "needs_background": "light"
     },
     "output_type": "display_data"
    }
   ],
   "source": [
    "plt.plot(e08.Fecha,e08.E008ZUPCVP01)\n",
    "plt.plot(e08.Fecha,e08.E008ZUPCVP02)\n",
    "plt.plot(e08.Fecha,e08.E008ZUPCVP05)\n",
    "plt.plot(e08.Fecha,e08.E008ZUPCVP06)\n",
    "plt.plot(e08.Fecha,e08.E008ZUPCVP09)\n",
    "plt.plot(e08.Fecha,e08.E008ZUPCVP12)\n",
    "plt.plot(e08.Fecha,e08.E008ZUPCVP13)\n",
    "plt.plot(e08.Fecha,e08.E008ZUPCVP14)\n",
    "\n",
    "plt.plot(e08.Fecha,e08[\"Temperatura\"])\n",
    "plt.plot(e08.Fecha,e08[\"Nivel embalse\"])\n",
    "plt.plot(e08.Fecha,e08[\"Precipitaciones\"])\n",
    "\n",
    "plt.plot(e08.Fecha,e08[\"AF-01\"], color=\"pink\")\n",
    "plt.plot(e08.Fecha,e08[\"AF-02\"], color=\"pink\")\n",
    "plt.plot(e08.Fecha,e08[\"AF-03\"], color=\"pink\")\n",
    "plt.plot(e08.Fecha,e08[\"AF-04\"], color=\"pink\")\n",
    "plt.plot(e08.Fecha,e08[\"AF-05\"], color=\"pink\")"
   ]
  },
  {
   "cell_type": "code",
   "execution_count": 67,
   "metadata": {},
   "outputs": [
    {
     "data": {
      "text/plain": [
       "[<matplotlib.lines.Line2D at 0x1fab2fe5648>]"
      ]
     },
     "execution_count": 67,
     "metadata": {},
     "output_type": "execute_result"
    },
    {
     "data": {
      "image/png": "[encoded data removed]",
      "text/plain": [
       "<Figure size 432x288 with 1 Axes>"
      ]
     },
     "metadata": {
      "needs_background": "light"
     },
     "output_type": "display_data"
    }
   ],
   "source": [
    "plt.plot(e08.Fecha,e08[\"Temperatura\"])\n",
    "plt.plot(e08.Fecha,e08[\"Nivel embalse\"])\n",
    "plt.plot(e08.Fecha,e08[\"Precipitaciones\"])"
   ]
  },
  {
   "cell_type": "code",
   "execution_count": 68,
   "metadata": {},
   "outputs": [
    {
     "data": {
      "text/plain": [
       "[<matplotlib.lines.Line2D at 0x1fab0b23e88>]"
      ]
     },
     "execution_count": 68,
     "metadata": {},
     "output_type": "execute_result"
    },
    {
     "data": {
      "image/png": "[encoded data removed]",
      "text/plain": [
       "<Figure size 432x288 with 1 Axes>"
      ]
     },
     "metadata": {
      "needs_background": "light"
     },
     "output_type": "display_data"
    }
   ],
   "source": [
    "plt.plot(e08.Fecha,e08.E008ZUPCVP01)\n",
    "plt.plot(e08.Fecha,e08.E008ZUPCVP02)\n",
    "plt.plot(e08.Fecha,e08.E008ZUPCVP05)\n",
    "plt.plot(e08.Fecha,e08.E008ZUPCVP06)\n",
    "plt.plot(e08.Fecha,e08.E008ZUPCVP09)\n",
    "plt.plot(e08.Fecha,e08.E008ZUPCVP12)\n",
    "plt.plot(e08.Fecha,e08.E008ZUPCVP13)\n",
    "plt.plot(e08.Fecha,e08.E008ZUPCVP14)"
   ]
  },
  {
   "cell_type": "code",
   "execution_count": 69,
   "metadata": {},
   "outputs": [
    {
     "data": {
      "text/plain": [
       "[<matplotlib.lines.Line2D at 0x1fab252fc88>]"
      ]
     },
     "execution_count": 69,
     "metadata": {},
     "output_type": "execute_result"
    },
    {
     "data": {
      "image/png": "[encoded data removed]",
      "text/plain": [
       "<Figure size 432x288 with 1 Axes>"
      ]
     },
     "metadata": {
      "needs_background": "light"
     },
     "output_type": "display_data"
    }
   ],
   "source": [
    "plt.plot(e08.Fecha,e08[\"AF-01\"])\n",
    "plt.plot(e08.Fecha,e08[\"AF-02\"])\n",
    "plt.plot(e08.Fecha,e08[\"AF-03\"])\n",
    "plt.plot(e08.Fecha,e08[\"AF-04\"])\n",
    "plt.plot(e08.Fecha,e08[\"AF-05\"])"
   ]
  },
  {
   "cell_type": "markdown",
   "metadata": {},
   "source": [
    "# PREPARACIÓN DE LOS DATOS PARA EL MODELO "
   ]
  },
  {
   "cell_type": "code",
   "execution_count": 70,
   "metadata": {},
   "outputs": [
    {
     "data": {
      "text/html": [
       "<div>\n",
       "<style scoped>\n",
       "    .dataframe tbody tr th:only-of-type {\n",
       "        vertical-align: middle;\n",
       "    }\n",
       "\n",
       "    .dataframe tbody tr th {\n",
       "        vertical-align: top;\n",
       "    }\n",
       "\n",
       "    .dataframe thead th {\n",
       "        text-align: right;\n",
       "    }\n",
       "</style>\n",
       "<table border=\"1\" class=\"dataframe\">\n",
       "  <thead>\n",
       "    <tr style=\"text-align: right;\">\n",
       "      <th></th>\n",
       "      <th>AF-01</th>\n",
       "      <th>AF-05</th>\n",
       "      <th>AF-04</th>\n",
       "      <th>AF-03</th>\n",
       "      <th>AF-02</th>\n",
       "      <th>Fecha</th>\n",
       "      <th>Temperatura</th>\n",
       "      <th>Nivel embalse</th>\n",
       "      <th>Precipitaciones</th>\n",
       "      <th>E008ZUPCVP01</th>\n",
       "      <th>E008ZUPCVP02</th>\n",
       "      <th>E008ZUPCVP05</th>\n",
       "      <th>E008ZUPCVP06</th>\n",
       "      <th>E008ZUPCVP09</th>\n",
       "      <th>E008ZUPCVP12</th>\n",
       "      <th>E008ZUPCVP13</th>\n",
       "      <th>E008ZUPCVP14</th>\n",
       "    </tr>\n",
       "  </thead>\n",
       "  <tbody>\n",
       "    <tr>\n",
       "      <th>0</th>\n",
       "      <td>10.53</td>\n",
       "      <td>78.79</td>\n",
       "      <td>NaN</td>\n",
       "      <td>36.08</td>\n",
       "      <td>11.52</td>\n",
       "      <td>2009-10-02</td>\n",
       "      <td>19.7</td>\n",
       "      <td>791.28</td>\n",
       "      <td>4.2</td>\n",
       "      <td>NaN</td>\n",
       "      <td>NaN</td>\n",
       "      <td>NaN</td>\n",
       "      <td>NaN</td>\n",
       "      <td>NaN</td>\n",
       "      <td>NaN</td>\n",
       "      <td>NaN</td>\n",
       "      <td>NaN</td>\n",
       "    </tr>\n",
       "    <tr>\n",
       "      <th>1</th>\n",
       "      <td>10.53</td>\n",
       "      <td>78.79</td>\n",
       "      <td>NaN</td>\n",
       "      <td>36.08</td>\n",
       "      <td>11.52</td>\n",
       "      <td>2009-10-03</td>\n",
       "      <td>20.0</td>\n",
       "      <td>791.28</td>\n",
       "      <td>4.2</td>\n",
       "      <td>NaN</td>\n",
       "      <td>NaN</td>\n",
       "      <td>NaN</td>\n",
       "      <td>NaN</td>\n",
       "      <td>NaN</td>\n",
       "      <td>NaN</td>\n",
       "      <td>NaN</td>\n",
       "      <td>NaN</td>\n",
       "    </tr>\n",
       "    <tr>\n",
       "      <th>2</th>\n",
       "      <td>10.53</td>\n",
       "      <td>78.79</td>\n",
       "      <td>NaN</td>\n",
       "      <td>37.09</td>\n",
       "      <td>11.52</td>\n",
       "      <td>2009-10-04</td>\n",
       "      <td>20.3</td>\n",
       "      <td>791.29</td>\n",
       "      <td>0.0</td>\n",
       "      <td>NaN</td>\n",
       "      <td>NaN</td>\n",
       "      <td>NaN</td>\n",
       "      <td>NaN</td>\n",
       "      <td>NaN</td>\n",
       "      <td>NaN</td>\n",
       "      <td>NaN</td>\n",
       "      <td>NaN</td>\n",
       "    </tr>\n",
       "    <tr>\n",
       "      <th>3</th>\n",
       "      <td>10.53</td>\n",
       "      <td>77.20</td>\n",
       "      <td>NaN</td>\n",
       "      <td>37.09</td>\n",
       "      <td>11.52</td>\n",
       "      <td>2009-10-05</td>\n",
       "      <td>23.8</td>\n",
       "      <td>791.29</td>\n",
       "      <td>0.0</td>\n",
       "      <td>NaN</td>\n",
       "      <td>NaN</td>\n",
       "      <td>NaN</td>\n",
       "      <td>NaN</td>\n",
       "      <td>NaN</td>\n",
       "      <td>NaN</td>\n",
       "      <td>NaN</td>\n",
       "      <td>NaN</td>\n",
       "    </tr>\n",
       "    <tr>\n",
       "      <th>4</th>\n",
       "      <td>10.53</td>\n",
       "      <td>77.20</td>\n",
       "      <td>NaN</td>\n",
       "      <td>37.09</td>\n",
       "      <td>11.52</td>\n",
       "      <td>2009-10-06</td>\n",
       "      <td>26.3</td>\n",
       "      <td>791.29</td>\n",
       "      <td>0.0</td>\n",
       "      <td>NaN</td>\n",
       "      <td>NaN</td>\n",
       "      <td>NaN</td>\n",
       "      <td>NaN</td>\n",
       "      <td>NaN</td>\n",
       "      <td>NaN</td>\n",
       "      <td>NaN</td>\n",
       "      <td>NaN</td>\n",
       "    </tr>\n",
       "  </tbody>\n",
       "</table>\n",
       "</div>"
      ],
      "text/plain": [
       "   AF-01  AF-05  AF-04  AF-03  AF-02      Fecha  Temperatura  Nivel embalse  \\\n",
       "0  10.53  78.79    NaN  36.08  11.52 2009-10-02         19.7         791.28   \n",
       "1  10.53  78.79    NaN  36.08  11.52 2009-10-03         20.0         791.28   \n",
       "2  10.53  78.79    NaN  37.09  11.52 2009-10-04         20.3         791.29   \n",
       "3  10.53  77.20    NaN  37.09  11.52 2009-10-05         23.8         791.29   \n",
       "4  10.53  77.20    NaN  37.09  11.52 2009-10-06         26.3         791.29   \n",
       "\n",
       "   Precipitaciones  E008ZUPCVP01  E008ZUPCVP02  E008ZUPCVP05  E008ZUPCVP06  \\\n",
       "0              4.2           NaN           NaN           NaN           NaN   \n",
       "1              4.2           NaN           NaN           NaN           NaN   \n",
       "2              0.0           NaN           NaN           NaN           NaN   \n",
       "3              0.0           NaN           NaN           NaN           NaN   \n",
       "4              0.0           NaN           NaN           NaN           NaN   \n",
       "\n",
       "   E008ZUPCVP09  E008ZUPCVP12  E008ZUPCVP13  E008ZUPCVP14  \n",
       "0           NaN           NaN           NaN           NaN  \n",
       "1           NaN           NaN           NaN           NaN  \n",
       "2           NaN           NaN           NaN           NaN  \n",
       "3           NaN           NaN           NaN           NaN  \n",
       "4           NaN           NaN           NaN           NaN  "
      ]
     },
     "execution_count": 70,
     "metadata": {},
     "output_type": "execute_result"
    }
   ],
   "source": [
    "e08.head()"
   ]
  },
  {
   "cell_type": "markdown",
   "metadata": {},
   "source": [
    "Eliminación de las filas con NaN mediante dropna y thresh."
   ]
  },
  {
   "cell_type": "code",
   "execution_count": 71,
   "metadata": {},
   "outputs": [],
   "source": [
    "e08 = e08.dropna(thresh=17)"
   ]
  },
  {
   "cell_type": "markdown",
   "metadata": {},
   "source": [
    "Dimensiones del dataframe definitivo."
   ]
  },
  {
   "cell_type": "code",
   "execution_count": 69,
   "metadata": {},
   "outputs": [
    {
     "data": {
      "text/plain": [
       "(2506, 17)"
      ]
     },
     "execution_count": 69,
     "metadata": {},
     "output_type": "execute_result"
    }
   ],
   "source": [
    "e08.shape"
   ]
  },
  {
   "cell_type": "markdown",
   "metadata": {},
   "source": [
    "Generación de gráficos sin NaN."
   ]
  },
  {
   "cell_type": "code",
   "execution_count": 72,
   "metadata": {},
   "outputs": [
    {
     "data": {
      "text/plain": [
       "[<matplotlib.lines.Line2D at 0x1fab3d05fc8>]"
      ]
     },
     "execution_count": 72,
     "metadata": {},
     "output_type": "execute_result"
    },
    {
     "data": {
      "image/png": "[encoded data removed]",
      "text/plain": [
       "<Figure size 432x288 with 1 Axes>"
      ]
     },
     "metadata": {
      "needs_background": "light"
     },
     "output_type": "display_data"
    }
   ],
   "source": [
    "plt.plot(e08.Fecha,e08.E008ZUPCVP01)\n",
    "plt.plot(e08.Fecha,e08.E008ZUPCVP02)\n",
    "plt.plot(e08.Fecha,e08.E008ZUPCVP05)\n",
    "plt.plot(e08.Fecha,e08.E008ZUPCVP06)\n",
    "plt.plot(e08.Fecha,e08.E008ZUPCVP09)\n",
    "plt.plot(e08.Fecha,e08.E008ZUPCVP12)\n",
    "plt.plot(e08.Fecha,e08.E008ZUPCVP13)\n",
    "plt.plot(e08.Fecha,e08.E008ZUPCVP14)"
   ]
  },
  {
   "cell_type": "code",
   "execution_count": 73,
   "metadata": {},
   "outputs": [
    {
     "data": {
      "text/plain": [
       "[<matplotlib.lines.Line2D at 0x1fab257ed88>]"
      ]
     },
     "execution_count": 73,
     "metadata": {},
     "output_type": "execute_result"
    },
    {
     "data": {
      "image/png": "[encoded data removed]",
      "text/plain": [
       "<Figure size 432x288 with 1 Axes>"
      ]
     },
     "metadata": {
      "needs_background": "light"
     },
     "output_type": "display_data"
    }
   ],
   "source": [
    "plt.plot(e08.Fecha,e08[\"AF-01\"])\n",
    "plt.plot(e08.Fecha,e08[\"AF-02\"])\n",
    "plt.plot(e08.Fecha,e08[\"AF-03\"])\n",
    "plt.plot(e08.Fecha,e08[\"AF-04\"])\n",
    "plt.plot(e08.Fecha,e08[\"AF-05\"])"
   ]
  },
  {
   "cell_type": "code",
   "execution_count": 74,
   "metadata": {},
   "outputs": [
    {
     "data": {
      "text/plain": [
       "[<matplotlib.lines.Line2D at 0x1fab1139308>]"
      ]
     },
     "execution_count": 74,
     "metadata": {},
     "output_type": "execute_result"
    },
    {
     "data": {
      "image/png": "[encoded data removed]",
      "text/plain": [
       "<Figure size 432x288 with 1 Axes>"
      ]
     },
     "metadata": {
      "needs_background": "light"
     },
     "output_type": "display_data"
    }
   ],
   "source": [
    "plt.plot(e08.Fecha,e08[\"Temperatura\"])\n",
    "plt.plot(e08.Fecha,e08[\"Nivel embalse\"])\n",
    "plt.plot(e08.Fecha,e08[\"Precipitaciones\"])"
   ]
  },
  {
   "cell_type": "markdown",
   "metadata": {},
   "source": [
    "Comprobación de la ausencia de NaN en las columnas."
   ]
  },
  {
   "cell_type": "code",
   "execution_count": 75,
   "metadata": {},
   "outputs": [
    {
     "name": "stdout",
     "output_type": "stream",
     "text": [
      "0\n",
      "**************\n",
      "0\n",
      "**************\n",
      "0\n",
      "**************\n",
      "0\n",
      "**************\n",
      "0\n",
      "**************\n",
      "0\n",
      "**************\n",
      "0\n",
      "**************\n",
      "0\n",
      "**************\n",
      "0\n",
      "**************\n",
      "0\n",
      "**************\n",
      "0\n",
      "**************\n",
      "0\n",
      "**************\n",
      "0\n",
      "**************\n",
      "0\n",
      "**************\n",
      "0\n",
      "**************\n",
      "0\n",
      "**************\n",
      "0\n",
      "**************\n"
     ]
    }
   ],
   "source": [
    "for i in e08.columns:\n",
    "    print(e08[i].isnull().sum())\n",
    "    print(\"**************\")"
   ]
  },
  {
   "cell_type": "code",
   "execution_count": 76,
   "metadata": {},
   "outputs": [
    {
     "data": {
      "text/html": [
       "<div>\n",
       "<style scoped>\n",
       "    .dataframe tbody tr th:only-of-type {\n",
       "        vertical-align: middle;\n",
       "    }\n",
       "\n",
       "    .dataframe tbody tr th {\n",
       "        vertical-align: top;\n",
       "    }\n",
       "\n",
       "    .dataframe thead th {\n",
       "        text-align: right;\n",
       "    }\n",
       "</style>\n",
       "<table border=\"1\" class=\"dataframe\">\n",
       "  <thead>\n",
       "    <tr style=\"text-align: right;\">\n",
       "      <th></th>\n",
       "      <th>AF-01</th>\n",
       "      <th>AF-05</th>\n",
       "      <th>AF-04</th>\n",
       "      <th>AF-03</th>\n",
       "      <th>AF-02</th>\n",
       "      <th>Fecha</th>\n",
       "      <th>Temperatura</th>\n",
       "      <th>Nivel embalse</th>\n",
       "      <th>Precipitaciones</th>\n",
       "      <th>E008ZUPCVP01</th>\n",
       "      <th>E008ZUPCVP02</th>\n",
       "      <th>E008ZUPCVP05</th>\n",
       "      <th>E008ZUPCVP06</th>\n",
       "      <th>E008ZUPCVP09</th>\n",
       "      <th>E008ZUPCVP12</th>\n",
       "      <th>E008ZUPCVP13</th>\n",
       "      <th>E008ZUPCVP14</th>\n",
       "    </tr>\n",
       "  </thead>\n",
       "  <tbody>\n",
       "    <tr>\n",
       "      <th>136</th>\n",
       "      <td>11.45</td>\n",
       "      <td>173.32</td>\n",
       "      <td>0.23</td>\n",
       "      <td>42.78</td>\n",
       "      <td>12.48</td>\n",
       "      <td>2010-02-15</td>\n",
       "      <td>-0.9</td>\n",
       "      <td>794.87</td>\n",
       "      <td>0.0</td>\n",
       "      <td>2.38</td>\n",
       "      <td>0.79</td>\n",
       "      <td>1.01</td>\n",
       "      <td>0.65</td>\n",
       "      <td>0.38</td>\n",
       "      <td>4.17</td>\n",
       "      <td>2.18</td>\n",
       "      <td>0.96</td>\n",
       "    </tr>\n",
       "    <tr>\n",
       "      <th>157</th>\n",
       "      <td>11.57</td>\n",
       "      <td>193.90</td>\n",
       "      <td>0.58</td>\n",
       "      <td>43.56</td>\n",
       "      <td>12.34</td>\n",
       "      <td>2010-03-08</td>\n",
       "      <td>3.8</td>\n",
       "      <td>796.32</td>\n",
       "      <td>3.8</td>\n",
       "      <td>2.35</td>\n",
       "      <td>0.77</td>\n",
       "      <td>1.01</td>\n",
       "      <td>0.63</td>\n",
       "      <td>0.33</td>\n",
       "      <td>4.19</td>\n",
       "      <td>2.16</td>\n",
       "      <td>0.97</td>\n",
       "    </tr>\n",
       "    <tr>\n",
       "      <th>187</th>\n",
       "      <td>12.03</td>\n",
       "      <td>209.26</td>\n",
       "      <td>59.59</td>\n",
       "      <td>43.74</td>\n",
       "      <td>12.24</td>\n",
       "      <td>2010-04-07</td>\n",
       "      <td>15.3</td>\n",
       "      <td>798.08</td>\n",
       "      <td>0.0</td>\n",
       "      <td>2.32</td>\n",
       "      <td>0.77</td>\n",
       "      <td>1.05</td>\n",
       "      <td>0.61</td>\n",
       "      <td>0.29</td>\n",
       "      <td>4.26</td>\n",
       "      <td>2.09</td>\n",
       "      <td>0.96</td>\n",
       "    </tr>\n",
       "    <tr>\n",
       "      <th>212</th>\n",
       "      <td>23.34</td>\n",
       "      <td>218.59</td>\n",
       "      <td>14.91</td>\n",
       "      <td>40.23</td>\n",
       "      <td>18.84</td>\n",
       "      <td>2010-08-06</td>\n",
       "      <td>23.6</td>\n",
       "      <td>798.14</td>\n",
       "      <td>0.0</td>\n",
       "      <td>2.29</td>\n",
       "      <td>0.79</td>\n",
       "      <td>1.28</td>\n",
       "      <td>0.60</td>\n",
       "      <td>0.68</td>\n",
       "      <td>4.50</td>\n",
       "      <td>2.06</td>\n",
       "      <td>0.95</td>\n",
       "    </tr>\n",
       "    <tr>\n",
       "      <th>449</th>\n",
       "      <td>23.03</td>\n",
       "      <td>148.28</td>\n",
       "      <td>0.70</td>\n",
       "      <td>41.31</td>\n",
       "      <td>17.91</td>\n",
       "      <td>2011-04-01</td>\n",
       "      <td>19.0</td>\n",
       "      <td>796.93</td>\n",
       "      <td>0.2</td>\n",
       "      <td>2.32</td>\n",
       "      <td>0.78</td>\n",
       "      <td>1.05</td>\n",
       "      <td>0.59</td>\n",
       "      <td>0.26</td>\n",
       "      <td>4.27</td>\n",
       "      <td>2.07</td>\n",
       "      <td>0.96</td>\n",
       "    </tr>\n",
       "    <tr>\n",
       "      <th>...</th>\n",
       "      <td>...</td>\n",
       "      <td>...</td>\n",
       "      <td>...</td>\n",
       "      <td>...</td>\n",
       "      <td>...</td>\n",
       "      <td>...</td>\n",
       "      <td>...</td>\n",
       "      <td>...</td>\n",
       "      <td>...</td>\n",
       "      <td>...</td>\n",
       "      <td>...</td>\n",
       "      <td>...</td>\n",
       "      <td>...</td>\n",
       "      <td>...</td>\n",
       "      <td>...</td>\n",
       "      <td>...</td>\n",
       "      <td>...</td>\n",
       "    </tr>\n",
       "    <tr>\n",
       "      <th>3797</th>\n",
       "      <td>17.51</td>\n",
       "      <td>258.39</td>\n",
       "      <td>86.36</td>\n",
       "      <td>31.65</td>\n",
       "      <td>13.65</td>\n",
       "      <td>2020-06-14</td>\n",
       "      <td>17.2</td>\n",
       "      <td>799.80</td>\n",
       "      <td>0.0</td>\n",
       "      <td>2.29</td>\n",
       "      <td>0.73</td>\n",
       "      <td>0.82</td>\n",
       "      <td>0.20</td>\n",
       "      <td>0.18</td>\n",
       "      <td>4.27</td>\n",
       "      <td>2.02</td>\n",
       "      <td>0.92</td>\n",
       "    </tr>\n",
       "    <tr>\n",
       "      <th>3798</th>\n",
       "      <td>17.51</td>\n",
       "      <td>256.43</td>\n",
       "      <td>82.03</td>\n",
       "      <td>31.46</td>\n",
       "      <td>13.65</td>\n",
       "      <td>2020-06-15</td>\n",
       "      <td>19.7</td>\n",
       "      <td>799.84</td>\n",
       "      <td>0.0</td>\n",
       "      <td>2.29</td>\n",
       "      <td>0.73</td>\n",
       "      <td>0.83</td>\n",
       "      <td>0.20</td>\n",
       "      <td>0.20</td>\n",
       "      <td>4.27</td>\n",
       "      <td>2.02</td>\n",
       "      <td>0.92</td>\n",
       "    </tr>\n",
       "    <tr>\n",
       "      <th>3799</th>\n",
       "      <td>17.51</td>\n",
       "      <td>256.43</td>\n",
       "      <td>81.38</td>\n",
       "      <td>31.46</td>\n",
       "      <td>13.65</td>\n",
       "      <td>2020-06-16</td>\n",
       "      <td>20.1</td>\n",
       "      <td>799.86</td>\n",
       "      <td>7.0</td>\n",
       "      <td>2.29</td>\n",
       "      <td>0.73</td>\n",
       "      <td>0.83</td>\n",
       "      <td>0.20</td>\n",
       "      <td>0.21</td>\n",
       "      <td>4.28</td>\n",
       "      <td>2.02</td>\n",
       "      <td>0.92</td>\n",
       "    </tr>\n",
       "    <tr>\n",
       "      <th>3800</th>\n",
       "      <td>17.51</td>\n",
       "      <td>260.35</td>\n",
       "      <td>81.70</td>\n",
       "      <td>31.46</td>\n",
       "      <td>13.76</td>\n",
       "      <td>2020-06-17</td>\n",
       "      <td>19.3</td>\n",
       "      <td>799.89</td>\n",
       "      <td>0.4</td>\n",
       "      <td>2.29</td>\n",
       "      <td>0.73</td>\n",
       "      <td>0.84</td>\n",
       "      <td>0.20</td>\n",
       "      <td>0.22</td>\n",
       "      <td>4.28</td>\n",
       "      <td>2.01</td>\n",
       "      <td>0.93</td>\n",
       "    </tr>\n",
       "    <tr>\n",
       "      <th>3801</th>\n",
       "      <td>17.51</td>\n",
       "      <td>259.04</td>\n",
       "      <td>83.35</td>\n",
       "      <td>31.28</td>\n",
       "      <td>13.76</td>\n",
       "      <td>2020-06-18</td>\n",
       "      <td>16.2</td>\n",
       "      <td>799.91</td>\n",
       "      <td>6.1</td>\n",
       "      <td>2.29</td>\n",
       "      <td>0.73</td>\n",
       "      <td>0.85</td>\n",
       "      <td>0.20</td>\n",
       "      <td>0.22</td>\n",
       "      <td>4.28</td>\n",
       "      <td>2.02</td>\n",
       "      <td>0.93</td>\n",
       "    </tr>\n",
       "  </tbody>\n",
       "</table>\n",
       "<p>2506 rows × 17 columns</p>\n",
       "</div>"
      ],
      "text/plain": [
       "      AF-01   AF-05  AF-04  AF-03  AF-02      Fecha  Temperatura  \\\n",
       "136   11.45  173.32   0.23  42.78  12.48 2010-02-15         -0.9   \n",
       "157   11.57  193.90   0.58  43.56  12.34 2010-03-08          3.8   \n",
       "187   12.03  209.26  59.59  43.74  12.24 2010-04-07         15.3   \n",
       "212   23.34  218.59  14.91  40.23  18.84 2010-08-06         23.6   \n",
       "449   23.03  148.28   0.70  41.31  17.91 2011-04-01         19.0   \n",
       "...     ...     ...    ...    ...    ...        ...          ...   \n",
       "3797  17.51  258.39  86.36  31.65  13.65 2020-06-14         17.2   \n",
       "3798  17.51  256.43  82.03  31.46  13.65 2020-06-15         19.7   \n",
       "3799  17.51  256.43  81.38  31.46  13.65 2020-06-16         20.1   \n",
       "3800  17.51  260.35  81.70  31.46  13.76 2020-06-17         19.3   \n",
       "3801  17.51  259.04  83.35  31.28  13.76 2020-06-18         16.2   \n",
       "\n",
       "      Nivel embalse  Precipitaciones  E008ZUPCVP01  E008ZUPCVP02  \\\n",
       "136          794.87              0.0          2.38          0.79   \n",
       "157          796.32              3.8          2.35          0.77   \n",
       "187          798.08              0.0          2.32          0.77   \n",
       "212          798.14              0.0          2.29          0.79   \n",
       "449          796.93              0.2          2.32          0.78   \n",
       "...             ...              ...           ...           ...   \n",
       "3797         799.80              0.0          2.29          0.73   \n",
       "3798         799.84              0.0          2.29          0.73   \n",
       "3799         799.86              7.0          2.29          0.73   \n",
       "3800         799.89              0.4          2.29          0.73   \n",
       "3801         799.91              6.1          2.29          0.73   \n",
       "\n",
       "      E008ZUPCVP05  E008ZUPCVP06  E008ZUPCVP09  E008ZUPCVP12  E008ZUPCVP13  \\\n",
       "136           1.01          0.65          0.38          4.17          2.18   \n",
       "157           1.01          0.63          0.33          4.19          2.16   \n",
       "187           1.05          0.61          0.29          4.26          2.09   \n",
       "212           1.28          0.60          0.68          4.50          2.06   \n",
       "449           1.05          0.59          0.26          4.27          2.07   \n",
       "...            ...           ...           ...           ...           ...   \n",
       "3797          0.82          0.20          0.18          4.27          2.02   \n",
       "3798          0.83          0.20          0.20          4.27          2.02   \n",
       "3799          0.83          0.20          0.21          4.28          2.02   \n",
       "3800          0.84          0.20          0.22          4.28          2.01   \n",
       "3801          0.85          0.20          0.22          4.28          2.02   \n",
       "\n",
       "      E008ZUPCVP14  \n",
       "136           0.96  \n",
       "157           0.97  \n",
       "187           0.96  \n",
       "212           0.95  \n",
       "449           0.96  \n",
       "...            ...  \n",
       "3797          0.92  \n",
       "3798          0.92  \n",
       "3799          0.92  \n",
       "3800          0.93  \n",
       "3801          0.93  \n",
       "\n",
       "[2506 rows x 17 columns]"
      ]
     },
     "execution_count": 76,
     "metadata": {},
     "output_type": "execute_result"
    }
   ],
   "source": [
    "e08"
   ]
  },
  {
   "cell_type": "markdown",
   "metadata": {},
   "source": [
    "# RED NEURONAL RECURRENTE "
   ]
  },
  {
   "cell_type": "code",
   "execution_count": 77,
   "metadata": {},
   "outputs": [
    {
     "name": "stderr",
     "output_type": "stream",
     "text": [
      "Using TensorFlow backend.\n",
      "C:\\Users\\ALCEA\\anaconda3\\lib\\site-packages\\tensorflow\\python\\framework\\dtypes.py:516: FutureWarning: Passing (type, 1) or '1type' as a synonym of type is deprecated; in a future version of numpy, it will be understood as (type, (1,)) / '(1,)type'.\n",
      "  _np_qint8 = np.dtype([(\"qint8\", np.int8, 1)])\n",
      "C:\\Users\\ALCEA\\anaconda3\\lib\\site-packages\\tensorflow\\python\\framework\\dtypes.py:517: FutureWarning: Passing (type, 1) or '1type' as a synonym of type is deprecated; in a future version of numpy, it will be understood as (type, (1,)) / '(1,)type'.\n",
      "  _np_quint8 = np.dtype([(\"quint8\", np.uint8, 1)])\n",
      "C:\\Users\\ALCEA\\anaconda3\\lib\\site-packages\\tensorflow\\python\\framework\\dtypes.py:518: FutureWarning: Passing (type, 1) or '1type' as a synonym of type is deprecated; in a future version of numpy, it will be understood as (type, (1,)) / '(1,)type'.\n",
      "  _np_qint16 = np.dtype([(\"qint16\", np.int16, 1)])\n",
      "C:\\Users\\ALCEA\\anaconda3\\lib\\site-packages\\tensorflow\\python\\framework\\dtypes.py:519: FutureWarning: Passing (type, 1) or '1type' as a synonym of type is deprecated; in a future version of numpy, it will be understood as (type, (1,)) / '(1,)type'.\n",
      "  _np_quint16 = np.dtype([(\"quint16\", np.uint16, 1)])\n",
      "C:\\Users\\ALCEA\\anaconda3\\lib\\site-packages\\tensorflow\\python\\framework\\dtypes.py:520: FutureWarning: Passing (type, 1) or '1type' as a synonym of type is deprecated; in a future version of numpy, it will be understood as (type, (1,)) / '(1,)type'.\n",
      "  _np_qint32 = np.dtype([(\"qint32\", np.int32, 1)])\n",
      "C:\\Users\\ALCEA\\anaconda3\\lib\\site-packages\\tensorflow\\python\\framework\\dtypes.py:525: FutureWarning: Passing (type, 1) or '1type' as a synonym of type is deprecated; in a future version of numpy, it will be understood as (type, (1,)) / '(1,)type'.\n",
      "  np_resource = np.dtype([(\"resource\", np.ubyte, 1)])\n",
      "C:\\Users\\ALCEA\\anaconda3\\lib\\site-packages\\tensorboard\\compat\\tensorflow_stub\\dtypes.py:541: FutureWarning: Passing (type, 1) or '1type' as a synonym of type is deprecated; in a future version of numpy, it will be understood as (type, (1,)) / '(1,)type'.\n",
      "  _np_qint8 = np.dtype([(\"qint8\", np.int8, 1)])\n",
      "C:\\Users\\ALCEA\\anaconda3\\lib\\site-packages\\tensorboard\\compat\\tensorflow_stub\\dtypes.py:542: FutureWarning: Passing (type, 1) or '1type' as a synonym of type is deprecated; in a future version of numpy, it will be understood as (type, (1,)) / '(1,)type'.\n",
      "  _np_quint8 = np.dtype([(\"quint8\", np.uint8, 1)])\n",
      "C:\\Users\\ALCEA\\anaconda3\\lib\\site-packages\\tensorboard\\compat\\tensorflow_stub\\dtypes.py:543: FutureWarning: Passing (type, 1) or '1type' as a synonym of type is deprecated; in a future version of numpy, it will be understood as (type, (1,)) / '(1,)type'.\n",
      "  _np_qint16 = np.dtype([(\"qint16\", np.int16, 1)])\n",
      "C:\\Users\\ALCEA\\anaconda3\\lib\\site-packages\\tensorboard\\compat\\tensorflow_stub\\dtypes.py:544: FutureWarning: Passing (type, 1) or '1type' as a synonym of type is deprecated; in a future version of numpy, it will be understood as (type, (1,)) / '(1,)type'.\n",
      "  _np_quint16 = np.dtype([(\"quint16\", np.uint16, 1)])\n",
      "C:\\Users\\ALCEA\\anaconda3\\lib\\site-packages\\tensorboard\\compat\\tensorflow_stub\\dtypes.py:545: FutureWarning: Passing (type, 1) or '1type' as a synonym of type is deprecated; in a future version of numpy, it will be understood as (type, (1,)) / '(1,)type'.\n",
      "  _np_qint32 = np.dtype([(\"qint32\", np.int32, 1)])\n",
      "C:\\Users\\ALCEA\\anaconda3\\lib\\site-packages\\tensorboard\\compat\\tensorflow_stub\\dtypes.py:550: FutureWarning: Passing (type, 1) or '1type' as a synonym of type is deprecated; in a future version of numpy, it will be understood as (type, (1,)) / '(1,)type'.\n",
      "  np_resource = np.dtype([(\"resource\", np.ubyte, 1)])\n"
     ]
    }
   ],
   "source": [
    "import pandas as pd\n",
    "import numpy as np\n",
    "import matplotlib.pyplot as plt\n",
    "from keras.models import Sequential\n",
    "from keras.layers import Dense, SimpleRNN"
   ]
  },
  {
   "cell_type": "code",
   "execution_count": 78,
   "metadata": {},
   "outputs": [
    {
     "data": {
      "text/html": [
       "<div>\n",
       "<style scoped>\n",
       "    .dataframe tbody tr th:only-of-type {\n",
       "        vertical-align: middle;\n",
       "    }\n",
       "\n",
       "    .dataframe tbody tr th {\n",
       "        vertical-align: top;\n",
       "    }\n",
       "\n",
       "    .dataframe thead th {\n",
       "        text-align: right;\n",
       "    }\n",
       "</style>\n",
       "<table border=\"1\" class=\"dataframe\">\n",
       "  <thead>\n",
       "    <tr style=\"text-align: right;\">\n",
       "      <th></th>\n",
       "      <th>AF-01</th>\n",
       "      <th>AF-05</th>\n",
       "      <th>AF-04</th>\n",
       "      <th>AF-03</th>\n",
       "      <th>AF-02</th>\n",
       "      <th>Fecha</th>\n",
       "      <th>Temperatura</th>\n",
       "      <th>Nivel embalse</th>\n",
       "      <th>Precipitaciones</th>\n",
       "      <th>E008ZUPCVP01</th>\n",
       "      <th>E008ZUPCVP02</th>\n",
       "      <th>E008ZUPCVP05</th>\n",
       "      <th>E008ZUPCVP06</th>\n",
       "      <th>E008ZUPCVP09</th>\n",
       "      <th>E008ZUPCVP12</th>\n",
       "      <th>E008ZUPCVP13</th>\n",
       "      <th>E008ZUPCVP14</th>\n",
       "    </tr>\n",
       "  </thead>\n",
       "  <tbody>\n",
       "    <tr>\n",
       "      <th>136</th>\n",
       "      <td>11.45</td>\n",
       "      <td>173.32</td>\n",
       "      <td>0.23</td>\n",
       "      <td>42.78</td>\n",
       "      <td>12.48</td>\n",
       "      <td>2010-02-15</td>\n",
       "      <td>-0.9</td>\n",
       "      <td>794.87</td>\n",
       "      <td>0.0</td>\n",
       "      <td>2.38</td>\n",
       "      <td>0.79</td>\n",
       "      <td>1.01</td>\n",
       "      <td>0.65</td>\n",
       "      <td>0.38</td>\n",
       "      <td>4.17</td>\n",
       "      <td>2.18</td>\n",
       "      <td>0.96</td>\n",
       "    </tr>\n",
       "    <tr>\n",
       "      <th>157</th>\n",
       "      <td>11.57</td>\n",
       "      <td>193.90</td>\n",
       "      <td>0.58</td>\n",
       "      <td>43.56</td>\n",
       "      <td>12.34</td>\n",
       "      <td>2010-03-08</td>\n",
       "      <td>3.8</td>\n",
       "      <td>796.32</td>\n",
       "      <td>3.8</td>\n",
       "      <td>2.35</td>\n",
       "      <td>0.77</td>\n",
       "      <td>1.01</td>\n",
       "      <td>0.63</td>\n",
       "      <td>0.33</td>\n",
       "      <td>4.19</td>\n",
       "      <td>2.16</td>\n",
       "      <td>0.97</td>\n",
       "    </tr>\n",
       "  </tbody>\n",
       "</table>\n",
       "</div>"
      ],
      "text/plain": [
       "     AF-01   AF-05  AF-04  AF-03  AF-02      Fecha  Temperatura  \\\n",
       "136  11.45  173.32   0.23  42.78  12.48 2010-02-15         -0.9   \n",
       "157  11.57  193.90   0.58  43.56  12.34 2010-03-08          3.8   \n",
       "\n",
       "     Nivel embalse  Precipitaciones  E008ZUPCVP01  E008ZUPCVP02  E008ZUPCVP05  \\\n",
       "136         794.87              0.0          2.38          0.79          1.01   \n",
       "157         796.32              3.8          2.35          0.77          1.01   \n",
       "\n",
       "     E008ZUPCVP06  E008ZUPCVP09  E008ZUPCVP12  E008ZUPCVP13  E008ZUPCVP14  \n",
       "136          0.65          0.38          4.17          2.18          0.96  \n",
       "157          0.63          0.33          4.19          2.16          0.97  "
      ]
     },
     "execution_count": 78,
     "metadata": {},
     "output_type": "execute_result"
    }
   ],
   "source": [
    "e08.head(2)"
   ]
  },
  {
   "cell_type": "markdown",
   "metadata": {},
   "source": [
    "Conversión del dataframe (excepto los valores de las fechas) en arreglo."
   ]
  },
  {
   "cell_type": "code",
   "execution_count": 79,
   "metadata": {},
   "outputs": [],
   "source": [
    "datos = np.array(e08.drop(\"Fecha\", axis=1))"
   ]
  },
  {
   "cell_type": "code",
   "execution_count": 80,
   "metadata": {},
   "outputs": [
    {
     "data": {
      "text/plain": [
       "array([[1.1450e+01, 1.7332e+02, 2.3000e-01, ..., 4.1700e+00, 2.1800e+00,\n",
       "        9.6000e-01],\n",
       "       [1.1570e+01, 1.9390e+02, 5.8000e-01, ..., 4.1900e+00, 2.1600e+00,\n",
       "        9.7000e-01],\n",
       "       [1.2030e+01, 2.0926e+02, 5.9590e+01, ..., 4.2600e+00, 2.0900e+00,\n",
       "        9.6000e-01],\n",
       "       ...,\n",
       "       [1.7510e+01, 2.5643e+02, 8.1380e+01, ..., 4.2800e+00, 2.0200e+00,\n",
       "        9.2000e-01],\n",
       "       [1.7510e+01, 2.6035e+02, 8.1700e+01, ..., 4.2800e+00, 2.0100e+00,\n",
       "        9.3000e-01],\n",
       "       [1.7510e+01, 2.5904e+02, 8.3350e+01, ..., 4.2800e+00, 2.0200e+00,\n",
       "        9.3000e-01]])"
      ]
     },
     "execution_count": 80,
     "metadata": {},
     "output_type": "execute_result"
    }
   ],
   "source": [
    "datos"
   ]
  },
  {
   "cell_type": "markdown",
   "metadata": {},
   "source": [
    "Normalización de los datos con valores en un rango de entre 0 y 1."
   ]
  },
  {
   "cell_type": "code",
   "execution_count": 81,
   "metadata": {},
   "outputs": [],
   "source": [
    "from sklearn.preprocessing import MinMaxScaler\n",
    "scaler = MinMaxScaler()\n",
    "datos = scaler.fit_transform(np.array(datos))"
   ]
  },
  {
   "cell_type": "markdown",
   "metadata": {},
   "source": [
    "Selección del aforador AF-01."
   ]
  },
  {
   "cell_type": "code",
   "execution_count": 82,
   "metadata": {},
   "outputs": [
    {
     "data": {
      "text/plain": [
       "(2506,)"
      ]
     },
     "execution_count": 82,
     "metadata": {},
     "output_type": "execute_result"
    }
   ],
   "source": [
    "datos[:,0].shape"
   ]
  },
  {
   "cell_type": "markdown",
   "metadata": {},
   "source": [
    "Gráfico de los aforadores 1, 2 y 3."
   ]
  },
  {
   "cell_type": "code",
   "execution_count": 83,
   "metadata": {},
   "outputs": [
    {
     "data": {
      "text/plain": [
       "[<matplotlib.lines.Line2D at 0x1fabab0db08>]"
      ]
     },
     "execution_count": 83,
     "metadata": {},
     "output_type": "execute_result"
    },
    {
     "data": {
      "image/png": "[encoded data removed]",
      "text/plain": [
       "<Figure size 432x288 with 1 Axes>"
      ]
     },
     "metadata": {
      "needs_background": "light"
     },
     "output_type": "display_data"
    }
   ],
   "source": [
    "plt.plot(datos[:,0], color=\"blue\") # AF-01\n",
    "plt.plot(datos[:,3], color = \"orange\") # AF-03\n",
    "plt.plot(datos[:,4], color=\"green\") # AF-02"
   ]
  },
  {
   "cell_type": "markdown",
   "metadata": {},
   "source": [
    "Gráfico de variables exteriores."
   ]
  },
  {
   "cell_type": "code",
   "execution_count": 84,
   "metadata": {},
   "outputs": [
    {
     "data": {
      "text/plain": [
       "[<matplotlib.lines.Line2D at 0x1fabab44288>]"
      ]
     },
     "execution_count": 84,
     "metadata": {},
     "output_type": "execute_result"
    },
    {
     "data": {
      "image/png": "[encoded data removed]",
      "text/plain": [
       "<Figure size 432x288 with 1 Axes>"
      ]
     },
     "metadata": {
      "needs_background": "light"
     },
     "output_type": "display_data"
    }
   ],
   "source": [
    "plt.plot(datos[:,5]) #Temperatura\n",
    "plt.plot(datos[:,6]) #Nivel embalse"
   ]
  },
  {
   "cell_type": "markdown",
   "metadata": {},
   "source": [
    "Gráfico de los cuatro primeros piezómetros."
   ]
  },
  {
   "cell_type": "code",
   "execution_count": 85,
   "metadata": {},
   "outputs": [
    {
     "data": {
      "text/plain": [
       "[<matplotlib.lines.Line2D at 0x1fababeb7c8>]"
      ]
     },
     "execution_count": 85,
     "metadata": {},
     "output_type": "execute_result"
    },
    {
     "data": {
      "image/png": "[encoded data removed]",
      "text/plain": [
       "<Figure size 432x288 with 1 Axes>"
      ]
     },
     "metadata": {
      "needs_background": "light"
     },
     "output_type": "display_data"
    }
   ],
   "source": [
    "plt.plot(datos[:,10])\n",
    "plt.plot(datos[:,11])\n",
    "plt.plot(datos[:,12])\n",
    "plt.plot(datos[:,13])"
   ]
  },
  {
   "cell_type": "markdown",
   "metadata": {},
   "source": [
    "# PREDICCIÓN DE LAS FILTRACIONES DEL AF-01"
   ]
  },
  {
   "cell_type": "markdown",
   "metadata": {},
   "source": [
    "Queremos predecir los valores del AF-01 a partir de los datos del resto de las variables. "
   ]
  },
  {
   "cell_type": "code",
   "execution_count": 117,
   "metadata": {},
   "outputs": [
    {
     "data": {
      "text/html": [
       "<div>\n",
       "<style scoped>\n",
       "    .dataframe tbody tr th:only-of-type {\n",
       "        vertical-align: middle;\n",
       "    }\n",
       "\n",
       "    .dataframe tbody tr th {\n",
       "        vertical-align: top;\n",
       "    }\n",
       "\n",
       "    .dataframe thead th {\n",
       "        text-align: right;\n",
       "    }\n",
       "</style>\n",
       "<table border=\"1\" class=\"dataframe\">\n",
       "  <thead>\n",
       "    <tr style=\"text-align: right;\">\n",
       "      <th></th>\n",
       "      <th>AF-01</th>\n",
       "      <th>AF-05</th>\n",
       "      <th>AF-04</th>\n",
       "      <th>AF-03</th>\n",
       "      <th>AF-02</th>\n",
       "      <th>Fecha</th>\n",
       "      <th>Temperatura</th>\n",
       "      <th>Nivel embalse</th>\n",
       "      <th>Precipitaciones</th>\n",
       "      <th>E008ZUPCVP01</th>\n",
       "      <th>E008ZUPCVP02</th>\n",
       "      <th>E008ZUPCVP05</th>\n",
       "      <th>E008ZUPCVP06</th>\n",
       "      <th>E008ZUPCVP09</th>\n",
       "      <th>E008ZUPCVP12</th>\n",
       "      <th>E008ZUPCVP13</th>\n",
       "      <th>E008ZUPCVP14</th>\n",
       "    </tr>\n",
       "  </thead>\n",
       "  <tbody>\n",
       "    <tr>\n",
       "      <th>136</th>\n",
       "      <td>11.45</td>\n",
       "      <td>173.32</td>\n",
       "      <td>0.23</td>\n",
       "      <td>42.78</td>\n",
       "      <td>12.48</td>\n",
       "      <td>2010-02-15</td>\n",
       "      <td>-0.9</td>\n",
       "      <td>794.87</td>\n",
       "      <td>0.0</td>\n",
       "      <td>2.38</td>\n",
       "      <td>0.79</td>\n",
       "      <td>1.01</td>\n",
       "      <td>0.65</td>\n",
       "      <td>0.38</td>\n",
       "      <td>4.17</td>\n",
       "      <td>2.18</td>\n",
       "      <td>0.96</td>\n",
       "    </tr>\n",
       "    <tr>\n",
       "      <th>157</th>\n",
       "      <td>11.57</td>\n",
       "      <td>193.90</td>\n",
       "      <td>0.58</td>\n",
       "      <td>43.56</td>\n",
       "      <td>12.34</td>\n",
       "      <td>2010-03-08</td>\n",
       "      <td>3.8</td>\n",
       "      <td>796.32</td>\n",
       "      <td>3.8</td>\n",
       "      <td>2.35</td>\n",
       "      <td>0.77</td>\n",
       "      <td>1.01</td>\n",
       "      <td>0.63</td>\n",
       "      <td>0.33</td>\n",
       "      <td>4.19</td>\n",
       "      <td>2.16</td>\n",
       "      <td>0.97</td>\n",
       "    </tr>\n",
       "    <tr>\n",
       "      <th>187</th>\n",
       "      <td>12.03</td>\n",
       "      <td>209.26</td>\n",
       "      <td>59.59</td>\n",
       "      <td>43.74</td>\n",
       "      <td>12.24</td>\n",
       "      <td>2010-04-07</td>\n",
       "      <td>15.3</td>\n",
       "      <td>798.08</td>\n",
       "      <td>0.0</td>\n",
       "      <td>2.32</td>\n",
       "      <td>0.77</td>\n",
       "      <td>1.05</td>\n",
       "      <td>0.61</td>\n",
       "      <td>0.29</td>\n",
       "      <td>4.26</td>\n",
       "      <td>2.09</td>\n",
       "      <td>0.96</td>\n",
       "    </tr>\n",
       "    <tr>\n",
       "      <th>212</th>\n",
       "      <td>23.34</td>\n",
       "      <td>218.59</td>\n",
       "      <td>14.91</td>\n",
       "      <td>40.23</td>\n",
       "      <td>18.84</td>\n",
       "      <td>2010-08-06</td>\n",
       "      <td>23.6</td>\n",
       "      <td>798.14</td>\n",
       "      <td>0.0</td>\n",
       "      <td>2.29</td>\n",
       "      <td>0.79</td>\n",
       "      <td>1.28</td>\n",
       "      <td>0.60</td>\n",
       "      <td>0.68</td>\n",
       "      <td>4.50</td>\n",
       "      <td>2.06</td>\n",
       "      <td>0.95</td>\n",
       "    </tr>\n",
       "    <tr>\n",
       "      <th>449</th>\n",
       "      <td>23.03</td>\n",
       "      <td>148.28</td>\n",
       "      <td>0.70</td>\n",
       "      <td>41.31</td>\n",
       "      <td>17.91</td>\n",
       "      <td>2011-04-01</td>\n",
       "      <td>19.0</td>\n",
       "      <td>796.93</td>\n",
       "      <td>0.2</td>\n",
       "      <td>2.32</td>\n",
       "      <td>0.78</td>\n",
       "      <td>1.05</td>\n",
       "      <td>0.59</td>\n",
       "      <td>0.26</td>\n",
       "      <td>4.27</td>\n",
       "      <td>2.07</td>\n",
       "      <td>0.96</td>\n",
       "    </tr>\n",
       "  </tbody>\n",
       "</table>\n",
       "</div>"
      ],
      "text/plain": [
       "     AF-01   AF-05  AF-04  AF-03  AF-02      Fecha  Temperatura  \\\n",
       "136  11.45  173.32   0.23  42.78  12.48 2010-02-15         -0.9   \n",
       "157  11.57  193.90   0.58  43.56  12.34 2010-03-08          3.8   \n",
       "187  12.03  209.26  59.59  43.74  12.24 2010-04-07         15.3   \n",
       "212  23.34  218.59  14.91  40.23  18.84 2010-08-06         23.6   \n",
       "449  23.03  148.28   0.70  41.31  17.91 2011-04-01         19.0   \n",
       "\n",
       "     Nivel embalse  Precipitaciones  E008ZUPCVP01  E008ZUPCVP02  E008ZUPCVP05  \\\n",
       "136         794.87              0.0          2.38          0.79          1.01   \n",
       "157         796.32              3.8          2.35          0.77          1.01   \n",
       "187         798.08              0.0          2.32          0.77          1.05   \n",
       "212         798.14              0.0          2.29          0.79          1.28   \n",
       "449         796.93              0.2          2.32          0.78          1.05   \n",
       "\n",
       "     E008ZUPCVP06  E008ZUPCVP09  E008ZUPCVP12  E008ZUPCVP13  E008ZUPCVP14  \n",
       "136          0.65          0.38          4.17          2.18          0.96  \n",
       "157          0.63          0.33          4.19          2.16          0.97  \n",
       "187          0.61          0.29          4.26          2.09          0.96  \n",
       "212          0.60          0.68          4.50          2.06          0.95  \n",
       "449          0.59          0.26          4.27          2.07          0.96  "
      ]
     },
     "execution_count": 117,
     "metadata": {},
     "output_type": "execute_result"
    }
   ],
   "source": [
    "e08.head()"
   ]
  },
  {
   "cell_type": "markdown",
   "metadata": {},
   "source": [
    "Creamos una función que permite convertir el dataframe e08 al formato que requiere la red neuronal para el entrenamiento."
   ]
  },
  {
   "cell_type": "code",
   "execution_count": 121,
   "metadata": {},
   "outputs": [],
   "source": [
    "def series_to_supervised(data, n_in=1, n_out=1, dropnan=True):\n",
    "    n_vars = 1 if type(data) is list else data.shape[1]\n",
    "    df = DataFrame(data)\n",
    "    cols, names = list(), list()\n",
    "    # Secuencia de entrada (t-n, ... t-1)\n",
    "    for i in range(n_in, 0, -1):\n",
    "        cols.append(df.shift(i))\n",
    "        names += [('var%d(t-%d)' % (j+1, i)) for j in range(n_vars)]\n",
    "    # Secuencia de la previsión (t, t+1, ... t+n)\n",
    "    for i in range(0, n_out):\n",
    "        cols.append(df.shift(-i))\n",
    "        if i == 0:\n",
    "            names += [('var%d(t)' % (j+1)) for j in range(n_vars)]\n",
    "        else:\n",
    "            names += [('var%d(t+%d)' % (j+1, i)) for j in range(n_vars)]\n",
    "    # Combinación de lo anterior\n",
    "    agg = concat(cols, axis=1)\n",
    "    agg.columns = names\n",
    "    # Eliminación de las filas con NaN\n",
    "    if dropnan:\n",
    "        agg.dropna(inplace=True)\n",
    "    return agg"
   ]
  },
  {
   "cell_type": "markdown",
   "metadata": {},
   "source": [
    "Eliminamos las fechas de los datos, los convertirmos a flotantes y los normalizamos con un rango de valores entre 0 y 1."
   ]
  },
  {
   "cell_type": "code",
   "execution_count": 118,
   "metadata": {},
   "outputs": [
    {
     "data": {
      "text/plain": [
       "array([[0.00000000e+00, 8.14182907e-02, 7.96426437e-04, ...,\n",
       "        5.90361118e-01, 1.00000000e+00, 8.46153259e-01],\n",
       "       [9.47493315e-03, 9.10858884e-02, 2.00837967e-03, ...,\n",
       "        6.14457607e-01, 9.11110878e-01, 9.23076630e-01],\n",
       "       [4.57955003e-02, 9.83013585e-02, 2.06343710e-01, ...,\n",
       "        6.98795319e-01, 5.99999428e-01, 8.46153259e-01],\n",
       "       ...,\n",
       "       [4.78484035e-01, 1.20459795e-01, 2.81796455e-01, ...,\n",
       "        7.22891331e-01, 2.88888931e-01, 5.38461208e-01],\n",
       "       [4.78484035e-01, 1.22301251e-01, 2.82904506e-01, ...,\n",
       "        7.22891331e-01, 2.44443893e-01, 6.15384102e-01],\n",
       "       [4.78484035e-01, 1.21685870e-01, 2.88618028e-01, ...,\n",
       "        7.22891331e-01, 2.88888931e-01, 6.15384102e-01]], dtype=float32)"
      ]
     },
     "execution_count": 118,
     "metadata": {},
     "output_type": "execute_result"
    }
   ],
   "source": [
    "dataset = e08.drop(\"Fecha\", axis=1)\n",
    "values = dataset.values\n",
    "\n",
    "values = values.astype('float32')\n",
    "\n",
    "scaler = MinMaxScaler(feature_range=(0, 1))\n",
    "scaled = scaler.fit_transform(values)\n",
    "scaled"
   ]
  },
  {
   "cell_type": "code",
   "execution_count": 119,
   "metadata": {},
   "outputs": [
    {
     "data": {
      "text/plain": [
       "(2506, 16)"
      ]
     },
     "execution_count": 119,
     "metadata": {},
     "output_type": "execute_result"
    }
   ],
   "source": [
    "scaled.shape"
   ]
  },
  {
   "cell_type": "markdown",
   "metadata": {},
   "source": [
    "Aplicamos la función de transformación en aprendizaje supervisado."
   ]
  },
  {
   "cell_type": "code",
   "execution_count": 122,
   "metadata": {},
   "outputs": [],
   "source": [
    "reframed = series_to_supervised(scaled)"
   ]
  },
  {
   "cell_type": "code",
   "execution_count": 123,
   "metadata": {},
   "outputs": [
    {
     "data": {
      "text/plain": [
       "(2505, 32)"
      ]
     },
     "execution_count": 123,
     "metadata": {},
     "output_type": "execute_result"
    }
   ],
   "source": [
    "reframed.shape"
   ]
  },
  {
   "cell_type": "code",
   "execution_count": 124,
   "metadata": {},
   "outputs": [
    {
     "data": {
      "text/plain": [
       "Index(['var1(t-1)', 'var2(t-1)', 'var3(t-1)', 'var4(t-1)', 'var5(t-1)',\n",
       "       'var6(t-1)', 'var7(t-1)', 'var8(t-1)', 'var9(t-1)', 'var10(t-1)',\n",
       "       'var11(t-1)', 'var12(t-1)', 'var13(t-1)', 'var14(t-1)', 'var15(t-1)',\n",
       "       'var16(t-1)', 'var1(t)', 'var2(t)', 'var3(t)', 'var4(t)', 'var5(t)',\n",
       "       'var6(t)', 'var7(t)', 'var8(t)', 'var9(t)', 'var10(t)', 'var11(t)',\n",
       "       'var12(t)', 'var13(t)', 'var14(t)', 'var15(t)', 'var16(t)'],\n",
       "      dtype='object')"
      ]
     },
     "execution_count": 124,
     "metadata": {},
     "output_type": "execute_result"
    }
   ],
   "source": [
    "reframed.columns"
   ]
  },
  {
   "cell_type": "markdown",
   "metadata": {},
   "source": [
    "Eliminación de las columnas de la 17 a la 32 (todas las originales, menos la de la predicción)."
   ]
  },
  {
   "cell_type": "code",
   "execution_count": 125,
   "metadata": {},
   "outputs": [
    {
     "name": "stdout",
     "output_type": "stream",
     "text": [
      "   var1(t-1)  var2(t-1)  var3(t-1)  var4(t-1)  var5(t-1)  var6(t-1)  \\\n",
      "1   0.000000   0.081418   0.000796   0.375910   0.461826   0.025974   \n",
      "2   0.009475   0.091086   0.002008   0.389428   0.451347   0.148052   \n",
      "3   0.045796   0.098301   0.206344   0.392548   0.443862   0.446753   \n",
      "4   0.938808   0.102684   0.051629   0.331716   0.937874   0.662338   \n",
      "5   0.914331   0.069656   0.002424   0.350433   0.868263   0.542857   \n",
      "\n",
      "   var7(t-1)  var8(t-1)  var9(t-1)  var10(t-1)  var11(t-1)  var12(t-1)  \\\n",
      "1   0.654301   0.000000   1.000000    1.000000    0.693182    1.000000   \n",
      "2   0.750328   0.061290   0.769230    0.777778    0.693182    0.963636   \n",
      "3   0.866886   0.000000   0.538462    0.777778    0.738636    0.927273   \n",
      "4   0.870857   0.000000   0.307692    1.000000    1.000000    0.909091   \n",
      "5   0.790726   0.003226   0.538462    0.888888    0.738636    0.890909   \n",
      "\n",
      "   var13(t-1)  var14(t-1)  var15(t-1)  var16(t-1)   var1(t)  \n",
      "1    0.558824    0.590361    1.000000    0.846153  0.009475  \n",
      "2    0.485294    0.614458    0.911111    0.923077  0.045796  \n",
      "3    0.426471    0.698795    0.599999    0.846153  0.938808  \n",
      "4    1.000000    0.987951    0.466666    0.769230  0.914331  \n",
      "5    0.382353    0.710843    0.511110    0.846153  0.914331  \n"
     ]
    },
    {
     "name": "stderr",
     "output_type": "stream",
     "text": [
      "C:\\Users\\ALCEA\\anaconda3\\lib\\site-packages\\pandas\\core\\indexes\\base.py:3941: FutureWarning: Using a non-tuple sequence for multidimensional indexing is deprecated; use `arr[tuple(seq)]` instead of `arr[seq]`. In the future this will be interpreted as an array index, `arr[np.array(seq)]`, which will result either in an error or a different result.\n",
      "  result = getitem(key)\n"
     ]
    }
   ],
   "source": [
    "reframed.drop(reframed.columns[[range(17,32)]], axis=1, inplace=True)\n",
    "print(reframed.head())"
   ]
  },
  {
   "cell_type": "code",
   "execution_count": 126,
   "metadata": {},
   "outputs": [
    {
     "data": {
      "text/html": [
       "<div>\n",
       "<style scoped>\n",
       "    .dataframe tbody tr th:only-of-type {\n",
       "        vertical-align: middle;\n",
       "    }\n",
       "\n",
       "    .dataframe tbody tr th {\n",
       "        vertical-align: top;\n",
       "    }\n",
       "\n",
       "    .dataframe thead th {\n",
       "        text-align: right;\n",
       "    }\n",
       "</style>\n",
       "<table border=\"1\" class=\"dataframe\">\n",
       "  <thead>\n",
       "    <tr style=\"text-align: right;\">\n",
       "      <th></th>\n",
       "      <th>var1(t-1)</th>\n",
       "      <th>var2(t-1)</th>\n",
       "      <th>var3(t-1)</th>\n",
       "      <th>var4(t-1)</th>\n",
       "      <th>var5(t-1)</th>\n",
       "      <th>var6(t-1)</th>\n",
       "      <th>var7(t-1)</th>\n",
       "      <th>var8(t-1)</th>\n",
       "      <th>var9(t-1)</th>\n",
       "      <th>var10(t-1)</th>\n",
       "      <th>var11(t-1)</th>\n",
       "      <th>var12(t-1)</th>\n",
       "      <th>var13(t-1)</th>\n",
       "      <th>var14(t-1)</th>\n",
       "      <th>var15(t-1)</th>\n",
       "      <th>var16(t-1)</th>\n",
       "      <th>var1(t)</th>\n",
       "    </tr>\n",
       "  </thead>\n",
       "  <tbody>\n",
       "    <tr>\n",
       "      <th>1</th>\n",
       "      <td>0.000000</td>\n",
       "      <td>0.081418</td>\n",
       "      <td>0.000796</td>\n",
       "      <td>0.375910</td>\n",
       "      <td>0.461826</td>\n",
       "      <td>0.025974</td>\n",
       "      <td>0.654301</td>\n",
       "      <td>0.000000</td>\n",
       "      <td>1.000000</td>\n",
       "      <td>1.000000</td>\n",
       "      <td>0.693182</td>\n",
       "      <td>1.000000</td>\n",
       "      <td>0.558824</td>\n",
       "      <td>0.590361</td>\n",
       "      <td>1.000000</td>\n",
       "      <td>0.846153</td>\n",
       "      <td>0.009475</td>\n",
       "    </tr>\n",
       "    <tr>\n",
       "      <th>2</th>\n",
       "      <td>0.009475</td>\n",
       "      <td>0.091086</td>\n",
       "      <td>0.002008</td>\n",
       "      <td>0.389428</td>\n",
       "      <td>0.451347</td>\n",
       "      <td>0.148052</td>\n",
       "      <td>0.750328</td>\n",
       "      <td>0.061290</td>\n",
       "      <td>0.769230</td>\n",
       "      <td>0.777778</td>\n",
       "      <td>0.693182</td>\n",
       "      <td>0.963636</td>\n",
       "      <td>0.485294</td>\n",
       "      <td>0.614458</td>\n",
       "      <td>0.911111</td>\n",
       "      <td>0.923077</td>\n",
       "      <td>0.045796</td>\n",
       "    </tr>\n",
       "    <tr>\n",
       "      <th>3</th>\n",
       "      <td>0.045796</td>\n",
       "      <td>0.098301</td>\n",
       "      <td>0.206344</td>\n",
       "      <td>0.392548</td>\n",
       "      <td>0.443862</td>\n",
       "      <td>0.446753</td>\n",
       "      <td>0.866886</td>\n",
       "      <td>0.000000</td>\n",
       "      <td>0.538462</td>\n",
       "      <td>0.777778</td>\n",
       "      <td>0.738636</td>\n",
       "      <td>0.927273</td>\n",
       "      <td>0.426471</td>\n",
       "      <td>0.698795</td>\n",
       "      <td>0.599999</td>\n",
       "      <td>0.846153</td>\n",
       "      <td>0.938808</td>\n",
       "    </tr>\n",
       "    <tr>\n",
       "      <th>4</th>\n",
       "      <td>0.938808</td>\n",
       "      <td>0.102684</td>\n",
       "      <td>0.051629</td>\n",
       "      <td>0.331716</td>\n",
       "      <td>0.937874</td>\n",
       "      <td>0.662338</td>\n",
       "      <td>0.870857</td>\n",
       "      <td>0.000000</td>\n",
       "      <td>0.307692</td>\n",
       "      <td>1.000000</td>\n",
       "      <td>1.000000</td>\n",
       "      <td>0.909091</td>\n",
       "      <td>1.000000</td>\n",
       "      <td>0.987951</td>\n",
       "      <td>0.466666</td>\n",
       "      <td>0.769230</td>\n",
       "      <td>0.914331</td>\n",
       "    </tr>\n",
       "    <tr>\n",
       "      <th>5</th>\n",
       "      <td>0.914331</td>\n",
       "      <td>0.069656</td>\n",
       "      <td>0.002424</td>\n",
       "      <td>0.350433</td>\n",
       "      <td>0.868263</td>\n",
       "      <td>0.542857</td>\n",
       "      <td>0.790726</td>\n",
       "      <td>0.003226</td>\n",
       "      <td>0.538462</td>\n",
       "      <td>0.888888</td>\n",
       "      <td>0.738636</td>\n",
       "      <td>0.890909</td>\n",
       "      <td>0.382353</td>\n",
       "      <td>0.710843</td>\n",
       "      <td>0.511110</td>\n",
       "      <td>0.846153</td>\n",
       "      <td>0.914331</td>\n",
       "    </tr>\n",
       "    <tr>\n",
       "      <th>...</th>\n",
       "      <td>...</td>\n",
       "      <td>...</td>\n",
       "      <td>...</td>\n",
       "      <td>...</td>\n",
       "      <td>...</td>\n",
       "      <td>...</td>\n",
       "      <td>...</td>\n",
       "      <td>...</td>\n",
       "      <td>...</td>\n",
       "      <td>...</td>\n",
       "      <td>...</td>\n",
       "      <td>...</td>\n",
       "      <td>...</td>\n",
       "      <td>...</td>\n",
       "      <td>...</td>\n",
       "      <td>...</td>\n",
       "      <td>...</td>\n",
       "    </tr>\n",
       "    <tr>\n",
       "      <th>2501</th>\n",
       "      <td>0.468219</td>\n",
       "      <td>0.122917</td>\n",
       "      <td>0.340490</td>\n",
       "      <td>0.192721</td>\n",
       "      <td>0.549401</td>\n",
       "      <td>0.436364</td>\n",
       "      <td>0.980129</td>\n",
       "      <td>0.000000</td>\n",
       "      <td>0.307692</td>\n",
       "      <td>0.333333</td>\n",
       "      <td>0.477273</td>\n",
       "      <td>0.181818</td>\n",
       "      <td>0.264706</td>\n",
       "      <td>0.698795</td>\n",
       "      <td>0.288889</td>\n",
       "      <td>0.615384</td>\n",
       "      <td>0.478484</td>\n",
       "    </tr>\n",
       "    <tr>\n",
       "      <th>2502</th>\n",
       "      <td>0.478484</td>\n",
       "      <td>0.121381</td>\n",
       "      <td>0.299041</td>\n",
       "      <td>0.183016</td>\n",
       "      <td>0.549401</td>\n",
       "      <td>0.496104</td>\n",
       "      <td>0.980789</td>\n",
       "      <td>0.000000</td>\n",
       "      <td>0.307692</td>\n",
       "      <td>0.333333</td>\n",
       "      <td>0.477273</td>\n",
       "      <td>0.181818</td>\n",
       "      <td>0.264706</td>\n",
       "      <td>0.710843</td>\n",
       "      <td>0.288889</td>\n",
       "      <td>0.538461</td>\n",
       "      <td>0.478484</td>\n",
       "    </tr>\n",
       "    <tr>\n",
       "      <th>2503</th>\n",
       "      <td>0.478484</td>\n",
       "      <td>0.120460</td>\n",
       "      <td>0.284047</td>\n",
       "      <td>0.179723</td>\n",
       "      <td>0.549401</td>\n",
       "      <td>0.561039</td>\n",
       "      <td>0.983440</td>\n",
       "      <td>0.000000</td>\n",
       "      <td>0.307692</td>\n",
       "      <td>0.333333</td>\n",
       "      <td>0.488636</td>\n",
       "      <td>0.181818</td>\n",
       "      <td>0.294118</td>\n",
       "      <td>0.710843</td>\n",
       "      <td>0.288889</td>\n",
       "      <td>0.538461</td>\n",
       "      <td>0.478484</td>\n",
       "    </tr>\n",
       "    <tr>\n",
       "      <th>2504</th>\n",
       "      <td>0.478484</td>\n",
       "      <td>0.120460</td>\n",
       "      <td>0.281796</td>\n",
       "      <td>0.179723</td>\n",
       "      <td>0.549401</td>\n",
       "      <td>0.571429</td>\n",
       "      <td>0.984764</td>\n",
       "      <td>0.112903</td>\n",
       "      <td>0.307692</td>\n",
       "      <td>0.333333</td>\n",
       "      <td>0.488636</td>\n",
       "      <td>0.181818</td>\n",
       "      <td>0.308824</td>\n",
       "      <td>0.722891</td>\n",
       "      <td>0.288889</td>\n",
       "      <td>0.538461</td>\n",
       "      <td>0.478484</td>\n",
       "    </tr>\n",
       "    <tr>\n",
       "      <th>2505</th>\n",
       "      <td>0.478484</td>\n",
       "      <td>0.122301</td>\n",
       "      <td>0.282905</td>\n",
       "      <td>0.179723</td>\n",
       "      <td>0.557635</td>\n",
       "      <td>0.550649</td>\n",
       "      <td>0.986752</td>\n",
       "      <td>0.006452</td>\n",
       "      <td>0.307692</td>\n",
       "      <td>0.333333</td>\n",
       "      <td>0.500000</td>\n",
       "      <td>0.181818</td>\n",
       "      <td>0.323529</td>\n",
       "      <td>0.722891</td>\n",
       "      <td>0.244444</td>\n",
       "      <td>0.615384</td>\n",
       "      <td>0.478484</td>\n",
       "    </tr>\n",
       "  </tbody>\n",
       "</table>\n",
       "<p>2505 rows × 17 columns</p>\n",
       "</div>"
      ],
      "text/plain": [
       "      var1(t-1)  var2(t-1)  var3(t-1)  var4(t-1)  var5(t-1)  var6(t-1)  \\\n",
       "1      0.000000   0.081418   0.000796   0.375910   0.461826   0.025974   \n",
       "2      0.009475   0.091086   0.002008   0.389428   0.451347   0.148052   \n",
       "3      0.045796   0.098301   0.206344   0.392548   0.443862   0.446753   \n",
       "4      0.938808   0.102684   0.051629   0.331716   0.937874   0.662338   \n",
       "5      0.914331   0.069656   0.002424   0.350433   0.868263   0.542857   \n",
       "...         ...        ...        ...        ...        ...        ...   \n",
       "2501   0.468219   0.122917   0.340490   0.192721   0.549401   0.436364   \n",
       "2502   0.478484   0.121381   0.299041   0.183016   0.549401   0.496104   \n",
       "2503   0.478484   0.120460   0.284047   0.179723   0.549401   0.561039   \n",
       "2504   0.478484   0.120460   0.281796   0.179723   0.549401   0.571429   \n",
       "2505   0.478484   0.122301   0.282905   0.179723   0.557635   0.550649   \n",
       "\n",
       "      var7(t-1)  var8(t-1)  var9(t-1)  var10(t-1)  var11(t-1)  var12(t-1)  \\\n",
       "1      0.654301   0.000000   1.000000    1.000000    0.693182    1.000000   \n",
       "2      0.750328   0.061290   0.769230    0.777778    0.693182    0.963636   \n",
       "3      0.866886   0.000000   0.538462    0.777778    0.738636    0.927273   \n",
       "4      0.870857   0.000000   0.307692    1.000000    1.000000    0.909091   \n",
       "5      0.790726   0.003226   0.538462    0.888888    0.738636    0.890909   \n",
       "...         ...        ...        ...         ...         ...         ...   \n",
       "2501   0.980129   0.000000   0.307692    0.333333    0.477273    0.181818   \n",
       "2502   0.980789   0.000000   0.307692    0.333333    0.477273    0.181818   \n",
       "2503   0.983440   0.000000   0.307692    0.333333    0.488636    0.181818   \n",
       "2504   0.984764   0.112903   0.307692    0.333333    0.488636    0.181818   \n",
       "2505   0.986752   0.006452   0.307692    0.333333    0.500000    0.181818   \n",
       "\n",
       "      var13(t-1)  var14(t-1)  var15(t-1)  var16(t-1)   var1(t)  \n",
       "1       0.558824    0.590361    1.000000    0.846153  0.009475  \n",
       "2       0.485294    0.614458    0.911111    0.923077  0.045796  \n",
       "3       0.426471    0.698795    0.599999    0.846153  0.938808  \n",
       "4       1.000000    0.987951    0.466666    0.769230  0.914331  \n",
       "5       0.382353    0.710843    0.511110    0.846153  0.914331  \n",
       "...          ...         ...         ...         ...       ...  \n",
       "2501    0.264706    0.698795    0.288889    0.615384  0.478484  \n",
       "2502    0.264706    0.710843    0.288889    0.538461  0.478484  \n",
       "2503    0.294118    0.710843    0.288889    0.538461  0.478484  \n",
       "2504    0.308824    0.722891    0.288889    0.538461  0.478484  \n",
       "2505    0.323529    0.722891    0.244444    0.615384  0.478484  \n",
       "\n",
       "[2505 rows x 17 columns]"
      ]
     },
     "execution_count": 126,
     "metadata": {},
     "output_type": "execute_result"
    }
   ],
   "source": [
    "reframed"
   ]
  },
  {
   "cell_type": "markdown",
   "metadata": {},
   "source": [
    "División del dataframe en un conjunto de entrenamiento y otro de prueba."
   ]
  },
  {
   "cell_type": "code",
   "execution_count": 127,
   "metadata": {},
   "outputs": [
    {
     "name": "stdout",
     "output_type": "stream",
     "text": [
      "(2000, 1, 16) (2000,) (505, 1, 16) (505,)\n"
     ]
    }
   ],
   "source": [
    "values = reframed.values\n",
    "n_train_days = 2000 # Corte (2000 para entreanmiento y resto de prueba)\n",
    "train = values[:n_train_days, :]\n",
    "test = values[n_train_days:, :]\n",
    "\n",
    "train_X, train_y = train[:, :-1], train[:, -1]\n",
    "test_X, test_y = test[:, :-1], test[:, -1]\n",
    "\n",
    "# Reshape para que la entrada sea 3D (lo requiere la red)\n",
    "train_X = train_X.reshape((train_X.shape[0], 1, train_X.shape[1]))\n",
    "test_X = test_X.reshape((test_X.shape[0], 1, test_X.shape[1]))\n",
    "print(train_X.shape, train_y.shape, test_X.shape, test_y.shape)"
   ]
  },
  {
   "cell_type": "code",
   "execution_count": 128,
   "metadata": {},
   "outputs": [
    {
     "data": {
      "text/plain": [
       "(505, 17)"
      ]
     },
     "execution_count": 128,
     "metadata": {},
     "output_type": "execute_result"
    }
   ],
   "source": [
    "test.shape"
   ]
  },
  {
   "cell_type": "code",
   "execution_count": 129,
   "metadata": {
    "scrolled": true
   },
   "outputs": [
    {
     "name": "stdout",
     "output_type": "stream",
     "text": [
      "Train on 2000 samples, validate on 505 samples\n",
      "Epoch 1/100\n",
      "2000/2000 [==============================] - 1s 479us/step - loss: 0.2881 - val_loss: 0.0782\n",
      "Epoch 2/100\n",
      "2000/2000 [==============================] - 0s 61us/step - loss: 0.1019 - val_loss: 0.0898\n",
      "Epoch 3/100\n",
      "2000/2000 [==============================] - 0s 76us/step - loss: 0.0872 - val_loss: 0.0728\n",
      "Epoch 4/100\n",
      "2000/2000 [==============================] - 0s 60us/step - loss: 0.0805 - val_loss: 0.0765\n",
      "Epoch 5/100\n",
      "2000/2000 [==============================] - 0s 76us/step - loss: 0.0742 - val_loss: 0.0751\n",
      "Epoch 6/100\n",
      "2000/2000 [==============================] - 0s 50us/step - loss: 0.0675 - val_loss: 0.0717\n",
      "Epoch 7/100\n",
      "2000/2000 [==============================] - 0s 66us/step - loss: 0.0600 - val_loss: 0.0591\n",
      "Epoch 8/100\n",
      "2000/2000 [==============================] - 0s 70us/step - loss: 0.0511 - val_loss: 0.0444\n",
      "Epoch 9/100\n",
      "2000/2000 [==============================] - 0s 55us/step - loss: 0.0421 - val_loss: 0.0393\n",
      "Epoch 10/100\n",
      "2000/2000 [==============================] - 0s 108us/step - loss: 0.0334 - val_loss: 0.0306\n",
      "Epoch 11/100\n",
      "2000/2000 [==============================] - 0s 105us/step - loss: 0.0257 - val_loss: 0.0278\n",
      "Epoch 12/100\n",
      "2000/2000 [==============================] - 0s 53us/step - loss: 0.0212 - val_loss: 0.0353\n",
      "Epoch 13/100\n",
      "2000/2000 [==============================] - 0s 74us/step - loss: 0.0179 - val_loss: 0.0354\n",
      "Epoch 14/100\n",
      "2000/2000 [==============================] - 0s 54us/step - loss: 0.0146 - val_loss: 0.0271\n",
      "Epoch 15/100\n",
      "2000/2000 [==============================] - 0s 63us/step - loss: 0.0127 - val_loss: 0.0333\n",
      "Epoch 16/100\n",
      "2000/2000 [==============================] - 0s 50us/step - loss: 0.0112 - val_loss: 0.0317\n",
      "Epoch 17/100\n",
      "2000/2000 [==============================] - 0s 39us/step - loss: 0.0105 - val_loss: 0.0307\n",
      "Epoch 18/100\n",
      "2000/2000 [==============================] - 0s 52us/step - loss: 0.0109 - val_loss: 0.0234\n",
      "Epoch 19/100\n",
      "2000/2000 [==============================] - 0s 44us/step - loss: 0.0096 - val_loss: 0.0244\n",
      "Epoch 20/100\n",
      "2000/2000 [==============================] - 0s 45us/step - loss: 0.0100 - val_loss: 0.0211\n",
      "Epoch 21/100\n",
      "2000/2000 [==============================] - 0s 46us/step - loss: 0.0098 - val_loss: 0.0232\n",
      "Epoch 22/100\n",
      "2000/2000 [==============================] - 0s 44us/step - loss: 0.0092 - val_loss: 0.0222\n",
      "Epoch 23/100\n",
      "2000/2000 [==============================] - 0s 43us/step - loss: 0.0100 - val_loss: 0.0191\n",
      "Epoch 24/100\n",
      "2000/2000 [==============================] - 0s 44us/step - loss: 0.0093 - val_loss: 0.0199\n",
      "Epoch 25/100\n",
      "2000/2000 [==============================] - 0s 54us/step - loss: 0.0088 - val_loss: 0.0202\n",
      "Epoch 26/100\n",
      "2000/2000 [==============================] - 0s 44us/step - loss: 0.0089 - val_loss: 0.0205\n",
      "Epoch 27/100\n",
      "2000/2000 [==============================] - 0s 45us/step - loss: 0.0087 - val_loss: 0.0204\n",
      "Epoch 28/100\n",
      "2000/2000 [==============================] - 0s 49us/step - loss: 0.0091 - val_loss: 0.0220\n",
      "Epoch 29/100\n",
      "2000/2000 [==============================] - 0s 129us/step - loss: 0.0091 - val_loss: 0.0185\n",
      "Epoch 30/100\n",
      "2000/2000 [==============================] - 0s 73us/step - loss: 0.0093 - val_loss: 0.0249\n",
      "Epoch 31/100\n",
      "2000/2000 [==============================] - 0s 45us/step - loss: 0.0113 - val_loss: 0.0208\n",
      "Epoch 32/100\n",
      "2000/2000 [==============================] - 0s 50us/step - loss: 0.0111 - val_loss: 0.0180\n",
      "Epoch 33/100\n",
      "2000/2000 [==============================] - 0s 46us/step - loss: 0.0085 - val_loss: 0.0221\n",
      "Epoch 34/100\n",
      "2000/2000 [==============================] - 0s 37us/step - loss: 0.0090 - val_loss: 0.0194\n",
      "Epoch 35/100\n",
      "2000/2000 [==============================] - 0s 54us/step - loss: 0.0082 - val_loss: 0.0177\n",
      "Epoch 36/100\n",
      "2000/2000 [==============================] - 0s 36us/step - loss: 0.0089 - val_loss: 0.0181\n",
      "Epoch 37/100\n",
      "2000/2000 [==============================] - 0s 41us/step - loss: 0.0089 - val_loss: 0.0169\n",
      "Epoch 38/100\n",
      "2000/2000 [==============================] - 0s 39us/step - loss: 0.0085 - val_loss: 0.0185\n",
      "Epoch 39/100\n",
      "2000/2000 [==============================] - 0s 47us/step - loss: 0.0082 - val_loss: 0.0195\n",
      "Epoch 40/100\n",
      "2000/2000 [==============================] - 0s 43us/step - loss: 0.0086 - val_loss: 0.0199\n",
      "Epoch 41/100\n",
      "2000/2000 [==============================] - 0s 40us/step - loss: 0.0083 - val_loss: 0.0178\n",
      "Epoch 42/100\n",
      "2000/2000 [==============================] - 0s 52us/step - loss: 0.0088 - val_loss: 0.0200\n",
      "Epoch 43/100\n",
      "2000/2000 [==============================] - 0s 36us/step - loss: 0.0088 - val_loss: 0.0196\n",
      "Epoch 44/100\n",
      "2000/2000 [==============================] - 0s 39us/step - loss: 0.0082 - val_loss: 0.0172\n",
      "Epoch 45/100\n",
      "2000/2000 [==============================] - 0s 42us/step - loss: 0.0082 - val_loss: 0.0187\n",
      "Epoch 46/100\n",
      "2000/2000 [==============================] - 0s 92us/step - loss: 0.0082 - val_loss: 0.0172\n",
      "Epoch 47/100\n",
      "2000/2000 [==============================] - 0s 112us/step - loss: 0.0080 - val_loss: 0.0175\n",
      "Epoch 48/100\n",
      "2000/2000 [==============================] - 0s 51us/step - loss: 0.0081 - val_loss: 0.0192\n",
      "Epoch 49/100\n",
      "2000/2000 [==============================] - 0s 43us/step - loss: 0.0081 - val_loss: 0.0178\n",
      "Epoch 50/100\n",
      "2000/2000 [==============================] - 0s 37us/step - loss: 0.0084 - val_loss: 0.0164\n",
      "Epoch 51/100\n",
      "2000/2000 [==============================] - 0s 51us/step - loss: 0.0085 - val_loss: 0.0185\n",
      "Epoch 52/100\n",
      "2000/2000 [==============================] - 0s 38us/step - loss: 0.0086 - val_loss: 0.0174\n",
      "Epoch 53/100\n",
      "2000/2000 [==============================] - 0s 40us/step - loss: 0.0079 - val_loss: 0.0169\n",
      "Epoch 54/100\n",
      "2000/2000 [==============================] - 0s 42us/step - loss: 0.0077 - val_loss: 0.0165\n",
      "Epoch 55/100\n",
      "2000/2000 [==============================] - 0s 55us/step - loss: 0.0076 - val_loss: 0.0186\n",
      "Epoch 56/100\n",
      "2000/2000 [==============================] - 0s 38us/step - loss: 0.0079 - val_loss: 0.0158\n",
      "Epoch 57/100\n",
      "2000/2000 [==============================] - 0s 48us/step - loss: 0.0080 - val_loss: 0.0170\n",
      "Epoch 58/100\n",
      "2000/2000 [==============================] - 0s 43us/step - loss: 0.0084 - val_loss: 0.0151\n",
      "Epoch 59/100\n",
      "2000/2000 [==============================] - 0s 38us/step - loss: 0.0084 - val_loss: 0.0169\n",
      "Epoch 60/100\n",
      "2000/2000 [==============================] - 0s 48us/step - loss: 0.0079 - val_loss: 0.0167\n",
      "Epoch 61/100\n",
      "2000/2000 [==============================] - 0s 39us/step - loss: 0.0079 - val_loss: 0.0177\n",
      "Epoch 62/100\n",
      "2000/2000 [==============================] - 0s 39us/step - loss: 0.0089 - val_loss: 0.0193\n",
      "Epoch 63/100\n",
      "2000/2000 [==============================] - 0s 38us/step - loss: 0.0082 - val_loss: 0.0150\n",
      "Epoch 64/100\n",
      "2000/2000 [==============================] - 0s 51us/step - loss: 0.0076 - val_loss: 0.0159\n",
      "Epoch 65/100\n",
      "2000/2000 [==============================] - 0s 89us/step - loss: 0.0082 - val_loss: 0.0163\n",
      "Epoch 66/100\n",
      "2000/2000 [==============================] - 0s 126us/step - loss: 0.0081 - val_loss: 0.0159\n",
      "Epoch 67/100\n",
      "2000/2000 [==============================] - 0s 50us/step - loss: 0.0076 - val_loss: 0.0144\n",
      "Epoch 68/100\n",
      "2000/2000 [==============================] - 0s 51us/step - loss: 0.0075 - val_loss: 0.0155\n",
      "Epoch 69/100\n",
      "2000/2000 [==============================] - 0s 63us/step - loss: 0.0074 - val_loss: 0.0151\n",
      "Epoch 70/100\n",
      "2000/2000 [==============================] - 0s 59us/step - loss: 0.0078 - val_loss: 0.0162\n",
      "Epoch 71/100\n",
      "2000/2000 [==============================] - 0s 51us/step - loss: 0.0078 - val_loss: 0.0159\n",
      "Epoch 72/100\n",
      "2000/2000 [==============================] - 0s 62us/step - loss: 0.0079 - val_loss: 0.0143\n",
      "Epoch 73/100\n",
      "2000/2000 [==============================] - 0s 57us/step - loss: 0.0074 - val_loss: 0.0144\n",
      "Epoch 74/100\n",
      "2000/2000 [==============================] - 0s 47us/step - loss: 0.0079 - val_loss: 0.0163\n",
      "Epoch 75/100\n",
      "2000/2000 [==============================] - 0s 60us/step - loss: 0.0077 - val_loss: 0.0162\n",
      "Epoch 76/100\n",
      "2000/2000 [==============================] - 0s 133us/step - loss: 0.0082 - val_loss: 0.0137\n",
      "Epoch 77/100\n",
      "2000/2000 [==============================] - 0s 63us/step - loss: 0.0080 - val_loss: 0.0175\n",
      "Epoch 78/100\n",
      "2000/2000 [==============================] - 0s 120us/step - loss: 0.0089 - val_loss: 0.0167\n",
      "Epoch 79/100\n",
      "2000/2000 [==============================] - 0s 47us/step - loss: 0.0080 - val_loss: 0.0154\n",
      "Epoch 80/100\n",
      "2000/2000 [==============================] - 0s 48us/step - loss: 0.0084 - val_loss: 0.0138\n",
      "Epoch 81/100\n",
      "2000/2000 [==============================] - 0s 40us/step - loss: 0.0079 - val_loss: 0.0155\n",
      "Epoch 82/100\n",
      "2000/2000 [==============================] - 0s 47us/step - loss: 0.0076 - val_loss: 0.0144\n",
      "Epoch 83/100\n",
      "2000/2000 [==============================] - 0s 41us/step - loss: 0.0074 - val_loss: 0.0149\n",
      "Epoch 84/100\n",
      "2000/2000 [==============================] - 0s 39us/step - loss: 0.0078 - val_loss: 0.0145\n",
      "Epoch 85/100\n",
      "2000/2000 [==============================] - 0s 45us/step - loss: 0.0073 - val_loss: 0.0164\n",
      "Epoch 86/100\n",
      "2000/2000 [==============================] - 0s 44us/step - loss: 0.0082 - val_loss: 0.0143\n",
      "Epoch 87/100\n",
      "2000/2000 [==============================] - 0s 38us/step - loss: 0.0073 - val_loss: 0.0146\n",
      "Epoch 88/100\n",
      "2000/2000 [==============================] - 0s 95us/step - loss: 0.0076 - val_loss: 0.0148\n",
      "Epoch 89/100\n",
      "2000/2000 [==============================] - 0s 93us/step - loss: 0.0074 - val_loss: 0.0144\n",
      "Epoch 90/100\n",
      "2000/2000 [==============================] - 0s 100us/step - loss: 0.0075 - val_loss: 0.0150\n",
      "Epoch 91/100\n",
      "2000/2000 [==============================] - 0s 87us/step - loss: 0.0074 - val_loss: 0.0142\n",
      "Epoch 92/100\n",
      "2000/2000 [==============================] - 0s 40us/step - loss: 0.0084 - val_loss: 0.0149\n",
      "Epoch 93/100\n",
      "2000/2000 [==============================] - 0s 39us/step - loss: 0.0076 - val_loss: 0.0154\n",
      "Epoch 94/100\n",
      "2000/2000 [==============================] - 0s 46us/step - loss: 0.0078 - val_loss: 0.0146\n",
      "Epoch 95/100\n",
      "2000/2000 [==============================] - 0s 39us/step - loss: 0.0076 - val_loss: 0.0172\n",
      "Epoch 96/100\n",
      "2000/2000 [==============================] - 0s 69us/step - loss: 0.0091 - val_loss: 0.0161\n",
      "Epoch 97/100\n",
      "2000/2000 [==============================] - 0s 104us/step - loss: 0.0080 - val_loss: 0.0130\n",
      "Epoch 98/100\n",
      "2000/2000 [==============================] - 0s 63us/step - loss: 0.0074 - val_loss: 0.0155\n",
      "Epoch 99/100\n",
      "2000/2000 [==============================] - 0s 106us/step - loss: 0.0071 - val_loss: 0.0165\n",
      "Epoch 100/100\n",
      "2000/2000 [==============================] - 0s 50us/step - loss: 0.0072 - val_loss: 0.0135\n"
     ]
    }
   ],
   "source": [
    "from keras.models import Sequential\n",
    "from keras.layers import Dense\n",
    "from keras.layers import LSTM\n",
    "# Generación de la red\n",
    "model = Sequential()\n",
    "model.add(LSTM(50, input_shape=(train_X.shape[1], train_X.shape[2]))) # LSTM: capa que se utiliza para series de tiempo\n",
    "model.add(Dense(25, activation=\"relu\")) # Capa oculta\n",
    "model.add(Dense(12, activation=\"relu\")) # Capa oculta\n",
    "model.add(Dense(1))\n",
    "model.compile(loss='mae', optimizer='adam')\n",
    "# Entrenamiento de la red\n",
    "history = model.fit(train_X, train_y, epochs=100, batch_size=100, validation_data=(test_X, test_y), verbose=1)"
   ]
  },
  {
   "cell_type": "markdown",
   "metadata": {},
   "source": [
    "Gráfico de disminución del error."
   ]
  },
  {
   "cell_type": "code",
   "execution_count": 131,
   "metadata": {},
   "outputs": [
    {
     "data": {
      "image/png": "[encoded data removed]",
      "text/plain": [
       "<Figure size 432x288 with 1 Axes>"
      ]
     },
     "metadata": {
      "needs_background": "light"
     },
     "output_type": "display_data"
    }
   ],
   "source": [
    "plt.plot(history.history['loss'], label='train')\n",
    "plt.plot(history.history['val_loss'], label='test')\n",
    "plt.legend()\n",
    "plt.show()"
   ]
  },
  {
   "cell_type": "markdown",
   "metadata": {},
   "source": [
    "Predicción."
   ]
  },
  {
   "cell_type": "code",
   "execution_count": 132,
   "metadata": {},
   "outputs": [
    {
     "data": {
      "text/plain": [
       "(505, 1)"
      ]
     },
     "execution_count": 132,
     "metadata": {},
     "output_type": "execute_result"
    }
   ],
   "source": [
    "yhat = model.predict(test_X)\n",
    "yhat.shape"
   ]
  },
  {
   "cell_type": "markdown",
   "metadata": {},
   "source": [
    "Reshape para devolver test_X al formato previo al entrenamiento de la red neuronal."
   ]
  },
  {
   "cell_type": "code",
   "execution_count": 133,
   "metadata": {},
   "outputs": [
    {
     "data": {
      "text/plain": [
       "(505, 16)"
      ]
     },
     "execution_count": 133,
     "metadata": {},
     "output_type": "execute_result"
    }
   ],
   "source": [
    "test_X = test_X.reshape((test_X.shape[0], 16))\n",
    "test_X.shape"
   ]
  },
  {
   "cell_type": "markdown",
   "metadata": {},
   "source": [
    "Inversión del proceso de escala de los valores de la predicción."
   ]
  },
  {
   "cell_type": "code",
   "execution_count": 134,
   "metadata": {},
   "outputs": [],
   "source": [
    "inv_yhat = np.concatenate((yhat, test_X[:, -15:]), axis=1)\n",
    "inv_yhat = scaler.inverse_transform(inv_yhat)\n",
    "inv_yhat = inv_yhat[:,0]"
   ]
  },
  {
   "cell_type": "markdown",
   "metadata": {},
   "source": [
    "Inversión del proceso de escala de los valores reales."
   ]
  },
  {
   "cell_type": "code",
   "execution_count": 135,
   "metadata": {},
   "outputs": [],
   "source": [
    "test_y = test_y.reshape((len(test_y), 1))\n",
    "inv_y = np.concatenate((test_y, test_X[:, -15:]), axis=1)\n",
    "inv_y = scaler.inverse_transform(inv_y)\n",
    "inv_y = inv_y[:,0]"
   ]
  },
  {
   "cell_type": "markdown",
   "metadata": {},
   "source": [
    "Cálculo de la raíz del error cuadrático medio."
   ]
  },
  {
   "cell_type": "code",
   "execution_count": 136,
   "metadata": {},
   "outputs": [
    {
     "name": "stdout",
     "output_type": "stream",
     "text": [
      "Test RMSE: 0.276\n"
     ]
    }
   ],
   "source": [
    "from sklearn.metrics import mean_squared_error\n",
    "rmse = np.sqrt(mean_squared_error(inv_y, inv_yhat))\n",
    "print('Test RMSE: %.3f' % rmse)"
   ]
  },
  {
   "cell_type": "markdown",
   "metadata": {},
   "source": [
    "La línea azul representa los valores reales y la línea verde la predicción."
   ]
  },
  {
   "cell_type": "code",
   "execution_count": 138,
   "metadata": {},
   "outputs": [
    {
     "data": {
      "text/plain": [
       "[<matplotlib.lines.Line2D at 0x1fabe3cc088>]"
      ]
     },
     "execution_count": 138,
     "metadata": {},
     "output_type": "execute_result"
    },
    {
     "data": {
      "image/png": "[encoded data removed]",
      "text/plain": [
       "<Figure size 432x288 with 1 Axes>"
      ]
     },
     "metadata": {
      "needs_background": "light"
     },
     "output_type": "display_data"
    }
   ],
   "source": [
    "plt.plot(inv_y , color =\"Blue\")\n",
    "plt.plot(inv_yhat, color =\"Green\")"
   ]
  },
  {
   "cell_type": "code",
   "execution_count": null,
   "metadata": {},
   "outputs": [],
   "source": []
  }
 ],
 "metadata": {
  "kernelspec": {
   "display_name": "Python 3",
   "language": "python",
   "name": "python3"
  },
  "language_info": {
   "codemirror_mode": {
    "name": "ipython",
    "version": 3
   },
   "file_extension": ".py",
   "mimetype": "text/x-python",
   "name": "python",
   "nbconvert_exporter": "python",
   "pygments_lexer": "ipython3",
   "version": "3.7.6"
  }
 },
 "nbformat": 4,
 "nbformat_minor": 4
}
